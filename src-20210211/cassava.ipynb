{
 "cells": [
  {
   "cell_type": "code",
   "execution_count": 1,
   "metadata": {
    "_cell_guid": "b1076dfc-b9ad-4769-8c92-a6c4dae69d19",
    "_uuid": "8f2839f25d086af736a60e9eeb907d3b93b6e0e5",
    "execution": {
     "iopub.execute_input": "2021-02-09T16:14:08.578899Z",
     "iopub.status.busy": "2021-02-09T16:14:08.577877Z",
     "iopub.status.idle": "2021-02-09T16:14:08.580404Z",
     "shell.execute_reply": "2021-02-09T16:14:08.580918Z"
    },
    "papermill": {
     "duration": 0.020347,
     "end_time": "2021-02-09T16:14:08.581060",
     "exception": false,
     "start_time": "2021-02-09T16:14:08.560713",
     "status": "completed"
    },
    "tags": []
   },
   "outputs": [],
   "source": [
    "import sys\n",
    "sys.path.append('../input/models/pretrained-models.pytorch-master/pretrained-models.pytorch-master')\n",
    "sys.path.append('../input/models/EfficientNet-PyTorch-master/EfficientNet-PyTorch-master')\n",
    "sys.path.append('../input/models/pytorch-image-models-master/pytorch-image-models-master')"
   ]
  },
  {
   "cell_type": "code",
   "execution_count": 2,
   "metadata": {
    "_cell_guid": "79c7e3d0-c299-4dcb-8224-4455121ee9b0",
    "_uuid": "d629ff2d2480ee46fbb7e2d37f6b5fab8052498a",
    "execution": {
     "iopub.execute_input": "2021-02-09T16:14:08.608528Z",
     "iopub.status.busy": "2021-02-09T16:14:08.607874Z",
     "iopub.status.idle": "2021-02-09T16:14:14.979000Z",
     "shell.execute_reply": "2021-02-09T16:14:14.977508Z"
    },
    "papermill": {
     "duration": 6.387035,
     "end_time": "2021-02-09T16:14:14.979186",
     "exception": false,
     "start_time": "2021-02-09T16:14:08.592151",
     "status": "completed"
    },
    "tags": []
   },
   "outputs": [],
   "source": [
    "import os\n",
    "import cv2\n",
    "import glob\n",
    "import numpy as np\n",
    "import pandas as pd\n",
    "import torch\n",
    "import torch.nn as nn\n",
    "from torch.utils.data.dataset import Dataset\n",
    "import torchvision\n",
    "import pretrainedmodels\n",
    "import timm\n",
    "from efficientnet_pytorch import EfficientNet\n",
    "import albumentations as A"
   ]
  },
  {
   "cell_type": "code",
   "execution_count": 3,
   "metadata": {
    "execution": {
     "iopub.execute_input": "2021-02-09T16:14:15.380986Z",
     "iopub.status.busy": "2021-02-09T16:14:15.379850Z",
     "iopub.status.idle": "2021-02-09T16:14:15.382744Z",
     "shell.execute_reply": "2021-02-09T16:14:15.383289Z"
    },
    "papermill": {
     "duration": 0.392795,
     "end_time": "2021-02-09T16:14:15.383447",
     "exception": false,
     "start_time": "2021-02-09T16:14:14.990652",
     "status": "completed"
    },
    "tags": []
   },
   "outputs": [],
   "source": [
    "DEVICE = 'cuda' if torch.cuda.is_available()  else 'cpu'\n",
    "NUM_CLASSES = 5"
   ]
  },
  {
   "cell_type": "code",
   "execution_count": 4,
   "metadata": {
    "execution": {
     "iopub.execute_input": "2021-02-09T16:14:15.423243Z",
     "iopub.status.busy": "2021-02-09T16:14:15.421209Z",
     "iopub.status.idle": "2021-02-09T16:14:15.423970Z",
     "shell.execute_reply": "2021-02-09T16:14:15.424537Z"
    },
    "papermill": {
     "duration": 0.02886,
     "end_time": "2021-02-09T16:14:15.424660",
     "exception": false,
     "start_time": "2021-02-09T16:14:15.395800",
     "status": "completed"
    },
    "tags": []
   },
   "outputs": [],
   "source": [
    "def GetPath(pth):\n",
    "    return os.path.join('../input/cassavapth/', pth)\n",
    "\n",
    "SIZE = 512\n",
    "\n",
    "modeldefs = [\n",
    "    # efficientnet-b4 (LB900), CV: k0=8981, k1ep13=9030, k2ep13=8927, k3ep12=8983, k4ep14=8904 (oof=0.89639)\n",
    "    # { 'name' : 'efficientnet-b4', 'pth' : GetPath('22019613/22019613k0.pth') },\n",
    "    # { 'name' : 'efficientnet-b4', 'pth' : GetPath('22019613/22019613k1.pth') },\n",
    "    # { 'name' : 'efficientnet-b4', 'pth' : GetPath('22019613/22019613k2.pth') },\n",
    "    # { 'name' : 'efficientnet-b4', 'pth' : GetPath('22019613/22019613k3.pth') },\n",
    "    # { 'name' : 'efficientnet-b4', 'pth' : GetPath('22019613/22019613k4.pth') },\n",
    "    # efficientnet-b4 (LB---), CV: k0=8951, k1=8963, k2=8923, k3=9002, k4=8897 (oof=0.89470)\n",
    "    # { 'name' : 'efficientnet-b4', 'pth' : GetPath('22019629/22019629k0.pth') },\n",
    "    # { 'name' : 'efficientnet-b4', 'pth' : GetPath('22019629/22019629k1.pth') },\n",
    "    # { 'name' : 'efficientnet-b4', 'pth' : GetPath('22019629/22019629k2.pth') },\n",
    "    # { 'name' : 'efficientnet-b4', 'pth' : GetPath('22019629/22019629k3.pth') },\n",
    "    # { 'name' : 'efficientnet-b4', 'pth' : GetPath('22019629/22019629k4.pth') },\n",
    "    # se_resnet101 (LB894), CV: k0=8958, k1e=8953, k2=8869, k3=8997, k4=8885 (oof=0.89330)\n",
    "    # { 'name' : 'se_resnet101', 'pth' : GetPath('22019630/22019630k0.pth') },\n",
    "    # { 'name' : 'se_resnet101', 'pth' : GetPath('22019630/22019630k1.pth') },\n",
    "    # { 'name' : 'se_resnet101', 'pth' : GetPath('22019630/22019630k2.pth') },\n",
    "    # { 'name' : 'se_resnet101', 'pth' : GetPath('22019630/22019630k3.pth') },\n",
    "    # { 'name' : 'se_resnet101', 'pth' : GetPath('22019630/22019630k4.pth') },\n",
    "    # se_resnext101 (LB896), CV: k0e=8965, k1=8986, k2=8913, k3=9007, k4=8876 (oof=0.89503)\n",
    "    # { 'name' : 'se_resnext101', 'pth' : GetPath('22019631/22019631k0.pth') },\n",
    "    # { 'name' : 'se_resnext101', 'pth' : GetPath('22019631/22019631k1.pth') },\n",
    "    # { 'name' : 'se_resnext101', 'pth' : GetPath('22019631/22019631k2.pth') },\n",
    "    # { 'name' : 'se_resnext101', 'pth' : GetPath('22019631/22019631k3.pth') },\n",
    "    # { 'name' : 'se_resnext101', 'pth' : GetPath('22019631/22019631k4.pth') },\n",
    "    # resnest101e (LB896), CV: k0=9005, k1=9012, k2=8960, k3=8967, k4=8920 (oof=0.89728)\n",
    "    # { 'name' : 'timm-resnest101e', 'pth' : GetPath('22019632/22019632k0.pth') },\n",
    "    # { 'name' : 'timm-resnest101e', 'pth' : GetPath('22019632/22019632k1.pth') },\n",
    "    # { 'name' : 'timm-resnest101e', 'pth' : GetPath('22019632/22019632k2.pth') },\n",
    "    # { 'name' : 'timm-resnest101e', 'pth' : GetPath('22019632/22019632k3.pth') },\n",
    "    # { 'name' : 'timm-resnest101e', 'pth' : GetPath('22019632/22019632k4.pth') },\n",
    "    # regnety_032 (LB896), CV: k0=8974, k1=8984, k2=8906, k3=9009, k4=8918 (oof=0.89480)\n",
    "    # { 'name' : 'timm-regnety_032', 'pth' : GetPath('22019638/22019638k0.pth') },\n",
    "    # { 'name' : 'timm-regnety_032', 'pth' : GetPath('22019638/22019638k1.pth') },\n",
    "    # { 'name' : 'timm-regnety_032', 'pth' : GetPath('22019638/22019638k2.pth') },\n",
    "    # { 'name' : 'timm-regnety_032', 'pth' : GetPath('22019638/22019638k3.pth') },\n",
    "    # { 'name' : 'timm-regnety_032', 'pth' : GetPath('22019638/22019638k4.pth') },\n",
    "    # B5 (LB892), CV: k0=8993, k1=8965, k2=8962, k3=8986, k4=8927 (oof=-.-----)\n",
    "    # { 'name' : 'efficientnet-b5', 'pth' : GetPath('22019639/22019639k0.pth') },\n",
    "    # { 'name' : 'efficientnet-b5', 'pth' : GetPath('22019639/22019639k1.pth') },\n",
    "    # { 'name' : 'efficientnet-b5', 'pth' : GetPath('22019639/22019639k2.pth') },\n",
    "    # { 'name' : 'efficientnet-b5', 'pth' : GetPath('22019639/22019639k3.pth') },\n",
    "    # { 'name' : 'efficientnet-b5', 'pth' : GetPath('22019639/22019639k4.pth') },\n",
    "    # resnest200e (LB---) k0=9009, k1=9002, k2=8937, k3=9021, k4=8904 (oof=0.89760)\n",
    "    # { 'name' : 'timm-resnest200e', 'pth' : GetPath('22019640/22019640k0.pth') },\n",
    "    # { 'name' : 'timm-resnest200e', 'pth' : GetPath('22019640/22019640k1.pth') },\n",
    "    # { 'name' : 'timm-resnest200e', 'pth' : GetPath('22019640/22019640k2.pth') },\n",
    "    # { 'name' : 'timm-resnest200e', 'pth' : GetPath('22019640/22019640k3.pth') },\n",
    "    # { 'name' : 'timm-resnest200e', 'pth' : GetPath('22019640/22019640k4.pth') },\n",
    "    # resnest101e (LB894), CV: k0=8991, k1=9000, k2=8925, k3=8965, k4=8862 (oof=0.89480)\n",
    "    # { 'name' : 'timm-resnest101e', 'pth' : GetPath('22019717/22019717k0.pth') },\n",
    "    # { 'name' : 'timm-resnest101e', 'pth' : GetPath('22019717/22019717k1.pth') },\n",
    "    # { 'name' : 'timm-resnest101e', 'pth' : GetPath('22019717/22019717k2.pth') },\n",
    "    # { 'name' : 'timm-resnest101e', 'pth' : GetPath('22019717/22019717k3.pth') },\n",
    "    # { 'name' : 'timm-resnest101e', 'pth' : GetPath('22019717/22019717k4.pth') },\n",
    "    # efficientnet-b4 (LB895), CV: k0=8993, k1=8972, k2=8939, k=3=9021, k4=8941 (oof=0.89728)\n",
    "    # { 'name' : 'efficientnet-b4', 'pth' : GetPath('22019720/22019720k0.pth') },\n",
    "    # { 'name' : 'efficientnet-b4', 'pth' : GetPath('22019720/22019720k1.pth') },\n",
    "    # { 'name' : 'efficientnet-b4', 'pth' : GetPath('22019720/22019720k2.pth') },\n",
    "    # { 'name' : 'efficientnet-b4', 'pth' : GetPath('22019720/22019720k3.pth') },\n",
    "    # { 'name' : 'efficientnet-b4', 'pth' : GetPath('22019720/22019720k4.pth') },\n",
    "    # efficientnet-b4 (LB---), CV: k0=8993, k1=8972, k2=8939, k=3=9021, k4=8941 (oof=0.89629)\n",
    "    # { 'name' : 'efficientnet-b4', 'pth' : GetPath('22019725/22019725k0.pth') },\n",
    "    # { 'name' : 'efficientnet-b4', 'pth' : GetPath('22019725/22019725k1.pth') },\n",
    "    # { 'name' : 'efficientnet-b4', 'pth' : GetPath('22019725/22019725k2.pth') },\n",
    "    # { 'name' : 'efficientnet-b4', 'pth' : GetPath('22019725/22019725k3.pth') },\n",
    "    # { 'name' : 'efficientnet-b4', 'pth' : GetPath('22019725/22019725k4.pth') },\n",
    "    # -----------------------------------------------------------------------------------------\n",
    "    # combine_set1 efficientnet-b4 (oof=0.89886)\n",
    "    { 'name' : 'efficientnet-b4', 'pth' : GetPath('22019725/22019725k0.pth') },\n",
    "    { 'name' : 'efficientnet-b4', 'pth' : GetPath('22019613/22019613k1.pth') },\n",
    "    { 'name' : 'efficientnet-b4', 'pth' : GetPath('22019725/22019725k2.pth') },\n",
    "    { 'name' : 'efficientnet-b4', 'pth' : GetPath('22019720/22019720k3.pth') },\n",
    "    { 'name' : 'efficientnet-b4', 'pth' : GetPath('22019720/22019720k4.pth') },\n",
    "]"
   ]
  },
  {
   "cell_type": "code",
   "execution_count": 5,
   "metadata": {
    "execution": {
     "iopub.execute_input": "2021-02-09T16:14:15.451630Z",
     "iopub.status.busy": "2021-02-09T16:14:15.450858Z",
     "iopub.status.idle": "2021-02-09T16:14:15.454419Z",
     "shell.execute_reply": "2021-02-09T16:14:15.454872Z"
    },
    "papermill": {
     "duration": 0.018798,
     "end_time": "2021-02-09T16:14:15.454990",
     "exception": false,
     "start_time": "2021-02-09T16:14:15.436192",
     "status": "completed"
    },
    "tags": []
   },
   "outputs": [],
   "source": [
    "TTA_ROUND = 3"
   ]
  },
  {
   "cell_type": "code",
   "execution_count": 6,
   "metadata": {
    "execution": {
     "iopub.execute_input": "2021-02-09T16:14:15.487709Z",
     "iopub.status.busy": "2021-02-09T16:14:15.486893Z",
     "iopub.status.idle": "2021-02-09T16:14:15.490214Z",
     "shell.execute_reply": "2021-02-09T16:14:15.489676Z"
    },
    "papermill": {
     "duration": 0.02347,
     "end_time": "2021-02-09T16:14:15.490312",
     "exception": false,
     "start_time": "2021-02-09T16:14:15.466842",
     "status": "completed"
    },
    "tags": []
   },
   "outputs": [],
   "source": [
    "def TTA(img, ops):\n",
    "    # input: NxCxHxW\n",
    "    if ops == 0:\n",
    "        pass\n",
    "    elif ops == 1:\n",
    "        img = torch.flip(img, [-1])\n",
    "    elif ops == 2:\n",
    "        img = torch.flip(img, [-2])\n",
    "    elif ops == 3:\n",
    "        img = torch.flip(img, [-1, -2])\n",
    "    elif ops == 4:\n",
    "        img = torch.rot90(img, 1, [2, 3])\n",
    "    elif ops == 5:\n",
    "        img = torch.rot90(img, 3, [2, 3])\n",
    "    else:\n",
    "        pass\n",
    "    return img"
   ]
  },
  {
   "cell_type": "code",
   "execution_count": 7,
   "metadata": {
    "execution": {
     "iopub.execute_input": "2021-02-09T16:14:15.528318Z",
     "iopub.status.busy": "2021-02-09T16:14:15.525844Z",
     "iopub.status.idle": "2021-02-09T16:14:15.530496Z",
     "shell.execute_reply": "2021-02-09T16:14:15.530966Z"
    },
    "papermill": {
     "duration": 0.029478,
     "end_time": "2021-02-09T16:14:15.531102",
     "exception": false,
     "start_time": "2021-02-09T16:14:15.501624",
     "status": "completed"
    },
    "tags": []
   },
   "outputs": [],
   "source": [
    "def GetModel(name, param):\n",
    "    num_classes = NUM_CLASSES\n",
    "    if name in [ 'resnet18', 'resnet34', 'resnet50', 'resnet101', 'resnet152', 'resnext50', 'resnext101', 'wide_resnet50', 'wide_resnet101' ]:\n",
    "        if name == 'resnext50' or name == 'resnext101':\n",
    "            name = name + '_32x4d'\n",
    "        elif name == 'wide_resnet50' or name == 'wide_resnet101':\n",
    "            name = name + '_2'\n",
    "        model = getattr(torchvision.models, name)(pretrained=None)\n",
    "        model.fc = nn.Linear(model.fc.in_features, num_classes)\n",
    "    elif name in [ 'senet154', 'se_resnet50', 'se_resnet101', 'se_resnet152', 'se_resnext50', 'se_resnext101', 'se_resnext50_32x4d', 'se_resnext101_32x4d' ]:\n",
    "        if name == 'se_resnext50' or name == 'se_resnext101':\n",
    "            name = name + '_32x4d'\n",
    "        model = getattr(pretrainedmodels, name)(pretrained=None)\n",
    "        model.avg_pool = nn.AdaptiveAvgPool2d((1, 1))\n",
    "        model.last_linear = nn.Linear(model.last_linear.in_features, num_classes)\n",
    "    elif name.startswith('efficientnet-b'):\n",
    "        model = EfficientNet.from_name(name)\n",
    "        model._fc = nn.Linear(model._fc.in_features, num_classes)\n",
    "    elif name.startswith('timm-'):\n",
    "        model = timm.create_model(model_name=name[len('timm-'):], num_classes=num_classes, in_chans=3, pretrained=False)\n",
    "    else:\n",
    "        raise NameError()\n",
    "    state = torch.load(param, map_location=DEVICE)\n",
    "    model.load_state_dict(state, strict=True)\n",
    "    model.eval()\n",
    "    print('model ({}) is loaded'.format(name))\n",
    "    return model"
   ]
  },
  {
   "cell_type": "code",
   "execution_count": 8,
   "metadata": {
    "execution": {
     "iopub.execute_input": "2021-02-09T16:14:15.559219Z",
     "iopub.status.busy": "2021-02-09T16:14:15.558615Z",
     "iopub.status.idle": "2021-02-09T16:14:15.562504Z",
     "shell.execute_reply": "2021-02-09T16:14:15.562999Z"
    },
    "papermill": {
     "duration": 0.020289,
     "end_time": "2021-02-09T16:14:15.563102",
     "exception": false,
     "start_time": "2021-02-09T16:14:15.542813",
     "status": "completed"
    },
    "tags": []
   },
   "outputs": [],
   "source": [
    "def GetAugment(size):\n",
    "    return A.Compose([\n",
    "        A.Resize(size, size),\n",
    "        A.Normalize()\n",
    "    ], p=1.0)"
   ]
  },
  {
   "cell_type": "code",
   "execution_count": 9,
   "metadata": {
    "execution": {
     "iopub.execute_input": "2021-02-09T16:14:15.598612Z",
     "iopub.status.busy": "2021-02-09T16:14:15.596785Z",
     "iopub.status.idle": "2021-02-09T16:14:15.599504Z",
     "shell.execute_reply": "2021-02-09T16:14:15.600006Z"
    },
    "papermill": {
     "duration": 0.025348,
     "end_time": "2021-02-09T16:14:15.600140",
     "exception": false,
     "start_time": "2021-02-09T16:14:15.574792",
     "status": "completed"
    },
    "tags": []
   },
   "outputs": [],
   "source": [
    "def GetDataLoader(files, augops, batch=1, num_workers=2):\n",
    "    dataset = InferDataset(files, augops=augops)\n",
    "    return torch.utils.data.DataLoader(\n",
    "        dataset,\n",
    "        batch_size=batch,\n",
    "        shuffle=False,\n",
    "        drop_last=False,\n",
    "        num_workers=num_workers\n",
    "    )\n",
    "\n",
    "class InferDataset(Dataset):\n",
    "    def __init__(self, files, augops):\n",
    "        self.files = files\n",
    "        self.augops = augops\n",
    "\n",
    "    def __len__(self):\n",
    "        return len(self.files)\n",
    "\n",
    "    def __getitem__(self, idx):\n",
    "        img = cv2.imread(self.files[idx])\n",
    "        img = cv2.cvtColor(img, cv2.COLOR_BGR2RGB)\n",
    "        out = self.augops(force_apply=False, image=img)['image']\n",
    "        out = out.transpose(2, 0, 1)\n",
    "        return torch.from_numpy(out), os.path.basename(self.files[idx])"
   ]
  },
  {
   "cell_type": "code",
   "execution_count": 10,
   "metadata": {
    "execution": {
     "iopub.execute_input": "2021-02-09T16:14:15.628601Z",
     "iopub.status.busy": "2021-02-09T16:14:15.627921Z",
     "iopub.status.idle": "2021-02-09T16:14:15.633246Z",
     "shell.execute_reply": "2021-02-09T16:14:15.632603Z"
    },
    "papermill": {
     "duration": 0.02065,
     "end_time": "2021-02-09T16:14:15.633428",
     "exception": false,
     "start_time": "2021-02-09T16:14:15.612778",
     "status": "completed"
    },
    "tags": []
   },
   "outputs": [],
   "source": [
    "dfiles = glob.glob('../input/cassava-leaf-disease-classification/test_images/*.*')\n",
    "SHOW_PRED = len(dfiles) == 1"
   ]
  },
  {
   "cell_type": "code",
   "execution_count": 11,
   "metadata": {
    "execution": {
     "iopub.execute_input": "2021-02-09T16:14:15.662833Z",
     "iopub.status.busy": "2021-02-09T16:14:15.662217Z",
     "iopub.status.idle": "2021-02-09T16:14:15.666308Z",
     "shell.execute_reply": "2021-02-09T16:14:15.665618Z"
    },
    "papermill": {
     "duration": 0.020963,
     "end_time": "2021-02-09T16:14:15.666453",
     "exception": false,
     "start_time": "2021-02-09T16:14:15.645490",
     "status": "completed"
    },
    "tags": []
   },
   "outputs": [],
   "source": [
    "loader = GetDataLoader(dfiles, augops=GetAugment(SIZE), batch=8)"
   ]
  },
  {
   "cell_type": "code",
   "execution_count": 12,
   "metadata": {
    "execution": {
     "iopub.execute_input": "2021-02-09T16:14:15.698683Z",
     "iopub.status.busy": "2021-02-09T16:14:15.697725Z",
     "iopub.status.idle": "2021-02-09T16:14:27.232870Z",
     "shell.execute_reply": "2021-02-09T16:14:27.232032Z"
    },
    "papermill": {
     "duration": 11.554031,
     "end_time": "2021-02-09T16:14:27.233042",
     "exception": false,
     "start_time": "2021-02-09T16:14:15.679011",
     "status": "completed"
    },
    "tags": []
   },
   "outputs": [
    {
     "name": "stdout",
     "output_type": "stream",
     "text": [
      "model (efficientnet-b4) is loaded\n",
      "model (efficientnet-b4) is loaded\n",
      "model (efficientnet-b4) is loaded\n",
      "model (efficientnet-b4) is loaded\n",
      "model (efficientnet-b4) is loaded\n"
     ]
    }
   ],
   "source": [
    "models = [ ]\n",
    "for mdef in modeldefs:\n",
    "    mdl = GetModel(mdef['name'], mdef['pth']).to(DEVICE)\n",
    "    models.append(mdl)"
   ]
  },
  {
   "cell_type": "code",
   "execution_count": 13,
   "metadata": {
    "execution": {
     "iopub.execute_input": "2021-02-09T16:14:27.281998Z",
     "iopub.status.busy": "2021-02-09T16:14:27.281334Z",
     "iopub.status.idle": "2021-02-09T16:14:28.938751Z",
     "shell.execute_reply": "2021-02-09T16:14:28.936923Z"
    },
    "papermill": {
     "duration": 1.6883,
     "end_time": "2021-02-09T16:14:28.938922",
     "exception": false,
     "start_time": "2021-02-09T16:14:27.250622",
     "status": "completed"
    },
    "tags": []
   },
   "outputs": [
    {
     "name": "stdout",
     "output_type": "stream",
     "text": [
      "    CBB=0.0245013\n",
      "   CBSD=0.0428515\n",
      "    CGM=0.404055\n",
      "    CMD=0.0324383\n",
      "Healthy=0.496154\n"
     ]
    }
   ],
   "source": [
    "with torch.no_grad():\n",
    "    names = [ ]\n",
    "    preds = np.array([], dtype=np.int32)\n",
    "    ratio = 1.0 / len(models) if len(models) > 0 else 1.0\n",
    "    actfn = nn.Softmax(dim=1)\n",
    "    for _, itr in enumerate(loader):\n",
    "        x, n = itr\n",
    "        b = x.shape[0]\n",
    "        x = x.to(DEVICE)\n",
    "        y = torch.zeros([b, NUM_CLASSES], device=DEVICE)\n",
    "        for tta in range(TTA_ROUND):\n",
    "            xi = TTA(x, tta)\n",
    "            for model in models:\n",
    "                y = y + actfn(model(xi)) * ratio\n",
    "        if TTA_ROUND > 1:\n",
    "            y = y / TTA_ROUND\n",
    "        y = y.detach().cpu().numpy()\n",
    "        if SHOW_PRED:\n",
    "            p = y\n",
    "        y = np.argmax(y, axis=1)\n",
    "        preds = np.append(preds, y)\n",
    "        names.extend(n)\n",
    "if SHOW_PRED:\n",
    "    for i, n in enumerate([ '    CBB', '   CBSD', '    CGM', '    CMD', 'Healthy' ]):\n",
    "        print('{}={:.6}'.format(n, p[0, i]))"
   ]
  },
  {
   "cell_type": "code",
   "execution_count": 14,
   "metadata": {
    "execution": {
     "iopub.execute_input": "2021-02-09T16:14:28.994010Z",
     "iopub.status.busy": "2021-02-09T16:14:28.993061Z",
     "iopub.status.idle": "2021-02-09T16:14:28.995698Z",
     "shell.execute_reply": "2021-02-09T16:14:28.994926Z"
    },
    "papermill": {
     "duration": 0.035691,
     "end_time": "2021-02-09T16:14:28.995828",
     "exception": false,
     "start_time": "2021-02-09T16:14:28.960137",
     "status": "completed"
    },
    "tags": []
   },
   "outputs": [],
   "source": [
    "with open('submission.csv', mode='w') as f:\n",
    "    f.write('image_id,label\\n')\n",
    "    for n, l in zip(names, preds):\n",
    "        f.write('{},{}\\n'.format(n, l))"
   ]
  }
 ],
 "metadata": {
  "kernelspec": {
   "display_name": "Python 3",
   "language": "python",
   "name": "python3"
  },
  "language_info": {
   "codemirror_mode": {
    "name": "ipython",
    "version": 3
   },
   "file_extension": ".py",
   "mimetype": "text/x-python",
   "name": "python",
   "nbconvert_exporter": "python",
   "pygments_lexer": "ipython3",
   "version": "3.7.6"
  },
  "papermill": {
   "duration": 25.736166,
   "end_time": "2021-02-09T16:14:29.535098",
   "environment_variables": {},
   "exception": null,
   "input_path": "__notebook__.ipynb",
   "output_path": "__notebook__.ipynb",
   "parameters": {},
   "start_time": "2021-02-09T16:14:03.798932",
   "version": "2.1.0"
  }
 },
 "nbformat": 4,
 "nbformat_minor": 4
}