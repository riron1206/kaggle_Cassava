{
 "cells": [
  {
   "cell_type": "markdown",
   "metadata": {},
   "source": [
    "https://www.kaggle.com/debarshichanda/cassava-bitempered-logistic-loss"
   ]
  },
  {
   "cell_type": "code",
   "execution_count": 1,
   "metadata": {
    "ExecuteTime": {
     "end_time": "2020-12-26T18:19:22.071624Z",
     "start_time": "2020-12-26T18:19:21.620647Z"
    }
   },
   "outputs": [
    {
     "name": "stdout",
     "output_type": "stream",
     "text": [
      "device: cuda\n"
     ]
    }
   ],
   "source": [
    "device = None\n",
    "\n",
    "## for TPU\n",
    "## https://www.kaggle.com/abhinand05/vision-transformer-vit-tutorial-baseline\n",
    "# import os\n",
    "# if os.path.exists(\"./torchvision-1.7-cp37-cp37m-linux_x86_64.whl\") == False:\n",
    "#    !curl https://raw.githubusercontent.com/pytorch/xla/master/contrib/scripts/env-setup.py -o pytorch-xla-env-setup.py\n",
    "#    !python pytorch-xla-env-setup.py --version 1.7\n",
    "# import torch_xla\n",
    "# import torch_xla.core.xla_model as xm\n",
    "# import torch_xla.distributed.xla_multiprocessing as xmp\n",
    "# import torch_xla.distributed.parallel_loader as pl\n",
    "# device = xm.xla_device()\n",
    "# num_workers = 2  # os.cpu_count()  # 4\n",
    "\n",
    "# for GPU\n",
    "if device is None:\n",
    "    import os\n",
    "    import torch\n",
    "\n",
    "    device = \"cuda\" if torch.cuda.is_available() else \"cpu\"\n",
    "\n",
    "    if os.getcwd() in [\"/kaggle/working\", \"/content\"]:\n",
    "        num_workers = os.cpu_count()  # 4\n",
    "    else:\n",
    "        num_workers = 0\n",
    "\n",
    "print(\"device:\", device)"
   ]
  },
  {
   "cell_type": "code",
   "execution_count": 2,
   "metadata": {
    "ExecuteTime": {
     "end_time": "2020-12-26T18:19:22.075622Z",
     "start_time": "2020-12-26T18:19:22.072621Z"
    }
   },
   "outputs": [],
   "source": [
    "#!pip install \"../input/pytorchlightning110/pytorch_lightning-1.1.0-py3-none-any.whl\"\n",
    "#\n",
    "# ROOT_DIR = \"../input/cassava-leaf-disease-classification\"\n",
    "# TRAIN_DIR = \"../input/cassava-leaf-disease-classification/train_images\"\n",
    "# TEST_DIR = \"../input/cassava-leaf-disease-classification/test_images\"\n",
    "\n",
    "import sys\n",
    "sys.path.append(r\"cassava_code\")\n",
    "\n",
    "ROOT_DIR = r\"C:\\Users\\81908\\jupyter_notebook\\pytorch_lightning_work\\kaggle_Cassava\\input\\cassava-leaf-disease-classification\"\n",
    "TRAIN_DIR = r\"C:\\Users\\81908\\jupyter_notebook\\pytorch_lightning_work\\kaggle_Cassava\\input\\cassava-leaf-disease-classification\\train_images\"\n",
    "TEST_DIR = r\"C:\\Users\\81908\\jupyter_notebook\\pytorch_lightning_work\\kaggle_Cassava\\input\\cassava-leaf-disease-classification\\test_images\""
   ]
  },
  {
   "cell_type": "code",
   "execution_count": 3,
   "metadata": {
    "ExecuteTime": {
     "end_time": "2020-12-26T18:19:23.999060Z",
     "start_time": "2020-12-26T18:19:22.076596Z"
    }
   },
   "outputs": [
    {
     "name": "stdout",
     "output_type": "stream",
     "text": [
      "pytorch_lightning version: 1.1.0\n"
     ]
    }
   ],
   "source": [
    "import os\n",
    "import cv2\n",
    "import random\n",
    "import shutil\n",
    "import pickle\n",
    "import json\n",
    "\n",
    "import numpy as np\n",
    "import pandas as pd\n",
    "import matplotlib.pyplot as plt\n",
    "import seaborn as sns\n",
    "\n",
    "import torch\n",
    "import torch.nn as nn\n",
    "import torch.nn.functional as F\n",
    "import torch.optim as optim\n",
    "from torch.optim import lr_scheduler\n",
    "import torchvision\n",
    "from torchvision import models\n",
    "from torch.utils.data import DataLoader, Dataset\n",
    "from torch.cuda import amp\n",
    "\n",
    "from sklearn import metrics\n",
    "from sklearn.model_selection import train_test_split, StratifiedKFold\n",
    "from sklearn.utils import class_weight\n",
    "\n",
    "from tqdm.notebook import tqdm\n",
    "from collections import defaultdict\n",
    "import albumentations as A\n",
    "from albumentations.pytorch import ToTensorV2\n",
    "\n",
    "import timm\n",
    "\n",
    "import pytorch_lightning as pl\n",
    "from pytorch_lightning.callbacks import ModelCheckpoint, EarlyStopping\n",
    "from pytorch_lightning.metrics.functional import accuracy\n",
    "\n",
    "import warnings\n",
    "\n",
    "warnings.filterwarnings(\"ignore\")\n",
    "\n",
    "print(\"pytorch_lightning version:\", pl.__version__)"
   ]
  },
  {
   "cell_type": "code",
   "execution_count": 4,
   "metadata": {
    "ExecuteTime": {
     "end_time": "2020-12-26T18:19:24.003061Z",
     "start_time": "2020-12-26T18:19:24.000059Z"
    }
   },
   "outputs": [],
   "source": [
    "import os, shutil\n",
    "if os.path.exists(\"lightning_logs/\"):\n",
    "    shutil.rmtree(\"lightning_logs/\")\n",
    "    os.mkdir(\"lightning_logs/\")"
   ]
  },
  {
   "cell_type": "code",
   "execution_count": 5,
   "metadata": {
    "ExecuteTime": {
     "end_time": "2020-12-26T18:19:24.008059Z",
     "start_time": "2020-12-26T18:19:24.004060Z"
    },
    "code_folding": [
     5
    ]
   },
   "outputs": [],
   "source": [
    "import os\n",
    "import random\n",
    "import torch\n",
    "\n",
    "\n",
    "def set_seed(seed=42):\n",
    "    \"\"\"Sets the seed of the entire notebook so results are the same every time we run.\n",
    "    This is for REPRODUCIBILITY.\"\"\"\n",
    "    np.random.seed(seed)\n",
    "    random.seed(seed)\n",
    "    torch.manual_seed(seed)\n",
    "    torch.cuda.manual_seed(seed)\n",
    "    torch.backends.cudnn.deterministic = True\n",
    "    os.environ[\"PYTHONHASHSEED\"] = str(seed)"
   ]
  },
  {
   "cell_type": "code",
   "execution_count": 6,
   "metadata": {
    "ExecuteTime": {
     "end_time": "2020-12-26T18:19:24.014060Z",
     "start_time": "2020-12-26T18:19:24.009059Z"
    },
    "code_folding": [
     5
    ]
   },
   "outputs": [],
   "source": [
    "import torch\n",
    "import torch.nn as nn\n",
    "from bi_tempered_loss import bi_tempered_logistic_loss\n",
    "\n",
    "\n",
    "class BiTemperedLoss(nn.Module):\n",
    "    def __init__(self, t1=0.7, t2=1.3, smoothing=0.0, reduction=\"mean\"):\n",
    "        super().__init__()\n",
    "        self.t1 = t1\n",
    "        self.t2 = t2\n",
    "        self.reduction = reduction\n",
    "        self.smoothing = smoothing\n",
    "\n",
    "    def forward(self, inputs, targets):\n",
    "        loss = bi_tempered_logistic_loss(\n",
    "            activations=inputs,\n",
    "            labels=targets,\n",
    "            t1=self.t1,\n",
    "            t2=self.t2,\n",
    "            label_smoothing=self.smoothing,\n",
    "        )\n",
    "        if self.reduction == \"sum\":\n",
    "            loss = loss.sum()\n",
    "        elif self.reduction == \"mean\":\n",
    "            loss = loss.mean()\n",
    "\n",
    "        return loss"
   ]
  },
  {
   "cell_type": "code",
   "execution_count": 7,
   "metadata": {
    "ExecuteTime": {
     "end_time": "2020-12-26T18:19:24.023061Z",
     "start_time": "2020-12-26T18:19:24.016059Z"
    },
    "code_folding": [
     7,
     34
    ]
   },
   "outputs": [],
   "source": [
    "# https://amaarora.github.io/2020/08/30/gempool.html\n",
    "# https://github.com/amaarora/amaarora.github.io/blob/master/nbs/GeM%20Pooling.ipynb\n",
    "import torch\n",
    "import torch.nn as nn\n",
    "import torch.nn.functional as F\n",
    "\n",
    "\n",
    "class GeM(nn.Module):\n",
    "    def __init__(self, p=3, eps=1e-6):\n",
    "        super(GeM, self).__init__()\n",
    "        self.p = nn.Parameter(torch.ones(1) * p)\n",
    "        self.eps = eps\n",
    "\n",
    "    def forward(self, x):\n",
    "        return self.gem(x, p=self.p, eps=self.eps)\n",
    "\n",
    "    def gem(self, x, p=3, eps=1e-6):\n",
    "        return F.avg_pool2d(x.clamp(min=eps).pow(p), (x.size(-2), x.size(-1))).pow(\n",
    "            1.0 / p\n",
    "        )\n",
    "\n",
    "    def __repr__(self):\n",
    "        return (\n",
    "            self.__class__.__name__\n",
    "            + \"(\"\n",
    "            + \"p=\"\n",
    "            + \"{:.4f}\".format(self.p.data.tolist()[0])\n",
    "            + \", \"\n",
    "            + \"eps=\"\n",
    "            + str(self.eps)\n",
    "            + \")\"\n",
    "        )\n",
    "\n",
    "\n",
    "class GeMNet(nn.Module):\n",
    "    def __init__(self, features, pool, in_features, n_classes):\n",
    "        super(GeMNet, self).__init__()\n",
    "        self.features = nn.Sequential(*features)\n",
    "        self.fc = nn.Linear(in_features, n_classes)\n",
    "        self.pool = pool\n",
    "\n",
    "    def forward(self, x):\n",
    "        o = self.features(x)\n",
    "        o = self.pool(o).squeeze(-1).squeeze(-1)\n",
    "        o = self.fc(o)\n",
    "        return o"
   ]
  },
  {
   "cell_type": "code",
   "execution_count": 8,
   "metadata": {
    "ExecuteTime": {
     "end_time": "2020-12-26T18:19:24.028059Z",
     "start_time": "2020-12-26T18:19:24.024060Z"
    },
    "code_folding": [
     5
    ],
    "lines_to_end_of_cell_marker": 2
   },
   "outputs": [],
   "source": [
    "# https://www.kaggle.com/mekhdigakhramanian/pytorch-efficientnet-baseline-inference-tta/data?select=tf_efficientnet_b3_ns_fold_0_0\n",
    "import torch\n",
    "import numpy as np\n",
    "\n",
    "\n",
    "def inference_one_epoch(model, data_loader, device):\n",
    "    model.eval()\n",
    "\n",
    "    image_preds_all = []\n",
    "\n",
    "    for step, batch in enumerate(data_loader):\n",
    "\n",
    "        imgs = batch[\"x\"].to(device).float()\n",
    "        model = model.to(device)\n",
    "\n",
    "        image_preds = model(imgs)\n",
    "        image_preds_all += [torch.softmax(image_preds, 1).detach().cpu().numpy()]\n",
    "\n",
    "    image_preds_all = np.concatenate(image_preds_all, axis=0)\n",
    "    return image_preds_all"
   ]
  },
  {
   "cell_type": "markdown",
   "metadata": {
    "lines_to_next_cell": 2
   },
   "source": [
    "# params"
   ]
  },
  {
   "cell_type": "code",
   "execution_count": 9,
   "metadata": {
    "ExecuteTime": {
     "end_time": "2020-12-26T18:19:24.034096Z",
     "start_time": "2020-12-26T18:19:24.029059Z"
    },
    "code_folding": []
   },
   "outputs": [],
   "source": [
    "class Config:\n",
    "    def __init__(self):\n",
    "        self.seeds = [42]\n",
    "        self.n_classes = 5\n",
    "        self.max_epochs = 10\n",
    "        self.patience = 10\n",
    "        self.n_splits = 5\n",
    "        self.shuffle = True\n",
    "        #self.batch_size = 16\n",
    "        #self.accumulate_grad_batches = 1\n",
    "        self.batch_size = 4\n",
    "        self.accumulate_grad_batches = 4\n",
    "        self.height = 512\n",
    "        self.width = 512\n",
    "        self.arch = \"tf_efficientnet_b4_ns\"\n",
    "        self.opt = \"adam\"\n",
    "        self.lr_scheduler = \"CosineAnnealingWarmRestarts\"\n",
    "        self.T_max = 10\n",
    "        self.T_0 = 10\n",
    "        self.lr = 1e-4\n",
    "        self.min_lr = 1e-6\n",
    "        self.weight_decay = 1e-6\n",
    "        self.smoothing = 0.2\n",
    "        self.train_loss_name = \"BiTemperedLoss\"\n",
    "        self.t1 = 0.8\n",
    "        self.t2 = 1.4\n",
    "        self.gem_p = 0\n",
    "        self.mix_decision_th = 0.5\n",
    "        self.is_cutmix = False\n",
    "        self.is_fmix = False\n",
    "        self.is_snapmix = False\n",
    "        self.mix_alpha = 1.0\n",
    "        self.is_over_sample = False\n",
    "        self.is_under_sample = False\n",
    "        self.n_over = 0\n",
    "        self.is_only_first_fold = False\n",
    "        self.n_tta = 5\n",
    "        self.device = device\n",
    "        self.num_workers = num_workers\n",
    "CFG = Config()"
   ]
  },
  {
   "cell_type": "markdown",
   "metadata": {},
   "source": [
    "# Data"
   ]
  },
  {
   "cell_type": "code",
   "execution_count": 10,
   "metadata": {
    "ExecuteTime": {
     "end_time": "2020-12-26T18:19:24.202058Z",
     "start_time": "2020-12-26T18:19:24.035059Z"
    }
   },
   "outputs": [
    {
     "data": {
      "image/png": "[encoded data removed]",
      "text/plain": [
       "<Figure size 432x288 with 1 Axes>"
      ]
     },
     "metadata": {
      "needs_background": "light"
     },
     "output_type": "display_data"
    },
    {
     "name": "stdout",
     "output_type": "stream",
     "text": [
      "{0: 'Cassava Bacterial Blight (CBB)', 1: 'Cassava Brown Streak Disease (CBSD)', 2: 'Cassava Green Mottle (CGM)', 3: 'Cassava Mosaic Disease (CMD)', 4: 'Healthy'}\n"
     ]
    }
   ],
   "source": [
    "df = pd.read_csv(f\"{ROOT_DIR}/train.csv\")\n",
    "df[\"file_path\"] = f\"{ROOT_DIR}/train_images/\" + df[\"image_id\"]\n",
    "\n",
    "with open(f\"{ROOT_DIR}/label_num_to_disease_map.json\", \"r\") as f:\n",
    "    name_mapping = json.load(f)\n",
    "\n",
    "name_mapping = {int(k): v for k, v in name_mapping.items()}\n",
    "\n",
    "sns.countplot(y=sorted(df[\"label\"].map(name_mapping)), orient=\"v\")\n",
    "plt.title(\"Target distribution\")\n",
    "plt.show()\n",
    "\n",
    "print(name_mapping)\n",
    "\n",
    "\n",
    "#DEBUG = True\n",
    "DEBUG = False\n",
    "if DEBUG:\n",
    "    df = df.iloc[:100,]\n",
    "    CFG.n_splits = 2\n",
    "    CFG.max_epochs = 6\n",
    "    CFG.height, CFG.width = 64, 64\n",
    "    \n",
    "    #CFG.is_only_first_fold = True\n",
    "    CFG.is_only_first_fold = False\n",
    "    \n",
    "    print(\"DEBUG:\", DEBUG)"
   ]
  },
  {
   "cell_type": "code",
   "execution_count": 11,
   "metadata": {
    "ExecuteTime": {
     "end_time": "2020-12-26T18:19:24.211059Z",
     "start_time": "2020-12-26T18:19:24.203059Z"
    },
    "code_folding": [
     1,
     26,
     40
    ]
   },
   "outputs": [],
   "source": [
    "data_transforms = {\n",
    "    \"train\": A.Compose(\n",
    "        [\n",
    "            A.RandomResizedCrop(CFG.height, CFG.width),\n",
    "            A.Transpose(p=0.5),\n",
    "            A.HorizontalFlip(p=0.5),\n",
    "            A.VerticalFlip(p=0.5),\n",
    "            A.ShiftScaleRotate(p=0.5),\n",
    "            A.HueSaturationValue(\n",
    "                hue_shift_limit=0.2, sat_shift_limit=0.2, val_shift_limit=0.2, p=0.5\n",
    "            ),\n",
    "            A.RandomBrightnessContrast(\n",
    "                brightness_limit=(-0.1, 0.1), contrast_limit=(-0.1, 0.1), p=0.5\n",
    "            ),\n",
    "            A.Normalize(\n",
    "                mean=[0.485, 0.456, 0.406],\n",
    "                std=[0.229, 0.224, 0.225],\n",
    "                max_pixel_value=255.0,\n",
    "                p=1.0,\n",
    "            ),\n",
    "            A.CoarseDropout(p=0.5),\n",
    "            A.Cutout(p=0.5),\n",
    "            ToTensorV2(),\n",
    "        ],\n",
    "        p=1.0,\n",
    "    ),\n",
    "    \"valid\": A.Compose(\n",
    "        [\n",
    "            A.CenterCrop(CFG.height, CFG.width, p=1.0),\n",
    "            A.Resize(CFG.height, CFG.width),\n",
    "            A.Normalize(\n",
    "                mean=[0.485, 0.456, 0.406],\n",
    "                std=[0.229, 0.224, 0.225],\n",
    "                max_pixel_value=255.0,\n",
    "                p=1.0,\n",
    "            ),\n",
    "            ToTensorV2(),\n",
    "        ],\n",
    "        p=1.0,\n",
    "    ),\n",
    "    \"test\": A.Compose(\n",
    "        [\n",
    "            A.RandomResizedCrop(CFG.height, CFG.width),\n",
    "            A.Transpose(p=0.5),\n",
    "            A.HorizontalFlip(p=0.5),\n",
    "            A.VerticalFlip(p=0.5),\n",
    "            A.ShiftScaleRotate(p=0.5),\n",
    "            A.HueSaturationValue(\n",
    "                hue_shift_limit=0.2, sat_shift_limit=0.2, val_shift_limit=0.2, p=0.5\n",
    "            ),\n",
    "            A.RandomBrightnessContrast(\n",
    "                brightness_limit=(-0.1, 0.1), contrast_limit=(-0.1, 0.1), p=0.5\n",
    "            ),\n",
    "            A.Normalize(\n",
    "                mean=[0.485, 0.456, 0.406],\n",
    "                std=[0.229, 0.224, 0.225],\n",
    "                max_pixel_value=255.0,\n",
    "                p=1.0,\n",
    "            ),\n",
    "            ToTensorV2(),\n",
    "        ],\n",
    "        p=1.0,\n",
    "    ),\n",
    "}"
   ]
  },
  {
   "cell_type": "markdown",
   "metadata": {},
   "source": [
    "# Dataset, Lightning Data Module"
   ]
  },
  {
   "cell_type": "code",
   "execution_count": 12,
   "metadata": {
    "ExecuteTime": {
     "end_time": "2020-12-26T18:19:24.219060Z",
     "start_time": "2020-12-26T18:19:24.212059Z"
    },
    "code_folding": [
     0,
     27,
     32,
     35,
     56,
     64
    ]
   },
   "outputs": [],
   "source": [
    "class CassavaDataset(Dataset):\n",
    "    def __init__(self, df: pd.DataFrame, train: bool = True, transforms=None):\n",
    "        self.df = df\n",
    "        self.train = train\n",
    "        self.transforms = transforms\n",
    "\n",
    "    def __getitem__(self, index):\n",
    "        im_path = self.df.iloc[index][\"file_path\"]\n",
    "        x = cv2.imread(im_path, cv2.IMREAD_COLOR)\n",
    "        x = cv2.cvtColor(x, cv2.COLOR_BGR2RGB)\n",
    "\n",
    "        if self.transforms:\n",
    "            x = self.transforms(image=x)[\"image\"]\n",
    "\n",
    "        if self.train:\n",
    "            y = self.df.iloc[index][\"label\"]\n",
    "            return {\"x\": x, \"y\": y}\n",
    "        else:\n",
    "            return {\"x\": x}\n",
    "\n",
    "    def __len__(self):\n",
    "        return len(self.df)\n",
    "\n",
    "\n",
    "class CassavaDataModule(pl.LightningDataModule):\n",
    "    def __init__(\n",
    "        self, train_df, valid_df, data_transforms, CFG,\n",
    "    ):\n",
    "        super().__init__()\n",
    "        self.train_df = train_df\n",
    "        self.valid_df = valid_df\n",
    "\n",
    "    def prepare_data(self):\n",
    "        pass\n",
    "\n",
    "    def setup(self, stage=None):\n",
    "        self.train_dataset = CassavaDataset(\n",
    "            self.train_df, train=True, transforms=data_transforms[\"train\"]\n",
    "        )\n",
    "\n",
    "        self.valid_dataset = CassavaDataset(\n",
    "            self.valid_df, train=True, transforms=data_transforms[\"valid\"]\n",
    "        )\n",
    "\n",
    "        self.valid_tta_dataset = CassavaDataset(\n",
    "            self.valid_df, train=True, transforms=data_transforms[\"test\"]\n",
    "        )  # test setのTTA条件\n",
    "\n",
    "    def train_dataloader(self):\n",
    "        return DataLoader(\n",
    "            self.train_dataset,\n",
    "            batch_size=CFG.batch_size,\n",
    "            num_workers=CFG.num_workers,\n",
    "            shuffle=True,\n",
    "            drop_last=True,\n",
    "        )\n",
    "\n",
    "    def val_dataloader(self):\n",
    "        return DataLoader(\n",
    "            self.valid_dataset,\n",
    "            batch_size=CFG.batch_size,\n",
    "            num_workers=CFG.num_workers,\n",
    "            shuffle=False,\n",
    "        )\n",
    "\n",
    "    def val_tta_dataloader(self):\n",
    "        return DataLoader(\n",
    "            self.valid_tta_dataset,\n",
    "            batch_size=CFG.batch_size,\n",
    "            num_workers=CFG.num_workers,\n",
    "            shuffle=False,\n",
    "        )"
   ]
  },
  {
   "cell_type": "markdown",
   "metadata": {},
   "source": [
    "# LightningModule"
   ]
  },
  {
   "cell_type": "code",
   "execution_count": 13,
   "metadata": {
    "ExecuteTime": {
     "end_time": "2020-12-26T18:19:24.899080Z",
     "start_time": "2020-12-26T18:19:24.220059Z"
    },
    "code_folding": [
     1,
     51,
     55,
     60,
     104,
     168
    ]
   },
   "outputs": [
    {
     "name": "stdout",
     "output_type": "stream",
     "text": [
      "CassavaLite(\n",
      "  (net): EfficientNet(\n",
      "    (conv_stem): Conv2dSame(3, 48, kernel_size=(3, 3), stride=(2, 2), bias=False)\n",
      "    (bn1): BatchNorm2d(48, eps=0.001, momentum=0.1, affine=True, track_running_stats=True)\n",
      "    (act1): SwishMe()\n",
      "    (blocks): Sequential(\n",
      "      (0): Sequential(\n",
      "        (0): DepthwiseSeparableConv(\n",
      "          (conv_dw): Conv2d(48, 48, kernel_size=(3, 3), stride=(1, 1), padding=(1, 1), groups=48, bias=False)\n",
      "          (bn1): BatchNorm2d(48, eps=0.001, momentum=0.1, affine=True, track_running_stats=True)\n",
      "          (act1): SwishMe()\n",
      "          (se): SqueezeExcite(\n",
      "            (conv_reduce): Conv2d(48, 12, kernel_size=(1, 1), stride=(1, 1))\n",
      "            (act1): SwishMe()\n",
      "            (conv_expand): Conv2d(12, 48, kernel_size=(1, 1), stride=(1, 1))\n",
      "          )\n",
      "          (conv_pw): Conv2d(48, 24, kernel_size=(1, 1), stride=(1, 1), bias=False)\n",
      "          (bn2): BatchNorm2d(24, eps=0.001, momentum=0.1, affine=True, track_running_stats=True)\n",
      "          (act2): Identity()\n",
      "        )\n",
      "        (1): DepthwiseSeparableConv(\n",
      "          (conv_dw): Conv2d(24, 24, kernel_size=(3, 3), stride=(1, 1), padding=(1, 1), groups=24, bias=False)\n",
      "          (bn1): BatchNorm2d(24, eps=0.001, momentum=0.1, affine=True, track_running_stats=True)\n",
      "          (act1): SwishMe()\n",
      "          (se): SqueezeExcite(\n",
      "            (conv_reduce): Conv2d(24, 6, kernel_size=(1, 1), stride=(1, 1))\n",
      "            (act1): SwishMe()\n",
      "            (conv_expand): Conv2d(6, 24, kernel_size=(1, 1), stride=(1, 1))\n",
      "          )\n",
      "          (conv_pw): Conv2d(24, 24, kernel_size=(1, 1), stride=(1, 1), bias=False)\n",
      "          (bn2): BatchNorm2d(24, eps=0.001, momentum=0.1, affine=True, track_running_stats=True)\n",
      "          (act2): Identity()\n",
      "        )\n",
      "      )\n",
      "      (1): Sequential(\n",
      "        (0): InvertedResidual(\n",
      "          (conv_pw): Conv2d(24, 144, kernel_size=(1, 1), stride=(1, 1), bias=False)\n",
      "          (bn1): BatchNorm2d(144, eps=0.001, momentum=0.1, affine=True, track_running_stats=True)\n",
      "          (act1): SwishMe()\n",
      "          (conv_dw): Conv2dSame(144, 144, kernel_size=(3, 3), stride=(2, 2), groups=144, bias=False)\n",
      "          (bn2): BatchNorm2d(144, eps=0.001, momentum=0.1, affine=True, track_running_stats=True)\n",
      "          (act2): SwishMe()\n",
      "          (se): SqueezeExcite(\n",
      "            (conv_reduce): Conv2d(144, 6, kernel_size=(1, 1), stride=(1, 1))\n",
      "            (act1): SwishMe()\n",
      "            (conv_expand): Conv2d(6, 144, kernel_size=(1, 1), stride=(1, 1))\n",
      "          )\n",
      "          (conv_pwl): Conv2d(144, 32, kernel_size=(1, 1), stride=(1, 1), bias=False)\n",
      "          (bn3): BatchNorm2d(32, eps=0.001, momentum=0.1, affine=True, track_running_stats=True)\n",
      "        )\n",
      "        (1): InvertedResidual(\n",
      "          (conv_pw): Conv2d(32, 192, kernel_size=(1, 1), stride=(1, 1), bias=False)\n",
      "          (bn1): BatchNorm2d(192, eps=0.001, momentum=0.1, affine=True, track_running_stats=True)\n",
      "          (act1): SwishMe()\n",
      "          (conv_dw): Conv2d(192, 192, kernel_size=(3, 3), stride=(1, 1), padding=(1, 1), groups=192, bias=False)\n",
      "          (bn2): BatchNorm2d(192, eps=0.001, momentum=0.1, affine=True, track_running_stats=True)\n",
      "          (act2): SwishMe()\n",
      "          (se): SqueezeExcite(\n",
      "            (conv_reduce): Conv2d(192, 8, kernel_size=(1, 1), stride=(1, 1))\n",
      "            (act1): SwishMe()\n",
      "            (conv_expand): Conv2d(8, 192, kernel_size=(1, 1), stride=(1, 1))\n",
      "          )\n",
      "          (conv_pwl): Conv2d(192, 32, kernel_size=(1, 1), stride=(1, 1), bias=False)\n",
      "          (bn3): BatchNorm2d(32, eps=0.001, momentum=0.1, affine=True, track_running_stats=True)\n",
      "        )\n",
      "        (2): InvertedResidual(\n",
      "          (conv_pw): Conv2d(32, 192, kernel_size=(1, 1), stride=(1, 1), bias=False)\n",
      "          (bn1): BatchNorm2d(192, eps=0.001, momentum=0.1, affine=True, track_running_stats=True)\n",
      "          (act1): SwishMe()\n",
      "          (conv_dw): Conv2d(192, 192, kernel_size=(3, 3), stride=(1, 1), padding=(1, 1), groups=192, bias=False)\n",
      "          (bn2): BatchNorm2d(192, eps=0.001, momentum=0.1, affine=True, track_running_stats=True)\n",
      "          (act2): SwishMe()\n",
      "          (se): SqueezeExcite(\n",
      "            (conv_reduce): Conv2d(192, 8, kernel_size=(1, 1), stride=(1, 1))\n",
      "            (act1): SwishMe()\n",
      "            (conv_expand): Conv2d(8, 192, kernel_size=(1, 1), stride=(1, 1))\n",
      "          )\n",
      "          (conv_pwl): Conv2d(192, 32, kernel_size=(1, 1), stride=(1, 1), bias=False)\n",
      "          (bn3): BatchNorm2d(32, eps=0.001, momentum=0.1, affine=True, track_running_stats=True)\n",
      "        )\n",
      "        (3): InvertedResidual(\n",
      "          (conv_pw): Conv2d(32, 192, kernel_size=(1, 1), stride=(1, 1), bias=False)\n",
      "          (bn1): BatchNorm2d(192, eps=0.001, momentum=0.1, affine=True, track_running_stats=True)\n",
      "          (act1): SwishMe()\n",
      "          (conv_dw): Conv2d(192, 192, kernel_size=(3, 3), stride=(1, 1), padding=(1, 1), groups=192, bias=False)\n",
      "          (bn2): BatchNorm2d(192, eps=0.001, momentum=0.1, affine=True, track_running_stats=True)\n",
      "          (act2): SwishMe()\n",
      "          (se): SqueezeExcite(\n",
      "            (conv_reduce): Conv2d(192, 8, kernel_size=(1, 1), stride=(1, 1))\n",
      "            (act1): SwishMe()\n",
      "            (conv_expand): Conv2d(8, 192, kernel_size=(1, 1), stride=(1, 1))\n",
      "          )\n",
      "          (conv_pwl): Conv2d(192, 32, kernel_size=(1, 1), stride=(1, 1), bias=False)\n",
      "          (bn3): BatchNorm2d(32, eps=0.001, momentum=0.1, affine=True, track_running_stats=True)\n",
      "        )\n",
      "      )\n",
      "      (2): Sequential(\n",
      "        (0): InvertedResidual(\n",
      "          (conv_pw): Conv2d(32, 192, kernel_size=(1, 1), stride=(1, 1), bias=False)\n",
      "          (bn1): BatchNorm2d(192, eps=0.001, momentum=0.1, affine=True, track_running_stats=True)\n",
      "          (act1): SwishMe()\n",
      "          (conv_dw): Conv2dSame(192, 192, kernel_size=(5, 5), stride=(2, 2), groups=192, bias=False)\n",
      "          (bn2): BatchNorm2d(192, eps=0.001, momentum=0.1, affine=True, track_running_stats=True)\n",
      "          (act2): SwishMe()\n",
      "          (se): SqueezeExcite(\n",
      "            (conv_reduce): Conv2d(192, 8, kernel_size=(1, 1), stride=(1, 1))\n",
      "            (act1): SwishMe()\n",
      "            (conv_expand): Conv2d(8, 192, kernel_size=(1, 1), stride=(1, 1))\n",
      "          )\n",
      "          (conv_pwl): Conv2d(192, 56, kernel_size=(1, 1), stride=(1, 1), bias=False)\n",
      "          (bn3): BatchNorm2d(56, eps=0.001, momentum=0.1, affine=True, track_running_stats=True)\n",
      "        )\n",
      "        (1): InvertedResidual(\n",
      "          (conv_pw): Conv2d(56, 336, kernel_size=(1, 1), stride=(1, 1), bias=False)\n",
      "          (bn1): BatchNorm2d(336, eps=0.001, momentum=0.1, affine=True, track_running_stats=True)\n",
      "          (act1): SwishMe()\n",
      "          (conv_dw): Conv2d(336, 336, kernel_size=(5, 5), stride=(1, 1), padding=(2, 2), groups=336, bias=False)\n",
      "          (bn2): BatchNorm2d(336, eps=0.001, momentum=0.1, affine=True, track_running_stats=True)\n",
      "          (act2): SwishMe()\n",
      "          (se): SqueezeExcite(\n",
      "            (conv_reduce): Conv2d(336, 14, kernel_size=(1, 1), stride=(1, 1))\n",
      "            (act1): SwishMe()\n",
      "            (conv_expand): Conv2d(14, 336, kernel_size=(1, 1), stride=(1, 1))\n",
      "          )\n",
      "          (conv_pwl): Conv2d(336, 56, kernel_size=(1, 1), stride=(1, 1), bias=False)\n",
      "          (bn3): BatchNorm2d(56, eps=0.001, momentum=0.1, affine=True, track_running_stats=True)\n",
      "        )\n",
      "        (2): InvertedResidual(\n",
      "          (conv_pw): Conv2d(56, 336, kernel_size=(1, 1), stride=(1, 1), bias=False)\n",
      "          (bn1): BatchNorm2d(336, eps=0.001, momentum=0.1, affine=True, track_running_stats=True)\n",
      "          (act1): SwishMe()\n",
      "          (conv_dw): Conv2d(336, 336, kernel_size=(5, 5), stride=(1, 1), padding=(2, 2), groups=336, bias=False)\n",
      "          (bn2): BatchNorm2d(336, eps=0.001, momentum=0.1, affine=True, track_running_stats=True)\n",
      "          (act2): SwishMe()\n",
      "          (se): SqueezeExcite(\n",
      "            (conv_reduce): Conv2d(336, 14, kernel_size=(1, 1), stride=(1, 1))\n",
      "            (act1): SwishMe()\n",
      "            (conv_expand): Conv2d(14, 336, kernel_size=(1, 1), stride=(1, 1))\n",
      "          )\n",
      "          (conv_pwl): Conv2d(336, 56, kernel_size=(1, 1), stride=(1, 1), bias=False)\n",
      "          (bn3): BatchNorm2d(56, eps=0.001, momentum=0.1, affine=True, track_running_stats=True)\n",
      "        )\n",
      "        (3): InvertedResidual(\n",
      "          (conv_pw): Conv2d(56, 336, kernel_size=(1, 1), stride=(1, 1), bias=False)\n",
      "          (bn1): BatchNorm2d(336, eps=0.001, momentum=0.1, affine=True, track_running_stats=True)\n",
      "          (act1): SwishMe()\n",
      "          (conv_dw): Conv2d(336, 336, kernel_size=(5, 5), stride=(1, 1), padding=(2, 2), groups=336, bias=False)\n",
      "          (bn2): BatchNorm2d(336, eps=0.001, momentum=0.1, affine=True, track_running_stats=True)\n",
      "          (act2): SwishMe()\n",
      "          (se): SqueezeExcite(\n",
      "            (conv_reduce): Conv2d(336, 14, kernel_size=(1, 1), stride=(1, 1))\n",
      "            (act1): SwishMe()\n",
      "            (conv_expand): Conv2d(14, 336, kernel_size=(1, 1), stride=(1, 1))\n",
      "          )\n",
      "          (conv_pwl): Conv2d(336, 56, kernel_size=(1, 1), stride=(1, 1), bias=False)\n",
      "          (bn3): BatchNorm2d(56, eps=0.001, momentum=0.1, affine=True, track_running_stats=True)\n",
      "        )\n",
      "      )\n",
      "      (3): Sequential(\n",
      "        (0): InvertedResidual(\n",
      "          (conv_pw): Conv2d(56, 336, kernel_size=(1, 1), stride=(1, 1), bias=False)\n",
      "          (bn1): BatchNorm2d(336, eps=0.001, momentum=0.1, affine=True, track_running_stats=True)\n",
      "          (act1): SwishMe()\n",
      "          (conv_dw): Conv2dSame(336, 336, kernel_size=(3, 3), stride=(2, 2), groups=336, bias=False)\n",
      "          (bn2): BatchNorm2d(336, eps=0.001, momentum=0.1, affine=True, track_running_stats=True)\n",
      "          (act2): SwishMe()\n",
      "          (se): SqueezeExcite(\n",
      "            (conv_reduce): Conv2d(336, 14, kernel_size=(1, 1), stride=(1, 1))\n",
      "            (act1): SwishMe()\n",
      "            (conv_expand): Conv2d(14, 336, kernel_size=(1, 1), stride=(1, 1))\n",
      "          )\n",
      "          (conv_pwl): Conv2d(336, 112, kernel_size=(1, 1), stride=(1, 1), bias=False)\n",
      "          (bn3): BatchNorm2d(112, eps=0.001, momentum=0.1, affine=True, track_running_stats=True)\n",
      "        )\n",
      "        (1): InvertedResidual(\n",
      "          (conv_pw): Conv2d(112, 672, kernel_size=(1, 1), stride=(1, 1), bias=False)\n",
      "          (bn1): BatchNorm2d(672, eps=0.001, momentum=0.1, affine=True, track_running_stats=True)\n",
      "          (act1): SwishMe()\n",
      "          (conv_dw): Conv2d(672, 672, kernel_size=(3, 3), stride=(1, 1), padding=(1, 1), groups=672, bias=False)\n",
      "          (bn2): BatchNorm2d(672, eps=0.001, momentum=0.1, affine=True, track_running_stats=True)\n",
      "          (act2): SwishMe()\n",
      "          (se): SqueezeExcite(\n",
      "            (conv_reduce): Conv2d(672, 28, kernel_size=(1, 1), stride=(1, 1))\n",
      "            (act1): SwishMe()\n",
      "            (conv_expand): Conv2d(28, 672, kernel_size=(1, 1), stride=(1, 1))\n",
      "          )\n",
      "          (conv_pwl): Conv2d(672, 112, kernel_size=(1, 1), stride=(1, 1), bias=False)\n",
      "          (bn3): BatchNorm2d(112, eps=0.001, momentum=0.1, affine=True, track_running_stats=True)\n",
      "        )\n",
      "        (2): InvertedResidual(\n",
      "          (conv_pw): Conv2d(112, 672, kernel_size=(1, 1), stride=(1, 1), bias=False)\n",
      "          (bn1): BatchNorm2d(672, eps=0.001, momentum=0.1, affine=True, track_running_stats=True)\n",
      "          (act1): SwishMe()\n",
      "          (conv_dw): Conv2d(672, 672, kernel_size=(3, 3), stride=(1, 1), padding=(1, 1), groups=672, bias=False)\n",
      "          (bn2): BatchNorm2d(672, eps=0.001, momentum=0.1, affine=True, track_running_stats=True)\n",
      "          (act2): SwishMe()\n",
      "          (se): SqueezeExcite(\n",
      "            (conv_reduce): Conv2d(672, 28, kernel_size=(1, 1), stride=(1, 1))\n",
      "            (act1): SwishMe()\n",
      "            (conv_expand): Conv2d(28, 672, kernel_size=(1, 1), stride=(1, 1))\n",
      "          )\n",
      "          (conv_pwl): Conv2d(672, 112, kernel_size=(1, 1), stride=(1, 1), bias=False)\n",
      "          (bn3): BatchNorm2d(112, eps=0.001, momentum=0.1, affine=True, track_running_stats=True)\n",
      "        )\n",
      "        (3): InvertedResidual(\n",
      "          (conv_pw): Conv2d(112, 672, kernel_size=(1, 1), stride=(1, 1), bias=False)\n",
      "          (bn1): BatchNorm2d(672, eps=0.001, momentum=0.1, affine=True, track_running_stats=True)\n",
      "          (act1): SwishMe()\n",
      "          (conv_dw): Conv2d(672, 672, kernel_size=(3, 3), stride=(1, 1), padding=(1, 1), groups=672, bias=False)\n",
      "          (bn2): BatchNorm2d(672, eps=0.001, momentum=0.1, affine=True, track_running_stats=True)\n",
      "          (act2): SwishMe()\n",
      "          (se): SqueezeExcite(\n",
      "            (conv_reduce): Conv2d(672, 28, kernel_size=(1, 1), stride=(1, 1))\n",
      "            (act1): SwishMe()\n",
      "            (conv_expand): Conv2d(28, 672, kernel_size=(1, 1), stride=(1, 1))\n",
      "          )\n",
      "          (conv_pwl): Conv2d(672, 112, kernel_size=(1, 1), stride=(1, 1), bias=False)\n",
      "          (bn3): BatchNorm2d(112, eps=0.001, momentum=0.1, affine=True, track_running_stats=True)\n",
      "        )\n",
      "        (4): InvertedResidual(\n",
      "          (conv_pw): Conv2d(112, 672, kernel_size=(1, 1), stride=(1, 1), bias=False)\n",
      "          (bn1): BatchNorm2d(672, eps=0.001, momentum=0.1, affine=True, track_running_stats=True)\n",
      "          (act1): SwishMe()\n",
      "          (conv_dw): Conv2d(672, 672, kernel_size=(3, 3), stride=(1, 1), padding=(1, 1), groups=672, bias=False)\n",
      "          (bn2): BatchNorm2d(672, eps=0.001, momentum=0.1, affine=True, track_running_stats=True)\n",
      "          (act2): SwishMe()\n",
      "          (se): SqueezeExcite(\n",
      "            (conv_reduce): Conv2d(672, 28, kernel_size=(1, 1), stride=(1, 1))\n",
      "            (act1): SwishMe()\n",
      "            (conv_expand): Conv2d(28, 672, kernel_size=(1, 1), stride=(1, 1))\n",
      "          )\n",
      "          (conv_pwl): Conv2d(672, 112, kernel_size=(1, 1), stride=(1, 1), bias=False)\n",
      "          (bn3): BatchNorm2d(112, eps=0.001, momentum=0.1, affine=True, track_running_stats=True)\n",
      "        )\n",
      "        (5): InvertedResidual(\n",
      "          (conv_pw): Conv2d(112, 672, kernel_size=(1, 1), stride=(1, 1), bias=False)\n",
      "          (bn1): BatchNorm2d(672, eps=0.001, momentum=0.1, affine=True, track_running_stats=True)\n",
      "          (act1): SwishMe()\n",
      "          (conv_dw): Conv2d(672, 672, kernel_size=(3, 3), stride=(1, 1), padding=(1, 1), groups=672, bias=False)\n",
      "          (bn2): BatchNorm2d(672, eps=0.001, momentum=0.1, affine=True, track_running_stats=True)\n",
      "          (act2): SwishMe()\n",
      "          (se): SqueezeExcite(\n",
      "            (conv_reduce): Conv2d(672, 28, kernel_size=(1, 1), stride=(1, 1))\n",
      "            (act1): SwishMe()\n",
      "            (conv_expand): Conv2d(28, 672, kernel_size=(1, 1), stride=(1, 1))\n",
      "          )\n",
      "          (conv_pwl): Conv2d(672, 112, kernel_size=(1, 1), stride=(1, 1), bias=False)\n",
      "          (bn3): BatchNorm2d(112, eps=0.001, momentum=0.1, affine=True, track_running_stats=True)\n",
      "        )\n",
      "      )\n",
      "      (4): Sequential(\n",
      "        (0): InvertedResidual(\n",
      "          (conv_pw): Conv2d(112, 672, kernel_size=(1, 1), stride=(1, 1), bias=False)\n",
      "          (bn1): BatchNorm2d(672, eps=0.001, momentum=0.1, affine=True, track_running_stats=True)\n",
      "          (act1): SwishMe()\n",
      "          (conv_dw): Conv2d(672, 672, kernel_size=(5, 5), stride=(1, 1), padding=(2, 2), groups=672, bias=False)\n",
      "          (bn2): BatchNorm2d(672, eps=0.001, momentum=0.1, affine=True, track_running_stats=True)\n",
      "          (act2): SwishMe()\n",
      "          (se): SqueezeExcite(\n",
      "            (conv_reduce): Conv2d(672, 28, kernel_size=(1, 1), stride=(1, 1))\n",
      "            (act1): SwishMe()\n",
      "            (conv_expand): Conv2d(28, 672, kernel_size=(1, 1), stride=(1, 1))\n",
      "          )\n",
      "          (conv_pwl): Conv2d(672, 160, kernel_size=(1, 1), stride=(1, 1), bias=False)\n",
      "          (bn3): BatchNorm2d(160, eps=0.001, momentum=0.1, affine=True, track_running_stats=True)\n",
      "        )\n",
      "        (1): InvertedResidual(\n",
      "          (conv_pw): Conv2d(160, 960, kernel_size=(1, 1), stride=(1, 1), bias=False)\n",
      "          (bn1): BatchNorm2d(960, eps=0.001, momentum=0.1, affine=True, track_running_stats=True)\n",
      "          (act1): SwishMe()\n",
      "          (conv_dw): Conv2d(960, 960, kernel_size=(5, 5), stride=(1, 1), padding=(2, 2), groups=960, bias=False)\n",
      "          (bn2): BatchNorm2d(960, eps=0.001, momentum=0.1, affine=True, track_running_stats=True)\n",
      "          (act2): SwishMe()\n",
      "          (se): SqueezeExcite(\n",
      "            (conv_reduce): Conv2d(960, 40, kernel_size=(1, 1), stride=(1, 1))\n",
      "            (act1): SwishMe()\n",
      "            (conv_expand): Conv2d(40, 960, kernel_size=(1, 1), stride=(1, 1))\n",
      "          )\n",
      "          (conv_pwl): Conv2d(960, 160, kernel_size=(1, 1), stride=(1, 1), bias=False)\n",
      "          (bn3): BatchNorm2d(160, eps=0.001, momentum=0.1, affine=True, track_running_stats=True)\n",
      "        )\n",
      "        (2): InvertedResidual(\n",
      "          (conv_pw): Conv2d(160, 960, kernel_size=(1, 1), stride=(1, 1), bias=False)\n",
      "          (bn1): BatchNorm2d(960, eps=0.001, momentum=0.1, affine=True, track_running_stats=True)\n",
      "          (act1): SwishMe()\n",
      "          (conv_dw): Conv2d(960, 960, kernel_size=(5, 5), stride=(1, 1), padding=(2, 2), groups=960, bias=False)\n",
      "          (bn2): BatchNorm2d(960, eps=0.001, momentum=0.1, affine=True, track_running_stats=True)\n",
      "          (act2): SwishMe()\n",
      "          (se): SqueezeExcite(\n",
      "            (conv_reduce): Conv2d(960, 40, kernel_size=(1, 1), stride=(1, 1))\n",
      "            (act1): SwishMe()\n",
      "            (conv_expand): Conv2d(40, 960, kernel_size=(1, 1), stride=(1, 1))\n",
      "          )\n",
      "          (conv_pwl): Conv2d(960, 160, kernel_size=(1, 1), stride=(1, 1), bias=False)\n",
      "          (bn3): BatchNorm2d(160, eps=0.001, momentum=0.1, affine=True, track_running_stats=True)\n",
      "        )\n",
      "        (3): InvertedResidual(\n",
      "          (conv_pw): Conv2d(160, 960, kernel_size=(1, 1), stride=(1, 1), bias=False)\n",
      "          (bn1): BatchNorm2d(960, eps=0.001, momentum=0.1, affine=True, track_running_stats=True)\n",
      "          (act1): SwishMe()\n",
      "          (conv_dw): Conv2d(960, 960, kernel_size=(5, 5), stride=(1, 1), padding=(2, 2), groups=960, bias=False)\n",
      "          (bn2): BatchNorm2d(960, eps=0.001, momentum=0.1, affine=True, track_running_stats=True)\n",
      "          (act2): SwishMe()\n",
      "          (se): SqueezeExcite(\n",
      "            (conv_reduce): Conv2d(960, 40, kernel_size=(1, 1), stride=(1, 1))\n",
      "            (act1): SwishMe()\n",
      "            (conv_expand): Conv2d(40, 960, kernel_size=(1, 1), stride=(1, 1))\n",
      "          )\n",
      "          (conv_pwl): Conv2d(960, 160, kernel_size=(1, 1), stride=(1, 1), bias=False)\n",
      "          (bn3): BatchNorm2d(160, eps=0.001, momentum=0.1, affine=True, track_running_stats=True)\n",
      "        )\n",
      "        (4): InvertedResidual(\n",
      "          (conv_pw): Conv2d(160, 960, kernel_size=(1, 1), stride=(1, 1), bias=False)\n",
      "          (bn1): BatchNorm2d(960, eps=0.001, momentum=0.1, affine=True, track_running_stats=True)\n",
      "          (act1): SwishMe()\n",
      "          (conv_dw): Conv2d(960, 960, kernel_size=(5, 5), stride=(1, 1), padding=(2, 2), groups=960, bias=False)\n",
      "          (bn2): BatchNorm2d(960, eps=0.001, momentum=0.1, affine=True, track_running_stats=True)\n",
      "          (act2): SwishMe()\n",
      "          (se): SqueezeExcite(\n",
      "            (conv_reduce): Conv2d(960, 40, kernel_size=(1, 1), stride=(1, 1))\n",
      "            (act1): SwishMe()\n",
      "            (conv_expand): Conv2d(40, 960, kernel_size=(1, 1), stride=(1, 1))\n",
      "          )\n",
      "          (conv_pwl): Conv2d(960, 160, kernel_size=(1, 1), stride=(1, 1), bias=False)\n",
      "          (bn3): BatchNorm2d(160, eps=0.001, momentum=0.1, affine=True, track_running_stats=True)\n",
      "        )\n",
      "        (5): InvertedResidual(\n",
      "          (conv_pw): Conv2d(160, 960, kernel_size=(1, 1), stride=(1, 1), bias=False)\n",
      "          (bn1): BatchNorm2d(960, eps=0.001, momentum=0.1, affine=True, track_running_stats=True)\n",
      "          (act1): SwishMe()\n",
      "          (conv_dw): Conv2d(960, 960, kernel_size=(5, 5), stride=(1, 1), padding=(2, 2), groups=960, bias=False)\n",
      "          (bn2): BatchNorm2d(960, eps=0.001, momentum=0.1, affine=True, track_running_stats=True)\n",
      "          (act2): SwishMe()\n",
      "          (se): SqueezeExcite(\n",
      "            (conv_reduce): Conv2d(960, 40, kernel_size=(1, 1), stride=(1, 1))\n",
      "            (act1): SwishMe()\n",
      "            (conv_expand): Conv2d(40, 960, kernel_size=(1, 1), stride=(1, 1))\n",
      "          )\n",
      "          (conv_pwl): Conv2d(960, 160, kernel_size=(1, 1), stride=(1, 1), bias=False)\n",
      "          (bn3): BatchNorm2d(160, eps=0.001, momentum=0.1, affine=True, track_running_stats=True)\n",
      "        )\n",
      "      )\n",
      "      (5): Sequential(\n",
      "        (0): InvertedResidual(\n",
      "          (conv_pw): Conv2d(160, 960, kernel_size=(1, 1), stride=(1, 1), bias=False)\n",
      "          (bn1): BatchNorm2d(960, eps=0.001, momentum=0.1, affine=True, track_running_stats=True)\n",
      "          (act1): SwishMe()\n",
      "          (conv_dw): Conv2dSame(960, 960, kernel_size=(5, 5), stride=(2, 2), groups=960, bias=False)\n",
      "          (bn2): BatchNorm2d(960, eps=0.001, momentum=0.1, affine=True, track_running_stats=True)\n",
      "          (act2): SwishMe()\n",
      "          (se): SqueezeExcite(\n",
      "            (conv_reduce): Conv2d(960, 40, kernel_size=(1, 1), stride=(1, 1))\n",
      "            (act1): SwishMe()\n",
      "            (conv_expand): Conv2d(40, 960, kernel_size=(1, 1), stride=(1, 1))\n",
      "          )\n",
      "          (conv_pwl): Conv2d(960, 272, kernel_size=(1, 1), stride=(1, 1), bias=False)\n",
      "          (bn3): BatchNorm2d(272, eps=0.001, momentum=0.1, affine=True, track_running_stats=True)\n",
      "        )\n",
      "        (1): InvertedResidual(\n",
      "          (conv_pw): Conv2d(272, 1632, kernel_size=(1, 1), stride=(1, 1), bias=False)\n",
      "          (bn1): BatchNorm2d(1632, eps=0.001, momentum=0.1, affine=True, track_running_stats=True)\n",
      "          (act1): SwishMe()\n",
      "          (conv_dw): Conv2d(1632, 1632, kernel_size=(5, 5), stride=(1, 1), padding=(2, 2), groups=1632, bias=False)\n",
      "          (bn2): BatchNorm2d(1632, eps=0.001, momentum=0.1, affine=True, track_running_stats=True)\n",
      "          (act2): SwishMe()\n",
      "          (se): SqueezeExcite(\n",
      "            (conv_reduce): Conv2d(1632, 68, kernel_size=(1, 1), stride=(1, 1))\n",
      "            (act1): SwishMe()\n",
      "            (conv_expand): Conv2d(68, 1632, kernel_size=(1, 1), stride=(1, 1))\n",
      "          )\n",
      "          (conv_pwl): Conv2d(1632, 272, kernel_size=(1, 1), stride=(1, 1), bias=False)\n",
      "          (bn3): BatchNorm2d(272, eps=0.001, momentum=0.1, affine=True, track_running_stats=True)\n",
      "        )\n",
      "        (2): InvertedResidual(\n",
      "          (conv_pw): Conv2d(272, 1632, kernel_size=(1, 1), stride=(1, 1), bias=False)\n",
      "          (bn1): BatchNorm2d(1632, eps=0.001, momentum=0.1, affine=True, track_running_stats=True)\n",
      "          (act1): SwishMe()\n",
      "          (conv_dw): Conv2d(1632, 1632, kernel_size=(5, 5), stride=(1, 1), padding=(2, 2), groups=1632, bias=False)\n",
      "          (bn2): BatchNorm2d(1632, eps=0.001, momentum=0.1, affine=True, track_running_stats=True)\n",
      "          (act2): SwishMe()\n",
      "          (se): SqueezeExcite(\n",
      "            (conv_reduce): Conv2d(1632, 68, kernel_size=(1, 1), stride=(1, 1))\n",
      "            (act1): SwishMe()\n",
      "            (conv_expand): Conv2d(68, 1632, kernel_size=(1, 1), stride=(1, 1))\n",
      "          )\n",
      "          (conv_pwl): Conv2d(1632, 272, kernel_size=(1, 1), stride=(1, 1), bias=False)\n",
      "          (bn3): BatchNorm2d(272, eps=0.001, momentum=0.1, affine=True, track_running_stats=True)\n",
      "        )\n",
      "        (3): InvertedResidual(\n",
      "          (conv_pw): Conv2d(272, 1632, kernel_size=(1, 1), stride=(1, 1), bias=False)\n",
      "          (bn1): BatchNorm2d(1632, eps=0.001, momentum=0.1, affine=True, track_running_stats=True)\n",
      "          (act1): SwishMe()\n",
      "          (conv_dw): Conv2d(1632, 1632, kernel_size=(5, 5), stride=(1, 1), padding=(2, 2), groups=1632, bias=False)\n",
      "          (bn2): BatchNorm2d(1632, eps=0.001, momentum=0.1, affine=True, track_running_stats=True)\n",
      "          (act2): SwishMe()\n",
      "          (se): SqueezeExcite(\n",
      "            (conv_reduce): Conv2d(1632, 68, kernel_size=(1, 1), stride=(1, 1))\n",
      "            (act1): SwishMe()\n",
      "            (conv_expand): Conv2d(68, 1632, kernel_size=(1, 1), stride=(1, 1))\n",
      "          )\n",
      "          (conv_pwl): Conv2d(1632, 272, kernel_size=(1, 1), stride=(1, 1), bias=False)\n",
      "          (bn3): BatchNorm2d(272, eps=0.001, momentum=0.1, affine=True, track_running_stats=True)\n",
      "        )\n",
      "        (4): InvertedResidual(\n",
      "          (conv_pw): Conv2d(272, 1632, kernel_size=(1, 1), stride=(1, 1), bias=False)\n",
      "          (bn1): BatchNorm2d(1632, eps=0.001, momentum=0.1, affine=True, track_running_stats=True)\n",
      "          (act1): SwishMe()\n",
      "          (conv_dw): Conv2d(1632, 1632, kernel_size=(5, 5), stride=(1, 1), padding=(2, 2), groups=1632, bias=False)\n",
      "          (bn2): BatchNorm2d(1632, eps=0.001, momentum=0.1, affine=True, track_running_stats=True)\n",
      "          (act2): SwishMe()\n",
      "          (se): SqueezeExcite(\n",
      "            (conv_reduce): Conv2d(1632, 68, kernel_size=(1, 1), stride=(1, 1))\n",
      "            (act1): SwishMe()\n",
      "            (conv_expand): Conv2d(68, 1632, kernel_size=(1, 1), stride=(1, 1))\n",
      "          )\n",
      "          (conv_pwl): Conv2d(1632, 272, kernel_size=(1, 1), stride=(1, 1), bias=False)\n",
      "          (bn3): BatchNorm2d(272, eps=0.001, momentum=0.1, affine=True, track_running_stats=True)\n",
      "        )\n",
      "        (5): InvertedResidual(\n",
      "          (conv_pw): Conv2d(272, 1632, kernel_size=(1, 1), stride=(1, 1), bias=False)\n",
      "          (bn1): BatchNorm2d(1632, eps=0.001, momentum=0.1, affine=True, track_running_stats=True)\n",
      "          (act1): SwishMe()\n",
      "          (conv_dw): Conv2d(1632, 1632, kernel_size=(5, 5), stride=(1, 1), padding=(2, 2), groups=1632, bias=False)\n",
      "          (bn2): BatchNorm2d(1632, eps=0.001, momentum=0.1, affine=True, track_running_stats=True)\n",
      "          (act2): SwishMe()\n",
      "          (se): SqueezeExcite(\n",
      "            (conv_reduce): Conv2d(1632, 68, kernel_size=(1, 1), stride=(1, 1))\n",
      "            (act1): SwishMe()\n",
      "            (conv_expand): Conv2d(68, 1632, kernel_size=(1, 1), stride=(1, 1))\n",
      "          )\n",
      "          (conv_pwl): Conv2d(1632, 272, kernel_size=(1, 1), stride=(1, 1), bias=False)\n",
      "          (bn3): BatchNorm2d(272, eps=0.001, momentum=0.1, affine=True, track_running_stats=True)\n",
      "        )\n",
      "        (6): InvertedResidual(\n",
      "          (conv_pw): Conv2d(272, 1632, kernel_size=(1, 1), stride=(1, 1), bias=False)\n",
      "          (bn1): BatchNorm2d(1632, eps=0.001, momentum=0.1, affine=True, track_running_stats=True)\n",
      "          (act1): SwishMe()\n",
      "          (conv_dw): Conv2d(1632, 1632, kernel_size=(5, 5), stride=(1, 1), padding=(2, 2), groups=1632, bias=False)\n",
      "          (bn2): BatchNorm2d(1632, eps=0.001, momentum=0.1, affine=True, track_running_stats=True)\n",
      "          (act2): SwishMe()\n",
      "          (se): SqueezeExcite(\n",
      "            (conv_reduce): Conv2d(1632, 68, kernel_size=(1, 1), stride=(1, 1))\n",
      "            (act1): SwishMe()\n",
      "            (conv_expand): Conv2d(68, 1632, kernel_size=(1, 1), stride=(1, 1))\n",
      "          )\n",
      "          (conv_pwl): Conv2d(1632, 272, kernel_size=(1, 1), stride=(1, 1), bias=False)\n",
      "          (bn3): BatchNorm2d(272, eps=0.001, momentum=0.1, affine=True, track_running_stats=True)\n",
      "        )\n",
      "        (7): InvertedResidual(\n",
      "          (conv_pw): Conv2d(272, 1632, kernel_size=(1, 1), stride=(1, 1), bias=False)\n",
      "          (bn1): BatchNorm2d(1632, eps=0.001, momentum=0.1, affine=True, track_running_stats=True)\n",
      "          (act1): SwishMe()\n",
      "          (conv_dw): Conv2d(1632, 1632, kernel_size=(5, 5), stride=(1, 1), padding=(2, 2), groups=1632, bias=False)\n",
      "          (bn2): BatchNorm2d(1632, eps=0.001, momentum=0.1, affine=True, track_running_stats=True)\n",
      "          (act2): SwishMe()\n",
      "          (se): SqueezeExcite(\n",
      "            (conv_reduce): Conv2d(1632, 68, kernel_size=(1, 1), stride=(1, 1))\n",
      "            (act1): SwishMe()\n",
      "            (conv_expand): Conv2d(68, 1632, kernel_size=(1, 1), stride=(1, 1))\n",
      "          )\n",
      "          (conv_pwl): Conv2d(1632, 272, kernel_size=(1, 1), stride=(1, 1), bias=False)\n",
      "          (bn3): BatchNorm2d(272, eps=0.001, momentum=0.1, affine=True, track_running_stats=True)\n",
      "        )\n",
      "      )\n",
      "      (6): Sequential(\n",
      "        (0): InvertedResidual(\n",
      "          (conv_pw): Conv2d(272, 1632, kernel_size=(1, 1), stride=(1, 1), bias=False)\n",
      "          (bn1): BatchNorm2d(1632, eps=0.001, momentum=0.1, affine=True, track_running_stats=True)\n",
      "          (act1): SwishMe()\n",
      "          (conv_dw): Conv2d(1632, 1632, kernel_size=(3, 3), stride=(1, 1), padding=(1, 1), groups=1632, bias=False)\n",
      "          (bn2): BatchNorm2d(1632, eps=0.001, momentum=0.1, affine=True, track_running_stats=True)\n",
      "          (act2): SwishMe()\n",
      "          (se): SqueezeExcite(\n",
      "            (conv_reduce): Conv2d(1632, 68, kernel_size=(1, 1), stride=(1, 1))\n",
      "            (act1): SwishMe()\n",
      "            (conv_expand): Conv2d(68, 1632, kernel_size=(1, 1), stride=(1, 1))\n",
      "          )\n",
      "          (conv_pwl): Conv2d(1632, 448, kernel_size=(1, 1), stride=(1, 1), bias=False)\n",
      "          (bn3): BatchNorm2d(448, eps=0.001, momentum=0.1, affine=True, track_running_stats=True)\n",
      "        )\n",
      "        (1): InvertedResidual(\n",
      "          (conv_pw): Conv2d(448, 2688, kernel_size=(1, 1), stride=(1, 1), bias=False)\n",
      "          (bn1): BatchNorm2d(2688, eps=0.001, momentum=0.1, affine=True, track_running_stats=True)\n",
      "          (act1): SwishMe()\n",
      "          (conv_dw): Conv2d(2688, 2688, kernel_size=(3, 3), stride=(1, 1), padding=(1, 1), groups=2688, bias=False)\n",
      "          (bn2): BatchNorm2d(2688, eps=0.001, momentum=0.1, affine=True, track_running_stats=True)\n",
      "          (act2): SwishMe()\n",
      "          (se): SqueezeExcite(\n",
      "            (conv_reduce): Conv2d(2688, 112, kernel_size=(1, 1), stride=(1, 1))\n",
      "            (act1): SwishMe()\n",
      "            (conv_expand): Conv2d(112, 2688, kernel_size=(1, 1), stride=(1, 1))\n",
      "          )\n",
      "          (conv_pwl): Conv2d(2688, 448, kernel_size=(1, 1), stride=(1, 1), bias=False)\n",
      "          (bn3): BatchNorm2d(448, eps=0.001, momentum=0.1, affine=True, track_running_stats=True)\n",
      "        )\n",
      "      )\n",
      "    )\n",
      "    (conv_head): Conv2d(448, 1792, kernel_size=(1, 1), stride=(1, 1), bias=False)\n",
      "    (bn2): BatchNorm2d(1792, eps=0.001, momentum=0.1, affine=True, track_running_stats=True)\n",
      "    (act2): SwishMe()\n",
      "    (global_pool): SelectAdaptivePool2d (pool_type=avg, flatten=True)\n",
      "    (classifier): Linear(in_features=1792, out_features=5, bias=True)\n",
      "  )\n",
      "  (feat_net): Sequential(\n",
      "    (0): Conv2dSame(3, 48, kernel_size=(3, 3), stride=(2, 2), bias=False)\n",
      "    (1): BatchNorm2d(48, eps=0.001, momentum=0.1, affine=True, track_running_stats=True)\n",
      "    (2): SwishMe()\n",
      "    (3): Sequential(\n",
      "      (0): Sequential(\n",
      "        (0): DepthwiseSeparableConv(\n",
      "          (conv_dw): Conv2d(48, 48, kernel_size=(3, 3), stride=(1, 1), padding=(1, 1), groups=48, bias=False)\n",
      "          (bn1): BatchNorm2d(48, eps=0.001, momentum=0.1, affine=True, track_running_stats=True)\n",
      "          (act1): SwishMe()\n",
      "          (se): SqueezeExcite(\n",
      "            (conv_reduce): Conv2d(48, 12, kernel_size=(1, 1), stride=(1, 1))\n",
      "            (act1): SwishMe()\n",
      "            (conv_expand): Conv2d(12, 48, kernel_size=(1, 1), stride=(1, 1))\n",
      "          )\n",
      "          (conv_pw): Conv2d(48, 24, kernel_size=(1, 1), stride=(1, 1), bias=False)\n",
      "          (bn2): BatchNorm2d(24, eps=0.001, momentum=0.1, affine=True, track_running_stats=True)\n",
      "          (act2): Identity()\n",
      "        )\n",
      "        (1): DepthwiseSeparableConv(\n",
      "          (conv_dw): Conv2d(24, 24, kernel_size=(3, 3), stride=(1, 1), padding=(1, 1), groups=24, bias=False)\n",
      "          (bn1): BatchNorm2d(24, eps=0.001, momentum=0.1, affine=True, track_running_stats=True)\n",
      "          (act1): SwishMe()\n",
      "          (se): SqueezeExcite(\n",
      "            (conv_reduce): Conv2d(24, 6, kernel_size=(1, 1), stride=(1, 1))\n",
      "            (act1): SwishMe()\n",
      "            (conv_expand): Conv2d(6, 24, kernel_size=(1, 1), stride=(1, 1))\n",
      "          )\n",
      "          (conv_pw): Conv2d(24, 24, kernel_size=(1, 1), stride=(1, 1), bias=False)\n",
      "          (bn2): BatchNorm2d(24, eps=0.001, momentum=0.1, affine=True, track_running_stats=True)\n",
      "          (act2): Identity()\n",
      "        )\n",
      "      )\n",
      "      (1): Sequential(\n",
      "        (0): InvertedResidual(\n",
      "          (conv_pw): Conv2d(24, 144, kernel_size=(1, 1), stride=(1, 1), bias=False)\n",
      "          (bn1): BatchNorm2d(144, eps=0.001, momentum=0.1, affine=True, track_running_stats=True)\n",
      "          (act1): SwishMe()\n",
      "          (conv_dw): Conv2dSame(144, 144, kernel_size=(3, 3), stride=(2, 2), groups=144, bias=False)\n",
      "          (bn2): BatchNorm2d(144, eps=0.001, momentum=0.1, affine=True, track_running_stats=True)\n",
      "          (act2): SwishMe()\n",
      "          (se): SqueezeExcite(\n",
      "            (conv_reduce): Conv2d(144, 6, kernel_size=(1, 1), stride=(1, 1))\n",
      "            (act1): SwishMe()\n",
      "            (conv_expand): Conv2d(6, 144, kernel_size=(1, 1), stride=(1, 1))\n",
      "          )\n",
      "          (conv_pwl): Conv2d(144, 32, kernel_size=(1, 1), stride=(1, 1), bias=False)\n",
      "          (bn3): BatchNorm2d(32, eps=0.001, momentum=0.1, affine=True, track_running_stats=True)\n",
      "        )\n",
      "        (1): InvertedResidual(\n",
      "          (conv_pw): Conv2d(32, 192, kernel_size=(1, 1), stride=(1, 1), bias=False)\n",
      "          (bn1): BatchNorm2d(192, eps=0.001, momentum=0.1, affine=True, track_running_stats=True)\n",
      "          (act1): SwishMe()\n",
      "          (conv_dw): Conv2d(192, 192, kernel_size=(3, 3), stride=(1, 1), padding=(1, 1), groups=192, bias=False)\n",
      "          (bn2): BatchNorm2d(192, eps=0.001, momentum=0.1, affine=True, track_running_stats=True)\n",
      "          (act2): SwishMe()\n",
      "          (se): SqueezeExcite(\n",
      "            (conv_reduce): Conv2d(192, 8, kernel_size=(1, 1), stride=(1, 1))\n",
      "            (act1): SwishMe()\n",
      "            (conv_expand): Conv2d(8, 192, kernel_size=(1, 1), stride=(1, 1))\n",
      "          )\n",
      "          (conv_pwl): Conv2d(192, 32, kernel_size=(1, 1), stride=(1, 1), bias=False)\n",
      "          (bn3): BatchNorm2d(32, eps=0.001, momentum=0.1, affine=True, track_running_stats=True)\n",
      "        )\n",
      "        (2): InvertedResidual(\n",
      "          (conv_pw): Conv2d(32, 192, kernel_size=(1, 1), stride=(1, 1), bias=False)\n",
      "          (bn1): BatchNorm2d(192, eps=0.001, momentum=0.1, affine=True, track_running_stats=True)\n",
      "          (act1): SwishMe()\n",
      "          (conv_dw): Conv2d(192, 192, kernel_size=(3, 3), stride=(1, 1), padding=(1, 1), groups=192, bias=False)\n",
      "          (bn2): BatchNorm2d(192, eps=0.001, momentum=0.1, affine=True, track_running_stats=True)\n",
      "          (act2): SwishMe()\n",
      "          (se): SqueezeExcite(\n",
      "            (conv_reduce): Conv2d(192, 8, kernel_size=(1, 1), stride=(1, 1))\n",
      "            (act1): SwishMe()\n",
      "            (conv_expand): Conv2d(8, 192, kernel_size=(1, 1), stride=(1, 1))\n",
      "          )\n",
      "          (conv_pwl): Conv2d(192, 32, kernel_size=(1, 1), stride=(1, 1), bias=False)\n",
      "          (bn3): BatchNorm2d(32, eps=0.001, momentum=0.1, affine=True, track_running_stats=True)\n",
      "        )\n",
      "        (3): InvertedResidual(\n",
      "          (conv_pw): Conv2d(32, 192, kernel_size=(1, 1), stride=(1, 1), bias=False)\n",
      "          (bn1): BatchNorm2d(192, eps=0.001, momentum=0.1, affine=True, track_running_stats=True)\n",
      "          (act1): SwishMe()\n",
      "          (conv_dw): Conv2d(192, 192, kernel_size=(3, 3), stride=(1, 1), padding=(1, 1), groups=192, bias=False)\n",
      "          (bn2): BatchNorm2d(192, eps=0.001, momentum=0.1, affine=True, track_running_stats=True)\n",
      "          (act2): SwishMe()\n",
      "          (se): SqueezeExcite(\n",
      "            (conv_reduce): Conv2d(192, 8, kernel_size=(1, 1), stride=(1, 1))\n",
      "            (act1): SwishMe()\n",
      "            (conv_expand): Conv2d(8, 192, kernel_size=(1, 1), stride=(1, 1))\n",
      "          )\n",
      "          (conv_pwl): Conv2d(192, 32, kernel_size=(1, 1), stride=(1, 1), bias=False)\n",
      "          (bn3): BatchNorm2d(32, eps=0.001, momentum=0.1, affine=True, track_running_stats=True)\n",
      "        )\n",
      "      )\n",
      "      (2): Sequential(\n",
      "        (0): InvertedResidual(\n",
      "          (conv_pw): Conv2d(32, 192, kernel_size=(1, 1), stride=(1, 1), bias=False)\n",
      "          (bn1): BatchNorm2d(192, eps=0.001, momentum=0.1, affine=True, track_running_stats=True)\n",
      "          (act1): SwishMe()\n",
      "          (conv_dw): Conv2dSame(192, 192, kernel_size=(5, 5), stride=(2, 2), groups=192, bias=False)\n",
      "          (bn2): BatchNorm2d(192, eps=0.001, momentum=0.1, affine=True, track_running_stats=True)\n",
      "          (act2): SwishMe()\n",
      "          (se): SqueezeExcite(\n",
      "            (conv_reduce): Conv2d(192, 8, kernel_size=(1, 1), stride=(1, 1))\n",
      "            (act1): SwishMe()\n",
      "            (conv_expand): Conv2d(8, 192, kernel_size=(1, 1), stride=(1, 1))\n",
      "          )\n",
      "          (conv_pwl): Conv2d(192, 56, kernel_size=(1, 1), stride=(1, 1), bias=False)\n",
      "          (bn3): BatchNorm2d(56, eps=0.001, momentum=0.1, affine=True, track_running_stats=True)\n",
      "        )\n",
      "        (1): InvertedResidual(\n",
      "          (conv_pw): Conv2d(56, 336, kernel_size=(1, 1), stride=(1, 1), bias=False)\n",
      "          (bn1): BatchNorm2d(336, eps=0.001, momentum=0.1, affine=True, track_running_stats=True)\n",
      "          (act1): SwishMe()\n",
      "          (conv_dw): Conv2d(336, 336, kernel_size=(5, 5), stride=(1, 1), padding=(2, 2), groups=336, bias=False)\n",
      "          (bn2): BatchNorm2d(336, eps=0.001, momentum=0.1, affine=True, track_running_stats=True)\n",
      "          (act2): SwishMe()\n",
      "          (se): SqueezeExcite(\n",
      "            (conv_reduce): Conv2d(336, 14, kernel_size=(1, 1), stride=(1, 1))\n",
      "            (act1): SwishMe()\n",
      "            (conv_expand): Conv2d(14, 336, kernel_size=(1, 1), stride=(1, 1))\n",
      "          )\n",
      "          (conv_pwl): Conv2d(336, 56, kernel_size=(1, 1), stride=(1, 1), bias=False)\n",
      "          (bn3): BatchNorm2d(56, eps=0.001, momentum=0.1, affine=True, track_running_stats=True)\n",
      "        )\n",
      "        (2): InvertedResidual(\n",
      "          (conv_pw): Conv2d(56, 336, kernel_size=(1, 1), stride=(1, 1), bias=False)\n",
      "          (bn1): BatchNorm2d(336, eps=0.001, momentum=0.1, affine=True, track_running_stats=True)\n",
      "          (act1): SwishMe()\n",
      "          (conv_dw): Conv2d(336, 336, kernel_size=(5, 5), stride=(1, 1), padding=(2, 2), groups=336, bias=False)\n",
      "          (bn2): BatchNorm2d(336, eps=0.001, momentum=0.1, affine=True, track_running_stats=True)\n",
      "          (act2): SwishMe()\n",
      "          (se): SqueezeExcite(\n",
      "            (conv_reduce): Conv2d(336, 14, kernel_size=(1, 1), stride=(1, 1))\n",
      "            (act1): SwishMe()\n",
      "            (conv_expand): Conv2d(14, 336, kernel_size=(1, 1), stride=(1, 1))\n",
      "          )\n",
      "          (conv_pwl): Conv2d(336, 56, kernel_size=(1, 1), stride=(1, 1), bias=False)\n",
      "          (bn3): BatchNorm2d(56, eps=0.001, momentum=0.1, affine=True, track_running_stats=True)\n",
      "        )\n",
      "        (3): InvertedResidual(\n",
      "          (conv_pw): Conv2d(56, 336, kernel_size=(1, 1), stride=(1, 1), bias=False)\n",
      "          (bn1): BatchNorm2d(336, eps=0.001, momentum=0.1, affine=True, track_running_stats=True)\n",
      "          (act1): SwishMe()\n",
      "          (conv_dw): Conv2d(336, 336, kernel_size=(5, 5), stride=(1, 1), padding=(2, 2), groups=336, bias=False)\n",
      "          (bn2): BatchNorm2d(336, eps=0.001, momentum=0.1, affine=True, track_running_stats=True)\n",
      "          (act2): SwishMe()\n",
      "          (se): SqueezeExcite(\n",
      "            (conv_reduce): Conv2d(336, 14, kernel_size=(1, 1), stride=(1, 1))\n",
      "            (act1): SwishMe()\n",
      "            (conv_expand): Conv2d(14, 336, kernel_size=(1, 1), stride=(1, 1))\n",
      "          )\n",
      "          (conv_pwl): Conv2d(336, 56, kernel_size=(1, 1), stride=(1, 1), bias=False)\n",
      "          (bn3): BatchNorm2d(56, eps=0.001, momentum=0.1, affine=True, track_running_stats=True)\n",
      "        )\n",
      "      )\n",
      "      (3): Sequential(\n",
      "        (0): InvertedResidual(\n",
      "          (conv_pw): Conv2d(56, 336, kernel_size=(1, 1), stride=(1, 1), bias=False)\n",
      "          (bn1): BatchNorm2d(336, eps=0.001, momentum=0.1, affine=True, track_running_stats=True)\n",
      "          (act1): SwishMe()\n",
      "          (conv_dw): Conv2dSame(336, 336, kernel_size=(3, 3), stride=(2, 2), groups=336, bias=False)\n",
      "          (bn2): BatchNorm2d(336, eps=0.001, momentum=0.1, affine=True, track_running_stats=True)\n",
      "          (act2): SwishMe()\n",
      "          (se): SqueezeExcite(\n",
      "            (conv_reduce): Conv2d(336, 14, kernel_size=(1, 1), stride=(1, 1))\n",
      "            (act1): SwishMe()\n",
      "            (conv_expand): Conv2d(14, 336, kernel_size=(1, 1), stride=(1, 1))\n",
      "          )\n",
      "          (conv_pwl): Conv2d(336, 112, kernel_size=(1, 1), stride=(1, 1), bias=False)\n",
      "          (bn3): BatchNorm2d(112, eps=0.001, momentum=0.1, affine=True, track_running_stats=True)\n",
      "        )\n",
      "        (1): InvertedResidual(\n",
      "          (conv_pw): Conv2d(112, 672, kernel_size=(1, 1), stride=(1, 1), bias=False)\n",
      "          (bn1): BatchNorm2d(672, eps=0.001, momentum=0.1, affine=True, track_running_stats=True)\n",
      "          (act1): SwishMe()\n",
      "          (conv_dw): Conv2d(672, 672, kernel_size=(3, 3), stride=(1, 1), padding=(1, 1), groups=672, bias=False)\n",
      "          (bn2): BatchNorm2d(672, eps=0.001, momentum=0.1, affine=True, track_running_stats=True)\n",
      "          (act2): SwishMe()\n",
      "          (se): SqueezeExcite(\n",
      "            (conv_reduce): Conv2d(672, 28, kernel_size=(1, 1), stride=(1, 1))\n",
      "            (act1): SwishMe()\n",
      "            (conv_expand): Conv2d(28, 672, kernel_size=(1, 1), stride=(1, 1))\n",
      "          )\n",
      "          (conv_pwl): Conv2d(672, 112, kernel_size=(1, 1), stride=(1, 1), bias=False)\n",
      "          (bn3): BatchNorm2d(112, eps=0.001, momentum=0.1, affine=True, track_running_stats=True)\n",
      "        )\n",
      "        (2): InvertedResidual(\n",
      "          (conv_pw): Conv2d(112, 672, kernel_size=(1, 1), stride=(1, 1), bias=False)\n",
      "          (bn1): BatchNorm2d(672, eps=0.001, momentum=0.1, affine=True, track_running_stats=True)\n",
      "          (act1): SwishMe()\n",
      "          (conv_dw): Conv2d(672, 672, kernel_size=(3, 3), stride=(1, 1), padding=(1, 1), groups=672, bias=False)\n",
      "          (bn2): BatchNorm2d(672, eps=0.001, momentum=0.1, affine=True, track_running_stats=True)\n",
      "          (act2): SwishMe()\n",
      "          (se): SqueezeExcite(\n",
      "            (conv_reduce): Conv2d(672, 28, kernel_size=(1, 1), stride=(1, 1))\n",
      "            (act1): SwishMe()\n",
      "            (conv_expand): Conv2d(28, 672, kernel_size=(1, 1), stride=(1, 1))\n",
      "          )\n",
      "          (conv_pwl): Conv2d(672, 112, kernel_size=(1, 1), stride=(1, 1), bias=False)\n",
      "          (bn3): BatchNorm2d(112, eps=0.001, momentum=0.1, affine=True, track_running_stats=True)\n",
      "        )\n",
      "        (3): InvertedResidual(\n",
      "          (conv_pw): Conv2d(112, 672, kernel_size=(1, 1), stride=(1, 1), bias=False)\n",
      "          (bn1): BatchNorm2d(672, eps=0.001, momentum=0.1, affine=True, track_running_stats=True)\n",
      "          (act1): SwishMe()\n",
      "          (conv_dw): Conv2d(672, 672, kernel_size=(3, 3), stride=(1, 1), padding=(1, 1), groups=672, bias=False)\n",
      "          (bn2): BatchNorm2d(672, eps=0.001, momentum=0.1, affine=True, track_running_stats=True)\n",
      "          (act2): SwishMe()\n",
      "          (se): SqueezeExcite(\n",
      "            (conv_reduce): Conv2d(672, 28, kernel_size=(1, 1), stride=(1, 1))\n",
      "            (act1): SwishMe()\n",
      "            (conv_expand): Conv2d(28, 672, kernel_size=(1, 1), stride=(1, 1))\n",
      "          )\n",
      "          (conv_pwl): Conv2d(672, 112, kernel_size=(1, 1), stride=(1, 1), bias=False)\n",
      "          (bn3): BatchNorm2d(112, eps=0.001, momentum=0.1, affine=True, track_running_stats=True)\n",
      "        )\n",
      "        (4): InvertedResidual(\n",
      "          (conv_pw): Conv2d(112, 672, kernel_size=(1, 1), stride=(1, 1), bias=False)\n",
      "          (bn1): BatchNorm2d(672, eps=0.001, momentum=0.1, affine=True, track_running_stats=True)\n",
      "          (act1): SwishMe()\n",
      "          (conv_dw): Conv2d(672, 672, kernel_size=(3, 3), stride=(1, 1), padding=(1, 1), groups=672, bias=False)\n",
      "          (bn2): BatchNorm2d(672, eps=0.001, momentum=0.1, affine=True, track_running_stats=True)\n",
      "          (act2): SwishMe()\n",
      "          (se): SqueezeExcite(\n",
      "            (conv_reduce): Conv2d(672, 28, kernel_size=(1, 1), stride=(1, 1))\n",
      "            (act1): SwishMe()\n",
      "            (conv_expand): Conv2d(28, 672, kernel_size=(1, 1), stride=(1, 1))\n",
      "          )\n",
      "          (conv_pwl): Conv2d(672, 112, kernel_size=(1, 1), stride=(1, 1), bias=False)\n",
      "          (bn3): BatchNorm2d(112, eps=0.001, momentum=0.1, affine=True, track_running_stats=True)\n",
      "        )\n",
      "        (5): InvertedResidual(\n",
      "          (conv_pw): Conv2d(112, 672, kernel_size=(1, 1), stride=(1, 1), bias=False)\n",
      "          (bn1): BatchNorm2d(672, eps=0.001, momentum=0.1, affine=True, track_running_stats=True)\n",
      "          (act1): SwishMe()\n",
      "          (conv_dw): Conv2d(672, 672, kernel_size=(3, 3), stride=(1, 1), padding=(1, 1), groups=672, bias=False)\n",
      "          (bn2): BatchNorm2d(672, eps=0.001, momentum=0.1, affine=True, track_running_stats=True)\n",
      "          (act2): SwishMe()\n",
      "          (se): SqueezeExcite(\n",
      "            (conv_reduce): Conv2d(672, 28, kernel_size=(1, 1), stride=(1, 1))\n",
      "            (act1): SwishMe()\n",
      "            (conv_expand): Conv2d(28, 672, kernel_size=(1, 1), stride=(1, 1))\n",
      "          )\n",
      "          (conv_pwl): Conv2d(672, 112, kernel_size=(1, 1), stride=(1, 1), bias=False)\n",
      "          (bn3): BatchNorm2d(112, eps=0.001, momentum=0.1, affine=True, track_running_stats=True)\n",
      "        )\n",
      "      )\n",
      "      (4): Sequential(\n",
      "        (0): InvertedResidual(\n",
      "          (conv_pw): Conv2d(112, 672, kernel_size=(1, 1), stride=(1, 1), bias=False)\n",
      "          (bn1): BatchNorm2d(672, eps=0.001, momentum=0.1, affine=True, track_running_stats=True)\n",
      "          (act1): SwishMe()\n",
      "          (conv_dw): Conv2d(672, 672, kernel_size=(5, 5), stride=(1, 1), padding=(2, 2), groups=672, bias=False)\n",
      "          (bn2): BatchNorm2d(672, eps=0.001, momentum=0.1, affine=True, track_running_stats=True)\n",
      "          (act2): SwishMe()\n",
      "          (se): SqueezeExcite(\n",
      "            (conv_reduce): Conv2d(672, 28, kernel_size=(1, 1), stride=(1, 1))\n",
      "            (act1): SwishMe()\n",
      "            (conv_expand): Conv2d(28, 672, kernel_size=(1, 1), stride=(1, 1))\n",
      "          )\n",
      "          (conv_pwl): Conv2d(672, 160, kernel_size=(1, 1), stride=(1, 1), bias=False)\n",
      "          (bn3): BatchNorm2d(160, eps=0.001, momentum=0.1, affine=True, track_running_stats=True)\n",
      "        )\n",
      "        (1): InvertedResidual(\n",
      "          (conv_pw): Conv2d(160, 960, kernel_size=(1, 1), stride=(1, 1), bias=False)\n",
      "          (bn1): BatchNorm2d(960, eps=0.001, momentum=0.1, affine=True, track_running_stats=True)\n",
      "          (act1): SwishMe()\n",
      "          (conv_dw): Conv2d(960, 960, kernel_size=(5, 5), stride=(1, 1), padding=(2, 2), groups=960, bias=False)\n",
      "          (bn2): BatchNorm2d(960, eps=0.001, momentum=0.1, affine=True, track_running_stats=True)\n",
      "          (act2): SwishMe()\n",
      "          (se): SqueezeExcite(\n",
      "            (conv_reduce): Conv2d(960, 40, kernel_size=(1, 1), stride=(1, 1))\n",
      "            (act1): SwishMe()\n",
      "            (conv_expand): Conv2d(40, 960, kernel_size=(1, 1), stride=(1, 1))\n",
      "          )\n",
      "          (conv_pwl): Conv2d(960, 160, kernel_size=(1, 1), stride=(1, 1), bias=False)\n",
      "          (bn3): BatchNorm2d(160, eps=0.001, momentum=0.1, affine=True, track_running_stats=True)\n",
      "        )\n",
      "        (2): InvertedResidual(\n",
      "          (conv_pw): Conv2d(160, 960, kernel_size=(1, 1), stride=(1, 1), bias=False)\n",
      "          (bn1): BatchNorm2d(960, eps=0.001, momentum=0.1, affine=True, track_running_stats=True)\n",
      "          (act1): SwishMe()\n",
      "          (conv_dw): Conv2d(960, 960, kernel_size=(5, 5), stride=(1, 1), padding=(2, 2), groups=960, bias=False)\n",
      "          (bn2): BatchNorm2d(960, eps=0.001, momentum=0.1, affine=True, track_running_stats=True)\n",
      "          (act2): SwishMe()\n",
      "          (se): SqueezeExcite(\n",
      "            (conv_reduce): Conv2d(960, 40, kernel_size=(1, 1), stride=(1, 1))\n",
      "            (act1): SwishMe()\n",
      "            (conv_expand): Conv2d(40, 960, kernel_size=(1, 1), stride=(1, 1))\n",
      "          )\n",
      "          (conv_pwl): Conv2d(960, 160, kernel_size=(1, 1), stride=(1, 1), bias=False)\n",
      "          (bn3): BatchNorm2d(160, eps=0.001, momentum=0.1, affine=True, track_running_stats=True)\n",
      "        )\n",
      "        (3): InvertedResidual(\n",
      "          (conv_pw): Conv2d(160, 960, kernel_size=(1, 1), stride=(1, 1), bias=False)\n",
      "          (bn1): BatchNorm2d(960, eps=0.001, momentum=0.1, affine=True, track_running_stats=True)\n",
      "          (act1): SwishMe()\n",
      "          (conv_dw): Conv2d(960, 960, kernel_size=(5, 5), stride=(1, 1), padding=(2, 2), groups=960, bias=False)\n",
      "          (bn2): BatchNorm2d(960, eps=0.001, momentum=0.1, affine=True, track_running_stats=True)\n",
      "          (act2): SwishMe()\n",
      "          (se): SqueezeExcite(\n",
      "            (conv_reduce): Conv2d(960, 40, kernel_size=(1, 1), stride=(1, 1))\n",
      "            (act1): SwishMe()\n",
      "            (conv_expand): Conv2d(40, 960, kernel_size=(1, 1), stride=(1, 1))\n",
      "          )\n",
      "          (conv_pwl): Conv2d(960, 160, kernel_size=(1, 1), stride=(1, 1), bias=False)\n",
      "          (bn3): BatchNorm2d(160, eps=0.001, momentum=0.1, affine=True, track_running_stats=True)\n",
      "        )\n",
      "        (4): InvertedResidual(\n",
      "          (conv_pw): Conv2d(160, 960, kernel_size=(1, 1), stride=(1, 1), bias=False)\n",
      "          (bn1): BatchNorm2d(960, eps=0.001, momentum=0.1, affine=True, track_running_stats=True)\n",
      "          (act1): SwishMe()\n",
      "          (conv_dw): Conv2d(960, 960, kernel_size=(5, 5), stride=(1, 1), padding=(2, 2), groups=960, bias=False)\n",
      "          (bn2): BatchNorm2d(960, eps=0.001, momentum=0.1, affine=True, track_running_stats=True)\n",
      "          (act2): SwishMe()\n",
      "          (se): SqueezeExcite(\n",
      "            (conv_reduce): Conv2d(960, 40, kernel_size=(1, 1), stride=(1, 1))\n",
      "            (act1): SwishMe()\n",
      "            (conv_expand): Conv2d(40, 960, kernel_size=(1, 1), stride=(1, 1))\n",
      "          )\n",
      "          (conv_pwl): Conv2d(960, 160, kernel_size=(1, 1), stride=(1, 1), bias=False)\n",
      "          (bn3): BatchNorm2d(160, eps=0.001, momentum=0.1, affine=True, track_running_stats=True)\n",
      "        )\n",
      "        (5): InvertedResidual(\n",
      "          (conv_pw): Conv2d(160, 960, kernel_size=(1, 1), stride=(1, 1), bias=False)\n",
      "          (bn1): BatchNorm2d(960, eps=0.001, momentum=0.1, affine=True, track_running_stats=True)\n",
      "          (act1): SwishMe()\n",
      "          (conv_dw): Conv2d(960, 960, kernel_size=(5, 5), stride=(1, 1), padding=(2, 2), groups=960, bias=False)\n",
      "          (bn2): BatchNorm2d(960, eps=0.001, momentum=0.1, affine=True, track_running_stats=True)\n",
      "          (act2): SwishMe()\n",
      "          (se): SqueezeExcite(\n",
      "            (conv_reduce): Conv2d(960, 40, kernel_size=(1, 1), stride=(1, 1))\n",
      "            (act1): SwishMe()\n",
      "            (conv_expand): Conv2d(40, 960, kernel_size=(1, 1), stride=(1, 1))\n",
      "          )\n",
      "          (conv_pwl): Conv2d(960, 160, kernel_size=(1, 1), stride=(1, 1), bias=False)\n",
      "          (bn3): BatchNorm2d(160, eps=0.001, momentum=0.1, affine=True, track_running_stats=True)\n",
      "        )\n",
      "      )\n",
      "      (5): Sequential(\n",
      "        (0): InvertedResidual(\n",
      "          (conv_pw): Conv2d(160, 960, kernel_size=(1, 1), stride=(1, 1), bias=False)\n",
      "          (bn1): BatchNorm2d(960, eps=0.001, momentum=0.1, affine=True, track_running_stats=True)\n",
      "          (act1): SwishMe()\n",
      "          (conv_dw): Conv2dSame(960, 960, kernel_size=(5, 5), stride=(2, 2), groups=960, bias=False)\n",
      "          (bn2): BatchNorm2d(960, eps=0.001, momentum=0.1, affine=True, track_running_stats=True)\n",
      "          (act2): SwishMe()\n",
      "          (se): SqueezeExcite(\n",
      "            (conv_reduce): Conv2d(960, 40, kernel_size=(1, 1), stride=(1, 1))\n",
      "            (act1): SwishMe()\n",
      "            (conv_expand): Conv2d(40, 960, kernel_size=(1, 1), stride=(1, 1))\n",
      "          )\n",
      "          (conv_pwl): Conv2d(960, 272, kernel_size=(1, 1), stride=(1, 1), bias=False)\n",
      "          (bn3): BatchNorm2d(272, eps=0.001, momentum=0.1, affine=True, track_running_stats=True)\n",
      "        )\n",
      "        (1): InvertedResidual(\n",
      "          (conv_pw): Conv2d(272, 1632, kernel_size=(1, 1), stride=(1, 1), bias=False)\n",
      "          (bn1): BatchNorm2d(1632, eps=0.001, momentum=0.1, affine=True, track_running_stats=True)\n",
      "          (act1): SwishMe()\n",
      "          (conv_dw): Conv2d(1632, 1632, kernel_size=(5, 5), stride=(1, 1), padding=(2, 2), groups=1632, bias=False)\n",
      "          (bn2): BatchNorm2d(1632, eps=0.001, momentum=0.1, affine=True, track_running_stats=True)\n",
      "          (act2): SwishMe()\n",
      "          (se): SqueezeExcite(\n",
      "            (conv_reduce): Conv2d(1632, 68, kernel_size=(1, 1), stride=(1, 1))\n",
      "            (act1): SwishMe()\n",
      "            (conv_expand): Conv2d(68, 1632, kernel_size=(1, 1), stride=(1, 1))\n",
      "          )\n",
      "          (conv_pwl): Conv2d(1632, 272, kernel_size=(1, 1), stride=(1, 1), bias=False)\n",
      "          (bn3): BatchNorm2d(272, eps=0.001, momentum=0.1, affine=True, track_running_stats=True)\n",
      "        )\n",
      "        (2): InvertedResidual(\n",
      "          (conv_pw): Conv2d(272, 1632, kernel_size=(1, 1), stride=(1, 1), bias=False)\n",
      "          (bn1): BatchNorm2d(1632, eps=0.001, momentum=0.1, affine=True, track_running_stats=True)\n",
      "          (act1): SwishMe()\n",
      "          (conv_dw): Conv2d(1632, 1632, kernel_size=(5, 5), stride=(1, 1), padding=(2, 2), groups=1632, bias=False)\n",
      "          (bn2): BatchNorm2d(1632, eps=0.001, momentum=0.1, affine=True, track_running_stats=True)\n",
      "          (act2): SwishMe()\n",
      "          (se): SqueezeExcite(\n",
      "            (conv_reduce): Conv2d(1632, 68, kernel_size=(1, 1), stride=(1, 1))\n",
      "            (act1): SwishMe()\n",
      "            (conv_expand): Conv2d(68, 1632, kernel_size=(1, 1), stride=(1, 1))\n",
      "          )\n",
      "          (conv_pwl): Conv2d(1632, 272, kernel_size=(1, 1), stride=(1, 1), bias=False)\n",
      "          (bn3): BatchNorm2d(272, eps=0.001, momentum=0.1, affine=True, track_running_stats=True)\n",
      "        )\n",
      "        (3): InvertedResidual(\n",
      "          (conv_pw): Conv2d(272, 1632, kernel_size=(1, 1), stride=(1, 1), bias=False)\n",
      "          (bn1): BatchNorm2d(1632, eps=0.001, momentum=0.1, affine=True, track_running_stats=True)\n",
      "          (act1): SwishMe()\n",
      "          (conv_dw): Conv2d(1632, 1632, kernel_size=(5, 5), stride=(1, 1), padding=(2, 2), groups=1632, bias=False)\n",
      "          (bn2): BatchNorm2d(1632, eps=0.001, momentum=0.1, affine=True, track_running_stats=True)\n",
      "          (act2): SwishMe()\n",
      "          (se): SqueezeExcite(\n",
      "            (conv_reduce): Conv2d(1632, 68, kernel_size=(1, 1), stride=(1, 1))\n",
      "            (act1): SwishMe()\n",
      "            (conv_expand): Conv2d(68, 1632, kernel_size=(1, 1), stride=(1, 1))\n",
      "          )\n",
      "          (conv_pwl): Conv2d(1632, 272, kernel_size=(1, 1), stride=(1, 1), bias=False)\n",
      "          (bn3): BatchNorm2d(272, eps=0.001, momentum=0.1, affine=True, track_running_stats=True)\n",
      "        )\n",
      "        (4): InvertedResidual(\n",
      "          (conv_pw): Conv2d(272, 1632, kernel_size=(1, 1), stride=(1, 1), bias=False)\n",
      "          (bn1): BatchNorm2d(1632, eps=0.001, momentum=0.1, affine=True, track_running_stats=True)\n",
      "          (act1): SwishMe()\n",
      "          (conv_dw): Conv2d(1632, 1632, kernel_size=(5, 5), stride=(1, 1), padding=(2, 2), groups=1632, bias=False)\n",
      "          (bn2): BatchNorm2d(1632, eps=0.001, momentum=0.1, affine=True, track_running_stats=True)\n",
      "          (act2): SwishMe()\n",
      "          (se): SqueezeExcite(\n",
      "            (conv_reduce): Conv2d(1632, 68, kernel_size=(1, 1), stride=(1, 1))\n",
      "            (act1): SwishMe()\n",
      "            (conv_expand): Conv2d(68, 1632, kernel_size=(1, 1), stride=(1, 1))\n",
      "          )\n",
      "          (conv_pwl): Conv2d(1632, 272, kernel_size=(1, 1), stride=(1, 1), bias=False)\n",
      "          (bn3): BatchNorm2d(272, eps=0.001, momentum=0.1, affine=True, track_running_stats=True)\n",
      "        )\n",
      "        (5): InvertedResidual(\n",
      "          (conv_pw): Conv2d(272, 1632, kernel_size=(1, 1), stride=(1, 1), bias=False)\n",
      "          (bn1): BatchNorm2d(1632, eps=0.001, momentum=0.1, affine=True, track_running_stats=True)\n",
      "          (act1): SwishMe()\n",
      "          (conv_dw): Conv2d(1632, 1632, kernel_size=(5, 5), stride=(1, 1), padding=(2, 2), groups=1632, bias=False)\n",
      "          (bn2): BatchNorm2d(1632, eps=0.001, momentum=0.1, affine=True, track_running_stats=True)\n",
      "          (act2): SwishMe()\n",
      "          (se): SqueezeExcite(\n",
      "            (conv_reduce): Conv2d(1632, 68, kernel_size=(1, 1), stride=(1, 1))\n",
      "            (act1): SwishMe()\n",
      "            (conv_expand): Conv2d(68, 1632, kernel_size=(1, 1), stride=(1, 1))\n",
      "          )\n",
      "          (conv_pwl): Conv2d(1632, 272, kernel_size=(1, 1), stride=(1, 1), bias=False)\n",
      "          (bn3): BatchNorm2d(272, eps=0.001, momentum=0.1, affine=True, track_running_stats=True)\n",
      "        )\n",
      "        (6): InvertedResidual(\n",
      "          (conv_pw): Conv2d(272, 1632, kernel_size=(1, 1), stride=(1, 1), bias=False)\n",
      "          (bn1): BatchNorm2d(1632, eps=0.001, momentum=0.1, affine=True, track_running_stats=True)\n",
      "          (act1): SwishMe()\n",
      "          (conv_dw): Conv2d(1632, 1632, kernel_size=(5, 5), stride=(1, 1), padding=(2, 2), groups=1632, bias=False)\n",
      "          (bn2): BatchNorm2d(1632, eps=0.001, momentum=0.1, affine=True, track_running_stats=True)\n",
      "          (act2): SwishMe()\n",
      "          (se): SqueezeExcite(\n",
      "            (conv_reduce): Conv2d(1632, 68, kernel_size=(1, 1), stride=(1, 1))\n",
      "            (act1): SwishMe()\n",
      "            (conv_expand): Conv2d(68, 1632, kernel_size=(1, 1), stride=(1, 1))\n",
      "          )\n",
      "          (conv_pwl): Conv2d(1632, 272, kernel_size=(1, 1), stride=(1, 1), bias=False)\n",
      "          (bn3): BatchNorm2d(272, eps=0.001, momentum=0.1, affine=True, track_running_stats=True)\n",
      "        )\n",
      "        (7): InvertedResidual(\n",
      "          (conv_pw): Conv2d(272, 1632, kernel_size=(1, 1), stride=(1, 1), bias=False)\n",
      "          (bn1): BatchNorm2d(1632, eps=0.001, momentum=0.1, affine=True, track_running_stats=True)\n",
      "          (act1): SwishMe()\n",
      "          (conv_dw): Conv2d(1632, 1632, kernel_size=(5, 5), stride=(1, 1), padding=(2, 2), groups=1632, bias=False)\n",
      "          (bn2): BatchNorm2d(1632, eps=0.001, momentum=0.1, affine=True, track_running_stats=True)\n",
      "          (act2): SwishMe()\n",
      "          (se): SqueezeExcite(\n",
      "            (conv_reduce): Conv2d(1632, 68, kernel_size=(1, 1), stride=(1, 1))\n",
      "            (act1): SwishMe()\n",
      "            (conv_expand): Conv2d(68, 1632, kernel_size=(1, 1), stride=(1, 1))\n",
      "          )\n",
      "          (conv_pwl): Conv2d(1632, 272, kernel_size=(1, 1), stride=(1, 1), bias=False)\n",
      "          (bn3): BatchNorm2d(272, eps=0.001, momentum=0.1, affine=True, track_running_stats=True)\n",
      "        )\n",
      "      )\n",
      "      (6): Sequential(\n",
      "        (0): InvertedResidual(\n",
      "          (conv_pw): Conv2d(272, 1632, kernel_size=(1, 1), stride=(1, 1), bias=False)\n",
      "          (bn1): BatchNorm2d(1632, eps=0.001, momentum=0.1, affine=True, track_running_stats=True)\n",
      "          (act1): SwishMe()\n",
      "          (conv_dw): Conv2d(1632, 1632, kernel_size=(3, 3), stride=(1, 1), padding=(1, 1), groups=1632, bias=False)\n",
      "          (bn2): BatchNorm2d(1632, eps=0.001, momentum=0.1, affine=True, track_running_stats=True)\n",
      "          (act2): SwishMe()\n",
      "          (se): SqueezeExcite(\n",
      "            (conv_reduce): Conv2d(1632, 68, kernel_size=(1, 1), stride=(1, 1))\n",
      "            (act1): SwishMe()\n",
      "            (conv_expand): Conv2d(68, 1632, kernel_size=(1, 1), stride=(1, 1))\n",
      "          )\n",
      "          (conv_pwl): Conv2d(1632, 448, kernel_size=(1, 1), stride=(1, 1), bias=False)\n",
      "          (bn3): BatchNorm2d(448, eps=0.001, momentum=0.1, affine=True, track_running_stats=True)\n",
      "        )\n",
      "        (1): InvertedResidual(\n",
      "          (conv_pw): Conv2d(448, 2688, kernel_size=(1, 1), stride=(1, 1), bias=False)\n",
      "          (bn1): BatchNorm2d(2688, eps=0.001, momentum=0.1, affine=True, track_running_stats=True)\n",
      "          (act1): SwishMe()\n",
      "          (conv_dw): Conv2d(2688, 2688, kernel_size=(3, 3), stride=(1, 1), padding=(1, 1), groups=2688, bias=False)\n",
      "          (bn2): BatchNorm2d(2688, eps=0.001, momentum=0.1, affine=True, track_running_stats=True)\n",
      "          (act2): SwishMe()\n",
      "          (se): SqueezeExcite(\n",
      "            (conv_reduce): Conv2d(2688, 112, kernel_size=(1, 1), stride=(1, 1))\n",
      "            (act1): SwishMe()\n",
      "            (conv_expand): Conv2d(112, 2688, kernel_size=(1, 1), stride=(1, 1))\n",
      "          )\n",
      "          (conv_pwl): Conv2d(2688, 448, kernel_size=(1, 1), stride=(1, 1), bias=False)\n",
      "          (bn3): BatchNorm2d(448, eps=0.001, momentum=0.1, affine=True, track_running_stats=True)\n",
      "        )\n",
      "      )\n",
      "    )\n",
      "    (4): Conv2d(448, 1792, kernel_size=(1, 1), stride=(1, 1), bias=False)\n",
      "    (5): BatchNorm2d(1792, eps=0.001, momentum=0.1, affine=True, track_running_stats=True)\n",
      "    (6): SwishMe()\n",
      "  )\n",
      ")\n"
     ]
    },
    {
     "name": "stdout",
     "output_type": "stream",
     "text": [
      "0 requires_grad: True\n",
      "1 requires_grad: True\n",
      "2 requires_grad: True\n",
      "3 requires_grad: True\n",
      "4 requires_grad: True\n",
      "5 requires_grad: True\n",
      "6 requires_grad: True\n",
      "7 requires_grad: True\n",
      "8 requires_grad: True\n",
      "9 requires_grad: True\n",
      "10 requires_grad: True\n",
      "11 requires_grad: True\n",
      "12 requires_grad: True\n",
      "13 requires_grad: True\n",
      "14 requires_grad: True\n",
      "15 requires_grad: True\n",
      "16 requires_grad: True\n",
      "17 requires_grad: True\n",
      "18 requires_grad: True\n",
      "19 requires_grad: True\n",
      "20 requires_grad: True\n",
      "21 requires_grad: True\n",
      "22 requires_grad: True\n",
      "23 requires_grad: True\n",
      "24 requires_grad: True\n",
      "25 requires_grad: True\n",
      "26 requires_grad: True\n",
      "27 requires_grad: True\n",
      "28 requires_grad: True\n",
      "29 requires_grad: True\n",
      "30 requires_grad: True\n",
      "31 requires_grad: True\n",
      "32 requires_grad: True\n",
      "33 requires_grad: True\n",
      "34 requires_grad: True\n",
      "35 requires_grad: True\n",
      "36 requires_grad: True\n",
      "37 requires_grad: True\n",
      "38 requires_grad: True\n",
      "39 requires_grad: True\n",
      "40 requires_grad: True\n",
      "41 requires_grad: True\n",
      "42 requires_grad: True\n",
      "43 requires_grad: True\n",
      "44 requires_grad: True\n",
      "45 requires_grad: True\n",
      "46 requires_grad: True\n",
      "47 requires_grad: True\n",
      "48 requires_grad: True\n",
      "49 requires_grad: True\n",
      "50 requires_grad: True\n",
      "51 requires_grad: True\n",
      "52 requires_grad: True\n",
      "53 requires_grad: True\n",
      "54 requires_grad: True\n",
      "55 requires_grad: True\n",
      "56 requires_grad: True\n",
      "57 requires_grad: True\n",
      "58 requires_grad: True\n",
      "59 requires_grad: True\n",
      "60 requires_grad: True\n",
      "61 requires_grad: True\n",
      "62 requires_grad: True\n",
      "63 requires_grad: True\n",
      "64 requires_grad: True\n",
      "65 requires_grad: True\n",
      "66 requires_grad: True\n",
      "67 requires_grad: True\n",
      "68 requires_grad: True\n",
      "69 requires_grad: True\n",
      "70 requires_grad: True\n",
      "71 requires_grad: True\n",
      "72 requires_grad: True\n",
      "73 requires_grad: True\n",
      "74 requires_grad: True\n",
      "75 requires_grad: True\n",
      "76 requires_grad: True\n",
      "77 requires_grad: True\n",
      "78 requires_grad: True\n",
      "79 requires_grad: True\n",
      "80 requires_grad: True\n",
      "81 requires_grad: True\n",
      "82 requires_grad: True\n",
      "83 requires_grad: True\n",
      "84 requires_grad: True\n",
      "85 requires_grad: True\n",
      "86 requires_grad: True\n",
      "87 requires_grad: True\n",
      "88 requires_grad: True\n",
      "89 requires_grad: True\n",
      "90 requires_grad: True\n",
      "91 requires_grad: True\n",
      "92 requires_grad: True\n",
      "93 requires_grad: True\n",
      "94 requires_grad: True\n",
      "95 requires_grad: True\n",
      "96 requires_grad: True\n",
      "97 requires_grad: True\n",
      "98 requires_grad: True\n",
      "99 requires_grad: True\n",
      "100 requires_grad: True\n",
      "101 requires_grad: True\n",
      "102 requires_grad: True\n",
      "103 requires_grad: True\n",
      "104 requires_grad: True\n",
      "105 requires_grad: True\n",
      "106 requires_grad: True\n",
      "107 requires_grad: True\n",
      "108 requires_grad: True\n",
      "109 requires_grad: True\n",
      "110 requires_grad: True\n",
      "111 requires_grad: True\n",
      "112 requires_grad: True\n",
      "113 requires_grad: True\n",
      "114 requires_grad: True\n",
      "115 requires_grad: True\n",
      "116 requires_grad: True\n",
      "117 requires_grad: True\n",
      "118 requires_grad: True\n",
      "119 requires_grad: True\n",
      "120 requires_grad: True\n",
      "121 requires_grad: True\n",
      "122 requires_grad: True\n",
      "123 requires_grad: True\n",
      "124 requires_grad: True\n",
      "125 requires_grad: True\n",
      "126 requires_grad: True\n",
      "127 requires_grad: True\n",
      "128 requires_grad: True\n",
      "129 requires_grad: True\n",
      "130 requires_grad: True\n",
      "131 requires_grad: True\n",
      "132 requires_grad: True\n",
      "133 requires_grad: True\n",
      "134 requires_grad: True\n",
      "135 requires_grad: True\n",
      "136 requires_grad: True\n",
      "137 requires_grad: True\n",
      "138 requires_grad: True\n",
      "139 requires_grad: True\n",
      "140 requires_grad: True\n",
      "141 requires_grad: True\n",
      "142 requires_grad: True\n",
      "143 requires_grad: True\n",
      "144 requires_grad: True\n",
      "145 requires_grad: True\n",
      "146 requires_grad: True\n",
      "147 requires_grad: True\n",
      "148 requires_grad: True\n",
      "149 requires_grad: True\n",
      "150 requires_grad: True\n",
      "151 requires_grad: True\n",
      "152 requires_grad: True\n",
      "153 requires_grad: True\n",
      "154 requires_grad: True\n",
      "155 requires_grad: True\n",
      "156 requires_grad: True\n",
      "157 requires_grad: True\n",
      "158 requires_grad: True\n",
      "159 requires_grad: True\n",
      "160 requires_grad: True\n",
      "161 requires_grad: True\n",
      "162 requires_grad: True\n",
      "163 requires_grad: True\n",
      "164 requires_grad: True\n",
      "165 requires_grad: True\n",
      "166 requires_grad: True\n",
      "167 requires_grad: True\n",
      "168 requires_grad: True\n",
      "169 requires_grad: True\n",
      "170 requires_grad: True\n",
      "171 requires_grad: True\n",
      "172 requires_grad: True\n",
      "173 requires_grad: True\n",
      "174 requires_grad: True\n",
      "175 requires_grad: True\n",
      "176 requires_grad: True\n",
      "177 requires_grad: True\n",
      "178 requires_grad: True\n",
      "179 requires_grad: True\n",
      "180 requires_grad: True\n",
      "181 requires_grad: True\n",
      "182 requires_grad: True\n",
      "183 requires_grad: True\n",
      "184 requires_grad: True\n",
      "185 requires_grad: True\n",
      "186 requires_grad: True\n",
      "187 requires_grad: True\n",
      "188 requires_grad: True\n",
      "189 requires_grad: True\n",
      "190 requires_grad: True\n",
      "191 requires_grad: True\n",
      "192 requires_grad: True\n",
      "193 requires_grad: True\n",
      "194 requires_grad: True\n",
      "195 requires_grad: True\n",
      "196 requires_grad: True\n",
      "197 requires_grad: True\n",
      "198 requires_grad: True\n",
      "199 requires_grad: True\n",
      "200 requires_grad: True\n",
      "201 requires_grad: True\n",
      "202 requires_grad: True\n",
      "203 requires_grad: True\n",
      "204 requires_grad: True\n",
      "205 requires_grad: True\n",
      "206 requires_grad: True\n",
      "207 requires_grad: True\n",
      "208 requires_grad: True\n",
      "209 requires_grad: True\n",
      "210 requires_grad: True\n",
      "211 requires_grad: True\n",
      "212 requires_grad: True\n",
      "213 requires_grad: True\n",
      "214 requires_grad: True\n",
      "215 requires_grad: True\n",
      "216 requires_grad: True\n",
      "217 requires_grad: True\n",
      "218 requires_grad: True\n",
      "219 requires_grad: True\n",
      "220 requires_grad: True\n",
      "221 requires_grad: True\n",
      "222 requires_grad: True\n",
      "223 requires_grad: True\n",
      "224 requires_grad: True\n",
      "225 requires_grad: True\n",
      "226 requires_grad: True\n",
      "227 requires_grad: True\n",
      "228 requires_grad: True\n",
      "229 requires_grad: True\n",
      "230 requires_grad: True\n",
      "231 requires_grad: True\n",
      "232 requires_grad: True\n",
      "233 requires_grad: True\n",
      "234 requires_grad: True\n",
      "235 requires_grad: True\n",
      "236 requires_grad: True\n",
      "237 requires_grad: True\n",
      "238 requires_grad: True\n",
      "239 requires_grad: True\n",
      "240 requires_grad: True\n",
      "241 requires_grad: True\n",
      "242 requires_grad: True\n",
      "243 requires_grad: True\n",
      "244 requires_grad: True\n",
      "245 requires_grad: True\n",
      "246 requires_grad: True\n",
      "247 requires_grad: True\n",
      "248 requires_grad: True\n",
      "249 requires_grad: True\n",
      "250 requires_grad: True\n",
      "251 requires_grad: True\n",
      "252 requires_grad: True\n",
      "253 requires_grad: True\n",
      "254 requires_grad: True\n",
      "255 requires_grad: True\n",
      "256 requires_grad: True\n",
      "257 requires_grad: True\n",
      "258 requires_grad: True\n",
      "259 requires_grad: True\n",
      "260 requires_grad: True\n",
      "261 requires_grad: True\n",
      "262 requires_grad: True\n",
      "263 requires_grad: True\n",
      "264 requires_grad: True\n",
      "265 requires_grad: True\n",
      "266 requires_grad: True\n",
      "267 requires_grad: True\n",
      "268 requires_grad: True\n",
      "269 requires_grad: True\n",
      "270 requires_grad: True\n",
      "271 requires_grad: True\n",
      "272 requires_grad: True\n",
      "273 requires_grad: True\n",
      "274 requires_grad: True\n",
      "275 requires_grad: True\n",
      "276 requires_grad: True\n",
      "277 requires_grad: True\n",
      "278 requires_grad: True\n",
      "279 requires_grad: True\n",
      "280 requires_grad: True\n",
      "281 requires_grad: True\n",
      "282 requires_grad: True\n",
      "283 requires_grad: True\n",
      "284 requires_grad: True\n",
      "285 requires_grad: True\n",
      "286 requires_grad: True\n",
      "287 requires_grad: True\n",
      "288 requires_grad: True\n",
      "289 requires_grad: True\n",
      "290 requires_grad: True\n",
      "291 requires_grad: True\n",
      "292 requires_grad: True\n",
      "293 requires_grad: True\n",
      "294 requires_grad: True\n",
      "295 requires_grad: True\n",
      "296 requires_grad: True\n",
      "297 requires_grad: True\n",
      "298 requires_grad: True\n",
      "299 requires_grad: True\n",
      "300 requires_grad: True\n",
      "301 requires_grad: True\n",
      "302 requires_grad: True\n",
      "303 requires_grad: True\n",
      "304 requires_grad: True\n",
      "305 requires_grad: True\n",
      "306 requires_grad: True\n",
      "307 requires_grad: True\n",
      "308 requires_grad: True\n",
      "309 requires_grad: True\n",
      "310 requires_grad: True\n",
      "311 requires_grad: True\n",
      "312 requires_grad: True\n",
      "313 requires_grad: True\n",
      "314 requires_grad: True\n",
      "315 requires_grad: True\n",
      "316 requires_grad: True\n",
      "317 requires_grad: True\n",
      "318 requires_grad: True\n",
      "319 requires_grad: True\n",
      "320 requires_grad: True\n",
      "321 requires_grad: True\n",
      "322 requires_grad: True\n",
      "323 requires_grad: True\n",
      "324 requires_grad: True\n",
      "325 requires_grad: True\n",
      "326 requires_grad: True\n",
      "327 requires_grad: True\n",
      "328 requires_grad: True\n",
      "329 requires_grad: True\n",
      "330 requires_grad: True\n",
      "331 requires_grad: True\n",
      "332 requires_grad: True\n",
      "333 requires_grad: True\n",
      "334 requires_grad: True\n",
      "335 requires_grad: True\n",
      "336 requires_grad: True\n",
      "337 requires_grad: True\n",
      "338 requires_grad: True\n",
      "339 requires_grad: True\n",
      "340 requires_grad: True\n",
      "341 requires_grad: True\n",
      "342 requires_grad: True\n",
      "343 requires_grad: True\n",
      "344 requires_grad: True\n",
      "345 requires_grad: True\n",
      "346 requires_grad: True\n",
      "347 requires_grad: True\n",
      "348 requires_grad: True\n",
      "349 requires_grad: True\n",
      "350 requires_grad: True\n",
      "351 requires_grad: True\n",
      "352 requires_grad: True\n",
      "353 requires_grad: True\n",
      "354 requires_grad: True\n",
      "355 requires_grad: True\n",
      "356 requires_grad: True\n",
      "357 requires_grad: True\n",
      "358 requires_grad: True\n",
      "359 requires_grad: True\n",
      "360 requires_grad: True\n",
      "361 requires_grad: True\n",
      "362 requires_grad: True\n",
      "363 requires_grad: True\n",
      "364 requires_grad: True\n",
      "365 requires_grad: True\n",
      "366 requires_grad: True\n",
      "367 requires_grad: True\n",
      "368 requires_grad: True\n",
      "369 requires_grad: True\n",
      "370 requires_grad: True\n",
      "371 requires_grad: True\n",
      "372 requires_grad: True\n",
      "373 requires_grad: True\n",
      "374 requires_grad: True\n",
      "375 requires_grad: True\n",
      "376 requires_grad: True\n",
      "377 requires_grad: True\n",
      "378 requires_grad: True\n",
      "379 requires_grad: True\n",
      "380 requires_grad: True\n",
      "381 requires_grad: True\n",
      "382 requires_grad: True\n",
      "383 requires_grad: True\n",
      "384 requires_grad: True\n",
      "385 requires_grad: True\n",
      "386 requires_grad: True\n",
      "387 requires_grad: True\n",
      "388 requires_grad: True\n",
      "389 requires_grad: True\n",
      "390 requires_grad: True\n",
      "391 requires_grad: True\n",
      "392 requires_grad: True\n",
      "393 requires_grad: True\n",
      "394 requires_grad: True\n",
      "395 requires_grad: True\n",
      "396 requires_grad: True\n",
      "397 requires_grad: True\n",
      "398 requires_grad: True\n",
      "399 requires_grad: True\n",
      "400 requires_grad: True\n",
      "401 requires_grad: True\n",
      "402 requires_grad: True\n",
      "403 requires_grad: True\n",
      "404 requires_grad: True\n",
      "405 requires_grad: True\n",
      "406 requires_grad: True\n",
      "407 requires_grad: True\n",
      "408 requires_grad: True\n",
      "409 requires_grad: True\n",
      "410 requires_grad: True\n",
      "411 requires_grad: True\n",
      "412 requires_grad: True\n",
      "413 requires_grad: True\n",
      "414 requires_grad: True\n",
      "415 requires_grad: True\n",
      "416 requires_grad: True\n",
      "417 requires_grad: True\n"
     ]
    }
   ],
   "source": [
    "class CassavaLite(pl.LightningModule):\n",
    "    def __init__(self, CFG):\n",
    "        super().__init__()\n",
    "\n",
    "        self.save_hyperparameters(CFG.__dict__)\n",
    "\n",
    "        self.use_amp = True  # apex amp を有効にする(16-bit mixed precision) https://pytorch-lightning.readthedocs.io/en/stable/lightning_module.html\n",
    "\n",
    "        self.net = timm.create_model(CFG.arch, pretrained=True)\n",
    "\n",
    "        if \"eff\" in CFG.arch:\n",
    "            self.net.classifier = nn.Linear(\n",
    "                self.net.classifier.in_features, CFG.n_classes\n",
    "            )\n",
    "            if CFG.gem_p > 0.0:\n",
    "                self.net = GeMNet(\n",
    "                    list(self.net.children())[:-2],\n",
    "                    GeM(p=CFG.gem_p),\n",
    "                    self.net.classifier.in_features,\n",
    "                    CFG.n_classes,\n",
    "                )\n",
    "            self.feat_net = nn.Sequential(*list(self.net.children())[:-2])\n",
    "\n",
    "        elif \"rexnet\" in CFG.arch:\n",
    "            self.net.head.fc = nn.Linear(self.net.head.fc.in_features, CFG.n_classes)\n",
    "            if CFG.gem_p > 0.0:\n",
    "                self.net = GeMNet(\n",
    "                    list(self.net.children())[:-1],\n",
    "                    GeM(p=CFG.gem_p),\n",
    "                    self.net.head.fc.in_features,\n",
    "                    CFG.n_classes,\n",
    "                )\n",
    "            self.feat_net = nn.Sequential(*list(self.net.children())[:-1])\n",
    "\n",
    "        elif \"vit\" in CFG.arch:\n",
    "            self.net.head = nn.Linear(self.net.head.in_features, CFG.n_classes)\n",
    "            self.feat_net = nn.Sequential(*list(self.net.children())[:-1])\n",
    "\n",
    "        else:\n",
    "            self.net.fc = nn.Linear(self.net.fc.in_features, CFG.n_classes)\n",
    "            if CFG.gem_p > 0.0:\n",
    "                self.net = GeMNet(\n",
    "                    list(self.net.children())[:-2],\n",
    "                    GeM(p=CFG.gem_p),\n",
    "                    self.net.fc.in_features,\n",
    "                    CFG.n_classes,\n",
    "                )\n",
    "            self.feat_net = nn.Sequential(\n",
    "                *list(self.net.children())[:-2]\n",
    "            )  # global_poolとfc層除く\n",
    "\n",
    "    def forward(self, x):\n",
    "        out = self.net(x)\n",
    "        return out\n",
    "\n",
    "    def feat_forward(self, x):\n",
    "        \"\"\"全結合層の直前の予測値取得用\"\"\"\n",
    "        feat = self.feat_net(x)\n",
    "        return feat.detach()  # 「detach()」はTensor型から勾配情報を抜いたものを取得\n",
    "\n",
    "    def configure_optimizers(self):\n",
    "        if CFG.opt == \"adam\":\n",
    "            optimizer = torch.optim.Adam(\n",
    "                self.parameters(),\n",
    "                lr=CFG.lr,\n",
    "                weight_decay=CFG.weight_decay,\n",
    "                amsgrad=False,\n",
    "            )\n",
    "        elif CFG.opt == \"adabelief\":\n",
    "            optimizer = AdaBelief(\n",
    "                self.parameters(), lr=CFG.lr, weight_decay=CFG.weight_decay\n",
    "            )\n",
    "        elif CFG.opt == \"radam\":\n",
    "            optimizer = torch_optimizer.RAdam(\n",
    "                self.parameters(), lr=CFG.lr, weight_decay=CFG.weight_decay\n",
    "            )\n",
    "        else:\n",
    "            optimizer = torch.optim.AdamW(\n",
    "                self.parameters(), lr=CFG.lr, weight_decay=CFG.weight_decay\n",
    "            )\n",
    "\n",
    "        if CFG.lr_scheduler == \"CosineAnnealingLR\":\n",
    "            scheduler = torch.optim.lr_scheduler.CosineAnnealingLR(\n",
    "                optimizer, T_max=CFG.T_max, eta_min=CFG.min_lr\n",
    "            )\n",
    "        elif CFG.lr_scheduler == \"CosineAnnealingWarmRestarts\":\n",
    "            scheduler = torch.optim.lr_scheduler.CosineAnnealingWarmRestarts(\n",
    "                optimizer, T_0=CFG.T_max, T_mult=1, eta_min=CFG.min_lr\n",
    "            )\n",
    "        elif CFG.lr_scheduler == \"CosineAnnealingWarmUpRestarts\":\n",
    "            scheduler = _CosineAnnealingWarmupRestarts(\n",
    "                optimizer,\n",
    "                first_cycle_steps=CFG.num_epochs,\n",
    "                max_lr=CFG.lr,\n",
    "                min_lr=CFG.min_lr,\n",
    "                warmup_steps=1,\n",
    "            )\n",
    "        else:\n",
    "            scheduler = torch.optim.lr_scheduler.StepLR(\n",
    "                optimizer, step_size=2, gamma=0.1\n",
    "            )\n",
    "\n",
    "        return [optimizer], [scheduler]\n",
    "\n",
    "    def training_step(self, batch, batch_idx):\n",
    "        x, y = batch[\"x\"], batch[\"y\"]\n",
    "\n",
    "        if CFG.train_loss_name == \"SmoothCrossEntropyLoss\":\n",
    "            loss_fn = SmoothCrossEntropyLoss(smoothing=CFG.smoothing).to(CFG.device)\n",
    "        elif CFG.train_loss_name == \"FocalCosineLoss\":\n",
    "            loss_fn = FocalCosineLoss(smoothing=CFG.smoothing).to(CFG.device)\n",
    "        elif CFG.train_loss_name == \"BiTemperedLoss\":\n",
    "            loss_fn = BiTemperedLoss(t1=CFG.t1, t2=CFG.t2, smoothing=CFG.smoothing).to(\n",
    "                CFG.device\n",
    "            )\n",
    "        elif CFG.train_loss_name == \"ElrLoss\":\n",
    "            loss_fn = ElrLoss(num_classes=CFG.n_classes).to(CFG.device)\n",
    "        else:\n",
    "            loss_fn = nn.CrossEntropyLoss().to(CFG.device)\n",
    "\n",
    "        # cutmix/fmix/snapmix\n",
    "        mix_decision = np.random.rand()\n",
    "        if mix_decision < CFG.mix_decision_th:\n",
    "            if CFG.is_cutmix:\n",
    "                x, y_mixs = cutmix(x, y.long(), CFG.mix_alpha)\n",
    "                y_hat = self(x.float())\n",
    "                loss = loss_fn(y_hat, y_mixs[0]) * y_mixs[2] + loss_fn(\n",
    "                    y_hat, y_mixs[1]\n",
    "                ) * (1.0 - y_mixs[2])\n",
    "\n",
    "            elif CFG.is_fmix:\n",
    "                x, y_mixs = fmix(\n",
    "                    x,\n",
    "                    y.long(),\n",
    "                    alpha=CFG.mix_alpha,\n",
    "                    decay_power=5.0,\n",
    "                    shape=(CFG.height, CFG.width),\n",
    "                )\n",
    "                y_hat = self(x.float())\n",
    "                loss = loss_fn(y_hat, y_mixs[0]) * y_mixs[2] + loss_fn(\n",
    "                    y_hat, y_mixs[1]\n",
    "                ) * (1.0 - y_mixs[2])\n",
    "\n",
    "            elif CFG.is_snapmix:\n",
    "                x, y_mixs = snapmix(x, y.long(), model=self, alpha=CFG.mix_alpha)\n",
    "                y_hat = self(x.float())\n",
    "                snapmix_loss = SnapMixLoss().to(CFG.device)\n",
    "                loss = snapmix_loss(\n",
    "                    loss_fn, y_hat, y_mixs[0], y_mixs[1], y_mixs[2], y_mixs[3]\n",
    "                )\n",
    "\n",
    "            else:\n",
    "                y_hat = self(x.float())\n",
    "                loss = loss_fn(y_hat, y)\n",
    "\n",
    "        else:\n",
    "            y_hat = self(x.float())\n",
    "            loss = loss_fn(y_hat, y)\n",
    "\n",
    "        acc = accuracy(y_hat, y)\n",
    "        self.log(\n",
    "            \"train_acc\", acc, on_step=False, on_epoch=True, prog_bar=True, logger=True\n",
    "        )\n",
    "        self.log(\n",
    "            \"train_loss\", loss, on_step=False, on_epoch=True, prog_bar=True, logger=True\n",
    "        )\n",
    "        return loss\n",
    "\n",
    "    def validation_step(self, batch, batch_idx):\n",
    "        x, y = batch[\"x\"], batch[\"y\"]\n",
    "        y_hat = self(x)\n",
    "        loss = nn.CrossEntropyLoss()(y_hat, y)\n",
    "        acc = accuracy(y_hat, y)\n",
    "        self.log(\"val_acc\", acc, prog_bar=True, logger=True),\n",
    "        self.log(\"val_loss\", loss, prog_bar=True, logger=True)\n",
    "\n",
    "\n",
    "print(CassavaLite(CFG))\n",
    "\n",
    "for i, param in enumerate(CassavaLite(CFG).parameters()):\n",
    "    print(i, f\"requires_grad: {param.requires_grad}\")\n"
   ]
  },
  {
   "cell_type": "markdown",
   "metadata": {},
   "source": [
    "# Train"
   ]
  },
  {
   "cell_type": "code",
   "execution_count": 14,
   "metadata": {
    "ExecuteTime": {
     "end_time": "2020-12-27T11:51:51.951079Z",
     "start_time": "2020-12-26T18:19:24.900081Z"
    },
    "code_folding": [
     8
    ],
    "scrolled": true
   },
   "outputs": [
    {
     "name": "stderr",
     "output_type": "stream",
     "text": [
      "GPU available: True, used: True\n",
      "TPU available: None, using: 0 TPU cores\n",
      "LOCAL_RANK: 0 - CUDA_VISIBLE_DEVICES: [0]\n",
      "\n",
      "  | Name     | Type         | Params\n",
      "------------------------------------------\n",
      "0 | net      | EfficientNet | 17.6 M\n",
      "1 | feat_net | Sequential   | 17.5 M\n",
      "------------------------------------------\n",
      "17.6 M    Trainable params\n",
      "0         Non-trainable params\n",
      "17.6 M    Total params\n"
     ]
    },
    {
     "data": {
      "application/vnd.jupyter.widget-view+json": {
       "model_id": "",
       "version_major": 2,
       "version_minor": 0
      },
      "text/plain": [
       "HBox(children=(HTML(value='Validation sanity check'), FloatProgress(value=1.0, bar_style='info', layout=Layout…"
      ]
     },
     "metadata": {},
     "output_type": "display_data"
    },
    {
     "data": {
      "application/vnd.jupyter.widget-view+json": {
       "model_id": "bc630200bf1b4c248a4590eb858b6935",
       "version_major": 2,
       "version_minor": 0
      },
      "text/plain": [
       "HBox(children=(HTML(value='Training'), FloatProgress(value=1.0, bar_style='info', layout=Layout(flex='2'), max…"
      ]
     },
     "metadata": {},
     "output_type": "display_data"
    },
    {
     "data": {
      "application/vnd.jupyter.widget-view+json": {
       "model_id": "",
       "version_major": 2,
       "version_minor": 0
      },
      "text/plain": [
       "HBox(children=(HTML(value='Validating'), FloatProgress(value=1.0, bar_style='info', layout=Layout(flex='2'), m…"
      ]
     },
     "metadata": {},
     "output_type": "display_data"
    },
    {
     "data": {
      "application/vnd.jupyter.widget-view+json": {
       "model_id": "",
       "version_major": 2,
       "version_minor": 0
      },
      "text/plain": [
       "HBox(children=(HTML(value='Validating'), FloatProgress(value=1.0, bar_style='info', layout=Layout(flex='2'), m…"
      ]
     },
     "metadata": {},
     "output_type": "display_data"
    },
    {
     "data": {
      "application/vnd.jupyter.widget-view+json": {
       "model_id": "",
       "version_major": 2,
       "version_minor": 0
      },
      "text/plain": [
       "HBox(children=(HTML(value='Validating'), FloatProgress(value=1.0, bar_style='info', layout=Layout(flex='2'), m…"
      ]
     },
     "metadata": {},
     "output_type": "display_data"
    },
    {
     "data": {
      "application/vnd.jupyter.widget-view+json": {
       "model_id": "",
       "version_major": 2,
       "version_minor": 0
      },
      "text/plain": [
       "HBox(children=(HTML(value='Validating'), FloatProgress(value=1.0, bar_style='info', layout=Layout(flex='2'), m…"
      ]
     },
     "metadata": {},
     "output_type": "display_data"
    },
    {
     "data": {
      "application/vnd.jupyter.widget-view+json": {
       "model_id": "",
       "version_major": 2,
       "version_minor": 0
      },
      "text/plain": [
       "HBox(children=(HTML(value='Validating'), FloatProgress(value=1.0, bar_style='info', layout=Layout(flex='2'), m…"
      ]
     },
     "metadata": {},
     "output_type": "display_data"
    },
    {
     "data": {
      "application/vnd.jupyter.widget-view+json": {
       "model_id": "",
       "version_major": 2,
       "version_minor": 0
      },
      "text/plain": [
       "HBox(children=(HTML(value='Validating'), FloatProgress(value=1.0, bar_style='info', layout=Layout(flex='2'), m…"
      ]
     },
     "metadata": {},
     "output_type": "display_data"
    },
    {
     "data": {
      "application/vnd.jupyter.widget-view+json": {
       "model_id": "",
       "version_major": 2,
       "version_minor": 0
      },
      "text/plain": [
       "HBox(children=(HTML(value='Validating'), FloatProgress(value=1.0, bar_style='info', layout=Layout(flex='2'), m…"
      ]
     },
     "metadata": {},
     "output_type": "display_data"
    },
    {
     "data": {
      "application/vnd.jupyter.widget-view+json": {
       "model_id": "",
       "version_major": 2,
       "version_minor": 0
      },
      "text/plain": [
       "HBox(children=(HTML(value='Validating'), FloatProgress(value=1.0, bar_style='info', layout=Layout(flex='2'), m…"
      ]
     },
     "metadata": {},
     "output_type": "display_data"
    },
    {
     "data": {
      "application/vnd.jupyter.widget-view+json": {
       "model_id": "",
       "version_major": 2,
       "version_minor": 0
      },
      "text/plain": [
       "HBox(children=(HTML(value='Validating'), FloatProgress(value=1.0, bar_style='info', layout=Layout(flex='2'), m…"
      ]
     },
     "metadata": {},
     "output_type": "display_data"
    },
    {
     "data": {
      "application/vnd.jupyter.widget-view+json": {
       "model_id": "",
       "version_major": 2,
       "version_minor": 0
      },
      "text/plain": [
       "HBox(children=(HTML(value='Validating'), FloatProgress(value=1.0, bar_style='info', layout=Layout(flex='2'), m…"
      ]
     },
     "metadata": {},
     "output_type": "display_data"
    },
    {
     "name": "stdout",
     "output_type": "stream",
     "text": [
      "\n",
      "fold 0 validation loss = 0.3365696086416649\n",
      "fold 0 validation accuracy = 0.8913551401869159\n",
      "\n"
     ]
    },
    {
     "name": "stderr",
     "output_type": "stream",
     "text": [
      "GPU available: True, used: True\n",
      "TPU available: None, using: 0 TPU cores\n",
      "LOCAL_RANK: 0 - CUDA_VISIBLE_DEVICES: [0]\n"
     ]
    },
    {
     "name": "stdout",
     "output_type": "stream",
     "text": [
      "fold 0 validation tta loss = 0.32978636048109494\n",
      "fold 0 validation tta accuracy = 0.8974299065420561\n",
      "----------------------------------------------------------------------------------------------------\n"
     ]
    },
    {
     "name": "stderr",
     "output_type": "stream",
     "text": [
      "\n",
      "  | Name     | Type         | Params\n",
      "------------------------------------------\n",
      "0 | net      | EfficientNet | 17.6 M\n",
      "1 | feat_net | Sequential   | 17.5 M\n",
      "------------------------------------------\n",
      "17.6 M    Trainable params\n",
      "0         Non-trainable params\n",
      "17.6 M    Total params\n"
     ]
    },
    {
     "data": {
      "application/vnd.jupyter.widget-view+json": {
       "model_id": "",
       "version_major": 2,
       "version_minor": 0
      },
      "text/plain": [
       "HBox(children=(HTML(value='Validation sanity check'), FloatProgress(value=1.0, bar_style='info', layout=Layout…"
      ]
     },
     "metadata": {},
     "output_type": "display_data"
    },
    {
     "data": {
      "application/vnd.jupyter.widget-view+json": {
       "model_id": "5b4d78776dd64da5b6095b9d6b020410",
       "version_major": 2,
       "version_minor": 0
      },
      "text/plain": [
       "HBox(children=(HTML(value='Training'), FloatProgress(value=1.0, bar_style='info', layout=Layout(flex='2'), max…"
      ]
     },
     "metadata": {},
     "output_type": "display_data"
    },
    {
     "data": {
      "application/vnd.jupyter.widget-view+json": {
       "model_id": "",
       "version_major": 2,
       "version_minor": 0
      },
      "text/plain": [
       "HBox(children=(HTML(value='Validating'), FloatProgress(value=1.0, bar_style='info', layout=Layout(flex='2'), m…"
      ]
     },
     "metadata": {},
     "output_type": "display_data"
    },
    {
     "data": {
      "application/vnd.jupyter.widget-view+json": {
       "model_id": "",
       "version_major": 2,
       "version_minor": 0
      },
      "text/plain": [
       "HBox(children=(HTML(value='Validating'), FloatProgress(value=1.0, bar_style='info', layout=Layout(flex='2'), m…"
      ]
     },
     "metadata": {},
     "output_type": "display_data"
    },
    {
     "data": {
      "application/vnd.jupyter.widget-view+json": {
       "model_id": "",
       "version_major": 2,
       "version_minor": 0
      },
      "text/plain": [
       "HBox(children=(HTML(value='Validating'), FloatProgress(value=1.0, bar_style='info', layout=Layout(flex='2'), m…"
      ]
     },
     "metadata": {},
     "output_type": "display_data"
    },
    {
     "data": {
      "application/vnd.jupyter.widget-view+json": {
       "model_id": "",
       "version_major": 2,
       "version_minor": 0
      },
      "text/plain": [
       "HBox(children=(HTML(value='Validating'), FloatProgress(value=1.0, bar_style='info', layout=Layout(flex='2'), m…"
      ]
     },
     "metadata": {},
     "output_type": "display_data"
    },
    {
     "data": {
      "application/vnd.jupyter.widget-view+json": {
       "model_id": "",
       "version_major": 2,
       "version_minor": 0
      },
      "text/plain": [
       "HBox(children=(HTML(value='Validating'), FloatProgress(value=1.0, bar_style='info', layout=Layout(flex='2'), m…"
      ]
     },
     "metadata": {},
     "output_type": "display_data"
    },
    {
     "data": {
      "application/vnd.jupyter.widget-view+json": {
       "model_id": "",
       "version_major": 2,
       "version_minor": 0
      },
      "text/plain": [
       "HBox(children=(HTML(value='Validating'), FloatProgress(value=1.0, bar_style='info', layout=Layout(flex='2'), m…"
      ]
     },
     "metadata": {},
     "output_type": "display_data"
    },
    {
     "data": {
      "application/vnd.jupyter.widget-view+json": {
       "model_id": "",
       "version_major": 2,
       "version_minor": 0
      },
      "text/plain": [
       "HBox(children=(HTML(value='Validating'), FloatProgress(value=1.0, bar_style='info', layout=Layout(flex='2'), m…"
      ]
     },
     "metadata": {},
     "output_type": "display_data"
    },
    {
     "data": {
      "application/vnd.jupyter.widget-view+json": {
       "model_id": "",
       "version_major": 2,
       "version_minor": 0
      },
      "text/plain": [
       "HBox(children=(HTML(value='Validating'), FloatProgress(value=1.0, bar_style='info', layout=Layout(flex='2'), m…"
      ]
     },
     "metadata": {},
     "output_type": "display_data"
    },
    {
     "data": {
      "application/vnd.jupyter.widget-view+json": {
       "model_id": "",
       "version_major": 2,
       "version_minor": 0
      },
      "text/plain": [
       "HBox(children=(HTML(value='Validating'), FloatProgress(value=1.0, bar_style='info', layout=Layout(flex='2'), m…"
      ]
     },
     "metadata": {},
     "output_type": "display_data"
    },
    {
     "data": {
      "application/vnd.jupyter.widget-view+json": {
       "model_id": "",
       "version_major": 2,
       "version_minor": 0
      },
      "text/plain": [
       "HBox(children=(HTML(value='Validating'), FloatProgress(value=1.0, bar_style='info', layout=Layout(flex='2'), m…"
      ]
     },
     "metadata": {},
     "output_type": "display_data"
    },
    {
     "name": "stdout",
     "output_type": "stream",
     "text": [
      "\n",
      "fold 1 validation loss = 0.3221924909235592\n",
      "fold 1 validation accuracy = 0.8974299065420561\n",
      "\n"
     ]
    },
    {
     "name": "stderr",
     "output_type": "stream",
     "text": [
      "GPU available: True, used: True\n",
      "TPU available: None, using: 0 TPU cores\n",
      "LOCAL_RANK: 0 - CUDA_VISIBLE_DEVICES: [0]\n"
     ]
    },
    {
     "name": "stdout",
     "output_type": "stream",
     "text": [
      "fold 1 validation tta loss = 0.31353870944416506\n",
      "fold 1 validation tta accuracy = 0.9\n",
      "----------------------------------------------------------------------------------------------------\n"
     ]
    },
    {
     "name": "stderr",
     "output_type": "stream",
     "text": [
      "\n",
      "  | Name     | Type         | Params\n",
      "------------------------------------------\n",
      "0 | net      | EfficientNet | 17.6 M\n",
      "1 | feat_net | Sequential   | 17.5 M\n",
      "------------------------------------------\n",
      "17.6 M    Trainable params\n",
      "0         Non-trainable params\n",
      "17.6 M    Total params\n"
     ]
    },
    {
     "data": {
      "application/vnd.jupyter.widget-view+json": {
       "model_id": "",
       "version_major": 2,
       "version_minor": 0
      },
      "text/plain": [
       "HBox(children=(HTML(value='Validation sanity check'), FloatProgress(value=1.0, bar_style='info', layout=Layout…"
      ]
     },
     "metadata": {},
     "output_type": "display_data"
    },
    {
     "data": {
      "application/vnd.jupyter.widget-view+json": {
       "model_id": "5a6becf244964063a7ed30e80e525129",
       "version_major": 2,
       "version_minor": 0
      },
      "text/plain": [
       "HBox(children=(HTML(value='Training'), FloatProgress(value=1.0, bar_style='info', layout=Layout(flex='2'), max…"
      ]
     },
     "metadata": {},
     "output_type": "display_data"
    },
    {
     "data": {
      "application/vnd.jupyter.widget-view+json": {
       "model_id": "",
       "version_major": 2,
       "version_minor": 0
      },
      "text/plain": [
       "HBox(children=(HTML(value='Validating'), FloatProgress(value=1.0, bar_style='info', layout=Layout(flex='2'), m…"
      ]
     },
     "metadata": {},
     "output_type": "display_data"
    },
    {
     "data": {
      "application/vnd.jupyter.widget-view+json": {
       "model_id": "",
       "version_major": 2,
       "version_minor": 0
      },
      "text/plain": [
       "HBox(children=(HTML(value='Validating'), FloatProgress(value=1.0, bar_style='info', layout=Layout(flex='2'), m…"
      ]
     },
     "metadata": {},
     "output_type": "display_data"
    },
    {
     "data": {
      "application/vnd.jupyter.widget-view+json": {
       "model_id": "",
       "version_major": 2,
       "version_minor": 0
      },
      "text/plain": [
       "HBox(children=(HTML(value='Validating'), FloatProgress(value=1.0, bar_style='info', layout=Layout(flex='2'), m…"
      ]
     },
     "metadata": {},
     "output_type": "display_data"
    },
    {
     "data": {
      "application/vnd.jupyter.widget-view+json": {
       "model_id": "",
       "version_major": 2,
       "version_minor": 0
      },
      "text/plain": [
       "HBox(children=(HTML(value='Validating'), FloatProgress(value=1.0, bar_style='info', layout=Layout(flex='2'), m…"
      ]
     },
     "metadata": {},
     "output_type": "display_data"
    },
    {
     "data": {
      "application/vnd.jupyter.widget-view+json": {
       "model_id": "",
       "version_major": 2,
       "version_minor": 0
      },
      "text/plain": [
       "HBox(children=(HTML(value='Validating'), FloatProgress(value=1.0, bar_style='info', layout=Layout(flex='2'), m…"
      ]
     },
     "metadata": {},
     "output_type": "display_data"
    },
    {
     "data": {
      "application/vnd.jupyter.widget-view+json": {
       "model_id": "",
       "version_major": 2,
       "version_minor": 0
      },
      "text/plain": [
       "HBox(children=(HTML(value='Validating'), FloatProgress(value=1.0, bar_style='info', layout=Layout(flex='2'), m…"
      ]
     },
     "metadata": {},
     "output_type": "display_data"
    },
    {
     "data": {
      "application/vnd.jupyter.widget-view+json": {
       "model_id": "",
       "version_major": 2,
       "version_minor": 0
      },
      "text/plain": [
       "HBox(children=(HTML(value='Validating'), FloatProgress(value=1.0, bar_style='info', layout=Layout(flex='2'), m…"
      ]
     },
     "metadata": {},
     "output_type": "display_data"
    },
    {
     "data": {
      "application/vnd.jupyter.widget-view+json": {
       "model_id": "",
       "version_major": 2,
       "version_minor": 0
      },
      "text/plain": [
       "HBox(children=(HTML(value='Validating'), FloatProgress(value=1.0, bar_style='info', layout=Layout(flex='2'), m…"
      ]
     },
     "metadata": {},
     "output_type": "display_data"
    },
    {
     "data": {
      "application/vnd.jupyter.widget-view+json": {
       "model_id": "",
       "version_major": 2,
       "version_minor": 0
      },
      "text/plain": [
       "HBox(children=(HTML(value='Validating'), FloatProgress(value=1.0, bar_style='info', layout=Layout(flex='2'), m…"
      ]
     },
     "metadata": {},
     "output_type": "display_data"
    },
    {
     "data": {
      "application/vnd.jupyter.widget-view+json": {
       "model_id": "",
       "version_major": 2,
       "version_minor": 0
      },
      "text/plain": [
       "HBox(children=(HTML(value='Validating'), FloatProgress(value=1.0, bar_style='info', layout=Layout(flex='2'), m…"
      ]
     },
     "metadata": {},
     "output_type": "display_data"
    },
    {
     "name": "stdout",
     "output_type": "stream",
     "text": [
      "\n",
      "fold 2 validation loss = 0.36328393574705714\n",
      "fold 2 validation accuracy = 0.8878242580042066\n",
      "\n"
     ]
    },
    {
     "name": "stderr",
     "output_type": "stream",
     "text": [
      "GPU available: True, used: True\n",
      "TPU available: None, using: 0 TPU cores\n",
      "LOCAL_RANK: 0 - CUDA_VISIBLE_DEVICES: [0]\n"
     ]
    },
    {
     "name": "stdout",
     "output_type": "stream",
     "text": [
      "fold 2 validation tta loss = 0.33022466283247986\n",
      "fold 2 validation tta accuracy = 0.8927319467165226\n",
      "----------------------------------------------------------------------------------------------------\n"
     ]
    },
    {
     "name": "stderr",
     "output_type": "stream",
     "text": [
      "\n",
      "  | Name     | Type         | Params\n",
      "------------------------------------------\n",
      "0 | net      | EfficientNet | 17.6 M\n",
      "1 | feat_net | Sequential   | 17.5 M\n",
      "------------------------------------------\n",
      "17.6 M    Trainable params\n",
      "0         Non-trainable params\n",
      "17.6 M    Total params\n"
     ]
    },
    {
     "data": {
      "application/vnd.jupyter.widget-view+json": {
       "model_id": "",
       "version_major": 2,
       "version_minor": 0
      },
      "text/plain": [
       "HBox(children=(HTML(value='Validation sanity check'), FloatProgress(value=1.0, bar_style='info', layout=Layout…"
      ]
     },
     "metadata": {},
     "output_type": "display_data"
    },
    {
     "data": {
      "application/vnd.jupyter.widget-view+json": {
       "model_id": "b26b817d0d524582a1a4a0e6abbc1321",
       "version_major": 2,
       "version_minor": 0
      },
      "text/plain": [
       "HBox(children=(HTML(value='Training'), FloatProgress(value=1.0, bar_style='info', layout=Layout(flex='2'), max…"
      ]
     },
     "metadata": {},
     "output_type": "display_data"
    },
    {
     "data": {
      "application/vnd.jupyter.widget-view+json": {
       "model_id": "",
       "version_major": 2,
       "version_minor": 0
      },
      "text/plain": [
       "HBox(children=(HTML(value='Validating'), FloatProgress(value=1.0, bar_style='info', layout=Layout(flex='2'), m…"
      ]
     },
     "metadata": {},
     "output_type": "display_data"
    },
    {
     "data": {
      "application/vnd.jupyter.widget-view+json": {
       "model_id": "",
       "version_major": 2,
       "version_minor": 0
      },
      "text/plain": [
       "HBox(children=(HTML(value='Validating'), FloatProgress(value=1.0, bar_style='info', layout=Layout(flex='2'), m…"
      ]
     },
     "metadata": {},
     "output_type": "display_data"
    },
    {
     "data": {
      "application/vnd.jupyter.widget-view+json": {
       "model_id": "",
       "version_major": 2,
       "version_minor": 0
      },
      "text/plain": [
       "HBox(children=(HTML(value='Validating'), FloatProgress(value=1.0, bar_style='info', layout=Layout(flex='2'), m…"
      ]
     },
     "metadata": {},
     "output_type": "display_data"
    },
    {
     "data": {
      "application/vnd.jupyter.widget-view+json": {
       "model_id": "",
       "version_major": 2,
       "version_minor": 0
      },
      "text/plain": [
       "HBox(children=(HTML(value='Validating'), FloatProgress(value=1.0, bar_style='info', layout=Layout(flex='2'), m…"
      ]
     },
     "metadata": {},
     "output_type": "display_data"
    },
    {
     "data": {
      "application/vnd.jupyter.widget-view+json": {
       "model_id": "",
       "version_major": 2,
       "version_minor": 0
      },
      "text/plain": [
       "HBox(children=(HTML(value='Validating'), FloatProgress(value=1.0, bar_style='info', layout=Layout(flex='2'), m…"
      ]
     },
     "metadata": {},
     "output_type": "display_data"
    },
    {
     "data": {
      "application/vnd.jupyter.widget-view+json": {
       "model_id": "",
       "version_major": 2,
       "version_minor": 0
      },
      "text/plain": [
       "HBox(children=(HTML(value='Validating'), FloatProgress(value=1.0, bar_style='info', layout=Layout(flex='2'), m…"
      ]
     },
     "metadata": {},
     "output_type": "display_data"
    },
    {
     "data": {
      "application/vnd.jupyter.widget-view+json": {
       "model_id": "",
       "version_major": 2,
       "version_minor": 0
      },
      "text/plain": [
       "HBox(children=(HTML(value='Validating'), FloatProgress(value=1.0, bar_style='info', layout=Layout(flex='2'), m…"
      ]
     },
     "metadata": {},
     "output_type": "display_data"
    },
    {
     "data": {
      "application/vnd.jupyter.widget-view+json": {
       "model_id": "",
       "version_major": 2,
       "version_minor": 0
      },
      "text/plain": [
       "HBox(children=(HTML(value='Validating'), FloatProgress(value=1.0, bar_style='info', layout=Layout(flex='2'), m…"
      ]
     },
     "metadata": {},
     "output_type": "display_data"
    },
    {
     "data": {
      "application/vnd.jupyter.widget-view+json": {
       "model_id": "",
       "version_major": 2,
       "version_minor": 0
      },
      "text/plain": [
       "HBox(children=(HTML(value='Validating'), FloatProgress(value=1.0, bar_style='info', layout=Layout(flex='2'), m…"
      ]
     },
     "metadata": {},
     "output_type": "display_data"
    },
    {
     "data": {
      "application/vnd.jupyter.widget-view+json": {
       "model_id": "",
       "version_major": 2,
       "version_minor": 0
      },
      "text/plain": [
       "HBox(children=(HTML(value='Validating'), FloatProgress(value=1.0, bar_style='info', layout=Layout(flex='2'), m…"
      ]
     },
     "metadata": {},
     "output_type": "display_data"
    },
    {
     "name": "stdout",
     "output_type": "stream",
     "text": [
      "\n",
      "fold 3 validation loss = 0.35460089060058125\n",
      "fold 3 validation accuracy = 0.8903949520916102\n",
      "\n"
     ]
    },
    {
     "name": "stderr",
     "output_type": "stream",
     "text": [
      "GPU available: True, used: True\n",
      "TPU available: None, using: 0 TPU cores\n",
      "LOCAL_RANK: 0 - CUDA_VISIBLE_DEVICES: [0]\n"
     ]
    },
    {
     "name": "stdout",
     "output_type": "stream",
     "text": [
      "fold 3 validation tta loss = 0.3368851749775804\n",
      "fold 3 validation tta accuracy = 0.8924982472540313\n",
      "----------------------------------------------------------------------------------------------------\n"
     ]
    },
    {
     "name": "stderr",
     "output_type": "stream",
     "text": [
      "\n",
      "  | Name     | Type         | Params\n",
      "------------------------------------------\n",
      "0 | net      | EfficientNet | 17.6 M\n",
      "1 | feat_net | Sequential   | 17.5 M\n",
      "------------------------------------------\n",
      "17.6 M    Trainable params\n",
      "0         Non-trainable params\n",
      "17.6 M    Total params\n"
     ]
    },
    {
     "data": {
      "application/vnd.jupyter.widget-view+json": {
       "model_id": "",
       "version_major": 2,
       "version_minor": 0
      },
      "text/plain": [
       "HBox(children=(HTML(value='Validation sanity check'), FloatProgress(value=1.0, bar_style='info', layout=Layout…"
      ]
     },
     "metadata": {},
     "output_type": "display_data"
    },
    {
     "data": {
      "application/vnd.jupyter.widget-view+json": {
       "model_id": "f1ccfd49284e4296a28cf2946cbe3d17",
       "version_major": 2,
       "version_minor": 0
      },
      "text/plain": [
       "HBox(children=(HTML(value='Training'), FloatProgress(value=1.0, bar_style='info', layout=Layout(flex='2'), max…"
      ]
     },
     "metadata": {},
     "output_type": "display_data"
    },
    {
     "data": {
      "application/vnd.jupyter.widget-view+json": {
       "model_id": "",
       "version_major": 2,
       "version_minor": 0
      },
      "text/plain": [
       "HBox(children=(HTML(value='Validating'), FloatProgress(value=1.0, bar_style='info', layout=Layout(flex='2'), m…"
      ]
     },
     "metadata": {},
     "output_type": "display_data"
    },
    {
     "data": {
      "application/vnd.jupyter.widget-view+json": {
       "model_id": "",
       "version_major": 2,
       "version_minor": 0
      },
      "text/plain": [
       "HBox(children=(HTML(value='Validating'), FloatProgress(value=1.0, bar_style='info', layout=Layout(flex='2'), m…"
      ]
     },
     "metadata": {},
     "output_type": "display_data"
    },
    {
     "data": {
      "application/vnd.jupyter.widget-view+json": {
       "model_id": "",
       "version_major": 2,
       "version_minor": 0
      },
      "text/plain": [
       "HBox(children=(HTML(value='Validating'), FloatProgress(value=1.0, bar_style='info', layout=Layout(flex='2'), m…"
      ]
     },
     "metadata": {},
     "output_type": "display_data"
    },
    {
     "data": {
      "application/vnd.jupyter.widget-view+json": {
       "model_id": "",
       "version_major": 2,
       "version_minor": 0
      },
      "text/plain": [
       "HBox(children=(HTML(value='Validating'), FloatProgress(value=1.0, bar_style='info', layout=Layout(flex='2'), m…"
      ]
     },
     "metadata": {},
     "output_type": "display_data"
    },
    {
     "data": {
      "application/vnd.jupyter.widget-view+json": {
       "model_id": "",
       "version_major": 2,
       "version_minor": 0
      },
      "text/plain": [
       "HBox(children=(HTML(value='Validating'), FloatProgress(value=1.0, bar_style='info', layout=Layout(flex='2'), m…"
      ]
     },
     "metadata": {},
     "output_type": "display_data"
    },
    {
     "data": {
      "application/vnd.jupyter.widget-view+json": {
       "model_id": "",
       "version_major": 2,
       "version_minor": 0
      },
      "text/plain": [
       "HBox(children=(HTML(value='Validating'), FloatProgress(value=1.0, bar_style='info', layout=Layout(flex='2'), m…"
      ]
     },
     "metadata": {},
     "output_type": "display_data"
    },
    {
     "data": {
      "application/vnd.jupyter.widget-view+json": {
       "model_id": "",
       "version_major": 2,
       "version_minor": 0
      },
      "text/plain": [
       "HBox(children=(HTML(value='Validating'), FloatProgress(value=1.0, bar_style='info', layout=Layout(flex='2'), m…"
      ]
     },
     "metadata": {},
     "output_type": "display_data"
    },
    {
     "data": {
      "application/vnd.jupyter.widget-view+json": {
       "model_id": "",
       "version_major": 2,
       "version_minor": 0
      },
      "text/plain": [
       "HBox(children=(HTML(value='Validating'), FloatProgress(value=1.0, bar_style='info', layout=Layout(flex='2'), m…"
      ]
     },
     "metadata": {},
     "output_type": "display_data"
    },
    {
     "data": {
      "application/vnd.jupyter.widget-view+json": {
       "model_id": "",
       "version_major": 2,
       "version_minor": 0
      },
      "text/plain": [
       "HBox(children=(HTML(value='Validating'), FloatProgress(value=1.0, bar_style='info', layout=Layout(flex='2'), m…"
      ]
     },
     "metadata": {},
     "output_type": "display_data"
    },
    {
     "data": {
      "application/vnd.jupyter.widget-view+json": {
       "model_id": "",
       "version_major": 2,
       "version_minor": 0
      },
      "text/plain": [
       "HBox(children=(HTML(value='Validating'), FloatProgress(value=1.0, bar_style='info', layout=Layout(flex='2'), m…"
      ]
     },
     "metadata": {},
     "output_type": "display_data"
    },
    {
     "name": "stdout",
     "output_type": "stream",
     "text": [
      "\n",
      "fold 4 validation loss = 0.37264527681811926\n",
      "fold 4 validation accuracy = 0.8850198644543118\n",
      "\n",
      "fold 4 validation tta loss = 0.3344700642800428\n",
      "fold 4 validation tta accuracy = 0.8903949520916102\n",
      "----------------------------------------------------------------------------------------------------\n",
      "Wall time: 17h 32min 27s\n"
     ]
    }
   ],
   "source": [
    "%%time\n",
    "Y_pred = pd.DataFrame(\n",
    "    np.zeros((df.shape[0], CFG.n_classes)),\n",
    "    columns=name_mapping.values(),\n",
    "    index=df.index,\n",
    ")\n",
    "Y_pred_tta = Y_pred.copy()\n",
    "\n",
    "for i in CFG.seeds:\n",
    "    set_seed(seed=i)\n",
    "\n",
    "    cv = StratifiedKFold(n_splits=CFG.n_splits, shuffle=CFG.shuffle, random_state=i)\n",
    "\n",
    "    for j, (train_idx, valid_idx) in enumerate(cv.split(df, df[\"label\"])):\n",
    "\n",
    "        if CFG.is_only_first_fold:\n",
    "            if j > 0:\n",
    "                break\n",
    "\n",
    "        train_df, valid_df = df.iloc[train_idx], df.iloc[valid_idx]\n",
    "\n",
    "        if CFG.is_over_sample:\n",
    "            train_df = imblearn_over_sampling(\n",
    "                train_df, train_df[\"label\"], random_state=i, is_plot=False\n",
    "            )\n",
    "        elif CFG.is_under_sample:\n",
    "            train_df = imblearn_under_sampling(\n",
    "                train_df, train_df[\"label\"], random_state=i, is_plot=False\n",
    "            )\n",
    "        elif CFG.n_over > 0:\n",
    "            # マイナークラスのみover sampling\n",
    "            train_df = minor_class_over_sample(\n",
    "                train_df, n_over=CFG.n_over, is_plot=False\n",
    "            )\n",
    "\n",
    "        dm = CassavaDataModule(train_df, valid_df, data_transforms, CFG)\n",
    "\n",
    "        trainer_params = {\"max_epochs\": CFG.max_epochs}\n",
    "        trainer_params[\"accumulate_grad_batches\"] = CFG.accumulate_grad_batches  # 勾配をnバッチ分溜めてから誤差逆伝播\n",
    "        early_stopping = EarlyStopping(\"val_loss\", patience=CFG.patience)\n",
    "        model_checkpoint = ModelCheckpoint(\n",
    "            monitor=\"val_loss\", save_top_k=2, mode=\"min\",\n",
    "        )\n",
    "        trainer_params[\"callbacks\"] = [model_checkpoint, early_stopping]\n",
    "\n",
    "        if device == \"cuda\":\n",
    "            trainer_params[\"gpus\"] = 1\n",
    "        if type(device) != str:\n",
    "            trainer_params[\"tpu_cores\"] = 1  # xm.xrt_world_size()\n",
    "            trainer_params[\"precision\"] = 16\n",
    "\n",
    "        trainer = pl.Trainer(**trainer_params)\n",
    "        trainer.fit(CassavaLite(CFG), dm)\n",
    "\n",
    "        # ModelCheckpointでfilename指定するとバージョンidつくので別途コピー作る\n",
    "        shutil.copy(\n",
    "            trainer.checkpoint_callback.best_model_path, f\"model_seed_{i}_fold_{j}.ckpt\"\n",
    "        )\n",
    "\n",
    "        # ---------- val predict ---------\n",
    "        pretrained_model = CassavaLite(CFG).load_from_checkpoint(\n",
    "            trainer.checkpoint_callback.best_model_path, CFG=CFG, \n",
    "        )\n",
    "        with torch.no_grad():  # 勾配計算を無効してメモリ効率化\n",
    "            Y_pred.iloc[valid_idx] += inference_one_epoch(\n",
    "                pretrained_model, dm.val_dataloader(), device\n",
    "            )\n",
    "        print(\n",
    "            f\"fold {j} validation loss = {metrics.log_loss(valid_df.label.values, Y_pred.iloc[valid_idx])}\"\n",
    "        )\n",
    "        print(\n",
    "            f\"fold {j} validation accuracy = {(valid_df.label.values==np.argmax(Y_pred.iloc[valid_idx].values, axis=1)).mean()}\\n\"\n",
    "        )\n",
    "\n",
    "        with torch.no_grad():\n",
    "            for _ in range(CFG.n_tta):\n",
    "                Y_pred_tta.iloc[valid_idx] += (\n",
    "                    inference_one_epoch(\n",
    "                        pretrained_model, dm.val_tta_dataloader(), device\n",
    "                    )\n",
    "                    / CFG.n_tta\n",
    "                )\n",
    "        print(\n",
    "            f\"fold {j} validation tta loss = {metrics.log_loss(valid_df.label.values, Y_pred_tta.iloc[valid_idx])}\"\n",
    "        )\n",
    "        print(\n",
    "            f\"fold {j} validation tta accuracy = {(valid_df.label.values==np.argmax(Y_pred_tta.iloc[valid_idx].values, axis=1)).mean()}\"\n",
    "        )\n",
    "\n",
    "        print(\"-\" * 100)\n",
    "\n",
    "        del pretrained_model\n",
    "        torch.cuda.empty_cache()  # 空いているキャッシュメモリを解放してGPUメモリの断片化を減らす\n",
    "\n",
    "pickle.dump(Y_pred, open(\"Y_pred.pkl\", \"wb\"))\n",
    "pickle.dump(Y_pred_tta, open(\"Y_pred_tta.pkl\", \"wb\"))"
   ]
  },
  {
   "cell_type": "code",
   "execution_count": 15,
   "metadata": {
    "ExecuteTime": {
     "end_time": "2020-12-27T11:51:51.964778Z",
     "start_time": "2020-12-27T11:51:51.952080Z"
    }
   },
   "outputs": [
    {
     "data": {
      "text/html": [
       "<div>\n",
       "<style scoped>\n",
       "    .dataframe tbody tr th:only-of-type {\n",
       "        vertical-align: middle;\n",
       "    }\n",
       "\n",
       "    .dataframe tbody tr th {\n",
       "        vertical-align: top;\n",
       "    }\n",
       "\n",
       "    .dataframe thead th {\n",
       "        text-align: right;\n",
       "    }\n",
       "</style>\n",
       "<table border=\"1\" class=\"dataframe\">\n",
       "  <thead>\n",
       "    <tr style=\"text-align: right;\">\n",
       "      <th></th>\n",
       "      <th>Cassava Bacterial Blight (CBB)</th>\n",
       "      <th>Cassava Brown Streak Disease (CBSD)</th>\n",
       "      <th>Cassava Green Mottle (CGM)</th>\n",
       "      <th>Cassava Mosaic Disease (CMD)</th>\n",
       "      <th>Healthy</th>\n",
       "    </tr>\n",
       "  </thead>\n",
       "  <tbody>\n",
       "    <tr>\n",
       "      <th>0</th>\n",
       "      <td>0.600637</td>\n",
       "      <td>0.097856</td>\n",
       "      <td>0.189228</td>\n",
       "      <td>0.011666</td>\n",
       "      <td>0.100614</td>\n",
       "    </tr>\n",
       "    <tr>\n",
       "      <th>1</th>\n",
       "      <td>0.002745</td>\n",
       "      <td>0.005584</td>\n",
       "      <td>0.008898</td>\n",
       "      <td>0.977502</td>\n",
       "      <td>0.005271</td>\n",
       "    </tr>\n",
       "    <tr>\n",
       "      <th>2</th>\n",
       "      <td>0.014369</td>\n",
       "      <td>0.136917</td>\n",
       "      <td>0.014257</td>\n",
       "      <td>0.104424</td>\n",
       "      <td>0.730033</td>\n",
       "    </tr>\n",
       "    <tr>\n",
       "      <th>3</th>\n",
       "      <td>0.013644</td>\n",
       "      <td>0.882966</td>\n",
       "      <td>0.014762</td>\n",
       "      <td>0.069949</td>\n",
       "      <td>0.018680</td>\n",
       "    </tr>\n",
       "    <tr>\n",
       "      <th>4</th>\n",
       "      <td>0.002157</td>\n",
       "      <td>0.012757</td>\n",
       "      <td>0.001865</td>\n",
       "      <td>0.972070</td>\n",
       "      <td>0.011151</td>\n",
       "    </tr>\n",
       "    <tr>\n",
       "      <th>...</th>\n",
       "      <td>...</td>\n",
       "      <td>...</td>\n",
       "      <td>...</td>\n",
       "      <td>...</td>\n",
       "      <td>...</td>\n",
       "    </tr>\n",
       "    <tr>\n",
       "      <th>21392</th>\n",
       "      <td>0.004294</td>\n",
       "      <td>0.004454</td>\n",
       "      <td>0.007813</td>\n",
       "      <td>0.976896</td>\n",
       "      <td>0.006543</td>\n",
       "    </tr>\n",
       "    <tr>\n",
       "      <th>21393</th>\n",
       "      <td>0.004484</td>\n",
       "      <td>0.005566</td>\n",
       "      <td>0.010301</td>\n",
       "      <td>0.974546</td>\n",
       "      <td>0.005103</td>\n",
       "    </tr>\n",
       "    <tr>\n",
       "      <th>21394</th>\n",
       "      <td>0.037985</td>\n",
       "      <td>0.816822</td>\n",
       "      <td>0.028943</td>\n",
       "      <td>0.080945</td>\n",
       "      <td>0.035304</td>\n",
       "    </tr>\n",
       "    <tr>\n",
       "      <th>21395</th>\n",
       "      <td>0.021880</td>\n",
       "      <td>0.010397</td>\n",
       "      <td>0.004274</td>\n",
       "      <td>0.037776</td>\n",
       "      <td>0.925672</td>\n",
       "    </tr>\n",
       "    <tr>\n",
       "      <th>21396</th>\n",
       "      <td>0.024443</td>\n",
       "      <td>0.010372</td>\n",
       "      <td>0.830729</td>\n",
       "      <td>0.033995</td>\n",
       "      <td>0.100462</td>\n",
       "    </tr>\n",
       "  </tbody>\n",
       "</table>\n",
       "<p>21397 rows × 5 columns</p>\n",
       "</div>"
      ],
      "text/plain": [
       "       Cassava Bacterial Blight (CBB)  Cassava Brown Streak Disease (CBSD)  \\\n",
       "0                            0.600637                             0.097856   \n",
       "1                            0.002745                             0.005584   \n",
       "2                            0.014369                             0.136917   \n",
       "3                            0.013644                             0.882966   \n",
       "4                            0.002157                             0.012757   \n",
       "...                               ...                                  ...   \n",
       "21392                        0.004294                             0.004454   \n",
       "21393                        0.004484                             0.005566   \n",
       "21394                        0.037985                             0.816822   \n",
       "21395                        0.021880                             0.010397   \n",
       "21396                        0.024443                             0.010372   \n",
       "\n",
       "       Cassava Green Mottle (CGM)  Cassava Mosaic Disease (CMD)   Healthy  \n",
       "0                        0.189228                      0.011666  0.100614  \n",
       "1                        0.008898                      0.977502  0.005271  \n",
       "2                        0.014257                      0.104424  0.730033  \n",
       "3                        0.014762                      0.069949  0.018680  \n",
       "4                        0.001865                      0.972070  0.011151  \n",
       "...                           ...                           ...       ...  \n",
       "21392                    0.007813                      0.976896  0.006543  \n",
       "21393                    0.010301                      0.974546  0.005103  \n",
       "21394                    0.028943                      0.080945  0.035304  \n",
       "21395                    0.004274                      0.037776  0.925672  \n",
       "21396                    0.830729                      0.033995  0.100462  \n",
       "\n",
       "[21397 rows x 5 columns]"
      ]
     },
     "execution_count": 15,
     "metadata": {},
     "output_type": "execute_result"
    }
   ],
   "source": [
    "# pickle.load(open(\"Y_pred.pkl\", 'rb'))\n",
    "pickle.load(open(\"Y_pred_tta.pkl\", \"rb\"))"
   ]
  },
  {
   "cell_type": "code",
   "execution_count": 16,
   "metadata": {
    "ExecuteTime": {
     "end_time": "2020-12-27T11:51:52.195289Z",
     "start_time": "2020-12-27T11:51:51.965778Z"
    }
   },
   "outputs": [
    {
     "data": {
      "text/html": [
       "<div>\n",
       "<style scoped>\n",
       "    .dataframe tbody tr th:only-of-type {\n",
       "        vertical-align: middle;\n",
       "    }\n",
       "\n",
       "    .dataframe tbody tr th {\n",
       "        vertical-align: top;\n",
       "    }\n",
       "\n",
       "    .dataframe thead th {\n",
       "        text-align: right;\n",
       "    }\n",
       "</style>\n",
       "<table border=\"1\" class=\"dataframe\">\n",
       "  <thead>\n",
       "    <tr style=\"text-align: right;\">\n",
       "      <th></th>\n",
       "      <th>target</th>\n",
       "      <th>prediction</th>\n",
       "      <th>logit</th>\n",
       "      <th>file_path</th>\n",
       "    </tr>\n",
       "  </thead>\n",
       "  <tbody>\n",
       "    <tr>\n",
       "      <th>0</th>\n",
       "      <td>0</td>\n",
       "      <td>0</td>\n",
       "      <td>0.600637</td>\n",
       "      <td>C:\\Users\\81908\\jupyter_notebook\\pytorch_lightn...</td>\n",
       "    </tr>\n",
       "    <tr>\n",
       "      <th>1</th>\n",
       "      <td>3</td>\n",
       "      <td>3</td>\n",
       "      <td>0.977502</td>\n",
       "      <td>C:\\Users\\81908\\jupyter_notebook\\pytorch_lightn...</td>\n",
       "    </tr>\n",
       "    <tr>\n",
       "      <th>2</th>\n",
       "      <td>1</td>\n",
       "      <td>4</td>\n",
       "      <td>0.730033</td>\n",
       "      <td>C:\\Users\\81908\\jupyter_notebook\\pytorch_lightn...</td>\n",
       "    </tr>\n",
       "    <tr>\n",
       "      <th>3</th>\n",
       "      <td>1</td>\n",
       "      <td>1</td>\n",
       "      <td>0.882966</td>\n",
       "      <td>C:\\Users\\81908\\jupyter_notebook\\pytorch_lightn...</td>\n",
       "    </tr>\n",
       "    <tr>\n",
       "      <th>4</th>\n",
       "      <td>3</td>\n",
       "      <td>3</td>\n",
       "      <td>0.972070</td>\n",
       "      <td>C:\\Users\\81908\\jupyter_notebook\\pytorch_lightn...</td>\n",
       "    </tr>\n",
       "    <tr>\n",
       "      <th>...</th>\n",
       "      <td>...</td>\n",
       "      <td>...</td>\n",
       "      <td>...</td>\n",
       "      <td>...</td>\n",
       "    </tr>\n",
       "    <tr>\n",
       "      <th>21392</th>\n",
       "      <td>3</td>\n",
       "      <td>3</td>\n",
       "      <td>0.976896</td>\n",
       "      <td>C:\\Users\\81908\\jupyter_notebook\\pytorch_lightn...</td>\n",
       "    </tr>\n",
       "    <tr>\n",
       "      <th>21393</th>\n",
       "      <td>3</td>\n",
       "      <td>3</td>\n",
       "      <td>0.974546</td>\n",
       "      <td>C:\\Users\\81908\\jupyter_notebook\\pytorch_lightn...</td>\n",
       "    </tr>\n",
       "    <tr>\n",
       "      <th>21394</th>\n",
       "      <td>1</td>\n",
       "      <td>1</td>\n",
       "      <td>0.816822</td>\n",
       "      <td>C:\\Users\\81908\\jupyter_notebook\\pytorch_lightn...</td>\n",
       "    </tr>\n",
       "    <tr>\n",
       "      <th>21395</th>\n",
       "      <td>4</td>\n",
       "      <td>4</td>\n",
       "      <td>0.925672</td>\n",
       "      <td>C:\\Users\\81908\\jupyter_notebook\\pytorch_lightn...</td>\n",
       "    </tr>\n",
       "    <tr>\n",
       "      <th>21396</th>\n",
       "      <td>4</td>\n",
       "      <td>2</td>\n",
       "      <td>0.830729</td>\n",
       "      <td>C:\\Users\\81908\\jupyter_notebook\\pytorch_lightn...</td>\n",
       "    </tr>\n",
       "  </tbody>\n",
       "</table>\n",
       "<p>21397 rows × 4 columns</p>\n",
       "</div>"
      ],
      "text/plain": [
       "       target  prediction     logit  \\\n",
       "0           0           0  0.600637   \n",
       "1           3           3  0.977502   \n",
       "2           1           4  0.730033   \n",
       "3           1           1  0.882966   \n",
       "4           3           3  0.972070   \n",
       "...       ...         ...       ...   \n",
       "21392       3           3  0.976896   \n",
       "21393       3           3  0.974546   \n",
       "21394       1           1  0.816822   \n",
       "21395       4           4  0.925672   \n",
       "21396       4           2  0.830729   \n",
       "\n",
       "                                               file_path  \n",
       "0      C:\\Users\\81908\\jupyter_notebook\\pytorch_lightn...  \n",
       "1      C:\\Users\\81908\\jupyter_notebook\\pytorch_lightn...  \n",
       "2      C:\\Users\\81908\\jupyter_notebook\\pytorch_lightn...  \n",
       "3      C:\\Users\\81908\\jupyter_notebook\\pytorch_lightn...  \n",
       "4      C:\\Users\\81908\\jupyter_notebook\\pytorch_lightn...  \n",
       "...                                                  ...  \n",
       "21392  C:\\Users\\81908\\jupyter_notebook\\pytorch_lightn...  \n",
       "21393  C:\\Users\\81908\\jupyter_notebook\\pytorch_lightn...  \n",
       "21394  C:\\Users\\81908\\jupyter_notebook\\pytorch_lightn...  \n",
       "21395  C:\\Users\\81908\\jupyter_notebook\\pytorch_lightn...  \n",
       "21396  C:\\Users\\81908\\jupyter_notebook\\pytorch_lightn...  \n",
       "\n",
       "[21397 rows x 4 columns]"
      ]
     },
     "metadata": {},
     "output_type": "display_data"
    }
   ],
   "source": [
    "oof_preds_df = pd.DataFrame(\n",
    "    {\n",
    "        \"target\": df[\"label\"],\n",
    "        \"prediction\": Y_pred.values.argmax(1),\n",
    "        \"logit\": Y_pred.values.max(1),\n",
    "        \"file_path\": df[\"file_path\"],\n",
    "    }\n",
    ")\n",
    "oof_preds_df.to_csv(\"oof_preds_df.csv\", index=False)\n",
    "# display(oof_preds_df)\n",
    "\n",
    "\n",
    "oof_preds_df = pd.DataFrame(\n",
    "    {\n",
    "        \"target\": df[\"label\"],\n",
    "        \"prediction\": Y_pred_tta.values.argmax(1),\n",
    "        \"logit\": Y_pred_tta.values.max(1),\n",
    "        \"file_path\": df[\"file_path\"],\n",
    "    }\n",
    ")\n",
    "oof_preds_df.to_csv(\"oof_preds_df_tta.csv\", index=False)\n",
    "display(oof_preds_df)"
   ]
  },
  {
   "cell_type": "code",
   "execution_count": 17,
   "metadata": {
    "ExecuteTime": {
     "end_time": "2020-12-27T11:51:52.338291Z",
     "start_time": "2020-12-27T11:51:52.196268Z"
    }
   },
   "outputs": [
    {
     "data": {
      "image/png": "[encoded data removed]",
      "text/plain": [
       "<Figure size 432x288 with 1 Axes>"
      ]
     },
     "metadata": {
      "needs_background": "light"
     },
     "output_type": "display_data"
    }
   ],
   "source": [
    "sns.countplot(y=sorted(oof_preds_df[\"prediction\"].map(name_mapping)), orient=\"v\")\n",
    "plt.title(\"Prediction distribution\")\n",
    "plt.show()"
   ]
  },
  {
   "cell_type": "code",
   "execution_count": 18,
   "metadata": {
    "ExecuteTime": {
     "end_time": "2020-12-27T11:51:52.360295Z",
     "start_time": "2020-12-27T11:51:52.339290Z"
    }
   },
   "outputs": [
    {
     "name": "stdout",
     "output_type": "stream",
     "text": [
      "              precision    recall  f1-score   support\n",
      "\n",
      "           0       0.67      0.68      0.68      1087\n",
      "           1       0.86      0.80      0.83      2189\n",
      "           2       0.83      0.81      0.82      2386\n",
      "           3       0.96      0.97      0.96     13158\n",
      "           4       0.76      0.74      0.75      2577\n",
      "\n",
      "    accuracy                           0.89     21397\n",
      "   macro avg       0.81      0.80      0.81     21397\n",
      "weighted avg       0.89      0.89      0.89     21397\n",
      "\n"
     ]
    }
   ],
   "source": [
    "print(metrics.classification_report(oof_preds_df[\"target\"], oof_preds_df[\"prediction\"]))"
   ]
  },
  {
   "cell_type": "code",
   "execution_count": 19,
   "metadata": {
    "ExecuteTime": {
     "end_time": "2020-12-27T11:51:52.592537Z",
     "start_time": "2020-12-27T11:51:52.361289Z"
    }
   },
   "outputs": [
    {
     "data": {
      "image/png": "[encoded data removed]",
      "text/plain": [
       "<Figure size 720x576 with 2 Axes>"
      ]
     },
     "metadata": {
      "needs_background": "light"
     },
     "output_type": "display_data"
    }
   ],
   "source": [
    "plt.figure(figsize=(10, 8))\n",
    "sns.heatmap(\n",
    "    metrics.confusion_matrix(oof_preds_df[\"target\"], oof_preds_df[\"prediction\"]),\n",
    "    annot=True,\n",
    "    cmap=\"Blues\",\n",
    ")\n",
    "plt.title(\"Oof confusion_matrix\")\n",
    "plt.show()"
   ]
  },
  {
   "cell_type": "code",
   "execution_count": 20,
   "metadata": {
    "ExecuteTime": {
     "end_time": "2020-12-27T11:51:52.596537Z",
     "start_time": "2020-12-27T11:51:52.593537Z"
    }
   },
   "outputs": [],
   "source": [
    "#%load_ext tensorboard\n",
    "#%tensorboard --logdir ./lightning_logs"
   ]
  },
  {
   "cell_type": "code",
   "execution_count": null,
   "metadata": {},
   "outputs": [],
   "source": []
  }
 ],
 "metadata": {
  "hide_input": false,
  "jupytext": {
   "encoding": "# -*- coding: utf-8 -*-",
   "text_representation": {
    "extension": ".py",
    "format_name": "light",
    "format_version": "1.5",
    "jupytext_version": "1.7.1"
   }
  },
  "kernelspec": {
   "display_name": "Python 3",
   "language": "python",
   "name": "python3"
  },
  "language_info": {
   "codemirror_mode": {
    "name": "ipython",
    "version": 3
   },
   "file_extension": ".py",
   "mimetype": "text/x-python",
   "name": "python",
   "nbconvert_exporter": "python",
   "pygments_lexer": "ipython3",
   "version": "3.8.6"
  }
 },
 "nbformat": 4,
 "nbformat_minor": 4
}
