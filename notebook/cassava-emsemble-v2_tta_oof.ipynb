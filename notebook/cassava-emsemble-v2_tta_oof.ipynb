{
 "cells": [
  {
   "cell_type": "markdown",
   "metadata": {},
   "source": [
    "https://www.kaggle.com/anonamename/fork-cassava-emsemble-v2-for-train"
   ]
  },
  {
   "cell_type": "code",
   "execution_count": 1,
   "metadata": {},
   "outputs": [
    {
     "name": "stdout",
     "output_type": "stream",
     "text": [
      "/c/Users/81908/jupyter_notebook/pytorch_lightning_work/kaggle_Cassava/notebook/check_oof/cassava-emsemble-v2_tta_oof\n"
     ]
    },
    {
     "data": {
      "text/plain": [
       "'C:\\\\Users\\\\81908\\\\Anaconda3\\\\envs\\\\lightning\\\\python.exe'"
      ]
     },
     "execution_count": 1,
     "metadata": {},
     "output_type": "execute_result"
    }
   ],
   "source": [
    "!pwd\n",
    "import sys\n",
    "\n",
    "%reload_ext autoreload\n",
    "%autoreload 2\n",
    "%matplotlib inline\n",
    "%load_ext lab_black\n",
    "sys.executable"
   ]
  },
  {
   "cell_type": "code",
   "execution_count": 2,
   "metadata": {
    "incorrectly_encoded_metadata": "_uuid=\"8f2839f25d086af736a60e9eeb907d3b93b6e0e5\" _cell_guid=\"b1076dfc-b9ad-4769-8c92-a6c4dae69d19\" _kg_hide-output=true",
    "papermill": {
     "duration": 31.096601,
     "end_time": "2021-02-06T17:49:52.283183",
     "exception": false,
     "start_time": "2021-02-06T17:49:21.186582",
     "status": "completed"
    },
    "tags": []
   },
   "outputs": [],
   "source": [
    "#!pip install \"../input/pytorchlightning110/pytorch_lightning-1.1.0-py3-none-any.whl\"\n",
    "#\n",
    "# import os\n",
    "# import sys\n",
    "# sys.path.append(\"../input/efficientnet-pytorch/EfficientNet-PyTorch/EfficientNet-PyTorch-master\")\n",
    "# sys.path.append('../input/pytorch-image-models/pytorch-image-models-master')"
   ]
  },
  {
   "cell_type": "code",
   "execution_count": 3,
   "metadata": {},
   "outputs": [],
   "source": [
    "import os, sys\n",
    "\n",
    "if os.getcwd() in [\"/kaggle/working\", \"/content\"]:\n",
    "    if not os.path.exists(\"./kaggle_Cassava\"):\n",
    "        !git clone https://github.com/riron1206/kaggle_Cassava.git\n",
    "    sys.path.append(\"./kaggle_Cassava/code\")\n",
    "else:\n",
    "    sys.path.append(r\"C:\\Users\\81908\\MyGitHub\\kaggle_Cassava\\code\")\n",
    "    # sys.path.append(r\"C:\\Users\\shingo\\jupyter_notebook\\pytorch_lightning_work\\kaggle_Cassava\\kaggle_Cassava\\code\")\n",
    "\n",
    "from microsoftvision_resnet50 import MicrosoftVisionResnet50"
   ]
  },
  {
   "cell_type": "code",
   "execution_count": 5,
   "metadata": {
    "_cell_guid": "79c7e3d0-c299-4dcb-8224-4455121ee9b0",
    "_uuid": "d629ff2d2480ee46fbb7e2d37f6b5fab8052498a",
    "papermill": {
     "duration": 3.988233,
     "end_time": "2021-02-06T17:49:56.29738",
     "exception": false,
     "start_time": "2021-02-06T17:49:52.309147",
     "status": "completed"
    },
    "tags": []
   },
   "outputs": [],
   "source": [
    "import os\n",
    "import gc\n",
    "import cv2\n",
    "import glob\n",
    "import json\n",
    "import yaml\n",
    "import pickle\n",
    "import random\n",
    "import numpy as np\n",
    "import pandas as pd\n",
    "from sklearn.model_selection import StratifiedKFold\n",
    "from sklearn.metrics import accuracy_score, log_loss\n",
    "from tqdm.notebook import tqdm\n",
    "import albumentations as A\n",
    "from albumentations.pytorch.transforms import ToTensorV2\n",
    "import torch\n",
    "import torch.nn as nn\n",
    "from torch.utils.data import Dataset, DataLoader\n",
    "import timm\n",
    "import pytorch_lightning as pl\n",
    "from efficientnet_pytorch import EfficientNet\n",
    "from deit_models import deit_base_patch16_224\n",
    "import warnings\n",
    "\n",
    "warnings.filterwarnings(\"ignore\")"
   ]
  },
  {
   "cell_type": "code",
   "execution_count": 6,
   "metadata": {},
   "outputs": [
    {
     "name": "stdout",
     "output_type": "stream",
     "text": [
      "timm version: 0.3.2\n",
      "pytorch_lightning version: 1.1.0\n"
     ]
    }
   ],
   "source": [
    "print(\"timm version:\", timm.__version__)\n",
    "print(\"pytorch_lightning version:\", pl.__version__)"
   ]
  },
  {
   "cell_type": "code",
   "execution_count": 7,
   "metadata": {},
   "outputs": [],
   "source": [
    "DEBUG = False\n",
    "# DEBUG = True"
   ]
  },
  {
   "cell_type": "code",
   "execution_count": 8,
   "metadata": {},
   "outputs": [
    {
     "name": "stdout",
     "output_type": "stream",
     "text": [
      "device: cuda\n"
     ]
    }
   ],
   "source": [
    "device = \"cuda\" if torch.cuda.is_available() else \"cpu\"\n",
    "print(\"device:\", device)"
   ]
  },
  {
   "cell_type": "code",
   "execution_count": 9,
   "metadata": {
    "papermill": {
     "duration": 0.037552,
     "end_time": "2021-02-06T17:49:56.441867",
     "exception": false,
     "start_time": "2021-02-06T17:49:56.404315",
     "status": "completed"
    },
    "tags": []
   },
   "outputs": [],
   "source": [
    "def set_seed(seed: int = 0) -> None:\n",
    "    np.random.seed(seed)\n",
    "    random.seed(seed)\n",
    "    os.environ[\"PYTHONHASHSEED\"] = str(seed)\n",
    "    torch.backends.cudnn.benchmark = False\n",
    "    torch.backends.cudnn.deterministic = True\n",
    "    torch.manual_seed(seed)\n",
    "    torch.cuda.manual_seed(seed)\n",
    "    torch.cuda.manual_seed_all(seed)"
   ]
  },
  {
   "cell_type": "code",
   "execution_count": 10,
   "metadata": {
    "papermill": {
     "duration": 0.084405,
     "end_time": "2021-02-06T17:49:56.552693",
     "exception": false,
     "start_time": "2021-02-06T17:49:56.468288",
     "status": "completed"
    },
    "tags": []
   },
   "outputs": [],
   "source": [
    "class CassavaLite(pl.LightningModule):\n",
    "    def __init__(self, source=\"timm\", arch=\"seresnext50_32x4d\"):\n",
    "        super().__init__()\n",
    "\n",
    "        if source == \"efficientnet-pytorch\":\n",
    "            self.net = EfficientNet.from_name(arch)\n",
    "            self.net._fc = nn.Linear(self.net._fc.in_features, n_classes)\n",
    "\n",
    "        elif source == \"timm\":\n",
    "            self.net = timm.create_model(arch, pretrained=None)\n",
    "            if \"eff\" in arch:\n",
    "                self.net.classifier = nn.Linear(\n",
    "                    self.net.classifier.in_features, n_classes\n",
    "                )\n",
    "            elif \"rexnet\" in arch:\n",
    "                self.net.head.fc = nn.Linear(self.net.head.fc.in_features, n_classes)\n",
    "            elif \"vit\" in arch:\n",
    "                self.net.head = nn.Linear(self.net.head.in_features, n_classes)\n",
    "            else:\n",
    "                self.net.fc = nn.Linear(self.net.fc.in_features, n_classes)\n",
    "\n",
    "    def forward(self, x):\n",
    "        out = self.net(x)\n",
    "        return out\n",
    "\n",
    "\n",
    "class CassavaLite2(pl.LightningModule):\n",
    "    def __init__(self, arch=\"vit_base_patch16_224\"):\n",
    "        super().__init__()\n",
    "\n",
    "        self.net = timm.create_model(arch, pretrained=None)\n",
    "\n",
    "        if \"eff\" in arch:\n",
    "            self.net.classifier = nn.Linear(self.net.classifier.in_features, n_classes)\n",
    "            self.feat_net = nn.Sequential(*list(self.net.children())[:-2])\n",
    "        elif \"rexnet\" in arch:\n",
    "            self.net.head.fc = nn.Linear(self.net.head.fc.in_features, n_classes)\n",
    "            self.feat_net = nn.Sequential(*list(self.net.children())[:-1])\n",
    "        elif \"vit\" in arch:\n",
    "            self.net.head = nn.Linear(self.net.head.in_features, n_classes)\n",
    "            self.feat_net = nn.Sequential(*list(self.net.children())[:-1])\n",
    "        else:\n",
    "            self.net.fc = nn.Linear(self.net.fc.in_features, n_classes)\n",
    "            self.feat_net = nn.Sequential(\n",
    "                *list(self.net.children())[:-2]\n",
    "            )  # global_poolとfc層除く\n",
    "\n",
    "    def forward(self, x):\n",
    "        out = self.net(x)\n",
    "        return out\n",
    "\n",
    "\n",
    "class CassavaLite3(pl.LightningModule):\n",
    "    def __init__(self, CFG):\n",
    "        super().__init__()\n",
    "\n",
    "        self.net = timm.create_model(CFG.arch, pretrained=None)\n",
    "\n",
    "        if \"eff\" in CFG.arch:\n",
    "            self.net.classifier = nn.Linear(\n",
    "                self.net.classifier.in_features, CFG.n_classes\n",
    "            )\n",
    "            if CFG.gem_p > 0.0:\n",
    "                self.net = GeMNet(\n",
    "                    list(self.net.children())[:-2],\n",
    "                    GeM(p=CFG.gem_p),\n",
    "                    self.net.classifier.in_features,\n",
    "                    CFG.n_classes,\n",
    "                )\n",
    "            self.feat_net = nn.Sequential(*list(self.net.children())[:-2])\n",
    "\n",
    "        elif \"rexnet\" in CFG.arch:\n",
    "            self.net.head.fc = nn.Linear(self.net.head.fc.in_features, CFG.n_classes)\n",
    "            if CFG.gem_p > 0.0:\n",
    "                self.net = GeMNet(\n",
    "                    list(self.net.children())[:-1],\n",
    "                    GeM(p=CFG.gem_p),\n",
    "                    self.net.head.fc.in_features,\n",
    "                    CFG.n_classes,\n",
    "                )\n",
    "            self.feat_net = nn.Sequential(*list(self.net.children())[:-1])\n",
    "\n",
    "        elif \"vit\" in CFG.arch:\n",
    "            self.net.head = nn.Linear(self.net.head.in_features, CFG.n_classes)\n",
    "            self.feat_net = nn.Sequential(*list(self.net.children())[:-1])\n",
    "\n",
    "        else:\n",
    "            self.net.fc = nn.Linear(self.net.fc.in_features, CFG.n_classes)\n",
    "            if CFG.gem_p > 0.0:\n",
    "                self.net = GeMNet(\n",
    "                    list(self.net.children())[:-2],\n",
    "                    GeM(p=CFG.gem_p),\n",
    "                    self.net.fc.in_features,\n",
    "                    CFG.n_classes,\n",
    "                )\n",
    "            self.feat_net = nn.Sequential(\n",
    "                *list(self.net.children())[:-2]\n",
    "            )  # global_poolとfc層除く\n",
    "\n",
    "    def forward(self, x):\n",
    "        out = self.net(x)\n",
    "        return out\n",
    "\n",
    "\n",
    "class CassavaLite4(pl.LightningModule):\n",
    "    def __init__(self, CFG):\n",
    "        super().__init__()\n",
    "\n",
    "        if \"microsoft\" in CFG.arch:\n",
    "            self.net = MicrosoftVisionResnet50(\n",
    "                pretrained=False, n_classes=CFG.n_classes\n",
    "            )\n",
    "            self.feat_net = nn.Sequential(*list(self.net.children())[:-1])\n",
    "\n",
    "        else:\n",
    "            self.net = timm.create_model(CFG.arch, pretrained=None)\n",
    "\n",
    "            if \"eff\" in CFG.arch:\n",
    "                self.net.classifier = nn.Linear(\n",
    "                    self.net.classifier.in_features, CFG.n_classes\n",
    "                )\n",
    "                self.feat_net = nn.Sequential(*list(self.net.children())[:-2])\n",
    "\n",
    "            elif \"rexnet\" in CFG.arch:\n",
    "                self.net.head.fc = nn.Linear(\n",
    "                    self.net.head.fc.in_features, CFG.n_classes\n",
    "                )\n",
    "                self.feat_net = nn.Sequential(*list(self.net.children())[:-1])\n",
    "\n",
    "            elif \"vit\" in CFG.arch:\n",
    "                self.net.head = nn.Linear(self.net.head.in_features, CFG.n_classes)\n",
    "                self.feat_net = nn.Sequential(*list(self.net.children())[:-1])\n",
    "\n",
    "            elif \"deit\" in CFG.arch:\n",
    "                self.net = deit_base_patch16_224(\n",
    "                    pretrained=False\n",
    "                )  # pretrained=True にすると失敗する。。。\n",
    "                self.net.head = nn.Linear(self.net.head.in_features, CFG.n_classes)\n",
    "                self.feat_net = nn.Sequential(*list(self.net.children())[:-1])\n",
    "\n",
    "            else:\n",
    "                self.net.fc = nn.Linear(self.net.fc.in_features, CFG.n_classes)\n",
    "                self.feat_net = nn.Sequential(\n",
    "                    *list(self.net.children())[:-2]\n",
    "                )  # global_poolとfc層除く\n",
    "\n",
    "    def forward(self, x):\n",
    "        out = self.net(x)\n",
    "        return out"
   ]
  },
  {
   "cell_type": "code",
   "execution_count": 11,
   "metadata": {
    "papermill": {
     "duration": 0.040613,
     "end_time": "2021-02-06T17:49:56.6207",
     "exception": false,
     "start_time": "2021-02-06T17:49:56.580087",
     "status": "completed"
    },
    "tags": []
   },
   "outputs": [],
   "source": [
    "class CassavaDataset(Dataset):\n",
    "    def __init__(self, df: pd.DataFrame, transformgroups):\n",
    "        # def __init__(self, df: pd.DataFrame, imfolder: str, transformgroups):\n",
    "        self.df = df\n",
    "        # self.imfolder = imfolder\n",
    "        self.transformgroups = transformgroups\n",
    "\n",
    "    def __getitem__(self, index):\n",
    "        im_path = self.df.iloc[index][\"file_path\"]\n",
    "        # im_path = os.path.join(self.imfolder, self.df.iloc[index][\"image_id\"])\n",
    "        x = cv2.imread(im_path, cv2.IMREAD_COLOR)\n",
    "        x = cv2.cvtColor(x, cv2.COLOR_BGR2RGB)\n",
    "        y = self.df.iloc[index][\"label\"]\n",
    "        ret = {}\n",
    "        for i, g in enumerate(self.transformgroups):\n",
    "            v = None\n",
    "            for t in g:\n",
    "                r = t(image=x)[\"image\"].unsqueeze(0)\n",
    "                v = r if v is None else torch.cat([v, r], axis=0)\n",
    "            ret[f\"x{i}\"] = v.float()\n",
    "        return ret, y\n",
    "\n",
    "    def __len__(self):\n",
    "        return len(self.df)"
   ]
  },
  {
   "cell_type": "code",
   "execution_count": 12,
   "metadata": {
    "papermill": {
     "duration": 0.066659,
     "end_time": "2021-02-06T17:49:56.712705",
     "exception": false,
     "start_time": "2021-02-06T17:49:56.646046",
     "status": "completed"
    },
    "tags": []
   },
   "outputs": [],
   "source": [
    "def get_models(model_paths, lite_type, CFG=None):\n",
    "    models = []\n",
    "    for model_path in model_paths:\n",
    "        if lite_type == \"CassavaLite\":\n",
    "            model = CassavaLite().load_from_checkpoint(model_path).to(device)\n",
    "        elif lite_type == \"CassavaLite2\":\n",
    "            model = CassavaLite2().load_from_checkpoint(model_path).to(device)\n",
    "        elif lite_type == \"CassavaLite3\":\n",
    "            model = (\n",
    "                CassavaLite3(CFG).load_from_checkpoint(model_path, CFG=CFG).to(device)\n",
    "            )\n",
    "        elif lite_type == \"CassavaLite4\":\n",
    "            model = (\n",
    "                CassavaLite4(CFG).load_from_checkpoint(model_path, CFG=CFG).to(device)\n",
    "            )\n",
    "        model.eval()\n",
    "        models.append(model)\n",
    "        print(f\"{model_path} is loaded\")\n",
    "    return models\n",
    "\n",
    "\n",
    "def get_dataloader(img_size_desc, test_df):\n",
    "    transforms = []\n",
    "    for item in img_size_desc:\n",
    "        # model = item[0]\n",
    "        tta_nums = item[1]  # ttaの回数\n",
    "        img_size = item[2]\n",
    "        if img_size < 500:\n",
    "            t = A.Compose(\n",
    "                [\n",
    "                    A.RandomResizedCrop(\n",
    "                        img_size,\n",
    "                        img_size,\n",
    "                        #    p=0.5\n",
    "                    ),\n",
    "                    A.Normalize(\n",
    "                        mean=[0.485, 0.456, 0.406],\n",
    "                        std=[0.229, 0.224, 0.225],\n",
    "                        max_pixel_value=255.0,\n",
    "                        p=1.0,\n",
    "                    ),\n",
    "                    ToTensorV2(p=1.0),\n",
    "                ],\n",
    "                p=1.0,\n",
    "            )\n",
    "        else:\n",
    "            t = A.Compose(\n",
    "                [\n",
    "                    A.CenterCrop(\n",
    "                        img_size,\n",
    "                        img_size,\n",
    "                        #    p=0.5\n",
    "                    ),\n",
    "                    A.Normalize(\n",
    "                        mean=[0.485, 0.456, 0.406],\n",
    "                        std=[0.229, 0.224, 0.225],\n",
    "                        max_pixel_value=255.0,\n",
    "                        p=1.0,\n",
    "                    ),\n",
    "                    ToTensorV2(p=1.0),\n",
    "                ],\n",
    "                p=1.0,\n",
    "            )\n",
    "        transforms.append([t for _ in range(tta_nums)])\n",
    "    # test_dataset = CassavaDataset(test_df, img_dir, transforms)\n",
    "    test_dataset = CassavaDataset(test_df, transforms)\n",
    "    test_loader = DataLoader(\n",
    "        test_dataset,\n",
    "        batch_size=batch_size,\n",
    "        num_workers=num_workers,\n",
    "        shuffle=False,\n",
    "        drop_last=False,\n",
    "    )\n",
    "    return test_loader"
   ]
  },
  {
   "cell_type": "markdown",
   "metadata": {
    "papermill": {
     "duration": 0.025913,
     "end_time": "2021-02-06T17:49:56.76423",
     "exception": false,
     "start_time": "2021-02-06T17:49:56.738317",
     "status": "completed"
    },
    "tags": []
   },
   "source": [
    "# main"
   ]
  },
  {
   "cell_type": "code",
   "execution_count": 13,
   "metadata": {
    "papermill": {
     "duration": 0.049213,
     "end_time": "2021-02-06T17:49:56.83905",
     "exception": false,
     "start_time": "2021-02-06T17:49:56.789837",
     "status": "completed"
    },
    "tags": []
   },
   "outputs": [],
   "source": [
    "n_classes = 5\n",
    "# num_workers = 4\n",
    "num_workers = 0\n",
    "\n",
    "path = r\"C:\\Users\\81908\\jupyter_notebook\\pytorch_lightning_work\\kaggle_Cassava\\input\\cassava-leaf-disease-classification\"\n",
    "img_dir = f\"{path}/train_images/\"\n",
    "df = pd.read_csv(f\"{path}/train.csv\")\n",
    "df[\"file_path\"] = f\"{img_dir}/\" + df[\"image_id\"]\n",
    "if DEBUG:\n",
    "    df = df.iloc[:20, :]\n",
    "\n",
    "with open(f\"{path}/label_num_to_disease_map.json\", \"r\") as f:\n",
    "    name_mapping = json.load(f)\n",
    "name_mapping = {int(k): v for k, v in name_mapping.items()}"
   ]
  },
  {
   "cell_type": "code",
   "execution_count": 14,
   "metadata": {
    "papermill": {
     "duration": 0.036863,
     "end_time": "2021-02-06T17:49:56.902777",
     "exception": false,
     "start_time": "2021-02-06T17:49:56.865914",
     "status": "completed"
    },
    "tags": []
   },
   "outputs": [],
   "source": [
    "n_tta = 5\n",
    "n_tta_many = 8\n",
    "# batch_size = 16\n",
    "batch_size = 1\n",
    "test_preds_list = []"
   ]
  },
  {
   "cell_type": "code",
   "execution_count": 15,
   "metadata": {},
   "outputs": [],
   "source": [
    "def randomTTA(x):\n",
    "    if np.random.rand() > 0.5:\n",
    "        x = torch.flip(x, [-1])\n",
    "    if np.random.rand() > 0.5:\n",
    "        x = torch.flip(x, [-2])\n",
    "    return x"
   ]
  },
  {
   "cell_type": "code",
   "execution_count": 16,
   "metadata": {},
   "outputs": [],
   "source": [
    "class Config:\n",
    "    def __init__(self, **kwargs):\n",
    "        self.seeds = kwargs[\"seeds\"]\n",
    "        self.n_classes = n_classes\n",
    "        self.arch = kwargs[\"arch\"]\n",
    "        self.gem_p = kwargs[\"gem_p\"]\n",
    "        self.height = kwargs[\"height\"]\n",
    "\n",
    "\n",
    "def GetYaml(yamlpath):\n",
    "    with open(yamlpath, \"r\") as f:\n",
    "        cdict = yaml.load(f)\n",
    "    cfg = Config(**cdict)\n",
    "    return cfg"
   ]
  },
  {
   "cell_type": "code",
   "execution_count": 17,
   "metadata": {},
   "outputs": [],
   "source": [
    "def check_train_oof(models, random_state, df):\n",
    "    mdlgrps = models[0][0]\n",
    "    numtta = models[0][1]\n",
    "    n_splits = len(mdlgrps)\n",
    "\n",
    "    set_seed(seed=random_state)\n",
    "    Y_pred = pd.DataFrame(np.zeros((df.shape[0], 5)), columns=name_mapping.values())\n",
    "    Y_hardvote = pd.DataFrame(np.zeros((df.shape[0], 1)))\n",
    "    cv = StratifiedKFold(n_splits=n_splits, shuffle=True, random_state=random_state)\n",
    "    for k, (train_idx, valid_idx) in tqdm(enumerate(cv.split(df, df[\"label\"]))):\n",
    "        val_df = df.iloc[valid_idx]\n",
    "        loader = get_dataloader(models, val_df)\n",
    "        mdl = mdlgrps[k]\n",
    "        with torch.no_grad():\n",
    "            preds = []\n",
    "            preds_hardvote = []\n",
    "            actfn = nn.Softmax(dim=1)\n",
    "            for batch in loader:\n",
    "                ret, label = batch\n",
    "                img = ret[\"x0\"][0].to(device)  # numttaの枚数分同じtensor型の画像返す\n",
    "                label = label.long().to(device)\n",
    "                b = img.shape[0]  # numttaと同じ値になる\n",
    "                x = img\n",
    "                y = torch.zeros([b, 5], device=device)\n",
    "                for j in range(b):  # numttaの枚数ループ\n",
    "                    x[j] = randomTTA(img[j])  # ttaランダムに入れる\n",
    "                z = mdl(x)\n",
    "                y = y + actfn(z)\n",
    "                y = y.detach().cpu().numpy()\n",
    "                y_hard = max([y_i.argmax() for y_i in y])  # ttaをhardvote\n",
    "                preds_hardvote += [y_hard]\n",
    "                y_mean = np.mean(y, axis=0)  # ttaの予測平均化\n",
    "                preds += [y_mean]\n",
    "        # print(preds)\n",
    "        # print(preds_hardvote)\n",
    "        Y_pred.iloc[valid_idx] = np.array(preds)\n",
    "        Y_hardvote.iloc[valid_idx] = np.array(preds_hardvote).reshape(\n",
    "            len(preds_hardvote), 1\n",
    "        )\n",
    "    oof = accuracy_score(df[\"label\"].values, Y_pred.values.argmax(1))\n",
    "    print(f\"oof:\", round(oof, 4))\n",
    "    oof_hardvote = accuracy_score(df[\"label\"].values, Y_hardvote.values)\n",
    "    print(f\"oof_hardvote:\", round(oof_hardvote, 4))\n",
    "    return Y_pred, Y_hardvote"
   ]
  },
  {
   "cell_type": "code",
   "execution_count": 18,
   "metadata": {},
   "outputs": [],
   "source": [
    "outdir = \".\"\n",
    "os.makedirs(outdir, exist_ok=True)"
   ]
  },
  {
   "cell_type": "code",
   "execution_count": null,
   "metadata": {},
   "outputs": [],
   "source": []
  },
  {
   "cell_type": "code",
   "execution_count": 20,
   "metadata": {},
   "outputs": [
    {
     "data": {
      "application/vnd.jupyter.widget-view+json": {
       "model_id": "184cfae5206346feb41119f17a6ded66",
       "version_major": 2,
       "version_minor": 0
      },
      "text/plain": [
       "HBox(children=(HTML(value=''), FloatProgress(value=1.0, bar_style='info', layout=Layout(width='20px'), max=1.0…"
      ]
     },
     "metadata": {},
     "output_type": "display_data"
    },
    {
     "name": "stdout",
     "output_type": "stream",
     "text": [
      "\n",
      "oof: 0.8924\n",
      "oof_hardvote: 0.8925\n"
     ]
    },
    {
     "data": {
      "text/plain": [
       "3687"
      ]
     },
     "execution_count": 20,
     "metadata": {},
     "output_type": "execute_result"
    }
   ],
   "source": [
    "# tf_efficientnet_b4_ns\n",
    "# oof 0.894\n",
    "m_dir = r\"C:\\Users\\81908\\jupyter_notebook\\pytorch_lightning_work\\kaggle_Cassava\\notebook\\cassava-bitempered-logistic-loss\\20201227\\kaggle_upload_tf_efficientnet_b4_ns_BiTemperedLoss\"\n",
    "cfg1 = GetYaml(f\"{m_dir}/hparams.yaml\")\n",
    "mdl1 = sorted(\n",
    "    glob.glob(\n",
    "        f\"{m_dir}/model_seed_*.ckpt\"\n",
    "    )\n",
    ")\n",
    "models1 = get_models(mdl1, \"CassavaLite3\", CFG=cfg1)\n",
    "\n",
    "m_name = f\"tf_efficientnet_b4_ns\"\n",
    "models = [(models1, n_tta, 512)]\n",
    "random_state = cfg1.seeds[0]\n",
    "Y_tta, Y_tta_hardvote = check_train_oof(models, random_state, df)\n",
    "pickle.dump(Y_tta, open(f\"{outdir}/{m_name}_tta.pkl\", \"wb\"))\n",
    "pickle.dump(Y_tta_hardvote, open(f\"{outdir}/{m_name}_tta_hardvote.pkl\", \"wb\"))\n",
    "# display(Y_pred)\n",
    "# display(Y_hardvote)\n",
    "del models\n",
    "torch.cuda.empty_cache()\n",
    "gc.collect()"
   ]
  },
  {
   "cell_type": "code",
   "execution_count": 21,
   "metadata": {},
   "outputs": [
    {
     "data": {
      "application/vnd.jupyter.widget-view+json": {
       "model_id": "1e4ace1eca7349638eb3a382b7018d61",
       "version_major": 2,
       "version_minor": 0
      },
      "text/plain": [
       "HBox(children=(HTML(value=''), FloatProgress(value=1.0, bar_style='info', layout=Layout(width='20px'), max=1.0…"
      ]
     },
     "metadata": {},
     "output_type": "display_data"
    },
    {
     "name": "stdout",
     "output_type": "stream",
     "text": [
      "\n",
      "oof: 0.8942\n",
      "oof_hardvote: 0.8933\n"
     ]
    },
    {
     "data": {
      "text/plain": [
       "699"
      ]
     },
     "execution_count": 21,
     "metadata": {},
     "output_type": "execute_result"
    }
   ],
   "source": [
    "# byol + seresnext50_32x4d\n",
    "# oof -.---\n",
    "m_dir = r\"C:\\Users\\81908\\jupyter_notebook\\pytorch_lightning_work\\kaggle_Cassava\\run_old_myPC\\notebook\\kaggle_upload_byol_seresnext50_32x4d_cutmix_labelsmooth_half\"\n",
    "cfg2 = GetYaml(f\"{m_dir}/cfg.yaml\")\n",
    "mdl2 = sorted(\n",
    "    glob.glob(\n",
    "        f\"{m_dir}/model_seed_*.ckpt\"\n",
    "    )\n",
    ")\n",
    "models2 = get_models(mdl2, \"CassavaLite4\", CFG=cfg2)\n",
    "\n",
    "m_name = f\"byol_seresnext50_32x4d_cutmix_labelsmooth_half\"\n",
    "models = [(models2, n_tta, cfg2.height)]\n",
    "random_state = cfg2.seeds[0]\n",
    "Y_tta, Y_tta_hardvote = check_train_oof(models, random_state, df)\n",
    "pickle.dump(Y_tta, open(f\"{outdir}/{m_name}_tta.pkl\", \"wb\"))\n",
    "pickle.dump(Y_tta_hardvote, open(f\"{outdir}/{m_name}_tta_hardvote.pkl\", \"wb\"))\n",
    "# display(Y_pred)\n",
    "# display(Y_hardvote)\n",
    "del models\n",
    "torch.cuda.empty_cache()\n",
    "gc.collect()"
   ]
  },
  {
   "cell_type": "code",
   "execution_count": 19,
   "metadata": {
    "lines_to_next_cell": 0
   },
   "outputs": [
    {
     "name": "stdout",
     "output_type": "stream",
     "text": [
      "C:\\Users\\81908\\jupyter_notebook\\pytorch_lightning_work\\kaggle_Cassava\\run_old_myPC\\notebook\\cassava-bitempered-logistic-loss\\20210121\\kaggle_upload_vit_base_patch16_224_fold3\\vit_b16_224_fold10\\kaggle_upload_vit_b16_224_fold10\\model_seed_25_fold_0.ckpt is loaded\n",
      "C:\\Users\\81908\\jupyter_notebook\\pytorch_lightning_work\\kaggle_Cassava\\run_old_myPC\\notebook\\cassava-bitempered-logistic-loss\\20210121\\kaggle_upload_vit_base_patch16_224_fold3\\vit_b16_224_fold10\\kaggle_upload_vit_b16_224_fold10\\model_seed_25_fold_1.ckpt is loaded\n",
      "C:\\Users\\81908\\jupyter_notebook\\pytorch_lightning_work\\kaggle_Cassava\\run_old_myPC\\notebook\\cassava-bitempered-logistic-loss\\20210121\\kaggle_upload_vit_base_patch16_224_fold3\\vit_b16_224_fold10\\kaggle_upload_vit_b16_224_fold10\\model_seed_25_fold_2.ckpt is loaded\n",
      "C:\\Users\\81908\\jupyter_notebook\\pytorch_lightning_work\\kaggle_Cassava\\run_old_myPC\\notebook\\cassava-bitempered-logistic-loss\\20210121\\kaggle_upload_vit_base_patch16_224_fold3\\vit_b16_224_fold10\\kaggle_upload_vit_b16_224_fold10\\model_seed_25_fold_3.ckpt is loaded\n",
      "C:\\Users\\81908\\jupyter_notebook\\pytorch_lightning_work\\kaggle_Cassava\\run_old_myPC\\notebook\\cassava-bitempered-logistic-loss\\20210121\\kaggle_upload_vit_base_patch16_224_fold3\\vit_b16_224_fold10\\kaggle_upload_vit_b16_224_fold10\\model_seed_25_fold_4.ckpt is loaded\n",
      "C:\\Users\\81908\\jupyter_notebook\\pytorch_lightning_work\\kaggle_Cassava\\run_old_myPC\\notebook\\cassava-bitempered-logistic-loss\\20210121\\kaggle_upload_vit_base_patch16_224_fold3\\vit_b16_224_fold10\\kaggle_upload_vit_b16_224_fold10\\model_seed_25_fold_5.ckpt is loaded\n",
      "C:\\Users\\81908\\jupyter_notebook\\pytorch_lightning_work\\kaggle_Cassava\\run_old_myPC\\notebook\\cassava-bitempered-logistic-loss\\20210121\\kaggle_upload_vit_base_patch16_224_fold3\\vit_b16_224_fold10\\kaggle_upload_vit_b16_224_fold10\\model_seed_25_fold_6.ckpt is loaded\n",
      "C:\\Users\\81908\\jupyter_notebook\\pytorch_lightning_work\\kaggle_Cassava\\run_old_myPC\\notebook\\cassava-bitempered-logistic-loss\\20210121\\kaggle_upload_vit_base_patch16_224_fold3\\vit_b16_224_fold10\\kaggle_upload_vit_b16_224_fold10\\model_seed_25_fold_7.ckpt is loaded\n",
      "C:\\Users\\81908\\jupyter_notebook\\pytorch_lightning_work\\kaggle_Cassava\\run_old_myPC\\notebook\\cassava-bitempered-logistic-loss\\20210121\\kaggle_upload_vit_base_patch16_224_fold3\\vit_b16_224_fold10\\kaggle_upload_vit_b16_224_fold10\\model_seed_25_fold_8.ckpt is loaded\n",
      "C:\\Users\\81908\\jupyter_notebook\\pytorch_lightning_work\\kaggle_Cassava\\run_old_myPC\\notebook\\cassava-bitempered-logistic-loss\\20210121\\kaggle_upload_vit_base_patch16_224_fold3\\vit_b16_224_fold10\\kaggle_upload_vit_b16_224_fold10\\model_seed_25_fold_9.ckpt is loaded\n"
     ]
    },
    {
     "data": {
      "application/vnd.jupyter.widget-view+json": {
       "model_id": "9b584ae3a2be44cf8a0ef51c0a8a745a",
       "version_major": 2,
       "version_minor": 0
      },
      "text/plain": [
       "HBox(children=(HTML(value=''), FloatProgress(value=1.0, bar_style='info', layout=Layout(width='20px'), max=1.0…"
      ]
     },
     "metadata": {},
     "output_type": "display_data"
    },
    {
     "name": "stdout",
     "output_type": "stream",
     "text": [
      "\n",
      "oof: 0.8861\n",
      "oof_hardvote: 0.8275\n"
     ]
    },
    {
     "data": {
      "text/plain": [
       "25553"
      ]
     },
     "execution_count": 19,
     "metadata": {},
     "output_type": "execute_result"
    }
   ],
   "source": [
    "# vit_b16_224_fold10\n",
    "# oof -.---\n",
    "m_dir = r\"C:\\Users\\81908\\jupyter_notebook\\pytorch_lightning_work\\kaggle_Cassava\\run_old_myPC\\notebook\\cassava-bitempered-logistic-loss\\20210121\\kaggle_upload_vit_base_patch16_224_fold3\\vit_b16_224_fold10\\kaggle_upload_vit_b16_224_fold10\"\n",
    "cfg3 = GetYaml(f\"{m_dir}/cfg.yaml\")\n",
    "mdl3 = sorted(glob.glob(f\"{m_dir}/model_seed_*.ckpt\"))\n",
    "models3 = get_models(mdl3, \"CassavaLite4\", CFG=cfg3)\n",
    "\n",
    "m_name = f\"vit_b16_224_fold10\"\n",
    "models = [(models3, n_tta_many, cfg3.height)]\n",
    "random_state = cfg3.seeds[0]\n",
    "Y_tta, Y_tta_hardvote = check_train_oof(models, random_state, df)\n",
    "pickle.dump(Y_tta, open(f\"{outdir}/{m_name}_tta.pkl\", \"wb\"))\n",
    "pickle.dump(Y_tta_hardvote, open(f\"{outdir}/{m_name}_tta_hardvote.pkl\", \"wb\"))\n",
    "# display(Y_pred)\n",
    "# display(Y_hardvote)\n",
    "del models\n",
    "torch.cuda.empty_cache()\n",
    "gc.collect()"
   ]
  },
  {
   "cell_type": "code",
   "execution_count": null,
   "metadata": {
    "lines_to_next_cell": 2
   },
   "outputs": [],
   "source": []
  },
  {
   "cell_type": "code",
   "execution_count": 18,
   "metadata": {
    "collapsed": true,
    "jupyter": {
     "outputs_hidden": true
    }
   },
   "outputs": [
    {
     "name": "stdout",
     "output_type": "stream",
     "text": [
      "C:\\Users\\81908\\jupyter_notebook\\pytorch_lightning_work\\kaggle_Cassava\\notebook\\efficientnet-with-pytorch-lightning-train-infer\\20201217\\kaggle_upload_seresnext50_32x4d_cutmixfmix\\model_seed_0_fold_0.ckpt is loaded\n",
      "C:\\Users\\81908\\jupyter_notebook\\pytorch_lightning_work\\kaggle_Cassava\\notebook\\efficientnet-with-pytorch-lightning-train-infer\\20201217\\kaggle_upload_seresnext50_32x4d_cutmixfmix\\model_seed_0_fold_1.ckpt is loaded\n",
      "C:\\Users\\81908\\jupyter_notebook\\pytorch_lightning_work\\kaggle_Cassava\\notebook\\efficientnet-with-pytorch-lightning-train-infer\\20201217\\kaggle_upload_seresnext50_32x4d_cutmixfmix\\model_seed_0_fold_2.ckpt is loaded\n"
     ]
    },
    {
     "data": {
      "application/vnd.jupyter.widget-view+json": {
       "model_id": "c9c454f818714b49b2e3d3ccc1066aa5",
       "version_major": 2,
       "version_minor": 0
      },
      "text/plain": [
       "HBox(children=(HTML(value=''), FloatProgress(value=1.0, bar_style='info', layout=Layout(width='20px'), max=1.0…"
      ]
     },
     "metadata": {},
     "output_type": "display_data"
    },
    {
     "name": "stdout",
     "output_type": "stream",
     "text": [
      "\n"
     ]
    },
    {
     "ename": "ValueError",
     "evalue": "Requested crop size (512, 512) is larger than the image size (500, 499)",
     "output_type": "error",
     "traceback": [
      "\u001b[1;31m---------------------------------------------------------------------------\u001b[0m",
      "\u001b[1;31mValueError\u001b[0m                                Traceback (most recent call last)",
      "\u001b[1;32m<ipython-input-18-a7c4ee74cfee>\u001b[0m in \u001b[0;36m<module>\u001b[1;34m\u001b[0m\n\u001b[0;32m     14\u001b[0m \u001b[0mmodels\u001b[0m \u001b[1;33m=\u001b[0m \u001b[1;33m[\u001b[0m\u001b[1;33m(\u001b[0m\u001b[0mmodels\u001b[0m\u001b[1;33m,\u001b[0m \u001b[0mn_tta\u001b[0m\u001b[1;33m,\u001b[0m \u001b[0mcfg\u001b[0m\u001b[1;33m.\u001b[0m\u001b[0mheight\u001b[0m\u001b[1;33m)\u001b[0m\u001b[1;33m]\u001b[0m\u001b[1;33m\u001b[0m\u001b[1;33m\u001b[0m\u001b[0m\n\u001b[0;32m     15\u001b[0m \u001b[0mrandom_state\u001b[0m \u001b[1;33m=\u001b[0m \u001b[0mcfg\u001b[0m\u001b[1;33m.\u001b[0m\u001b[0mseeds\u001b[0m\u001b[1;33m[\u001b[0m\u001b[1;36m0\u001b[0m\u001b[1;33m]\u001b[0m\u001b[1;33m\u001b[0m\u001b[1;33m\u001b[0m\u001b[0m\n\u001b[1;32m---> 16\u001b[1;33m \u001b[0mY_tta\u001b[0m\u001b[1;33m,\u001b[0m \u001b[0mY_tta_hardvote\u001b[0m \u001b[1;33m=\u001b[0m \u001b[0mcheck_train_oof\u001b[0m\u001b[1;33m(\u001b[0m\u001b[0mmodels\u001b[0m\u001b[1;33m,\u001b[0m \u001b[0mrandom_state\u001b[0m\u001b[1;33m,\u001b[0m \u001b[0m_df\u001b[0m\u001b[1;33m)\u001b[0m\u001b[1;33m\u001b[0m\u001b[1;33m\u001b[0m\u001b[0m\n\u001b[0m\u001b[0;32m     17\u001b[0m \u001b[1;33m\u001b[0m\u001b[0m\n\u001b[0;32m     18\u001b[0m \u001b[0mY_tta\u001b[0m\u001b[1;33m,\u001b[0m \u001b[0mY_tta_hardvote\u001b[0m \u001b[1;33m=\u001b[0m \u001b[0mY_tta\u001b[0m\u001b[1;33m.\u001b[0m\u001b[0miloc\u001b[0m\u001b[1;33m[\u001b[0m\u001b[1;33m:\u001b[0m\u001b[1;36m21397\u001b[0m\u001b[1;33m]\u001b[0m\u001b[1;33m,\u001b[0m \u001b[0mY_tta_hardvote\u001b[0m\u001b[1;33m.\u001b[0m\u001b[0miloc\u001b[0m\u001b[1;33m[\u001b[0m\u001b[1;33m:\u001b[0m\u001b[1;36m21397\u001b[0m\u001b[1;33m]\u001b[0m\u001b[1;33m\u001b[0m\u001b[1;33m\u001b[0m\u001b[0m\n",
      "\u001b[1;32m<ipython-input-16-cdfdade7812d>\u001b[0m in \u001b[0;36mcheck_train_oof\u001b[1;34m(models, random_state, df)\u001b[0m\n\u001b[0;32m     16\u001b[0m             \u001b[0mpreds_hardvote\u001b[0m \u001b[1;33m=\u001b[0m \u001b[1;33m[\u001b[0m\u001b[1;33m]\u001b[0m\u001b[1;33m\u001b[0m\u001b[1;33m\u001b[0m\u001b[0m\n\u001b[0;32m     17\u001b[0m             \u001b[0mactfn\u001b[0m \u001b[1;33m=\u001b[0m \u001b[0mnn\u001b[0m\u001b[1;33m.\u001b[0m\u001b[0mSoftmax\u001b[0m\u001b[1;33m(\u001b[0m\u001b[0mdim\u001b[0m\u001b[1;33m=\u001b[0m\u001b[1;36m1\u001b[0m\u001b[1;33m)\u001b[0m\u001b[1;33m\u001b[0m\u001b[1;33m\u001b[0m\u001b[0m\n\u001b[1;32m---> 18\u001b[1;33m             \u001b[1;32mfor\u001b[0m \u001b[0mbatch\u001b[0m \u001b[1;32min\u001b[0m \u001b[0mloader\u001b[0m\u001b[1;33m:\u001b[0m\u001b[1;33m\u001b[0m\u001b[1;33m\u001b[0m\u001b[0m\n\u001b[0m\u001b[0;32m     19\u001b[0m                 \u001b[0mret\u001b[0m\u001b[1;33m,\u001b[0m \u001b[0mlabel\u001b[0m \u001b[1;33m=\u001b[0m \u001b[0mbatch\u001b[0m\u001b[1;33m\u001b[0m\u001b[1;33m\u001b[0m\u001b[0m\n\u001b[0;32m     20\u001b[0m                 \u001b[0mimg\u001b[0m \u001b[1;33m=\u001b[0m \u001b[0mret\u001b[0m\u001b[1;33m[\u001b[0m\u001b[1;34m\"x0\"\u001b[0m\u001b[1;33m]\u001b[0m\u001b[1;33m[\u001b[0m\u001b[1;36m0\u001b[0m\u001b[1;33m]\u001b[0m\u001b[1;33m.\u001b[0m\u001b[0mto\u001b[0m\u001b[1;33m(\u001b[0m\u001b[0mdevice\u001b[0m\u001b[1;33m)\u001b[0m  \u001b[1;31m# numttaの枚数分同じtensor型の画像返す\u001b[0m\u001b[1;33m\u001b[0m\u001b[1;33m\u001b[0m\u001b[0m\n",
      "\u001b[1;32m~\\Anaconda3\\envs\\lightning\\lib\\site-packages\\torch\\utils\\data\\dataloader.py\u001b[0m in \u001b[0;36m__next__\u001b[1;34m(self)\u001b[0m\n\u001b[0;32m    361\u001b[0m \u001b[1;33m\u001b[0m\u001b[0m\n\u001b[0;32m    362\u001b[0m     \u001b[1;32mdef\u001b[0m \u001b[0m__next__\u001b[0m\u001b[1;33m(\u001b[0m\u001b[0mself\u001b[0m\u001b[1;33m)\u001b[0m\u001b[1;33m:\u001b[0m\u001b[1;33m\u001b[0m\u001b[1;33m\u001b[0m\u001b[0m\n\u001b[1;32m--> 363\u001b[1;33m         \u001b[0mdata\u001b[0m \u001b[1;33m=\u001b[0m \u001b[0mself\u001b[0m\u001b[1;33m.\u001b[0m\u001b[0m_next_data\u001b[0m\u001b[1;33m(\u001b[0m\u001b[1;33m)\u001b[0m\u001b[1;33m\u001b[0m\u001b[1;33m\u001b[0m\u001b[0m\n\u001b[0m\u001b[0;32m    364\u001b[0m         \u001b[0mself\u001b[0m\u001b[1;33m.\u001b[0m\u001b[0m_num_yielded\u001b[0m \u001b[1;33m+=\u001b[0m \u001b[1;36m1\u001b[0m\u001b[1;33m\u001b[0m\u001b[1;33m\u001b[0m\u001b[0m\n\u001b[0;32m    365\u001b[0m         \u001b[1;32mif\u001b[0m \u001b[0mself\u001b[0m\u001b[1;33m.\u001b[0m\u001b[0m_dataset_kind\u001b[0m \u001b[1;33m==\u001b[0m \u001b[0m_DatasetKind\u001b[0m\u001b[1;33m.\u001b[0m\u001b[0mIterable\u001b[0m \u001b[1;32mand\u001b[0m\u001b[0;31m \u001b[0m\u001b[0;31m\\\u001b[0m\u001b[1;33m\u001b[0m\u001b[1;33m\u001b[0m\u001b[0m\n",
      "\u001b[1;32m~\\Anaconda3\\envs\\lightning\\lib\\site-packages\\torch\\utils\\data\\dataloader.py\u001b[0m in \u001b[0;36m_next_data\u001b[1;34m(self)\u001b[0m\n\u001b[0;32m    401\u001b[0m     \u001b[1;32mdef\u001b[0m \u001b[0m_next_data\u001b[0m\u001b[1;33m(\u001b[0m\u001b[0mself\u001b[0m\u001b[1;33m)\u001b[0m\u001b[1;33m:\u001b[0m\u001b[1;33m\u001b[0m\u001b[1;33m\u001b[0m\u001b[0m\n\u001b[0;32m    402\u001b[0m         \u001b[0mindex\u001b[0m \u001b[1;33m=\u001b[0m \u001b[0mself\u001b[0m\u001b[1;33m.\u001b[0m\u001b[0m_next_index\u001b[0m\u001b[1;33m(\u001b[0m\u001b[1;33m)\u001b[0m  \u001b[1;31m# may raise StopIteration\u001b[0m\u001b[1;33m\u001b[0m\u001b[1;33m\u001b[0m\u001b[0m\n\u001b[1;32m--> 403\u001b[1;33m         \u001b[0mdata\u001b[0m \u001b[1;33m=\u001b[0m \u001b[0mself\u001b[0m\u001b[1;33m.\u001b[0m\u001b[0m_dataset_fetcher\u001b[0m\u001b[1;33m.\u001b[0m\u001b[0mfetch\u001b[0m\u001b[1;33m(\u001b[0m\u001b[0mindex\u001b[0m\u001b[1;33m)\u001b[0m  \u001b[1;31m# may raise StopIteration\u001b[0m\u001b[1;33m\u001b[0m\u001b[1;33m\u001b[0m\u001b[0m\n\u001b[0m\u001b[0;32m    404\u001b[0m         \u001b[1;32mif\u001b[0m \u001b[0mself\u001b[0m\u001b[1;33m.\u001b[0m\u001b[0m_pin_memory\u001b[0m\u001b[1;33m:\u001b[0m\u001b[1;33m\u001b[0m\u001b[1;33m\u001b[0m\u001b[0m\n\u001b[0;32m    405\u001b[0m             \u001b[0mdata\u001b[0m \u001b[1;33m=\u001b[0m \u001b[0m_utils\u001b[0m\u001b[1;33m.\u001b[0m\u001b[0mpin_memory\u001b[0m\u001b[1;33m.\u001b[0m\u001b[0mpin_memory\u001b[0m\u001b[1;33m(\u001b[0m\u001b[0mdata\u001b[0m\u001b[1;33m)\u001b[0m\u001b[1;33m\u001b[0m\u001b[1;33m\u001b[0m\u001b[0m\n",
      "\u001b[1;32m~\\Anaconda3\\envs\\lightning\\lib\\site-packages\\torch\\utils\\data\\_utils\\fetch.py\u001b[0m in \u001b[0;36mfetch\u001b[1;34m(self, possibly_batched_index)\u001b[0m\n\u001b[0;32m     42\u001b[0m     \u001b[1;32mdef\u001b[0m \u001b[0mfetch\u001b[0m\u001b[1;33m(\u001b[0m\u001b[0mself\u001b[0m\u001b[1;33m,\u001b[0m \u001b[0mpossibly_batched_index\u001b[0m\u001b[1;33m)\u001b[0m\u001b[1;33m:\u001b[0m\u001b[1;33m\u001b[0m\u001b[1;33m\u001b[0m\u001b[0m\n\u001b[0;32m     43\u001b[0m         \u001b[1;32mif\u001b[0m \u001b[0mself\u001b[0m\u001b[1;33m.\u001b[0m\u001b[0mauto_collation\u001b[0m\u001b[1;33m:\u001b[0m\u001b[1;33m\u001b[0m\u001b[1;33m\u001b[0m\u001b[0m\n\u001b[1;32m---> 44\u001b[1;33m             \u001b[0mdata\u001b[0m \u001b[1;33m=\u001b[0m \u001b[1;33m[\u001b[0m\u001b[0mself\u001b[0m\u001b[1;33m.\u001b[0m\u001b[0mdataset\u001b[0m\u001b[1;33m[\u001b[0m\u001b[0midx\u001b[0m\u001b[1;33m]\u001b[0m \u001b[1;32mfor\u001b[0m \u001b[0midx\u001b[0m \u001b[1;32min\u001b[0m \u001b[0mpossibly_batched_index\u001b[0m\u001b[1;33m]\u001b[0m\u001b[1;33m\u001b[0m\u001b[1;33m\u001b[0m\u001b[0m\n\u001b[0m\u001b[0;32m     45\u001b[0m         \u001b[1;32melse\u001b[0m\u001b[1;33m:\u001b[0m\u001b[1;33m\u001b[0m\u001b[1;33m\u001b[0m\u001b[0m\n\u001b[0;32m     46\u001b[0m             \u001b[0mdata\u001b[0m \u001b[1;33m=\u001b[0m \u001b[0mself\u001b[0m\u001b[1;33m.\u001b[0m\u001b[0mdataset\u001b[0m\u001b[1;33m[\u001b[0m\u001b[0mpossibly_batched_index\u001b[0m\u001b[1;33m]\u001b[0m\u001b[1;33m\u001b[0m\u001b[1;33m\u001b[0m\u001b[0m\n",
      "\u001b[1;32m~\\Anaconda3\\envs\\lightning\\lib\\site-packages\\torch\\utils\\data\\_utils\\fetch.py\u001b[0m in \u001b[0;36m<listcomp>\u001b[1;34m(.0)\u001b[0m\n\u001b[0;32m     42\u001b[0m     \u001b[1;32mdef\u001b[0m \u001b[0mfetch\u001b[0m\u001b[1;33m(\u001b[0m\u001b[0mself\u001b[0m\u001b[1;33m,\u001b[0m \u001b[0mpossibly_batched_index\u001b[0m\u001b[1;33m)\u001b[0m\u001b[1;33m:\u001b[0m\u001b[1;33m\u001b[0m\u001b[1;33m\u001b[0m\u001b[0m\n\u001b[0;32m     43\u001b[0m         \u001b[1;32mif\u001b[0m \u001b[0mself\u001b[0m\u001b[1;33m.\u001b[0m\u001b[0mauto_collation\u001b[0m\u001b[1;33m:\u001b[0m\u001b[1;33m\u001b[0m\u001b[1;33m\u001b[0m\u001b[0m\n\u001b[1;32m---> 44\u001b[1;33m             \u001b[0mdata\u001b[0m \u001b[1;33m=\u001b[0m \u001b[1;33m[\u001b[0m\u001b[0mself\u001b[0m\u001b[1;33m.\u001b[0m\u001b[0mdataset\u001b[0m\u001b[1;33m[\u001b[0m\u001b[0midx\u001b[0m\u001b[1;33m]\u001b[0m \u001b[1;32mfor\u001b[0m \u001b[0midx\u001b[0m \u001b[1;32min\u001b[0m \u001b[0mpossibly_batched_index\u001b[0m\u001b[1;33m]\u001b[0m\u001b[1;33m\u001b[0m\u001b[1;33m\u001b[0m\u001b[0m\n\u001b[0m\u001b[0;32m     45\u001b[0m         \u001b[1;32melse\u001b[0m\u001b[1;33m:\u001b[0m\u001b[1;33m\u001b[0m\u001b[1;33m\u001b[0m\u001b[0m\n\u001b[0;32m     46\u001b[0m             \u001b[0mdata\u001b[0m \u001b[1;33m=\u001b[0m \u001b[0mself\u001b[0m\u001b[1;33m.\u001b[0m\u001b[0mdataset\u001b[0m\u001b[1;33m[\u001b[0m\u001b[0mpossibly_batched_index\u001b[0m\u001b[1;33m]\u001b[0m\u001b[1;33m\u001b[0m\u001b[1;33m\u001b[0m\u001b[0m\n",
      "\u001b[1;32m<ipython-input-10-9cd8fdebd70c>\u001b[0m in \u001b[0;36m__getitem__\u001b[1;34m(self, index)\u001b[0m\n\u001b[0;32m     16\u001b[0m             \u001b[0mv\u001b[0m \u001b[1;33m=\u001b[0m \u001b[1;32mNone\u001b[0m\u001b[1;33m\u001b[0m\u001b[1;33m\u001b[0m\u001b[0m\n\u001b[0;32m     17\u001b[0m             \u001b[1;32mfor\u001b[0m \u001b[0mt\u001b[0m \u001b[1;32min\u001b[0m \u001b[0mg\u001b[0m\u001b[1;33m:\u001b[0m\u001b[1;33m\u001b[0m\u001b[1;33m\u001b[0m\u001b[0m\n\u001b[1;32m---> 18\u001b[1;33m                 \u001b[0mr\u001b[0m \u001b[1;33m=\u001b[0m \u001b[0mt\u001b[0m\u001b[1;33m(\u001b[0m\u001b[0mimage\u001b[0m\u001b[1;33m=\u001b[0m\u001b[0mx\u001b[0m\u001b[1;33m)\u001b[0m\u001b[1;33m[\u001b[0m\u001b[1;34m\"image\"\u001b[0m\u001b[1;33m]\u001b[0m\u001b[1;33m.\u001b[0m\u001b[0munsqueeze\u001b[0m\u001b[1;33m(\u001b[0m\u001b[1;36m0\u001b[0m\u001b[1;33m)\u001b[0m\u001b[1;33m\u001b[0m\u001b[1;33m\u001b[0m\u001b[0m\n\u001b[0m\u001b[0;32m     19\u001b[0m                 \u001b[0mv\u001b[0m \u001b[1;33m=\u001b[0m \u001b[0mr\u001b[0m \u001b[1;32mif\u001b[0m \u001b[0mv\u001b[0m \u001b[1;32mis\u001b[0m \u001b[1;32mNone\u001b[0m \u001b[1;32melse\u001b[0m \u001b[0mtorch\u001b[0m\u001b[1;33m.\u001b[0m\u001b[0mcat\u001b[0m\u001b[1;33m(\u001b[0m\u001b[1;33m[\u001b[0m\u001b[0mv\u001b[0m\u001b[1;33m,\u001b[0m \u001b[0mr\u001b[0m\u001b[1;33m]\u001b[0m\u001b[1;33m,\u001b[0m \u001b[0maxis\u001b[0m\u001b[1;33m=\u001b[0m\u001b[1;36m0\u001b[0m\u001b[1;33m)\u001b[0m\u001b[1;33m\u001b[0m\u001b[1;33m\u001b[0m\u001b[0m\n\u001b[0;32m     20\u001b[0m             \u001b[0mret\u001b[0m\u001b[1;33m[\u001b[0m\u001b[1;34mf\"x{i}\"\u001b[0m\u001b[1;33m]\u001b[0m \u001b[1;33m=\u001b[0m \u001b[0mv\u001b[0m\u001b[1;33m.\u001b[0m\u001b[0mfloat\u001b[0m\u001b[1;33m(\u001b[0m\u001b[1;33m)\u001b[0m\u001b[1;33m\u001b[0m\u001b[1;33m\u001b[0m\u001b[0m\n",
      "\u001b[1;32m~\\Anaconda3\\envs\\lightning\\lib\\site-packages\\albumentations\\core\\composition.py\u001b[0m in \u001b[0;36m__call__\u001b[1;34m(self, force_apply, *args, **data)\u001b[0m\n\u001b[0;32m    180\u001b[0m                     \u001b[0mp\u001b[0m\u001b[1;33m.\u001b[0m\u001b[0mpreprocess\u001b[0m\u001b[1;33m(\u001b[0m\u001b[0mdata\u001b[0m\u001b[1;33m)\u001b[0m\u001b[1;33m\u001b[0m\u001b[1;33m\u001b[0m\u001b[0m\n\u001b[0;32m    181\u001b[0m \u001b[1;33m\u001b[0m\u001b[0m\n\u001b[1;32m--> 182\u001b[1;33m             \u001b[0mdata\u001b[0m \u001b[1;33m=\u001b[0m \u001b[0mt\u001b[0m\u001b[1;33m(\u001b[0m\u001b[0mforce_apply\u001b[0m\u001b[1;33m=\u001b[0m\u001b[0mforce_apply\u001b[0m\u001b[1;33m,\u001b[0m \u001b[1;33m**\u001b[0m\u001b[0mdata\u001b[0m\u001b[1;33m)\u001b[0m\u001b[1;33m\u001b[0m\u001b[1;33m\u001b[0m\u001b[0m\n\u001b[0m\u001b[0;32m    183\u001b[0m \u001b[1;33m\u001b[0m\u001b[0m\n\u001b[0;32m    184\u001b[0m             \u001b[1;32mif\u001b[0m \u001b[0mdual_start_end\u001b[0m \u001b[1;32mis\u001b[0m \u001b[1;32mnot\u001b[0m \u001b[1;32mNone\u001b[0m \u001b[1;32mand\u001b[0m \u001b[0midx\u001b[0m \u001b[1;33m==\u001b[0m \u001b[0mdual_start_end\u001b[0m\u001b[1;33m[\u001b[0m\u001b[1;36m1\u001b[0m\u001b[1;33m]\u001b[0m\u001b[1;33m:\u001b[0m\u001b[1;33m\u001b[0m\u001b[1;33m\u001b[0m\u001b[0m\n",
      "\u001b[1;32m~\\Anaconda3\\envs\\lightning\\lib\\site-packages\\albumentations\\core\\transforms_interface.py\u001b[0m in \u001b[0;36m__call__\u001b[1;34m(self, force_apply, *args, **kwargs)\u001b[0m\n\u001b[0;32m     87\u001b[0m                     )\n\u001b[0;32m     88\u001b[0m                 \u001b[0mkwargs\u001b[0m\u001b[1;33m[\u001b[0m\u001b[0mself\u001b[0m\u001b[1;33m.\u001b[0m\u001b[0msave_key\u001b[0m\u001b[1;33m]\u001b[0m\u001b[1;33m[\u001b[0m\u001b[0mid\u001b[0m\u001b[1;33m(\u001b[0m\u001b[0mself\u001b[0m\u001b[1;33m)\u001b[0m\u001b[1;33m]\u001b[0m \u001b[1;33m=\u001b[0m \u001b[0mdeepcopy\u001b[0m\u001b[1;33m(\u001b[0m\u001b[0mparams\u001b[0m\u001b[1;33m)\u001b[0m\u001b[1;33m\u001b[0m\u001b[1;33m\u001b[0m\u001b[0m\n\u001b[1;32m---> 89\u001b[1;33m             \u001b[1;32mreturn\u001b[0m \u001b[0mself\u001b[0m\u001b[1;33m.\u001b[0m\u001b[0mapply_with_params\u001b[0m\u001b[1;33m(\u001b[0m\u001b[0mparams\u001b[0m\u001b[1;33m,\u001b[0m \u001b[1;33m**\u001b[0m\u001b[0mkwargs\u001b[0m\u001b[1;33m)\u001b[0m\u001b[1;33m\u001b[0m\u001b[1;33m\u001b[0m\u001b[0m\n\u001b[0m\u001b[0;32m     90\u001b[0m \u001b[1;33m\u001b[0m\u001b[0m\n\u001b[0;32m     91\u001b[0m         \u001b[1;32mreturn\u001b[0m \u001b[0mkwargs\u001b[0m\u001b[1;33m\u001b[0m\u001b[1;33m\u001b[0m\u001b[0m\n",
      "\u001b[1;32m~\\Anaconda3\\envs\\lightning\\lib\\site-packages\\albumentations\\core\\transforms_interface.py\u001b[0m in \u001b[0;36mapply_with_params\u001b[1;34m(self, params, force_apply, **kwargs)\u001b[0m\n\u001b[0;32m    100\u001b[0m                 \u001b[0mtarget_function\u001b[0m \u001b[1;33m=\u001b[0m \u001b[0mself\u001b[0m\u001b[1;33m.\u001b[0m\u001b[0m_get_target_function\u001b[0m\u001b[1;33m(\u001b[0m\u001b[0mkey\u001b[0m\u001b[1;33m)\u001b[0m\u001b[1;33m\u001b[0m\u001b[1;33m\u001b[0m\u001b[0m\n\u001b[0;32m    101\u001b[0m                 \u001b[0mtarget_dependencies\u001b[0m \u001b[1;33m=\u001b[0m \u001b[1;33m{\u001b[0m\u001b[0mk\u001b[0m\u001b[1;33m:\u001b[0m \u001b[0mkwargs\u001b[0m\u001b[1;33m[\u001b[0m\u001b[0mk\u001b[0m\u001b[1;33m]\u001b[0m \u001b[1;32mfor\u001b[0m \u001b[0mk\u001b[0m \u001b[1;32min\u001b[0m \u001b[0mself\u001b[0m\u001b[1;33m.\u001b[0m\u001b[0mtarget_dependence\u001b[0m\u001b[1;33m.\u001b[0m\u001b[0mget\u001b[0m\u001b[1;33m(\u001b[0m\u001b[0mkey\u001b[0m\u001b[1;33m,\u001b[0m \u001b[1;33m[\u001b[0m\u001b[1;33m]\u001b[0m\u001b[1;33m)\u001b[0m\u001b[1;33m}\u001b[0m\u001b[1;33m\u001b[0m\u001b[1;33m\u001b[0m\u001b[0m\n\u001b[1;32m--> 102\u001b[1;33m                 \u001b[0mres\u001b[0m\u001b[1;33m[\u001b[0m\u001b[0mkey\u001b[0m\u001b[1;33m]\u001b[0m \u001b[1;33m=\u001b[0m \u001b[0mtarget_function\u001b[0m\u001b[1;33m(\u001b[0m\u001b[0marg\u001b[0m\u001b[1;33m,\u001b[0m \u001b[1;33m**\u001b[0m\u001b[0mdict\u001b[0m\u001b[1;33m(\u001b[0m\u001b[0mparams\u001b[0m\u001b[1;33m,\u001b[0m \u001b[1;33m**\u001b[0m\u001b[0mtarget_dependencies\u001b[0m\u001b[1;33m)\u001b[0m\u001b[1;33m)\u001b[0m\u001b[1;33m\u001b[0m\u001b[1;33m\u001b[0m\u001b[0m\n\u001b[0m\u001b[0;32m    103\u001b[0m             \u001b[1;32melse\u001b[0m\u001b[1;33m:\u001b[0m\u001b[1;33m\u001b[0m\u001b[1;33m\u001b[0m\u001b[0m\n\u001b[0;32m    104\u001b[0m                 \u001b[0mres\u001b[0m\u001b[1;33m[\u001b[0m\u001b[0mkey\u001b[0m\u001b[1;33m]\u001b[0m \u001b[1;33m=\u001b[0m \u001b[1;32mNone\u001b[0m\u001b[1;33m\u001b[0m\u001b[1;33m\u001b[0m\u001b[0m\n",
      "\u001b[1;32m~\\Anaconda3\\envs\\lightning\\lib\\site-packages\\albumentations\\augmentations\\transforms.py\u001b[0m in \u001b[0;36mapply\u001b[1;34m(self, img, **params)\u001b[0m\n\u001b[0;32m    740\u001b[0m \u001b[1;33m\u001b[0m\u001b[0m\n\u001b[0;32m    741\u001b[0m     \u001b[1;32mdef\u001b[0m \u001b[0mapply\u001b[0m\u001b[1;33m(\u001b[0m\u001b[0mself\u001b[0m\u001b[1;33m,\u001b[0m \u001b[0mimg\u001b[0m\u001b[1;33m,\u001b[0m \u001b[1;33m**\u001b[0m\u001b[0mparams\u001b[0m\u001b[1;33m)\u001b[0m\u001b[1;33m:\u001b[0m\u001b[1;33m\u001b[0m\u001b[1;33m\u001b[0m\u001b[0m\n\u001b[1;32m--> 742\u001b[1;33m         \u001b[1;32mreturn\u001b[0m \u001b[0mF\u001b[0m\u001b[1;33m.\u001b[0m\u001b[0mcenter_crop\u001b[0m\u001b[1;33m(\u001b[0m\u001b[0mimg\u001b[0m\u001b[1;33m,\u001b[0m \u001b[0mself\u001b[0m\u001b[1;33m.\u001b[0m\u001b[0mheight\u001b[0m\u001b[1;33m,\u001b[0m \u001b[0mself\u001b[0m\u001b[1;33m.\u001b[0m\u001b[0mwidth\u001b[0m\u001b[1;33m)\u001b[0m\u001b[1;33m\u001b[0m\u001b[1;33m\u001b[0m\u001b[0m\n\u001b[0m\u001b[0;32m    743\u001b[0m \u001b[1;33m\u001b[0m\u001b[0m\n\u001b[0;32m    744\u001b[0m     \u001b[1;32mdef\u001b[0m \u001b[0mapply_to_bbox\u001b[0m\u001b[1;33m(\u001b[0m\u001b[0mself\u001b[0m\u001b[1;33m,\u001b[0m \u001b[0mbbox\u001b[0m\u001b[1;33m,\u001b[0m \u001b[1;33m**\u001b[0m\u001b[0mparams\u001b[0m\u001b[1;33m)\u001b[0m\u001b[1;33m:\u001b[0m\u001b[1;33m\u001b[0m\u001b[1;33m\u001b[0m\u001b[0m\n",
      "\u001b[1;32m~\\Anaconda3\\envs\\lightning\\lib\\site-packages\\albumentations\\augmentations\\functional.py\u001b[0m in \u001b[0;36mcenter_crop\u001b[1;34m(img, crop_height, crop_width)\u001b[0m\n\u001b[0;32m    307\u001b[0m     \u001b[0mheight\u001b[0m\u001b[1;33m,\u001b[0m \u001b[0mwidth\u001b[0m \u001b[1;33m=\u001b[0m \u001b[0mimg\u001b[0m\u001b[1;33m.\u001b[0m\u001b[0mshape\u001b[0m\u001b[1;33m[\u001b[0m\u001b[1;33m:\u001b[0m\u001b[1;36m2\u001b[0m\u001b[1;33m]\u001b[0m\u001b[1;33m\u001b[0m\u001b[1;33m\u001b[0m\u001b[0m\n\u001b[0;32m    308\u001b[0m     \u001b[1;32mif\u001b[0m \u001b[0mheight\u001b[0m \u001b[1;33m<\u001b[0m \u001b[0mcrop_height\u001b[0m \u001b[1;32mor\u001b[0m \u001b[0mwidth\u001b[0m \u001b[1;33m<\u001b[0m \u001b[0mcrop_width\u001b[0m\u001b[1;33m:\u001b[0m\u001b[1;33m\u001b[0m\u001b[1;33m\u001b[0m\u001b[0m\n\u001b[1;32m--> 309\u001b[1;33m         raise ValueError(\n\u001b[0m\u001b[0;32m    310\u001b[0m             \u001b[1;34m\"Requested crop size ({crop_height}, {crop_width}) is \"\u001b[0m\u001b[1;33m\u001b[0m\u001b[1;33m\u001b[0m\u001b[0m\n\u001b[0;32m    311\u001b[0m             \"larger than the image size ({height}, {width})\".format(\n",
      "\u001b[1;31mValueError\u001b[0m: Requested crop size (512, 512) is larger than the image size (500, 499)"
     ]
    }
   ],
   "source": [
    "# seresnext50_32x4d_cutmixfmix 過去コンペのデータあるので注意\n",
    "# oof -.---\n",
    "m_dir = r\"C:\\Users\\81908\\jupyter_notebook\\pytorch_lightning_work\\kaggle_Cassava\\notebook\\efficientnet-with-pytorch-lightning-train-infer\\20201217\\kaggle_upload_seresnext50_32x4d_cutmixfmix\"\n",
    "cfg = GetYaml(f\"{m_dir}/cfg.yaml\")\n",
    "mdl = sorted(glob.glob(f\"{m_dir}/model_seed_*.ckpt\"))\n",
    "models = get_models(mdl, \"CassavaLite\", CFG=cfg)\n",
    "\n",
    "_df = pd.read_csv(f\"{m_dir}/oof_preds_df.csv\")\n",
    "_df = _df.rename(columns={\"target\": \"label\"})\n",
    "if DEBUG:\n",
    "    _df = _df.iloc[:20, :]\n",
    "\n",
    "m_name = f\"seresnext50_32x4d_cutmixfmix\"\n",
    "models = [(models, n_tta, cfg.height)]\n",
    "random_state = cfg.seeds[0]\n",
    "Y_tta, Y_tta_hardvote = check_train_oof(models, random_state, _df)\n",
    "\n",
    "Y_tta, Y_tta_hardvote = Y_tta.iloc[:21397], Y_tta_hardvote.iloc[:21397]\n",
    "\n",
    "pickle.dump(Y_tta, open(f\"{outdir}/{m_name}_tta.pkl\", \"wb\"))\n",
    "pickle.dump(Y_tta_hardvote, open(f\"{outdir}/{m_name}_tta_hardvote.pkl\", \"wb\"))\n",
    "# display(Y_pred)\n",
    "# display(Y_hardvote)\n",
    "del models\n",
    "torch.cuda.empty_cache()\n",
    "gc.collect()"
   ]
  },
  {
   "cell_type": "code",
   "execution_count": 20,
   "metadata": {
    "lines_to_next_cell": 0
   },
   "outputs": [
    {
     "name": "stdout",
     "output_type": "stream",
     "text": [
      "C:\\Users\\81908\\jupyter_notebook\\pytorch_lightning_work\\kaggle_Cassava\\kaggle_datasets_dl\\cassava_vit_base_patch16_224.fit\\model_seed_0_fold_0.ckpt is loaded\n",
      "C:\\Users\\81908\\jupyter_notebook\\pytorch_lightning_work\\kaggle_Cassava\\kaggle_datasets_dl\\cassava_vit_base_patch16_224.fit\\model_seed_0_fold_1.ckpt is loaded\n",
      "C:\\Users\\81908\\jupyter_notebook\\pytorch_lightning_work\\kaggle_Cassava\\kaggle_datasets_dl\\cassava_vit_base_patch16_224.fit\\model_seed_0_fold_2.ckpt is loaded\n",
      "C:\\Users\\81908\\jupyter_notebook\\pytorch_lightning_work\\kaggle_Cassava\\kaggle_datasets_dl\\cassava_vit_base_patch16_224.fit\\model_seed_0_fold_3.ckpt is loaded\n",
      "C:\\Users\\81908\\jupyter_notebook\\pytorch_lightning_work\\kaggle_Cassava\\kaggle_datasets_dl\\cassava_vit_base_patch16_224.fit\\model_seed_0_fold_4.ckpt is loaded\n"
     ]
    },
    {
     "data": {
      "application/vnd.jupyter.widget-view+json": {
       "model_id": "684c92cf21284781b98c9da6b69b8830",
       "version_major": 2,
       "version_minor": 0
      },
      "text/plain": [
       "HBox(children=(HTML(value=''), FloatProgress(value=1.0, bar_style='info', layout=Layout(width='20px'), max=1.0…"
      ]
     },
     "metadata": {},
     "output_type": "display_data"
    },
    {
     "name": "stdout",
     "output_type": "stream",
     "text": [
      "\n",
      "oof: 0.8792\n",
      "oof_hardvote: 0.8203\n"
     ]
    },
    {
     "data": {
      "text/plain": [
       "28"
      ]
     },
     "execution_count": 20,
     "metadata": {},
     "output_type": "execute_result"
    }
   ],
   "source": [
    "# vit_base_patch16_224.fit\n",
    "# oof -.---\n",
    "m_dir = r\"C:\\Users\\81908\\jupyter_notebook\\pytorch_lightning_work\\kaggle_Cassava\\kaggle_datasets_dl\\cassava_vit_base_patch16_224.fit\"\n",
    "cfg = GetYaml(f\"{m_dir}/cfg.yaml\")\n",
    "mdl = sorted(glob.glob(f\"{m_dir}/model_seed_*.ckpt\"))\n",
    "models = get_models(mdl, \"CassavaLite2\", CFG=cfg)\n",
    "\n",
    "m_name = f\"vit_base_patch16_224.fit\"\n",
    "models = [(models, n_tta_many, cfg.height)]\n",
    "random_state = cfg.seeds[0]\n",
    "Y_tta, Y_tta_hardvote = check_train_oof(models, random_state, df)\n",
    "pickle.dump(Y_tta, open(f\"{outdir}/{m_name}_tta.pkl\", \"wb\"))\n",
    "pickle.dump(Y_tta_hardvote, open(f\"{outdir}/{m_name}_tta_hardvote.pkl\", \"wb\"))\n",
    "# display(Y_pred)\n",
    "# display(Y_hardvote)\n",
    "del models\n",
    "torch.cuda.empty_cache()\n",
    "gc.collect()"
   ]
  },
  {
   "cell_type": "code",
   "execution_count": 19,
   "metadata": {
    "lines_to_next_cell": 2
   },
   "outputs": [
    {
     "name": "stdout",
     "output_type": "stream",
     "text": [
      "C:\\Users\\81908\\jupyter_notebook\\pytorch_lightning_work\\kaggle_Cassava\\kaggle_datasets_dl\\cassava_vit_base_patch32_384.fit\\model_seed_42_fold_0.ckpt is loaded\n",
      "C:\\Users\\81908\\jupyter_notebook\\pytorch_lightning_work\\kaggle_Cassava\\kaggle_datasets_dl\\cassava_vit_base_patch32_384.fit\\model_seed_42_fold_1.ckpt is loaded\n",
      "C:\\Users\\81908\\jupyter_notebook\\pytorch_lightning_work\\kaggle_Cassava\\kaggle_datasets_dl\\cassava_vit_base_patch32_384.fit\\model_seed_42_fold_2.ckpt is loaded\n",
      "C:\\Users\\81908\\jupyter_notebook\\pytorch_lightning_work\\kaggle_Cassava\\kaggle_datasets_dl\\cassava_vit_base_patch32_384.fit\\model_seed_42_fold_3.ckpt is loaded\n",
      "C:\\Users\\81908\\jupyter_notebook\\pytorch_lightning_work\\kaggle_Cassava\\kaggle_datasets_dl\\cassava_vit_base_patch32_384.fit\\model_seed_42_fold_4.ckpt is loaded\n"
     ]
    },
    {
     "data": {
      "application/vnd.jupyter.widget-view+json": {
       "model_id": "8002985e8ea046de85006cb7437c93ff",
       "version_major": 2,
       "version_minor": 0
      },
      "text/plain": [
       "HBox(children=(HTML(value=''), FloatProgress(value=1.0, bar_style='info', layout=Layout(width='20px'), max=1.0…"
      ]
     },
     "metadata": {},
     "output_type": "display_data"
    },
    {
     "name": "stdout",
     "output_type": "stream",
     "text": [
      "\n",
      "oof: 0.8831\n",
      "oof_hardvote: 0.8231\n"
     ]
    },
    {
     "data": {
      "text/plain": [
       "18198"
      ]
     },
     "execution_count": 19,
     "metadata": {},
     "output_type": "execute_result"
    }
   ],
   "source": [
    "# vit_base_patch32_384.fit\n",
    "# oof -.---\n",
    "m_dir = r\"C:\\Users\\81908\\jupyter_notebook\\pytorch_lightning_work\\kaggle_Cassava\\kaggle_datasets_dl\\cassava_vit_base_patch32_384.fit\"\n",
    "cfg = GetYaml(f\"{m_dir}/cfg.yaml\")\n",
    "mdl = sorted(glob.glob(f\"{m_dir}/model_seed_*.ckpt\"))\n",
    "models = get_models(mdl, \"CassavaLite4\", CFG=cfg)\n",
    "\n",
    "m_name = f\"vit_base_patch32_384.fit\"\n",
    "models = [(models, n_tta_many, cfg.height)]\n",
    "random_state = cfg.seeds[0]\n",
    "Y_tta, Y_tta_hardvote = check_train_oof(models, random_state, df)\n",
    "pickle.dump(Y_tta, open(f\"{outdir}/{m_name}_tta.pkl\", \"wb\"))\n",
    "pickle.dump(Y_tta_hardvote, open(f\"{outdir}/{m_name}_tta_hardvote.pkl\", \"wb\"))\n",
    "# display(Y_pred)\n",
    "# display(Y_hardvote)\n",
    "del models\n",
    "torch.cuda.empty_cache()\n",
    "gc.collect()"
   ]
  },
  {
   "cell_type": "code",
   "execution_count": 19,
   "metadata": {},
   "outputs": [
    {
     "name": "stdout",
     "output_type": "stream",
     "text": [
      "C:\\Users\\81908\\jupyter_notebook\\pytorch_lightning_work\\kaggle_Cassava\\run_old_myPC\\notebook\\kaggle_upload_seresnext50_32x4d_fmix\\model_seed_0_fold_0.ckpt is loaded\n",
      "C:\\Users\\81908\\jupyter_notebook\\pytorch_lightning_work\\kaggle_Cassava\\run_old_myPC\\notebook\\kaggle_upload_seresnext50_32x4d_fmix\\model_seed_0_fold_1.ckpt is loaded\n",
      "C:\\Users\\81908\\jupyter_notebook\\pytorch_lightning_work\\kaggle_Cassava\\run_old_myPC\\notebook\\kaggle_upload_seresnext50_32x4d_fmix\\model_seed_0_fold_2.ckpt is loaded\n",
      "C:\\Users\\81908\\jupyter_notebook\\pytorch_lightning_work\\kaggle_Cassava\\run_old_myPC\\notebook\\kaggle_upload_seresnext50_32x4d_fmix\\model_seed_0_fold_3.ckpt is loaded\n",
      "C:\\Users\\81908\\jupyter_notebook\\pytorch_lightning_work\\kaggle_Cassava\\run_old_myPC\\notebook\\kaggle_upload_seresnext50_32x4d_fmix\\model_seed_0_fold_4.ckpt is loaded\n"
     ]
    },
    {
     "data": {
      "application/vnd.jupyter.widget-view+json": {
       "model_id": "4bb3395c37db44cbae4d8469032fcfd0",
       "version_major": 2,
       "version_minor": 0
      },
      "text/plain": [
       "HBox(children=(HTML(value=''), FloatProgress(value=1.0, bar_style='info', layout=Layout(width='20px'), max=1.0…"
      ]
     },
     "metadata": {},
     "output_type": "display_data"
    },
    {
     "name": "stdout",
     "output_type": "stream",
     "text": [
      "\n",
      "oof: 0.8834\n",
      "oof_hardvote: 0.8849\n"
     ]
    },
    {
     "data": {
      "text/plain": [
       "28"
      ]
     },
     "execution_count": 19,
     "metadata": {},
     "output_type": "execute_result"
    }
   ],
   "source": [
    "# seresnext50_32x4d_fmix\n",
    "# oof -.---\n",
    "m_dir = r\"C:\\Users\\81908\\jupyter_notebook\\pytorch_lightning_work\\kaggle_Cassava\\run_old_myPC\\notebook\\kaggle_upload_seresnext50_32x4d_fmix\"\n",
    "cfg = Config(**{\"arch\": \"seresnext50_32x4d\", \"gem_p\": 0, \"height\": 512, \"seeds\": [0]})\n",
    "mdl = sorted(glob.glob(f\"{m_dir}/model_seed_*.ckpt\"))\n",
    "models = get_models(mdl, \"CassavaLite4\", CFG=cfg)\n",
    "\n",
    "m_name = f\"seresnext50_32x4d_fmix\"\n",
    "models = [(models, n_tta, cfg.height)]\n",
    "random_state = cfg.seeds[0]\n",
    "Y_tta, Y_tta_hardvote = check_train_oof(models, random_state, df)\n",
    "pickle.dump(Y_tta, open(f\"{outdir}/{m_name}_tta.pkl\", \"wb\"))\n",
    "pickle.dump(Y_tta_hardvote, open(f\"{outdir}/{m_name}_tta_hardvote.pkl\", \"wb\"))\n",
    "# display(Y_pred)\n",
    "# display(Y_hardvote)\n",
    "del models\n",
    "torch.cuda.empty_cache()\n",
    "gc.collect()"
   ]
  },
  {
   "cell_type": "code",
   "execution_count": 18,
   "metadata": {},
   "outputs": [
    {
     "name": "stdout",
     "output_type": "stream",
     "text": [
      "C:\\Users\\81908\\jupyter_notebook\\pytorch_lightning_work\\kaggle_Cassava\\run_old_myPC\\notebook\\cassava-bitempered-logistic-loss\\20201227\\kaggle_upload_resnest101e_bi_tempered_loss\\model_seed_42_fold_0.ckpt is loaded\n",
      "C:\\Users\\81908\\jupyter_notebook\\pytorch_lightning_work\\kaggle_Cassava\\run_old_myPC\\notebook\\cassava-bitempered-logistic-loss\\20201227\\kaggle_upload_resnest101e_bi_tempered_loss\\model_seed_42_fold_1.ckpt is loaded\n",
      "C:\\Users\\81908\\jupyter_notebook\\pytorch_lightning_work\\kaggle_Cassava\\run_old_myPC\\notebook\\cassava-bitempered-logistic-loss\\20201227\\kaggle_upload_resnest101e_bi_tempered_loss\\model_seed_42_fold_2.ckpt is loaded\n",
      "C:\\Users\\81908\\jupyter_notebook\\pytorch_lightning_work\\kaggle_Cassava\\run_old_myPC\\notebook\\cassava-bitempered-logistic-loss\\20201227\\kaggle_upload_resnest101e_bi_tempered_loss\\model_seed_42_fold_3.ckpt is loaded\n",
      "C:\\Users\\81908\\jupyter_notebook\\pytorch_lightning_work\\kaggle_Cassava\\run_old_myPC\\notebook\\cassava-bitempered-logistic-loss\\20201227\\kaggle_upload_resnest101e_bi_tempered_loss\\model_seed_42_fold_4.ckpt is loaded\n"
     ]
    },
    {
     "data": {
      "application/vnd.jupyter.widget-view+json": {
       "model_id": "bdc385b6c15842f7bc98fc5112dba26c",
       "version_major": 2,
       "version_minor": 0
      },
      "text/plain": [
       "HBox(children=(HTML(value=''), FloatProgress(value=1.0, bar_style='info', layout=Layout(width='20px'), max=1.0…"
      ]
     },
     "metadata": {},
     "output_type": "display_data"
    },
    {
     "name": "stdout",
     "output_type": "stream",
     "text": [
      "\n",
      "oof: 0.8942\n",
      "oof_hardvote: 0.892\n"
     ]
    },
    {
     "data": {
      "text/plain": [
       "17"
      ]
     },
     "execution_count": 18,
     "metadata": {},
     "output_type": "execute_result"
    }
   ],
   "source": [
    "# resnest101e\n",
    "# oof -.---\n",
    "m_dir = r\"C:\\Users\\81908\\jupyter_notebook\\pytorch_lightning_work\\kaggle_Cassava\\run_old_myPC\\notebook\\cassava-bitempered-logistic-loss\\20201227\\kaggle_upload_resnest101e_bi_tempered_loss\"\n",
    "cfg = Config(**{\"arch\": \"resnest101e\", \"gem_p\": 0, \"height\": 512, \"seeds\": [42]})\n",
    "mdl = sorted(glob.glob(f\"{m_dir}/model_seed_*.ckpt\"))\n",
    "models = get_models(mdl, \"CassavaLite4\", CFG=cfg)\n",
    "\n",
    "m_name = f\"resnest101e\"\n",
    "models = [(models, n_tta, cfg.height)]\n",
    "random_state = cfg.seeds[0]\n",
    "Y_tta, Y_tta_hardvote = check_train_oof(models, random_state, df)\n",
    "pickle.dump(Y_tta, open(f\"{outdir}/{m_name}_tta.pkl\", \"wb\"))\n",
    "pickle.dump(Y_tta_hardvote, open(f\"{outdir}/{m_name}_tta_hardvote.pkl\", \"wb\"))\n",
    "# display(Y_pred)\n",
    "# display(Y_hardvote)\n",
    "del models\n",
    "torch.cuda.empty_cache()\n",
    "gc.collect()"
   ]
  },
  {
   "cell_type": "code",
   "execution_count": 22,
   "metadata": {},
   "outputs": [
    {
     "name": "stdout",
     "output_type": "stream",
     "text": [
      "C:\\Users\\81908\\jupyter_notebook\\pytorch_lightning_work\\kaggle_Cassava\\notebook\\cleanlab_test\\20210117\\kaggle_upload_resnest101e_cleanlab\\model_seed_0_fold_0.ckpt is loaded\n",
      "C:\\Users\\81908\\jupyter_notebook\\pytorch_lightning_work\\kaggle_Cassava\\notebook\\cleanlab_test\\20210117\\kaggle_upload_resnest101e_cleanlab\\model_seed_0_fold_1.ckpt is loaded\n",
      "C:\\Users\\81908\\jupyter_notebook\\pytorch_lightning_work\\kaggle_Cassava\\notebook\\cleanlab_test\\20210117\\kaggle_upload_resnest101e_cleanlab\\model_seed_0_fold_2.ckpt is loaded\n",
      "C:\\Users\\81908\\jupyter_notebook\\pytorch_lightning_work\\kaggle_Cassava\\notebook\\cleanlab_test\\20210117\\kaggle_upload_resnest101e_cleanlab\\model_seed_0_fold_3.ckpt is loaded\n",
      "C:\\Users\\81908\\jupyter_notebook\\pytorch_lightning_work\\kaggle_Cassava\\notebook\\cleanlab_test\\20210117\\kaggle_upload_resnest101e_cleanlab\\model_seed_0_fold_4.ckpt is loaded\n"
     ]
    },
    {
     "data": {
      "application/vnd.jupyter.widget-view+json": {
       "model_id": "9a0f5e9f420b4d0eb0103058f7e01b38",
       "version_major": 2,
       "version_minor": 0
      },
      "text/plain": [
       "HBox(children=(HTML(value=''), FloatProgress(value=1.0, bar_style='info', layout=Layout(width='20px'), max=1.0…"
      ]
     },
     "metadata": {},
     "output_type": "display_data"
    },
    {
     "name": "stdout",
     "output_type": "stream",
     "text": [
      "\n",
      "oof: 0.8948\n",
      "oof_hardvote: 0.8931\n"
     ]
    },
    {
     "data": {
      "text/plain": [
       "28"
      ]
     },
     "execution_count": 22,
     "metadata": {},
     "output_type": "execute_result"
    }
   ],
   "source": [
    "# resnest101e_cleanlab\n",
    "# oof -.---\n",
    "m_dir = r\"C:\\Users\\81908\\jupyter_notebook\\pytorch_lightning_work\\kaggle_Cassava\\notebook\\cleanlab_test\\20210117\\kaggle_upload_resnest101e_cleanlab\"\n",
    "cfg = GetYaml(f\"{m_dir}/cfg.yaml\")\n",
    "mdl = sorted(glob.glob(f\"{m_dir}/model_seed_*.ckpt\"))\n",
    "models = get_models(mdl, \"CassavaLite4\", CFG=cfg)\n",
    "\n",
    "m_name = f\"resnest101e_cleanlab\"\n",
    "models = [(models, n_tta, cfg.height)]\n",
    "random_state = cfg.seeds[0]\n",
    "Y_tta, Y_tta_hardvote = check_train_oof(models, random_state, df)\n",
    "pickle.dump(Y_tta, open(f\"{outdir}/{m_name}_tta.pkl\", \"wb\"))\n",
    "pickle.dump(Y_tta_hardvote, open(f\"{outdir}/{m_name}_tta_hardvote.pkl\", \"wb\"))\n",
    "# display(Y_pred)\n",
    "# display(Y_hardvote)\n",
    "del models\n",
    "torch.cuda.empty_cache()\n",
    "gc.collect()"
   ]
  },
  {
   "cell_type": "code",
   "execution_count": 19,
   "metadata": {},
   "outputs": [
    {
     "name": "stdout",
     "output_type": "stream",
     "text": [
      "C:\\Users\\81908\\jupyter_notebook\\pytorch_lightning_work\\kaggle_Cassava\\run_old_myPC\\notebook\\cleanlab_test\\20210117\\kaggle_upload_resnest101e_cleanlab_noise_cutmix\\model_seed_0_fold_0.ckpt is loaded\n",
      "C:\\Users\\81908\\jupyter_notebook\\pytorch_lightning_work\\kaggle_Cassava\\run_old_myPC\\notebook\\cleanlab_test\\20210117\\kaggle_upload_resnest101e_cleanlab_noise_cutmix\\model_seed_0_fold_1.ckpt is loaded\n",
      "C:\\Users\\81908\\jupyter_notebook\\pytorch_lightning_work\\kaggle_Cassava\\run_old_myPC\\notebook\\cleanlab_test\\20210117\\kaggle_upload_resnest101e_cleanlab_noise_cutmix\\model_seed_0_fold_2.ckpt is loaded\n",
      "C:\\Users\\81908\\jupyter_notebook\\pytorch_lightning_work\\kaggle_Cassava\\run_old_myPC\\notebook\\cleanlab_test\\20210117\\kaggle_upload_resnest101e_cleanlab_noise_cutmix\\model_seed_0_fold_3.ckpt is loaded\n",
      "C:\\Users\\81908\\jupyter_notebook\\pytorch_lightning_work\\kaggle_Cassava\\run_old_myPC\\notebook\\cleanlab_test\\20210117\\kaggle_upload_resnest101e_cleanlab_noise_cutmix\\model_seed_0_fold_4.ckpt is loaded\n"
     ]
    },
    {
     "data": {
      "application/vnd.jupyter.widget-view+json": {
       "model_id": "3fb4b4c72f3c4c38a085b3c82209da26",
       "version_major": 2,
       "version_minor": 0
      },
      "text/plain": [
       "HBox(children=(HTML(value=''), FloatProgress(value=1.0, bar_style='info', layout=Layout(width='20px'), max=1.0…"
      ]
     },
     "metadata": {},
     "output_type": "display_data"
    },
    {
     "name": "stdout",
     "output_type": "stream",
     "text": [
      "\n",
      "oof: 0.8949\n",
      "oof_hardvote: 0.8941\n"
     ]
    },
    {
     "data": {
      "text/plain": [
       "28"
      ]
     },
     "execution_count": 19,
     "metadata": {},
     "output_type": "execute_result"
    }
   ],
   "source": [
    "# resnest101e_cleanlab_noise_cutmix\n",
    "# oof -.---\n",
    "m_dir = r\"C:\\Users\\81908\\jupyter_notebook\\pytorch_lightning_work\\kaggle_Cassava\\run_old_myPC\\notebook\\cleanlab_test\\20210117\\kaggle_upload_resnest101e_cleanlab_noise_cutmix\"\n",
    "cfg = GetYaml(f\"{m_dir}/cfg.yaml\")\n",
    "mdl = sorted(glob.glob(f\"{m_dir}/model_seed_*.ckpt\"))\n",
    "models = get_models(mdl, \"CassavaLite4\", CFG=cfg)\n",
    "\n",
    "m_name = f\"resnest101e_cleanlab_noise_cutmix\"\n",
    "models = [(models, n_tta, cfg.height)]\n",
    "random_state = cfg.seeds[0]\n",
    "Y_tta, Y_tta_hardvote = check_train_oof(models, random_state, df)\n",
    "pickle.dump(Y_tta, open(f\"{outdir}/{m_name}_tta.pkl\", \"wb\"))\n",
    "pickle.dump(Y_tta_hardvote, open(f\"{outdir}/{m_name}_tta_hardvote.pkl\", \"wb\"))\n",
    "# display(Y_pred)\n",
    "# display(Y_hardvote)\n",
    "del models\n",
    "torch.cuda.empty_cache()\n",
    "gc.collect()"
   ]
  },
  {
   "cell_type": "code",
   "execution_count": 21,
   "metadata": {},
   "outputs": [
    {
     "name": "stdout",
     "output_type": "stream",
     "text": [
      "C:\\Users\\81908\\jupyter_notebook\\pytorch_lightning_work\\kaggle_Cassava\\gcp\\jupyter\\working\\20210112\\kaggle_upload_deit-base-patch16-224\\model_seed_0_fold_0.ckpt is loaded\n",
      "C:\\Users\\81908\\jupyter_notebook\\pytorch_lightning_work\\kaggle_Cassava\\gcp\\jupyter\\working\\20210112\\kaggle_upload_deit-base-patch16-224\\model_seed_0_fold_1.ckpt is loaded\n",
      "C:\\Users\\81908\\jupyter_notebook\\pytorch_lightning_work\\kaggle_Cassava\\gcp\\jupyter\\working\\20210112\\kaggle_upload_deit-base-patch16-224\\model_seed_0_fold_2.ckpt is loaded\n",
      "C:\\Users\\81908\\jupyter_notebook\\pytorch_lightning_work\\kaggle_Cassava\\gcp\\jupyter\\working\\20210112\\kaggle_upload_deit-base-patch16-224\\model_seed_0_fold_3.ckpt is loaded\n",
      "C:\\Users\\81908\\jupyter_notebook\\pytorch_lightning_work\\kaggle_Cassava\\gcp\\jupyter\\working\\20210112\\kaggle_upload_deit-base-patch16-224\\model_seed_0_fold_4.ckpt is loaded\n"
     ]
    },
    {
     "data": {
      "application/vnd.jupyter.widget-view+json": {
       "model_id": "c096036b17f34bd584581755ffbd7062",
       "version_major": 2,
       "version_minor": 0
      },
      "text/plain": [
       "HBox(children=(HTML(value=''), FloatProgress(value=1.0, bar_style='info', layout=Layout(width='20px'), max=1.0…"
      ]
     },
     "metadata": {},
     "output_type": "display_data"
    },
    {
     "name": "stdout",
     "output_type": "stream",
     "text": [
      "\n",
      "oof: 0.8853\n",
      "oof_hardvote: 0.8325\n"
     ]
    },
    {
     "data": {
      "text/plain": [
       "28"
      ]
     },
     "execution_count": 21,
     "metadata": {},
     "output_type": "execute_result"
    }
   ],
   "source": [
    "# deit_base_patch16_224\n",
    "# oof -.---\n",
    "m_dir = r\"C:\\Users\\81908\\jupyter_notebook\\pytorch_lightning_work\\kaggle_Cassava\\gcp\\jupyter\\working\\20210112\\kaggle_upload_deit-base-patch16-224\"\n",
    "cfg = GetYaml(f\"{m_dir}/cfg.yaml\")\n",
    "mdl = sorted(glob.glob(f\"{m_dir}/model_seed_*.ckpt\"))\n",
    "models = get_models(mdl, \"CassavaLite4\", CFG=cfg)\n",
    "\n",
    "m_name = f\"deit_base_patch16_224\"\n",
    "models = [(models, n_tta_many, cfg.height)]\n",
    "random_state = cfg.seeds[0]\n",
    "Y_tta, Y_tta_hardvote = check_train_oof(models, random_state, df)\n",
    "pickle.dump(Y_tta, open(f\"{outdir}/{m_name}_tta.pkl\", \"wb\"))\n",
    "pickle.dump(Y_tta_hardvote, open(f\"{outdir}/{m_name}_tta_hardvote.pkl\", \"wb\"))\n",
    "# display(Y_pred)\n",
    "# display(Y_hardvote)\n",
    "del models\n",
    "torch.cuda.empty_cache()\n",
    "gc.collect()"
   ]
  },
  {
   "cell_type": "code",
   "execution_count": 20,
   "metadata": {},
   "outputs": [
    {
     "name": "stdout",
     "output_type": "stream",
     "text": [
      "C:\\Users\\81908\\jupyter_notebook\\pytorch_lightning_work\\kaggle_Cassava\\notebook\\cassava-bitempered-logistic-loss\\20210121\\kaggle_upload_tf_efficientnet_b4_ns_fold3\\model_seed_159_fold_0.ckpt is loaded\n",
      "C:\\Users\\81908\\jupyter_notebook\\pytorch_lightning_work\\kaggle_Cassava\\notebook\\cassava-bitempered-logistic-loss\\20210121\\kaggle_upload_tf_efficientnet_b4_ns_fold3\\model_seed_159_fold_1.ckpt is loaded\n",
      "C:\\Users\\81908\\jupyter_notebook\\pytorch_lightning_work\\kaggle_Cassava\\notebook\\cassava-bitempered-logistic-loss\\20210121\\kaggle_upload_tf_efficientnet_b4_ns_fold3\\model_seed_159_fold_2.ckpt is loaded\n"
     ]
    },
    {
     "data": {
      "application/vnd.jupyter.widget-view+json": {
       "model_id": "afa216dc2e8047da91c1df5bb5bf6a52",
       "version_major": 2,
       "version_minor": 0
      },
      "text/plain": [
       "HBox(children=(HTML(value=''), FloatProgress(value=1.0, bar_style='info', layout=Layout(width='20px'), max=1.0…"
      ]
     },
     "metadata": {},
     "output_type": "display_data"
    },
    {
     "name": "stdout",
     "output_type": "stream",
     "text": [
      "\n",
      "oof: 0.8925\n",
      "oof_hardvote: 0.8915\n"
     ]
    },
    {
     "data": {
      "text/plain": [
       "28"
      ]
     },
     "execution_count": 20,
     "metadata": {},
     "output_type": "execute_result"
    }
   ],
   "source": [
    "# tf_efficientnet_b4_ns_fold3\n",
    "# oof -.---\n",
    "m_dir = r\"C:\\Users\\81908\\jupyter_notebook\\pytorch_lightning_work\\kaggle_Cassava\\notebook\\cassava-bitempered-logistic-loss\\20210121\\kaggle_upload_tf_efficientnet_b4_ns_fold3\"\n",
    "cfg = GetYaml(f\"{m_dir}/cfg.yaml\")\n",
    "mdl = sorted(glob.glob(f\"{m_dir}/model_seed_*.ckpt\"))\n",
    "models = get_models(mdl, \"CassavaLite4\", CFG=cfg)\n",
    "\n",
    "m_name = f\"tf_efficientnet_b4_ns_fold3\"\n",
    "models = [(models, n_tta, cfg.height)]\n",
    "random_state = cfg.seeds[0]\n",
    "Y_tta, Y_tta_hardvote = check_train_oof(models, random_state, df)\n",
    "pickle.dump(Y_tta, open(f\"{outdir}/{m_name}_tta.pkl\", \"wb\"))\n",
    "pickle.dump(Y_tta_hardvote, open(f\"{outdir}/{m_name}_tta_hardvote.pkl\", \"wb\"))\n",
    "# display(Y_pred)\n",
    "# display(Y_hardvote)\n",
    "del models\n",
    "torch.cuda.empty_cache()\n",
    "gc.collect()"
   ]
  },
  {
   "cell_type": "code",
   "execution_count": 19,
   "metadata": {},
   "outputs": [
    {
     "name": "stdout",
     "output_type": "stream",
     "text": [
      "C:\\Users\\81908\\jupyter_notebook\\pytorch_lightning_work\\kaggle_Cassava\\notebook\\cassava-bitempered-logistic-loss\\20210122\\kaggle_upload_tf_efficientnet_b4_ns_fold10\\model_seed_4562_fold_0.ckpt is loaded\n",
      "C:\\Users\\81908\\jupyter_notebook\\pytorch_lightning_work\\kaggle_Cassava\\notebook\\cassava-bitempered-logistic-loss\\20210122\\kaggle_upload_tf_efficientnet_b4_ns_fold10\\model_seed_4562_fold_1.ckpt is loaded\n",
      "C:\\Users\\81908\\jupyter_notebook\\pytorch_lightning_work\\kaggle_Cassava\\notebook\\cassava-bitempered-logistic-loss\\20210122\\kaggle_upload_tf_efficientnet_b4_ns_fold10\\model_seed_4562_fold_2.ckpt is loaded\n",
      "C:\\Users\\81908\\jupyter_notebook\\pytorch_lightning_work\\kaggle_Cassava\\notebook\\cassava-bitempered-logistic-loss\\20210122\\kaggle_upload_tf_efficientnet_b4_ns_fold10\\model_seed_4562_fold_3.ckpt is loaded\n",
      "C:\\Users\\81908\\jupyter_notebook\\pytorch_lightning_work\\kaggle_Cassava\\notebook\\cassava-bitempered-logistic-loss\\20210122\\kaggle_upload_tf_efficientnet_b4_ns_fold10\\model_seed_4562_fold_4.ckpt is loaded\n",
      "C:\\Users\\81908\\jupyter_notebook\\pytorch_lightning_work\\kaggle_Cassava\\notebook\\cassava-bitempered-logistic-loss\\20210122\\kaggle_upload_tf_efficientnet_b4_ns_fold10\\model_seed_4562_fold_5.ckpt is loaded\n",
      "C:\\Users\\81908\\jupyter_notebook\\pytorch_lightning_work\\kaggle_Cassava\\notebook\\cassava-bitempered-logistic-loss\\20210122\\kaggle_upload_tf_efficientnet_b4_ns_fold10\\model_seed_4562_fold_6.ckpt is loaded\n",
      "C:\\Users\\81908\\jupyter_notebook\\pytorch_lightning_work\\kaggle_Cassava\\notebook\\cassava-bitempered-logistic-loss\\20210122\\kaggle_upload_tf_efficientnet_b4_ns_fold10\\model_seed_4562_fold_7.ckpt is loaded\n",
      "C:\\Users\\81908\\jupyter_notebook\\pytorch_lightning_work\\kaggle_Cassava\\notebook\\cassava-bitempered-logistic-loss\\20210122\\kaggle_upload_tf_efficientnet_b4_ns_fold10\\model_seed_4562_fold_8.ckpt is loaded\n",
      "C:\\Users\\81908\\jupyter_notebook\\pytorch_lightning_work\\kaggle_Cassava\\notebook\\cassava-bitempered-logistic-loss\\20210122\\kaggle_upload_tf_efficientnet_b4_ns_fold10\\model_seed_4562_fold_9.ckpt is loaded\n"
     ]
    },
    {
     "data": {
      "application/vnd.jupyter.widget-view+json": {
       "model_id": "a04e949f400343d28f4999e8d1bb3053",
       "version_major": 2,
       "version_minor": 0
      },
      "text/plain": [
       "HBox(children=(HTML(value=''), FloatProgress(value=1.0, bar_style='info', layout=Layout(width='20px'), max=1.0…"
      ]
     },
     "metadata": {},
     "output_type": "display_data"
    },
    {
     "name": "stdout",
     "output_type": "stream",
     "text": [
      "\n",
      "oof: 0.8921\n",
      "oof_hardvote: 0.8906\n"
     ]
    },
    {
     "data": {
      "text/plain": [
       "19"
      ]
     },
     "execution_count": 19,
     "metadata": {},
     "output_type": "execute_result"
    }
   ],
   "source": [
    "# tf_efficientnet_b4_ns_fold10\n",
    "# oof -.---\n",
    "m_dir = r\"C:\\Users\\81908\\jupyter_notebook\\pytorch_lightning_work\\kaggle_Cassava\\notebook\\cassava-bitempered-logistic-loss\\20210122\\kaggle_upload_tf_efficientnet_b4_ns_fold10\"\n",
    "cfg = GetYaml(f\"{m_dir}/cfg.yaml\")\n",
    "mdl = sorted(glob.glob(f\"{m_dir}/model_seed_*.ckpt\"))\n",
    "models = get_models(mdl, \"CassavaLite4\", CFG=cfg)\n",
    "\n",
    "m_name = f\"tf_efficientnet_b4_ns_fold10\"\n",
    "models = [(models, n_tta, cfg.height)]\n",
    "random_state = cfg.seeds[0]\n",
    "Y_tta, Y_tta_hardvote = check_train_oof(models, random_state, df)\n",
    "pickle.dump(Y_tta, open(f\"{outdir}/{m_name}_tta.pkl\", \"wb\"))\n",
    "pickle.dump(Y_tta_hardvote, open(f\"{outdir}/{m_name}_tta_hardvote.pkl\", \"wb\"))\n",
    "# display(Y_pred)\n",
    "# display(Y_hardvote)\n",
    "del models\n",
    "torch.cuda.empty_cache()\n",
    "gc.collect()"
   ]
  },
  {
   "cell_type": "code",
   "execution_count": 21,
   "metadata": {
    "lines_to_next_cell": 0
   },
   "outputs": [
    {
     "name": "stdout",
     "output_type": "stream",
     "text": [
      "C:\\Users\\81908\\jupyter_notebook\\pytorch_lightning_work\\kaggle_Cassava\\notebook\\cleanlab_test\\20210125\\kaggle_upload_tf_efficientnet_b4_ns_cleanlab_noise_cutmix_fmix_n_over\\model_seed_83_fold_0.ckpt is loaded\n",
      "C:\\Users\\81908\\jupyter_notebook\\pytorch_lightning_work\\kaggle_Cassava\\notebook\\cleanlab_test\\20210125\\kaggle_upload_tf_efficientnet_b4_ns_cleanlab_noise_cutmix_fmix_n_over\\model_seed_83_fold_1.ckpt is loaded\n",
      "C:\\Users\\81908\\jupyter_notebook\\pytorch_lightning_work\\kaggle_Cassava\\notebook\\cleanlab_test\\20210125\\kaggle_upload_tf_efficientnet_b4_ns_cleanlab_noise_cutmix_fmix_n_over\\model_seed_83_fold_2.ckpt is loaded\n",
      "C:\\Users\\81908\\jupyter_notebook\\pytorch_lightning_work\\kaggle_Cassava\\notebook\\cleanlab_test\\20210125\\kaggle_upload_tf_efficientnet_b4_ns_cleanlab_noise_cutmix_fmix_n_over\\model_seed_83_fold_3.ckpt is loaded\n",
      "C:\\Users\\81908\\jupyter_notebook\\pytorch_lightning_work\\kaggle_Cassava\\notebook\\cleanlab_test\\20210125\\kaggle_upload_tf_efficientnet_b4_ns_cleanlab_noise_cutmix_fmix_n_over\\model_seed_83_fold_4.ckpt is loaded\n"
     ]
    },
    {
     "data": {
      "application/vnd.jupyter.widget-view+json": {
       "model_id": "5f258b4834f54a13898d5c2b7afdb972",
       "version_major": 2,
       "version_minor": 0
      },
      "text/plain": [
       "HBox(children=(HTML(value=''), FloatProgress(value=1.0, bar_style='info', layout=Layout(width='20px'), max=1.0…"
      ]
     },
     "metadata": {},
     "output_type": "display_data"
    },
    {
     "name": "stdout",
     "output_type": "stream",
     "text": [
      "\n",
      "oof: 0.8881\n",
      "oof_hardvote: 0.8871\n"
     ]
    },
    {
     "data": {
      "text/plain": [
       "28"
      ]
     },
     "execution_count": 21,
     "metadata": {},
     "output_type": "execute_result"
    }
   ],
   "source": [
    "# tf_efficientnet_b4_ns_cleanlab_noise_cutmix_fmix_n_over\n",
    "# oof -.---\n",
    "m_dir = r\"C:\\Users\\81908\\jupyter_notebook\\pytorch_lightning_work\\kaggle_Cassava\\notebook\\cleanlab_test\\20210125\\kaggle_upload_tf_efficientnet_b4_ns_cleanlab_noise_cutmix_fmix_n_over\"\n",
    "cfg = GetYaml(f\"{m_dir}/cfg.yaml\")\n",
    "mdl = sorted(glob.glob(f\"{m_dir}/model_seed_*.ckpt\"))\n",
    "models = get_models(mdl, \"CassavaLite4\", CFG=cfg)\n",
    "\n",
    "m_name = f\"tf_efficientnet_b4_ns_cleanlab_noise_cutmix_fmix_n_over\"\n",
    "models = [(models, n_tta, cfg.height)]\n",
    "random_state = cfg.seeds[0]\n",
    "Y_tta, Y_tta_hardvote = check_train_oof(models, random_state, df)\n",
    "pickle.dump(Y_tta, open(f\"{outdir}/{m_name}_tta.pkl\", \"wb\"))\n",
    "pickle.dump(Y_tta_hardvote, open(f\"{outdir}/{m_name}_tta_hardvote.pkl\", \"wb\"))\n",
    "# display(Y_pred)\n",
    "# display(Y_hardvote)\n",
    "del models\n",
    "torch.cuda.empty_cache()\n",
    "gc.collect()"
   ]
  },
  {
   "cell_type": "code",
   "execution_count": 20,
   "metadata": {},
   "outputs": [
    {
     "name": "stdout",
     "output_type": "stream",
     "text": [
      "Using default model initialization\n",
      "Using default model initialization\n",
      "C:\\Users\\81908\\jupyter_notebook\\pytorch_lightning_work\\kaggle_Cassava\\kaggle_datasets_dl\\cassava_microsoftvisionresnet50\\model_seed_0_fold_0.ckpt is loaded\n",
      "Using default model initialization\n",
      "Using default model initialization\n",
      "C:\\Users\\81908\\jupyter_notebook\\pytorch_lightning_work\\kaggle_Cassava\\kaggle_datasets_dl\\cassava_microsoftvisionresnet50\\model_seed_0_fold_1.ckpt is loaded\n",
      "Using default model initialization\n",
      "Using default model initialization\n",
      "C:\\Users\\81908\\jupyter_notebook\\pytorch_lightning_work\\kaggle_Cassava\\kaggle_datasets_dl\\cassava_microsoftvisionresnet50\\model_seed_0_fold_2.ckpt is loaded\n",
      "Using default model initialization\n",
      "Using default model initialization\n",
      "C:\\Users\\81908\\jupyter_notebook\\pytorch_lightning_work\\kaggle_Cassava\\kaggle_datasets_dl\\cassava_microsoftvisionresnet50\\model_seed_0_fold_3.ckpt is loaded\n",
      "Using default model initialization\n",
      "Using default model initialization\n",
      "C:\\Users\\81908\\jupyter_notebook\\pytorch_lightning_work\\kaggle_Cassava\\kaggle_datasets_dl\\cassava_microsoftvisionresnet50\\model_seed_0_fold_4.ckpt is loaded\n"
     ]
    },
    {
     "data": {
      "application/vnd.jupyter.widget-view+json": {
       "model_id": "0e753100e6ae42f78487212eacbe6e47",
       "version_major": 2,
       "version_minor": 0
      },
      "text/plain": [
       "HBox(children=(HTML(value=''), FloatProgress(value=1.0, bar_style='info', layout=Layout(width='20px'), max=1.0…"
      ]
     },
     "metadata": {},
     "output_type": "display_data"
    },
    {
     "name": "stdout",
     "output_type": "stream",
     "text": [
      "\n",
      "oof: 0.8866\n",
      "oof_hardvote: 0.8827\n"
     ]
    },
    {
     "data": {
      "text/plain": [
       "28"
      ]
     },
     "execution_count": 20,
     "metadata": {},
     "output_type": "execute_result"
    }
   ],
   "source": [
    "# microsoftvisionresnet50\n",
    "# oof -.---\n",
    "m_dir = r\"C:\\Users\\81908\\jupyter_notebook\\pytorch_lightning_work\\kaggle_Cassava\\kaggle_datasets_dl\\cassava_microsoftvisionresnet50\"\n",
    "cfg = GetYaml(f\"{m_dir}/cfg.yaml\")\n",
    "mdl = sorted(glob.glob(f\"{m_dir}/model_seed_*.ckpt\"))\n",
    "models = get_models(mdl, \"CassavaLite4\", CFG=cfg)\n",
    "\n",
    "m_name = f\"microsoftvisionresnet50\"\n",
    "models = [(models, n_tta, cfg.height)]\n",
    "random_state = cfg.seeds[0]\n",
    "Y_tta, Y_tta_hardvote = check_train_oof(models, random_state, df)\n",
    "pickle.dump(Y_tta, open(f\"{outdir}/{m_name}_tta.pkl\", \"wb\"))\n",
    "pickle.dump(Y_tta_hardvote, open(f\"{outdir}/{m_name}_tta_hardvote.pkl\", \"wb\"))\n",
    "# display(Y_pred)\n",
    "# display(Y_hardvote)\n",
    "del models\n",
    "torch.cuda.empty_cache()\n",
    "gc.collect()"
   ]
  },
  {
   "cell_type": "code",
   "execution_count": null,
   "metadata": {
    "lines_to_next_cell": 2
   },
   "outputs": [],
   "source": []
  },
  {
   "cell_type": "code",
   "execution_count": null,
   "metadata": {},
   "outputs": [],
   "source": [
    "pickle.load(open(f\"{outdir}/{m_name}_tta.pkl\", \"rb\"))"
   ]
  },
  {
   "cell_type": "code",
   "execution_count": null,
   "metadata": {},
   "outputs": [],
   "source": [
    "pickle.load(open(f\"{outdir}/{m_name}_tta_hardvote.pkl\", \"rb\"))"
   ]
  },
  {
   "cell_type": "code",
   "execution_count": null,
   "metadata": {},
   "outputs": [],
   "source": []
  },
  {
   "cell_type": "code",
   "execution_count": null,
   "metadata": {},
   "outputs": [],
   "source": []
  },
  {
   "cell_type": "code",
   "execution_count": null,
   "metadata": {},
   "outputs": [],
   "source": []
  },
  {
   "cell_type": "code",
   "execution_count": null,
   "metadata": {},
   "outputs": [],
   "source": []
  },
  {
   "cell_type": "code",
   "execution_count": null,
   "metadata": {},
   "outputs": [],
   "source": []
  },
  {
   "cell_type": "code",
   "execution_count": null,
   "metadata": {},
   "outputs": [],
   "source": []
  },
  {
   "cell_type": "code",
   "execution_count": null,
   "metadata": {},
   "outputs": [],
   "source": []
  },
  {
   "cell_type": "code",
   "execution_count": null,
   "metadata": {},
   "outputs": [],
   "source": []
  },
  {
   "cell_type": "code",
   "execution_count": null,
   "metadata": {},
   "outputs": [],
   "source": []
  },
  {
   "cell_type": "code",
   "execution_count": null,
   "metadata": {},
   "outputs": [],
   "source": [
    "if COMMIT:\n",
    "    display(pd.DataFrame(test_preds_list[0], columns=name_mapping.values()))\n",
    "    display(pd.DataFrame(test_preds_list[1], columns=name_mapping.values()))\n",
    "    display(pd.DataFrame(test_preds_list[2], columns=name_mapping.values()))"
   ]
  },
  {
   "cell_type": "markdown",
   "metadata": {
    "papermill": {
     "duration": 0.150074,
     "end_time": "2021-02-06T17:53:11.773401",
     "exception": false,
     "start_time": "2021-02-06T17:53:11.623327",
     "status": "completed"
    },
    "tags": []
   },
   "source": [
    "### --- SiNpcw Module ---"
   ]
  },
  {
   "cell_type": "code",
   "execution_count": null,
   "metadata": {
    "papermill": {
     "duration": 0.163616,
     "end_time": "2021-02-06T17:53:12.089453",
     "exception": false,
     "start_time": "2021-02-06T17:53:11.925837",
     "status": "completed"
    },
    "tags": []
   },
   "outputs": [],
   "source": [
    "# tta operation\n",
    "TTA_ROUND = 3\n",
    "\n",
    "# image size\n",
    "SIZE = 512\n",
    "\n",
    "# class\n",
    "NUM_CLASSES = 5"
   ]
  },
  {
   "cell_type": "code",
   "execution_count": null,
   "metadata": {
    "papermill": {
     "duration": 0.170246,
     "end_time": "2021-02-06T17:53:12.409457",
     "exception": false,
     "start_time": "2021-02-06T17:53:12.239211",
     "status": "completed"
    },
    "tags": []
   },
   "outputs": [],
   "source": [
    "def GetPath(pth):\n",
    "    return os.path.join('../input/cassavapth/', pth)\n",
    "\n",
    "modeldefs = [\n",
    "    # Gr1.\n",
    "    [\n",
    "        # B4+FINE+UDA+TTA3 (LB900), CV: k0=8981, k1ep13=9030, k2ep13=8927, k3ep12=8983, k4ep14=8904\n",
    "        { 'name' : 'efficientnet-b4', 'pth' : GetPath('22019613/22019613k0.pth') },\n",
    "        { 'name' : 'efficientnet-b4', 'pth' : GetPath('22019613/22019613k1.pth') },\n",
    "        { 'name' : 'efficientnet-b4', 'pth' : GetPath('22019613/22019613k2.pth') },\n",
    "        { 'name' : 'efficientnet-b4', 'pth' : GetPath('22019613/22019613k3.pth') },\n",
    "        { 'name' : 'efficientnet-b4', 'pth' : GetPath('22019613/22019613k4.pth') },\n",
    "    ],\n",
    "    # Gr2.\n",
    "    [\n",
    "        # resnest101e (LB896), CV: k0=9005, k1=9012, k2=8960, k3=8967, k4=8920\n",
    "        { 'name' : 'timm-resnest101e', 'pth' : GetPath('22019632/22019632k0.pth') },\n",
    "        { 'name' : 'timm-resnest101e', 'pth' : GetPath('22019632/22019632k1.pth') },\n",
    "        { 'name' : 'timm-resnest101e', 'pth' : GetPath('22019632/22019632k2.pth') },\n",
    "        { 'name' : 'timm-resnest101e', 'pth' : GetPath('22019632/22019632k3.pth') },\n",
    "        { 'name' : 'timm-resnest101e', 'pth' : GetPath('22019632/22019632k4.pth') },\n",
    "    ]\n",
    "]"
   ]
  },
  {
   "cell_type": "code",
   "execution_count": null,
   "metadata": {
    "papermill": {
     "duration": 0.171441,
     "end_time": "2021-02-06T17:53:12.736895",
     "exception": false,
     "start_time": "2021-02-06T17:53:12.565454",
     "status": "completed"
    },
    "tags": []
   },
   "outputs": [],
   "source": [
    "def GetModel(name, param):\n",
    "    num_classes = NUM_CLASSES\n",
    "    if name in [ 'resnet18', 'resnet34', 'resnet50', 'resnet101', 'resnet152', 'resnext50', 'resnext101', 'wide_resnet50', 'wide_resnet101' ]:\n",
    "        if name == 'resnext50' or name == 'resnext101':\n",
    "            name = name + '_32x4d'\n",
    "        elif name == 'wide_resnet50' or name == 'wide_resnet101':\n",
    "            name = name + '_2'\n",
    "        model = getattr(torchvision.models, name)(pretrained=None)\n",
    "        model.fc = nn.Linear(model.fc.in_features, num_classes)\n",
    "    elif name in [ 'senet154', 'se_resnet50', 'se_resnet101', 'se_resnet152', 'se_resnext50', 'se_resnext101', 'se_resnext50_32x4d', 'se_resnext101_32x4d' ]:\n",
    "        if name == 'se_resnext50' or name == 'se_resnext101':\n",
    "            name = name + '_32x4d'\n",
    "        model = getattr(pretrainedmodels, name)(pretrained=None)\n",
    "        model.avg_pool = nn.AdaptiveAvgPool2d((1, 1))\n",
    "        model.last_linear = nn.Linear(model.last_linear.in_features, num_classes)\n",
    "    elif name.startswith('efficientnet-b'):\n",
    "        model = EfficientNet.from_name(name)\n",
    "        model._fc = nn.Linear(model._fc.in_features, num_classes)\n",
    "    elif name.startswith('timm-'):\n",
    "        model = timm.create_model(model_name=name[len('timm-'):], num_classes=num_classes, in_chans=3, pretrained=False)\n",
    "    else:\n",
    "        raise NameError()\n",
    "    state = torch.load(param, map_location=device)\n",
    "    model.load_state_dict(state, strict=True)\n",
    "    model.eval()\n",
    "    print('model ({}) is loaded'.format(name))\n",
    "    return model"
   ]
  },
  {
   "cell_type": "code",
   "execution_count": null,
   "metadata": {
    "papermill": {
     "duration": 0.1685,
     "end_time": "2021-02-06T17:53:13.058576",
     "exception": false,
     "start_time": "2021-02-06T17:53:12.890076",
     "status": "completed"
    },
    "tags": []
   },
   "outputs": [],
   "source": [
    "def GetAugment(size):\n",
    "    return A.Compose([\n",
    "        A.Resize(size, size),\n",
    "        A.Normalize()\n",
    "    ], p=1.0)"
   ]
  },
  {
   "cell_type": "code",
   "execution_count": null,
   "metadata": {
    "papermill": {
     "duration": 0.274308,
     "end_time": "2021-02-06T17:53:13.534621",
     "exception": false,
     "start_time": "2021-02-06T17:53:13.260313",
     "status": "completed"
    },
    "tags": []
   },
   "outputs": [],
   "source": [
    "def TTA(img, ops):\n",
    "    # input: NxCxHxW\n",
    "    if ops == 0:\n",
    "        pass\n",
    "    elif ops == 1:\n",
    "        img = torch.flip(img, [-1])\n",
    "    elif ops == 2:\n",
    "        img = torch.flip(img, [-2])\n",
    "    elif ops == 3:\n",
    "        img = torch.flip(img, [-1, -2])\n",
    "    elif ops == 4:\n",
    "        img = torch.rot90(img, 1, [2, 3])\n",
    "    elif ops == 5:\n",
    "        img = torch.rot90(img, 3, [2, 3])\n",
    "    else:\n",
    "        pass\n",
    "    return img"
   ]
  },
  {
   "cell_type": "code",
   "execution_count": null,
   "metadata": {
    "papermill": {
     "duration": 0.209191,
     "end_time": "2021-02-06T17:53:13.973823",
     "exception": false,
     "start_time": "2021-02-06T17:53:13.764632",
     "status": "completed"
    },
    "tags": []
   },
   "outputs": [],
   "source": [
    "def GetDataLoader(batch=8, num_workers=2):\n",
    "    files = test_df.iloc[:, 0].values\n",
    "    dataset = InferDataset(files, augops=GetAugment(SIZE))\n",
    "    return torch.utils.data.DataLoader(\n",
    "        dataset,\n",
    "        batch_size=batch,\n",
    "        shuffle=False,\n",
    "        drop_last=False,\n",
    "        num_workers=num_workers\n",
    "    )\n",
    "\n",
    "class InferDataset(Dataset):\n",
    "    def __init__(self, files, augops):\n",
    "        self.files = files\n",
    "        self.augops = augops\n",
    "\n",
    "    def __len__(self):\n",
    "        return len(self.files)\n",
    "\n",
    "    def __getitem__(self, idx):\n",
    "        img = cv2.imread(os.path.join(img_dir, self.files[idx]))\n",
    "        img = cv2.cvtColor(img, cv2.COLOR_BGR2RGB)\n",
    "        out = self.augops(force_apply=False, image=img)['image']\n",
    "        out = out.transpose(2, 0, 1)\n",
    "        return torch.from_numpy(out)\n",
    "\n",
    "loader = GetDataLoader(batch=8)"
   ]
  },
  {
   "cell_type": "code",
   "execution_count": null,
   "metadata": {
    "papermill": {
     "duration": 20.504744,
     "end_time": "2021-02-06T17:53:34.644705",
     "exception": false,
     "start_time": "2021-02-06T17:53:14.139961",
     "status": "completed"
    },
    "tags": []
   },
   "outputs": [],
   "source": [
    "modelgroups = [ ]\n",
    "for i, groupdef in enumerate(modeldefs):\n",
    "    print(f'--- Group{i} ---')\n",
    "    models = [ ]\n",
    "    for mdef in groupdef:\n",
    "        mdl = GetModel(mdef['name'], mdef['pth']).to(device)\n",
    "        models.append(mdl)\n",
    "    modelgroups.append(models)"
   ]
  },
  {
   "cell_type": "code",
   "execution_count": null,
   "metadata": {
    "papermill": {
     "duration": 1.495351,
     "end_time": "2021-02-06T17:53:36.298518",
     "exception": false,
     "start_time": "2021-02-06T17:53:34.803167",
     "status": "completed"
    },
    "tags": []
   },
   "outputs": [],
   "source": [
    "with torch.no_grad():\n",
    "    gnums = len(modelgroups)\n",
    "    preds = [ [] for _ in range(gnums) ] * gnums\n",
    "    actfn = nn.Softmax(dim=1)\n",
    "    for _, itr in enumerate(loader):\n",
    "        x = itr\n",
    "        b = x.shape[0]\n",
    "        x = x.to(device)\n",
    "        y = torch.zeros([gnums, b, NUM_CLASSES], device=device)\n",
    "        for tta in range(TTA_ROUND):\n",
    "            xi = TTA(x, tta)\n",
    "            for g, modelgroup in enumerate(modelgroups):\n",
    "                ratio = 1.0 / len(modelgroup)\n",
    "                for model in modelgroup:\n",
    "                    y[g, :, :] = y[g, :, :] + actfn(model(xi)) * ratio\n",
    "        if TTA_ROUND > 1:\n",
    "            y = y / TTA_ROUND\n",
    "        y = y.detach().cpu().numpy()\n",
    "        for g in range(gnums):\n",
    "            preds[g] += [ y[g, :, :] ]\n",
    "for g in range(gnums):\n",
    "    preds[g] = np.concatenate(preds[g], axis=0).reshape(-1, 5)\n",
    "    test_preds_list.append(preds[g])"
   ]
  },
  {
   "cell_type": "code",
   "execution_count": null,
   "metadata": {
    "papermill": {
     "duration": 0.174968,
     "end_time": "2021-02-06T17:53:36.638836",
     "exception": false,
     "start_time": "2021-02-06T17:53:36.463868",
     "status": "completed"
    },
    "tags": []
   },
   "outputs": [],
   "source": [
    "if DEBUG:\n",
    "    print(test_preds_list)"
   ]
  },
  {
   "cell_type": "markdown",
   "metadata": {
    "papermill": {
     "duration": 0.16071,
     "end_time": "2021-02-06T17:53:36.960214",
     "exception": false,
     "start_time": "2021-02-06T17:53:36.799504",
     "status": "completed"
    },
    "tags": []
   },
   "source": [
    "## ensemble"
   ]
  },
  {
   "cell_type": "code",
   "execution_count": null,
   "metadata": {
    "papermill": {
     "duration": 0.183922,
     "end_time": "2021-02-06T17:53:37.306814",
     "exception": false,
     "start_time": "2021-02-06T17:53:37.122892",
     "status": "completed"
    },
    "tags": []
   },
   "outputs": [],
   "source": [
    "# oofのcfmにもとづいた重み\n",
    "# oof=0.9053605645651259\n",
    "ens_weights = np.array(\n",
    "    [\n",
    "        [0.21396141, 0.20027513, 0.20551536, 0.19993096, 0.19595167],  # tf_efficientnet_b4_ns\n",
    "        [0.20459705, 0.19993122, 0.20834644, 0.20013494, 0.20400593],  # byol_seresnext50_32x4d\n",
    "        [0.1753689 , 0.1870916 , 0.18139876, 0.1981736 , 0.18853328],  # vit_b16_224_fold10\n",
    "        [0.2122588 , 0.20382896, 0.20069204, 0.20110776, 0.20379398],  # 22019613_efficientnet-b4.pkl\n",
    "        [0.19381385, 0.20887309, 0.20404739, 0.20065273, 0.20771513],  # 22019632_timm-resnest101e.pkl\n",
    "    ]\n",
    ")\n",
    "test_preds_ensemble = np.zeros((test_df.shape[0], n_classes))\n",
    "for i,pre in enumerate(test_preds_list):\n",
    "    test_preds_ensemble += ens_weights[i] * pre\n",
    "display(pd.DataFrame(test_preds_ensemble, columns=name_mapping.values()))"
   ]
  },
  {
   "cell_type": "code",
   "execution_count": null,
   "metadata": {
    "papermill": {
     "duration": 0.401426,
     "end_time": "2021-02-06T17:53:37.872217",
     "exception": false,
     "start_time": "2021-02-06T17:53:37.470791",
     "status": "completed"
    },
    "tags": []
   },
   "outputs": [],
   "source": [
    "test_df['label'] = test_preds_ensemble.argmax(1)\n",
    "test_df.to_csv('submission.csv', index=False)\n",
    "display(test_df)"
   ]
  }
 ],
 "metadata": {
  "jupytext": {
   "encoding": "# -*- coding: utf-8 -*-",
   "text_representation": {
    "extension": ".py",
    "format_name": "light",
    "format_version": "1.5",
    "jupytext_version": "1.7.1"
   }
  },
  "kernelspec": {
   "display_name": "Python 3",
   "language": "python",
   "name": "python3"
  },
  "language_info": {
   "codemirror_mode": {
    "name": "ipython",
    "version": 3
   },
   "file_extension": ".py",
   "mimetype": "text/x-python",
   "name": "python",
   "nbconvert_exporter": "python",
   "pygments_lexer": "ipython3",
   "version": "3.8.6"
  }
 },
 "nbformat": 4,
 "nbformat_minor": 4
}
