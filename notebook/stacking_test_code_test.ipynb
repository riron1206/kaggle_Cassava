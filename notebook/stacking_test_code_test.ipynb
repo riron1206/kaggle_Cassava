{
 "cells": [
  {
   "cell_type": "code",
   "execution_count": 1,
   "metadata": {},
   "outputs": [
    {
     "name": "stdout",
     "output_type": "stream",
     "text": [
      "/c/Users/81908/jupyter_notebook/pytorch_lightning_work/kaggle_Cassava/notebook/stacking_test/code_test\n"
     ]
    },
    {
     "data": {
      "text/plain": [
       "'C:\\\\Users\\\\81908\\\\Anaconda3\\\\envs\\\\lightning\\\\python.exe'"
      ]
     },
     "execution_count": 1,
     "metadata": {},
     "output_type": "execute_result"
    }
   ],
   "source": [
    "!pwd\n",
    "import sys\n",
    "\n",
    "%reload_ext autoreload\n",
    "%autoreload 2\n",
    "%matplotlib inline\n",
    "%load_ext lab_black\n",
    "sys.executable"
   ]
  },
  {
   "cell_type": "code",
   "execution_count": 2,
   "metadata": {},
   "outputs": [],
   "source": [
    "import sys\n",
    "\n",
    "sys.path.append(r\"C:\\Users\\81908\\MyGitHub\\kaggle_Cassava\\code\")\n",
    "sys.path.append(r\"C:\\Users\\81908\\Git\\microsoftvision\")\n",
    "import microsoftvision"
   ]
  },
  {
   "cell_type": "code",
   "execution_count": 3,
   "metadata": {},
   "outputs": [],
   "source": [
    "import os\n",
    "import cv2\n",
    "import glob\n",
    "import json\n",
    "import math\n",
    "import yaml\n",
    "import pickle\n",
    "import random\n",
    "import numpy as np\n",
    "import pandas as pd\n",
    "from sklearn.metrics import accuracy_score, log_loss\n",
    "from tqdm.notebook import tqdm\n",
    "import albumentations as A\n",
    "from albumentations.pytorch.transforms import ToTensorV2\n",
    "import torch\n",
    "import torch.nn as nn\n",
    "from torch.utils.data import Dataset, DataLoader\n",
    "import timm\n",
    "import pytorch_lightning as pl\n",
    "from efficientnet_pytorch import EfficientNet\n",
    "from deit_models import deit_base_patch16_224\n",
    "import microsoftvision\n",
    "import warnings\n",
    "\n",
    "warnings.filterwarnings(\"ignore\")"
   ]
  },
  {
   "cell_type": "code",
   "execution_count": 4,
   "metadata": {},
   "outputs": [
    {
     "name": "stdout",
     "output_type": "stream",
     "text": [
      "device: cuda\n"
     ]
    }
   ],
   "source": [
    "device = \"cuda\" if torch.cuda.is_available() else \"cpu\"\n",
    "print(\"device:\", device)\n",
    "num_workers = 0\n",
    "n_classes = 5"
   ]
  },
  {
   "cell_type": "code",
   "execution_count": 5,
   "metadata": {},
   "outputs": [],
   "source": [
    "from params import base_data\n",
    "\n",
    "df = base_data.df\n",
    "test_df = base_data.test_df\n",
    "name_mapping = base_data.name_mapping\n",
    "path = base_data.ROOT_DIR\n",
    "noise_image_id = base_data.noise_image_id"
   ]
  },
  {
   "cell_type": "code",
   "execution_count": 6,
   "metadata": {},
   "outputs": [
    {
     "data": {
      "text/plain": [
       "[          0        1         2         3         4\n",
       " 0  0.015411  0.01225  0.287251  0.006122  0.678966,\n",
       "           0         1         2        3         4\n",
       " 0  0.013555  0.057926  0.476243  0.00123  0.451045,\n",
       "           0         1         2         3         4\n",
       " 0  0.034041  0.021128  0.717434  0.089816  0.137581,\n",
       "           0         1         2         3        4\n",
       " 0  0.015216  0.039199  0.549125  0.012901  0.38356,\n",
       "           0         1         2         3         4\n",
       " 0  0.052416  0.016144  0.262874  0.027701  0.640865]"
      ]
     },
     "execution_count": 6,
     "metadata": {},
     "output_type": "execute_result"
    }
   ],
   "source": [
    "test_preds_list = [\n",
    "    pd.DataFrame([0.015411, 0.01225, 0.287251, 0.006122, 0.678966]).T,\n",
    "    pd.DataFrame([0.013555, 0.057926, 0.476243, 0.00123, 0.451045]).T,\n",
    "    pd.DataFrame([0.034041, 0.021128, 0.717434, 0.089816, 0.137581]).T,\n",
    "    pd.DataFrame([0.015216, 0.039199, 0.549125, 0.012901, 0.38356]).T,\n",
    "    pd.DataFrame([0.052416, 0.016144, 0.262874, 0.027701, 0.640865]).T,\n",
    "]\n",
    "test_preds_list"
   ]
  },
  {
   "cell_type": "code",
   "execution_count": 7,
   "metadata": {},
   "outputs": [],
   "source": [
    "import sys\n",
    "\n",
    "sys.path.append(r\"C:\\Users\\81908\\MyGitHub\\kaggle_Cassava\\code\")\n",
    "from lightning_cassava_stacking import (\n",
    "    train_stacking,\n",
    "    pred_stacking,\n",
    "    StackingConfig,\n",
    ")\n",
    "from lightning_cassava_pred import set_seed"
   ]
  },
  {
   "cell_type": "code",
   "execution_count": 8,
   "metadata": {},
   "outputs": [],
   "source": [
    "# noise_idx = None\n",
    "noise_idx = list(df[df[\"image_id\"].isin(noise_image_id)].index)\n",
    "# noise_idx"
   ]
  },
  {
   "cell_type": "code",
   "execution_count": 9,
   "metadata": {},
   "outputs": [
    {
     "name": "stdout",
     "output_type": "stream",
     "text": [
      "{'seeds': [0], 'n_classes': 5, 'train_n_classes': 2, 'max_epochs': 200, 'patience': 50, 'n_splits': 5, 'shuffle': True, 'batch_size': 256, 'accumulate_grad_batches': 1, 'opt': 'adam', 'lr_scheduler': 'CosineAnnealingWarmRestarts', 'T_max': 200, 'T_0': 200, 'lr': 0.1, 'min_lr': 0.001, 'weight_decay': 1e-05, 'smoothing': 0.3, 'train_loss_name': 'BiTemperedLoss', 't1': 0.7, 't2': 1.3, 'monitor': 'val_loss', 'out_dir': '.', 'arch': 'cnmn2d', 'mlp_params': None, 'cnn1d_params': None, 'cnn2d_params': {'kwargs_head': {'drop_rate': 0.8, 'n_features_list': [-1, 2], 'use_bn': False, 'use_tail_as_out': True, 'use_wn': False}, 'n_channels_list': [1, 12], 'n_classes': 5, 'n_models': 5, 'use_bias': True}, 'gauss_scale': 0.24, 'cutmix_p': 0.0, 'alpha': 1.0, 'cls3_undersample_rate': 0.0, 'n_over': 10, 'device': 'cuda', 'num_workers': 0, 'undersample_rate': 0.4}\n"
     ]
    }
   ],
   "source": [
    "# cnmn2d params\n",
    "StackingCFG = StackingConfig()\n",
    "StackingCFG.device = device\n",
    "StackingCFG.num_workers = num_workers\n",
    "StackingCFG.n_classes = n_classes\n",
    "StackingCFG.arch = \"cnmn2d\"\n",
    "\n",
    "## 20210212_objective11\n",
    "# StackingCFG.cnn2d_params = {\n",
    "#    \"kwargs_head\": {\n",
    "#        \"drop_rate\": 0.2,\n",
    "#        \"n_features_list\": [-1, 5],\n",
    "#        \"use_bn\": True,\n",
    "#        \"use_tail_as_out\": True,\n",
    "#        \"use_wn\": True,\n",
    "#    },\n",
    "#    \"n_channels_list\": [1, 28],\n",
    "#    \"n_classes\": n_classes,\n",
    "#    \"n_models\": 5,\n",
    "#    \"use_bias\": False,\n",
    "# }\n",
    "# StackingCFG.weight_decay = 0.001\n",
    "# StackingCFG.smoothing = 0.2\n",
    "# StackingCFG.t1 = 0.9\n",
    "# StackingCFG.t2 = 1.0\n",
    "# StackingCFG.gauss_scale = 0.0\n",
    "# StackingCFG.cutmix_p = 0.0\n",
    "# StackingCFG.alpha = 5.0\n",
    "# StackingCFG.seeds = list(range(2))\n",
    "# s_type = 1\n",
    "gauss_scale = 0.0\n",
    "is_noise_only_test = False\n",
    "is_del_df_noise_image_id = False\n",
    "pseudo_th = 0.0\n",
    "\n",
    "\n",
    "# oof=0.9057811842781698(tta入れた)  #6\n",
    "StackingCFG.cnn2d_params = {\n",
    "    \"kwargs_head\": {\n",
    "        \"drop_rate\": 0.8,\n",
    "        \"n_features_list\": [-1, 3, 5],\n",
    "        \"use_bn\": False,\n",
    "        \"use_tail_as_out\": True,\n",
    "        \"use_wn\": False,\n",
    "    },\n",
    "    \"n_channels_list\": [1, 12],\n",
    "    \"n_classes\": 5,\n",
    "    \"n_models\": 5,\n",
    "    \"use_bias\": True,\n",
    "}\n",
    "StackingCFG.train_n_classes = 5\n",
    "StackingCFG.weight_decay = 1e-05\n",
    "StackingCFG.smoothing = 0.3\n",
    "StackingCFG.t1 = 0.7\n",
    "StackingCFG.t2 = 1.3\n",
    "StackingCFG.gauss_scale = 0.24\n",
    "StackingCFG.cutmix_p = 0.0\n",
    "StackingCFG.alpha = 1.0\n",
    "# StackingCFG.seeds = list(range(2))\n",
    "StackingCFG.seeds = list(range(1))\n",
    "StackingCFG.undersample_rate = 0.4  # cls3をundersampleing\n",
    "s_type = 1\n",
    "gauss_scale = 0\n",
    "is_noise_only_test = False\n",
    "\n",
    "# ノイズかどうか分類するモデルにするか\n",
    "# is_make_noise_model = False\n",
    "is_make_noise_model = True\n",
    "if is_make_noise_model:\n",
    "    StackingCFG.cnn2d_params[\"kwargs_head\"][\"n_features_list\"] = [-1, 2]\n",
    "    StackingCFG.train_n_classes = 2\n",
    "    # StackingCFG.device = \"cpu\"\n",
    "    s_type = 0  # pseudo_labelは入れてはダメ\n",
    "    StackingCFG.lr = 0.1\n",
    "    StackingCFG.min_lr = StackingCFG.lr * 0.01\n",
    "    StackingCFG.monitor = \"val_loss\"\n",
    "    StackingCFG.batch_size = 256  # // 4\n",
    "    StackingCFG.n_over = 10\n",
    "\n",
    "if gauss_scale > 0.0:\n",
    "    set_seed(seed=42)\n",
    "\n",
    "print(StackingCFG.__dict__)"
   ]
  },
  {
   "cell_type": "code",
   "execution_count": 10,
   "metadata": {},
   "outputs": [],
   "source": [
    "StackingCFG.max_epochs = 5\n",
    "StackingCFG.T_max = StackingCFG.max_epochs\n",
    "StackingCFG.T_0 = StackingCFG.max_epochs"
   ]
  },
  {
   "cell_type": "code",
   "execution_count": 11,
   "metadata": {},
   "outputs": [
    {
     "name": "stderr",
     "output_type": "stream",
     "text": [
      "GPU available: True, used: True\n",
      "TPU available: None, using: 0 TPU cores\n",
      "LOCAL_RANK: 0 - CUDA_VISIBLE_DEVICES: [0]\n"
     ]
    },
    {
     "name": "stdout",
     "output_type": "stream",
     "text": [
      "y..value_counts():\n",
      "0    20218\n",
      "1     1179\n",
      "dtype: int64\n",
      "x.shape: (21397, 1, 5, 5)\n",
      "y.shape: (21397,)\n",
      "---------------------------- seed: 0 ----------------------------\n",
      "train_idx, valid_idx: 17117, 4280\n",
      "n_over=10 x, y.shape: (26547, 1, 5, 5) (26547,)\n"
     ]
    },
    {
     "name": "stderr",
     "output_type": "stream",
     "text": [
      "\n",
      "  | Name | Type          | Params\n",
      "---------------------------------------\n",
      "0 | net  | CNNStacking2d | 410   \n",
      "---------------------------------------\n",
      "410       Trainable params\n",
      "0         Non-trainable params\n",
      "410       Total params\n"
     ]
    },
    {
     "data": {
      "application/vnd.jupyter.widget-view+json": {
       "model_id": "",
       "version_major": 2,
       "version_minor": 0
      },
      "text/plain": [
       "HBox(children=(HTML(value='Validation sanity check'), FloatProgress(value=1.0, bar_style='info', layout=Layout…"
      ]
     },
     "metadata": {},
     "output_type": "display_data"
    },
    {
     "data": {
      "application/vnd.jupyter.widget-view+json": {
       "model_id": "a1a5cdbf2e6f44a79774eaeb41e0a300",
       "version_major": 2,
       "version_minor": 0
      },
      "text/plain": [
       "HBox(children=(HTML(value='Training'), FloatProgress(value=1.0, bar_style='info', layout=Layout(flex='2'), max…"
      ]
     },
     "metadata": {},
     "output_type": "display_data"
    },
    {
     "data": {
      "application/vnd.jupyter.widget-view+json": {
       "model_id": "",
       "version_major": 2,
       "version_minor": 0
      },
      "text/plain": [
       "HBox(children=(HTML(value='Validating'), FloatProgress(value=1.0, bar_style='info', layout=Layout(flex='2'), m…"
      ]
     },
     "metadata": {},
     "output_type": "display_data"
    },
    {
     "data": {
      "application/vnd.jupyter.widget-view+json": {
       "model_id": "",
       "version_major": 2,
       "version_minor": 0
      },
      "text/plain": [
       "HBox(children=(HTML(value='Validating'), FloatProgress(value=1.0, bar_style='info', layout=Layout(flex='2'), m…"
      ]
     },
     "metadata": {},
     "output_type": "display_data"
    },
    {
     "data": {
      "application/vnd.jupyter.widget-view+json": {
       "model_id": "",
       "version_major": 2,
       "version_minor": 0
      },
      "text/plain": [
       "HBox(children=(HTML(value='Validating'), FloatProgress(value=1.0, bar_style='info', layout=Layout(flex='2'), m…"
      ]
     },
     "metadata": {},
     "output_type": "display_data"
    },
    {
     "data": {
      "application/vnd.jupyter.widget-view+json": {
       "model_id": "",
       "version_major": 2,
       "version_minor": 0
      },
      "text/plain": [
       "HBox(children=(HTML(value='Validating'), FloatProgress(value=1.0, bar_style='info', layout=Layout(flex='2'), m…"
      ]
     },
     "metadata": {},
     "output_type": "display_data"
    },
    {
     "data": {
      "application/vnd.jupyter.widget-view+json": {
       "model_id": "",
       "version_major": 2,
       "version_minor": 0
      },
      "text/plain": [
       "HBox(children=(HTML(value='Validating'), FloatProgress(value=1.0, bar_style='info', layout=Layout(flex='2'), m…"
      ]
     },
     "metadata": {},
     "output_type": "display_data"
    },
    {
     "name": "stderr",
     "output_type": "stream",
     "text": [
      "GPU available: True, used: True\n",
      "TPU available: None, using: 0 TPU cores\n",
      "LOCAL_RANK: 0 - CUDA_VISIBLE_DEVICES: [0]\n",
      "\n",
      "  | Name | Type          | Params\n",
      "---------------------------------------\n",
      "0 | net  | CNNStacking2d | 410   \n",
      "---------------------------------------\n",
      "410       Trainable params\n",
      "0         Non-trainable params\n",
      "410       Total params\n"
     ]
    },
    {
     "name": "stdout",
     "output_type": "stream",
     "text": [
      "\n",
      "fold 0 validation loss = 0.48542840802043774\n",
      "fold 0 validation accuracy = 0.8299065420560747\n",
      "\n",
      "train_idx, valid_idx: 17117, 4280\n",
      "n_over=10 x, y.shape: (26547, 1, 5, 5) (26547,)\n"
     ]
    },
    {
     "data": {
      "application/vnd.jupyter.widget-view+json": {
       "model_id": "",
       "version_major": 2,
       "version_minor": 0
      },
      "text/plain": [
       "HBox(children=(HTML(value='Validation sanity check'), FloatProgress(value=1.0, bar_style='info', layout=Layout…"
      ]
     },
     "metadata": {},
     "output_type": "display_data"
    },
    {
     "data": {
      "application/vnd.jupyter.widget-view+json": {
       "model_id": "7e4e258fc46c4d0cb0bac14046044415",
       "version_major": 2,
       "version_minor": 0
      },
      "text/plain": [
       "HBox(children=(HTML(value='Training'), FloatProgress(value=1.0, bar_style='info', layout=Layout(flex='2'), max…"
      ]
     },
     "metadata": {},
     "output_type": "display_data"
    },
    {
     "data": {
      "application/vnd.jupyter.widget-view+json": {
       "model_id": "",
       "version_major": 2,
       "version_minor": 0
      },
      "text/plain": [
       "HBox(children=(HTML(value='Validating'), FloatProgress(value=1.0, bar_style='info', layout=Layout(flex='2'), m…"
      ]
     },
     "metadata": {},
     "output_type": "display_data"
    },
    {
     "data": {
      "application/vnd.jupyter.widget-view+json": {
       "model_id": "",
       "version_major": 2,
       "version_minor": 0
      },
      "text/plain": [
       "HBox(children=(HTML(value='Validating'), FloatProgress(value=1.0, bar_style='info', layout=Layout(flex='2'), m…"
      ]
     },
     "metadata": {},
     "output_type": "display_data"
    },
    {
     "data": {
      "application/vnd.jupyter.widget-view+json": {
       "model_id": "",
       "version_major": 2,
       "version_minor": 0
      },
      "text/plain": [
       "HBox(children=(HTML(value='Validating'), FloatProgress(value=1.0, bar_style='info', layout=Layout(flex='2'), m…"
      ]
     },
     "metadata": {},
     "output_type": "display_data"
    },
    {
     "data": {
      "application/vnd.jupyter.widget-view+json": {
       "model_id": "",
       "version_major": 2,
       "version_minor": 0
      },
      "text/plain": [
       "HBox(children=(HTML(value='Validating'), FloatProgress(value=1.0, bar_style='info', layout=Layout(flex='2'), m…"
      ]
     },
     "metadata": {},
     "output_type": "display_data"
    },
    {
     "data": {
      "application/vnd.jupyter.widget-view+json": {
       "model_id": "",
       "version_major": 2,
       "version_minor": 0
      },
      "text/plain": [
       "HBox(children=(HTML(value='Validating'), FloatProgress(value=1.0, bar_style='info', layout=Layout(flex='2'), m…"
      ]
     },
     "metadata": {},
     "output_type": "display_data"
    },
    {
     "name": "stderr",
     "output_type": "stream",
     "text": [
      "GPU available: True, used: True\n",
      "TPU available: None, using: 0 TPU cores\n",
      "LOCAL_RANK: 0 - CUDA_VISIBLE_DEVICES: [0]\n",
      "\n",
      "  | Name | Type          | Params\n",
      "---------------------------------------\n",
      "0 | net  | CNNStacking2d | 410   \n",
      "---------------------------------------\n",
      "410       Trainable params\n",
      "0         Non-trainable params\n",
      "410       Total params\n"
     ]
    },
    {
     "name": "stdout",
     "output_type": "stream",
     "text": [
      "\n",
      "fold 1 validation loss = 0.5062753719104867\n",
      "fold 1 validation accuracy = 0.8422897196261683\n",
      "\n",
      "train_idx, valid_idx: 17118, 4279\n",
      "n_over=10 x, y.shape: (26558, 1, 5, 5) (26558,)\n"
     ]
    },
    {
     "data": {
      "application/vnd.jupyter.widget-view+json": {
       "model_id": "",
       "version_major": 2,
       "version_minor": 0
      },
      "text/plain": [
       "HBox(children=(HTML(value='Validation sanity check'), FloatProgress(value=1.0, bar_style='info', layout=Layout…"
      ]
     },
     "metadata": {},
     "output_type": "display_data"
    },
    {
     "data": {
      "application/vnd.jupyter.widget-view+json": {
       "model_id": "3c7a71fef4cc4ef684c18cf2d7aa40ad",
       "version_major": 2,
       "version_minor": 0
      },
      "text/plain": [
       "HBox(children=(HTML(value='Training'), FloatProgress(value=1.0, bar_style='info', layout=Layout(flex='2'), max…"
      ]
     },
     "metadata": {},
     "output_type": "display_data"
    },
    {
     "data": {
      "application/vnd.jupyter.widget-view+json": {
       "model_id": "",
       "version_major": 2,
       "version_minor": 0
      },
      "text/plain": [
       "HBox(children=(HTML(value='Validating'), FloatProgress(value=1.0, bar_style='info', layout=Layout(flex='2'), m…"
      ]
     },
     "metadata": {},
     "output_type": "display_data"
    },
    {
     "data": {
      "application/vnd.jupyter.widget-view+json": {
       "model_id": "",
       "version_major": 2,
       "version_minor": 0
      },
      "text/plain": [
       "HBox(children=(HTML(value='Validating'), FloatProgress(value=1.0, bar_style='info', layout=Layout(flex='2'), m…"
      ]
     },
     "metadata": {},
     "output_type": "display_data"
    },
    {
     "data": {
      "application/vnd.jupyter.widget-view+json": {
       "model_id": "",
       "version_major": 2,
       "version_minor": 0
      },
      "text/plain": [
       "HBox(children=(HTML(value='Validating'), FloatProgress(value=1.0, bar_style='info', layout=Layout(flex='2'), m…"
      ]
     },
     "metadata": {},
     "output_type": "display_data"
    },
    {
     "data": {
      "application/vnd.jupyter.widget-view+json": {
       "model_id": "",
       "version_major": 2,
       "version_minor": 0
      },
      "text/plain": [
       "HBox(children=(HTML(value='Validating'), FloatProgress(value=1.0, bar_style='info', layout=Layout(flex='2'), m…"
      ]
     },
     "metadata": {},
     "output_type": "display_data"
    },
    {
     "data": {
      "application/vnd.jupyter.widget-view+json": {
       "model_id": "",
       "version_major": 2,
       "version_minor": 0
      },
      "text/plain": [
       "HBox(children=(HTML(value='Validating'), FloatProgress(value=1.0, bar_style='info', layout=Layout(flex='2'), m…"
      ]
     },
     "metadata": {},
     "output_type": "display_data"
    },
    {
     "name": "stderr",
     "output_type": "stream",
     "text": [
      "GPU available: True, used: True\n",
      "TPU available: None, using: 0 TPU cores\n",
      "LOCAL_RANK: 0 - CUDA_VISIBLE_DEVICES: [0]\n",
      "\n",
      "  | Name | Type          | Params\n",
      "---------------------------------------\n",
      "0 | net  | CNNStacking2d | 410   \n",
      "---------------------------------------\n",
      "410       Trainable params\n",
      "0         Non-trainable params\n",
      "410       Total params\n"
     ]
    },
    {
     "name": "stdout",
     "output_type": "stream",
     "text": [
      "\n",
      "fold 2 validation loss = 0.5266340280462016\n",
      "fold 2 validation accuracy = 0.8282308950689413\n",
      "\n",
      "train_idx, valid_idx: 17118, 4279\n",
      "n_over=10 x, y.shape: (26548, 1, 5, 5) (26548,)\n"
     ]
    },
    {
     "data": {
      "application/vnd.jupyter.widget-view+json": {
       "model_id": "",
       "version_major": 2,
       "version_minor": 0
      },
      "text/plain": [
       "HBox(children=(HTML(value='Validation sanity check'), FloatProgress(value=1.0, bar_style='info', layout=Layout…"
      ]
     },
     "metadata": {},
     "output_type": "display_data"
    },
    {
     "data": {
      "application/vnd.jupyter.widget-view+json": {
       "model_id": "c2b8854f02264162963c594f9d917df9",
       "version_major": 2,
       "version_minor": 0
      },
      "text/plain": [
       "HBox(children=(HTML(value='Training'), FloatProgress(value=1.0, bar_style='info', layout=Layout(flex='2'), max…"
      ]
     },
     "metadata": {},
     "output_type": "display_data"
    },
    {
     "data": {
      "application/vnd.jupyter.widget-view+json": {
       "model_id": "",
       "version_major": 2,
       "version_minor": 0
      },
      "text/plain": [
       "HBox(children=(HTML(value='Validating'), FloatProgress(value=1.0, bar_style='info', layout=Layout(flex='2'), m…"
      ]
     },
     "metadata": {},
     "output_type": "display_data"
    },
    {
     "data": {
      "application/vnd.jupyter.widget-view+json": {
       "model_id": "",
       "version_major": 2,
       "version_minor": 0
      },
      "text/plain": [
       "HBox(children=(HTML(value='Validating'), FloatProgress(value=1.0, bar_style='info', layout=Layout(flex='2'), m…"
      ]
     },
     "metadata": {},
     "output_type": "display_data"
    },
    {
     "data": {
      "application/vnd.jupyter.widget-view+json": {
       "model_id": "",
       "version_major": 2,
       "version_minor": 0
      },
      "text/plain": [
       "HBox(children=(HTML(value='Validating'), FloatProgress(value=1.0, bar_style='info', layout=Layout(flex='2'), m…"
      ]
     },
     "metadata": {},
     "output_type": "display_data"
    },
    {
     "data": {
      "application/vnd.jupyter.widget-view+json": {
       "model_id": "",
       "version_major": 2,
       "version_minor": 0
      },
      "text/plain": [
       "HBox(children=(HTML(value='Validating'), FloatProgress(value=1.0, bar_style='info', layout=Layout(flex='2'), m…"
      ]
     },
     "metadata": {},
     "output_type": "display_data"
    },
    {
     "data": {
      "application/vnd.jupyter.widget-view+json": {
       "model_id": "",
       "version_major": 2,
       "version_minor": 0
      },
      "text/plain": [
       "HBox(children=(HTML(value='Validating'), FloatProgress(value=1.0, bar_style='info', layout=Layout(flex='2'), m…"
      ]
     },
     "metadata": {},
     "output_type": "display_data"
    },
    {
     "name": "stderr",
     "output_type": "stream",
     "text": [
      "GPU available: True, used: True\n",
      "TPU available: None, using: 0 TPU cores\n",
      "LOCAL_RANK: 0 - CUDA_VISIBLE_DEVICES: [0]\n",
      "\n",
      "  | Name | Type          | Params\n",
      "---------------------------------------\n",
      "0 | net  | CNNStacking2d | 410   \n",
      "---------------------------------------\n",
      "410       Trainable params\n",
      "0         Non-trainable params\n",
      "410       Total params\n"
     ]
    },
    {
     "name": "stdout",
     "output_type": "stream",
     "text": [
      "\n",
      "fold 3 validation loss = 0.5249305498067846\n",
      "fold 3 validation accuracy = 0.8034587520448703\n",
      "\n",
      "train_idx, valid_idx: 17118, 4279\n",
      "n_over=10 x, y.shape: (26548, 1, 5, 5) (26548,)\n"
     ]
    },
    {
     "data": {
      "application/vnd.jupyter.widget-view+json": {
       "model_id": "",
       "version_major": 2,
       "version_minor": 0
      },
      "text/plain": [
       "HBox(children=(HTML(value='Validation sanity check'), FloatProgress(value=1.0, bar_style='info', layout=Layout…"
      ]
     },
     "metadata": {},
     "output_type": "display_data"
    },
    {
     "data": {
      "application/vnd.jupyter.widget-view+json": {
       "model_id": "e6e234a8f4af454980eb3278f28e38a7",
       "version_major": 2,
       "version_minor": 0
      },
      "text/plain": [
       "HBox(children=(HTML(value='Training'), FloatProgress(value=1.0, bar_style='info', layout=Layout(flex='2'), max…"
      ]
     },
     "metadata": {},
     "output_type": "display_data"
    },
    {
     "data": {
      "application/vnd.jupyter.widget-view+json": {
       "model_id": "",
       "version_major": 2,
       "version_minor": 0
      },
      "text/plain": [
       "HBox(children=(HTML(value='Validating'), FloatProgress(value=1.0, bar_style='info', layout=Layout(flex='2'), m…"
      ]
     },
     "metadata": {},
     "output_type": "display_data"
    },
    {
     "data": {
      "application/vnd.jupyter.widget-view+json": {
       "model_id": "",
       "version_major": 2,
       "version_minor": 0
      },
      "text/plain": [
       "HBox(children=(HTML(value='Validating'), FloatProgress(value=1.0, bar_style='info', layout=Layout(flex='2'), m…"
      ]
     },
     "metadata": {},
     "output_type": "display_data"
    },
    {
     "data": {
      "application/vnd.jupyter.widget-view+json": {
       "model_id": "",
       "version_major": 2,
       "version_minor": 0
      },
      "text/plain": [
       "HBox(children=(HTML(value='Validating'), FloatProgress(value=1.0, bar_style='info', layout=Layout(flex='2'), m…"
      ]
     },
     "metadata": {},
     "output_type": "display_data"
    },
    {
     "data": {
      "application/vnd.jupyter.widget-view+json": {
       "model_id": "",
       "version_major": 2,
       "version_minor": 0
      },
      "text/plain": [
       "HBox(children=(HTML(value='Validating'), FloatProgress(value=1.0, bar_style='info', layout=Layout(flex='2'), m…"
      ]
     },
     "metadata": {},
     "output_type": "display_data"
    },
    {
     "data": {
      "application/vnd.jupyter.widget-view+json": {
       "model_id": "",
       "version_major": 2,
       "version_minor": 0
      },
      "text/plain": [
       "HBox(children=(HTML(value='Validating'), FloatProgress(value=1.0, bar_style='info', layout=Layout(flex='2'), m…"
      ]
     },
     "metadata": {},
     "output_type": "display_data"
    },
    {
     "name": "stdout",
     "output_type": "stream",
     "text": [
      "\n",
      "fold 4 validation loss = 0.5037869385889364\n",
      "fold 4 validation accuracy = 0.7880345875204487\n",
      "\n",
      "fold 0 mean acc: 0.8183857550123849\n",
      "\u001b[33m oof: 0.8184\n",
      "\u001b[33m oof_loss: 0.5094\n",
      "\u001b[33m               precision    recall  f1-score   support\n",
      "\n",
      "           0       0.96      0.84      0.90     20218\n",
      "           1       0.14      0.45      0.22      1179\n",
      "\n",
      "    accuracy                           0.82     21397\n",
      "   macro avg       0.55      0.65      0.56     21397\n",
      "weighted avg       0.92      0.82      0.86     21397\n",
      "\n",
      "\u001b[33m cfm:\n",
      " [[16977  3241]\n",
      " [  645   534]]\n",
      "Wall time: 29.3 s\n"
     ]
    }
   ],
   "source": [
    "%%time\n",
    "# cnmn2d semi supervised learning\n",
    "StackingCFG.out_dir = StackingCFG.arch\n",
    "os.makedirs(StackingCFG.out_dir, exist_ok=True)\n",
    "\n",
    "\n",
    "# load oof\n",
    "preds = []\n",
    "\n",
    "# --------------------------------------------------------------------------------------------\n",
    "# ---- anonamename ----\n",
    "#tta_dir = \"../input/cassava-efficientnetwithpytorchlightning/kaggle_upload_oof_tta\"\n",
    "tta_dir = r\"C:\\Users\\81908\\jupyter_notebook\\pytorch_lightning_work\\kaggle_Cassava\\notebook\\check_oof\\cassava-emsemble-v2_tta_oof\\kaggle_upload_oof_tta\"\n",
    "\n",
    "pkl = f\"{tta_dir}/tf_efficientnet_b4_ns_tta.pkl\"\n",
    "pred = pickle.load(open(pkl, \"rb\"))\n",
    "preds.append(pred.values)\n",
    "\n",
    "pkl = f\"{tta_dir}/byol_seresnext50_32x4d_cutmix_labelsmooth_half_tta.pkl\"\n",
    "pred = pickle.load(open(pkl, \"rb\"))\n",
    "preds.append(pred.values)\n",
    "\n",
    "pkl = f\"{tta_dir}/vit_b16_224_fold10_tta.pkl\"\n",
    "pred = pickle.load(open(pkl, \"rb\"))\n",
    "preds.append(pred.values)\n",
    "\n",
    "#pkl = f\"{tta_dir}/resnest101e_cleanlab_noise_cutmix_tta.pkl\"\n",
    "#pred = pickle.load(open(pkl, \"rb\"))\n",
    "#preds.append(pred.values)\n",
    "\n",
    "#pkl = f\"{tta_dir}/resnest101e_tta.pkl\"\n",
    "#pred = pickle.load(open(pkl, \"rb\"))\n",
    "#preds.append(pred.values)\n",
    "\n",
    "#pkl = f\"{tta_dir}/tf_efficientnet_b4_ns_fold3_tta.pkl\"\n",
    "#pred = pickle.load(open(pkl, \"rb\"))\n",
    "#preds.append(pred.values)\n",
    "\n",
    "#pkl = f\"{tta_dir}/vit_base_patch32_384.fit_tta.pkl\"\n",
    "#pred = pickle.load(open(pkl, \"rb\"))\n",
    "#preds.append(pred.values)\n",
    "\n",
    "# ---- SiNpcw ----\n",
    "#m_dir = \"../input/cassavapkl\"\n",
    "m_dir = r\"C:\\Users\\81908\\jupyter_notebook\\pytorch_lightning_work\\kaggle_Cassava\\kaggle_datasets_dl\\cassavapkl_v20\"\n",
    "\n",
    "#pkl = f\"{m_dir}/22019613_efficientnet-b4.pkl\"\n",
    "pkl = f\"{m_dir}/22019613_tta3_efficientnet-b4.pkl\"\n",
    "pred = pickle.load(open(pkl, \"rb\"))\n",
    "preds.append(pred.values)\n",
    "\n",
    "#pkl = f\"{m_dir}/22019632_timm-resnest101e.pkl\"\n",
    "pkl = f\"{m_dir}/22019632_tta3_timm-resnest101e.pkl\"\n",
    "pred = pickle.load(open(pkl, \"rb\"))\n",
    "preds.append(pred.values)\n",
    "\n",
    "#pkl = f\"{m_dir}/22019631_tta3_se_resnext101.pkl\"\n",
    "#pred = pickle.load(open(pkl, \"rb\"))\n",
    "#preds.append(pred.values)\n",
    "\n",
    "#pkl = f\"{m_dir}/22019717_tta3_timm-resnest101e.pkl\"\n",
    "#pred = pickle.load(open(pkl, \"rb\"))\n",
    "#preds.append(pred.values)\n",
    "\n",
    "#pkl = f\"{m_dir}/22019720_tta3_efficientnet-b4.pkl\"\n",
    "#pred = pickle.load(open(pkl, \"rb\"))\n",
    "#preds.append(pred.values)\n",
    "\n",
    "#pkl = f\"{m_dir}/ex02C_efficientnet-b4.pkl\"\n",
    "#pkl = f\"{m_dir}/ex02C_tta3_efficientnet-b4.pkl\"\n",
    "#pkl = f\"{m_dir}/ex02C_tta5_efficientnet-b4.pkl\"\n",
    "#pred = pickle.load(open(pkl, \"rb\"))\n",
    "#preds.append(pred.values)\n",
    "# --------------------------------------------------------------------------------------------\n",
    "\n",
    "df = pd.read_csv(f\"{path}/train.csv\")\n",
    "y = df[\"label\"].values\n",
    "\n",
    "# 過去コンペのデータは除く\n",
    "preds = [p[:21397] for p in preds]\n",
    "\n",
    "\n",
    "if is_del_df_noise_image_id:\n",
    "    # --- LB0.905の5モデルの内3モデルすべて同じ予測で間違ってるレコード削除 ---    \n",
    "    preds, y = del_df_noise_image_id(preds, y, not_noise_image_id)\n",
    "\n",
    "    \n",
    "if pseudo_th > 0.0 and len(test_df) > 1:\n",
    "    # --- スコア pseudo_th 以上のサンプルだけ pseudo label に採用する ---\n",
    "    test_df_orig = test_df.copy()\n",
    "    test_preds_list_orig = test_preds_list[:]\n",
    "    test_df['logit'] = test_preds_ensemble.max(1)\n",
    "    test_df = test_df[test_df['logit'] > pseudo_th]\n",
    "    test_y = test_df['label'].values\n",
    "    test_preds_list = [t[test_df['label'].index.values] for t in test_preds_list]\n",
    "else:\n",
    "    test_y = test_df['label'].values\n",
    "\n",
    "    \n",
    "# クラス数変更\n",
    "if is_make_noise_model:\n",
    "    y = np.array([0] * len(y))\n",
    "    y[noise_idx] = 1\n",
    "    #test_y = np.array([0] * len(test_y))\n",
    "    #test_y[test_noise_idx] = 1\n",
    "print(\"y..value_counts():\")\n",
    "print(pd.Series(y).value_counts())\n",
    "    \n",
    "\n",
    "if s_type == 0:\n",
    "    # --- pseudo label使わない ---\n",
    "    x = np.array(preds).transpose(1,2,0)\n",
    "    x = x.reshape(len(x), 1, StackingCFG.n_classes, len(preds))\n",
    "    \n",
    "    oof, oof_loss = train_stacking(x, y, StackingCFG, \n",
    "                                   is_check_model=False, \n",
    "                                   #noise_idx=noise_idx,\n",
    "                                  )\n",
    "\n",
    "elif s_type == 1:\n",
    "    # --- pseudo labelそのまま突っ込む場合 ---\n",
    "    preds = [np.vstack((preds[ii], test_preds_list[ii])) for ii in range(len(preds))]\n",
    "    y = np.concatenate([y, test_y])\n",
    "\n",
    "    x = np.array(preds).transpose(1,2,0)\n",
    "    x = x.reshape(len(x), 1, StackingCFG.n_classes, len(preds))\n",
    "    \n",
    "    if gauss_scale > 0.0:\n",
    "        # oofとtestにガウスノイズ加算\n",
    "        # https://www.kaggle.com/c/stanford-covid-vaccine/discussion/189709\n",
    "        x += np.random.normal(0.0, scale=gauss_scale, size=x.shape)\n",
    "    \n",
    "    oof, oof_loss = train_stacking(x, y, StackingCFG, \n",
    "                                   #is_check_model=True, \n",
    "                                   is_check_model=False, \n",
    "                                   noise_idx=noise_idx,\n",
    "                                  ) \n",
    "\n",
    "elif s_type == 2:\n",
    "    # --- pseudo labelのデータvalidationには入れない ---\n",
    "    test_x = np.array(test_preds_list).transpose(1,2,0)\n",
    "    test_x = test_x.reshape(len(test_x), 1, StackingCFG.n_classes, len(preds))\n",
    "    \n",
    "    x = np.array(preds).transpose(1,2,0)\n",
    "    x = x.reshape(len(x), 1, StackingCFG.n_classes, len(preds))\n",
    "    \n",
    "    if gauss_scale > 0.0:\n",
    "        if is_noise_only_test:\n",
    "            # testにガウスノイズ加算\n",
    "            test_x += np.random.normal(0.0, scale=gauss_scale, size=test_x.shape)\n",
    "        else:\n",
    "            # oofとtestにガウスノイズ加算\n",
    "            test_x += np.random.normal(0.0, scale=gauss_scale, size=test_x.shape)\n",
    "            x += np.random.normal(0.0, scale=gauss_scale, size=x.shape)\n",
    "            \n",
    "    oof, oof_loss = train_stacking(x, y, StackingCFG, is_check_model=False, \n",
    "                                   add_train_x=test_x, add_train_y=test_y,\n",
    "                                   noise_idx=noise_idx,\n",
    "                                  )\n",
    "    \n",
    "\n",
    "if pseudo_th > 0.0 and len(test_df) > 1:\n",
    "    # 抜いたtestデータ戻す\n",
    "    test_df = test_df_orig\n",
    "    test_preds_list = test_preds_list_orig\n",
    "    \n",
    "    \n",
    "## predict check\n",
    "#pred_cnn2d = pred_stacking(x, StackingCFG)\n",
    "#accuracy_score(y, pred_cnn2d.argmax(1))"
   ]
  },
  {
   "cell_type": "code",
   "execution_count": 12,
   "metadata": {},
   "outputs": [
    {
     "data": {
      "text/plain": [
       "0.8183857550123849"
      ]
     },
     "execution_count": 12,
     "metadata": {},
     "output_type": "execute_result"
    }
   ],
   "source": [
    "oof"
   ]
  },
  {
   "cell_type": "code",
   "execution_count": null,
   "metadata": {},
   "outputs": [],
   "source": []
  },
  {
   "cell_type": "code",
   "execution_count": 13,
   "metadata": {
    "lines_to_next_cell": 0
   },
   "outputs": [],
   "source": [
    "import os, shutil\n",
    "\n",
    "if os.path.exists(\"lightning_logs/\"):\n",
    "    shutil.rmtree(\"lightning_logs/\")\n",
    "    os.mkdir(\"lightning_logs/\")"
   ]
  },
  {
   "cell_type": "code",
   "execution_count": null,
   "metadata": {},
   "outputs": [],
   "source": []
  },
  {
   "cell_type": "code",
   "execution_count": null,
   "metadata": {},
   "outputs": [],
   "source": []
  },
  {
   "cell_type": "code",
   "execution_count": null,
   "metadata": {},
   "outputs": [],
   "source": []
  },
  {
   "cell_type": "code",
   "execution_count": null,
   "metadata": {},
   "outputs": [],
   "source": []
  },
  {
   "cell_type": "code",
   "execution_count": null,
   "metadata": {
    "lines_to_next_cell": 2
   },
   "outputs": [],
   "source": []
  },
  {
   "cell_type": "code",
   "execution_count": 14,
   "metadata": {},
   "outputs": [
    {
     "data": {
      "text/plain": [
       "(21397, 1, 5, 5)"
      ]
     },
     "execution_count": 14,
     "metadata": {},
     "output_type": "execute_result"
    }
   ],
   "source": [
    "x.shape"
   ]
  },
  {
   "cell_type": "code",
   "execution_count": 15,
   "metadata": {},
   "outputs": [
    {
     "name": "stdout",
     "output_type": "stream",
     "text": [
      "0\n",
      "(21397, 1)\n"
     ]
    },
    {
     "data": {
      "text/plain": [
       "array([0, 0, 1, ..., 0, 0, 1])"
      ]
     },
     "execution_count": 15,
     "metadata": {},
     "output_type": "execute_result"
    }
   ],
   "source": [
    "frac = 0.4\n",
    "_y = pd.DataFrame(y)\n",
    "idx = list(_y[_y[0] == 3].sample(frac=frac).index)\n",
    "print(len(idx))\n",
    "_y = _y.drop(index=idx)\n",
    "print(_y.shape)\n",
    "x[_y.index].shape\n",
    "_y[0].values"
   ]
  },
  {
   "cell_type": "code",
   "execution_count": 16,
   "metadata": {
    "lines_to_next_cell": 2
   },
   "outputs": [
    {
     "data": {
      "text/plain": [
       "(13158,)"
      ]
     },
     "execution_count": 16,
     "metadata": {},
     "output_type": "execute_result"
    }
   ],
   "source": [
    "df = pd.read_csv(f\"{path}/train.csv\")\n",
    "\n",
    "x = np.array(preds).transpose(1, 2, 0)\n",
    "x = x.reshape(len(x), 1, StackingCFG.n_classes, len(preds))\n",
    "\n",
    "y = df[\"label\"].values\n",
    "y[y == 3].shape"
   ]
  },
  {
   "cell_type": "code",
   "execution_count": 17,
   "metadata": {},
   "outputs": [],
   "source": [
    "df = pd.read_csv(f\"{path}/train.csv\")\n",
    "y = df[\"label\"].values\n",
    "y = np.array([0] * len(y))\n",
    "y[noise_idx] = 1\n",
    "# if is_noise_model:\n",
    "#    y = np.array([0] * len(y))\n",
    "#    y[noise_idx] = 1\n",
    "## [_ for _ in y]"
   ]
  },
  {
   "cell_type": "code",
   "execution_count": 18,
   "metadata": {},
   "outputs": [
    {
     "data": {
      "text/plain": [
       "array([0, 0, 1, ..., 1, 1, 1])"
      ]
     },
     "execution_count": 18,
     "metadata": {},
     "output_type": "execute_result"
    }
   ],
   "source": [
    "_y = pd.DataFrame(y)\n",
    "idx = _y[_y[0] == 1].index\n",
    "np.concatenate([y, y[idx]])"
   ]
  },
  {
   "cell_type": "code",
   "execution_count": null,
   "metadata": {},
   "outputs": [],
   "source": []
  },
  {
   "cell_type": "code",
   "execution_count": null,
   "metadata": {},
   "outputs": [],
   "source": []
  }
 ],
 "metadata": {
  "jupytext": {
   "encoding": "# -*- coding: utf-8 -*-",
   "text_representation": {
    "extension": ".py",
    "format_name": "light",
    "format_version": "1.5",
    "jupytext_version": "1.7.1"
   }
  },
  "kernelspec": {
   "display_name": "Python 3",
   "language": "python",
   "name": "python3"
  },
  "language_info": {
   "codemirror_mode": {
    "name": "ipython",
    "version": 3
   },
   "file_extension": ".py",
   "mimetype": "text/x-python",
   "name": "python",
   "nbconvert_exporter": "python",
   "pygments_lexer": "ipython3",
   "version": "3.8.6"
  }
 },
 "nbformat": 4,
 "nbformat_minor": 4
}
