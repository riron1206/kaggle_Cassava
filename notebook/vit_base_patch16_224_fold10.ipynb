{
 "cells": [
  {
   "cell_type": "code",
   "execution_count": 1,
   "metadata": {
    "_cell_guid": "b1076dfc-b9ad-4769-8c92-a6c4dae69d19",
    "_kg_hide-output": true,
    "_uuid": "8f2839f25d086af736a60e9eeb907d3b93b6e0e5"
   },
   "outputs": [
    {
     "name": "stdout",
     "output_type": "stream",
     "text": [
      "device: cuda\n"
     ]
    }
   ],
   "source": [
    "device = None\n",
    "\n",
    "## for TPU\n",
    "## https://www.kaggle.com/abhinand05/vision-transformer-vit-tutorial-baseline\n",
    "#import os\n",
    "#if os.path.exists(\"./torchvision-1.7-cp37-cp37m-linux_x86_64.whl\") == False:\n",
    "#    !curl https://raw.githubusercontent.com/pytorch/xla/master/contrib/scripts/env-setup.py -o pytorch-xla-env-setup.py\n",
    "#    !python pytorch-xla-env-setup.py --version 1.7\n",
    "#import torch_xla\n",
    "#import torch_xla.core.xla_model as xm\n",
    "#import torch_xla.distributed.xla_multiprocessing as xmp\n",
    "#import torch_xla.distributed.parallel_loader as pl\n",
    "#device = xm.xla_device()\n",
    "#num_workers = 2  # os.cpu_count()  # 4\n",
    "\n",
    "# for GPU\n",
    "if device is None:\n",
    "    import os\n",
    "    import torch\n",
    "    device = \"cuda\" if torch.cuda.is_available() else \"cpu\"\n",
    "\n",
    "    if os.getcwd() in [\"/kaggle/working\", \"/content\"]:\n",
    "        num_workers = os.cpu_count()  # 4\n",
    "    else:\n",
    "        num_workers = 0\n",
    "    \n",
    "print(\"device:\", device)"
   ]
  },
  {
   "cell_type": "code",
   "execution_count": 2,
   "metadata": {
    "_cell_guid": "79c7e3d0-c299-4dcb-8224-4455121ee9b0",
    "_kg_hide-output": true,
    "_uuid": "d629ff2d2480ee46fbb7e2d37f6b5fab8052498a"
   },
   "outputs": [],
   "source": [
    "import os, sys\n",
    "if os.getcwd() in [\"/kaggle/working\", \"/content\"]:\n",
    "    !pip install \"../input/pytorchlightning110/pytorch_lightning-1.1.0-py3-none-any.whl\"\n",
    "    !pip install pytorch-gradcam\n",
    "    !pip install torch_optimizer\n",
    "    !pip install adabelief-pytorch==0.1.0\n",
    "    from gradcam import GradCAM, GradCAMpp\n",
    "    import torch_optimizer\n",
    "    from adabelief_pytorch import AdaBelief\n",
    "else:\n",
    "    #sys.path.append(r\"C:\\Users\\81908\\Git\\Adabelief-Optimizer\\pypi_packages\\adabelief_pytorch0.1.0\")\n",
    "    #from adabelief_pytorch import AdaBelief\n",
    "    #sys.path.append(r\"C:\\Users\\81908\\Git\\gradcam_plus_plus-pytorch\")\n",
    "    #from gradcam import GradCAM, GradCAMpp\n",
    "    pass"
   ]
  },
  {
   "cell_type": "code",
   "execution_count": 3,
   "metadata": {},
   "outputs": [
    {
     "name": "stdout",
     "output_type": "stream",
     "text": [
      "timm version: 0.3.2\n"
     ]
    }
   ],
   "source": [
    "import sys\n",
    "if os.getcwd() in [\"/kaggle/working\", \"/content\"]:\n",
    "    sys.path.append('../input/pytorch-image-models/pytorch-image-models-master')\n",
    "import timm\n",
    "print(\"timm version:\", timm.__version__)"
   ]
  },
  {
   "cell_type": "code",
   "execution_count": 4,
   "metadata": {
    "_kg_hide-output": true
   },
   "outputs": [
    {
     "name": "stdout",
     "output_type": "stream",
     "text": [
      "['adv_inception_v3',\n",
      " 'cspdarknet53',\n",
      " 'cspresnet50',\n",
      " 'cspresnext50',\n",
      " 'densenet121',\n",
      " 'densenet161',\n",
      " 'densenet169',\n",
      " 'densenet201',\n",
      " 'densenetblur121d',\n",
      " 'dla34',\n",
      " 'dla46_c',\n",
      " 'dla46x_c',\n",
      " 'dla60',\n",
      " 'dla60_res2net',\n",
      " 'dla60_res2next',\n",
      " 'dla60x',\n",
      " 'dla60x_c',\n",
      " 'dla102',\n",
      " 'dla102x',\n",
      " 'dla102x2',\n",
      " 'dla169',\n",
      " 'dpn68',\n",
      " 'dpn68b',\n",
      " 'dpn92',\n",
      " 'dpn98',\n",
      " 'dpn107',\n",
      " 'dpn131',\n",
      " 'ecaresnet50d',\n",
      " 'ecaresnet50d_pruned',\n",
      " 'ecaresnet101d',\n",
      " 'ecaresnet101d_pruned',\n",
      " 'ecaresnetlight',\n",
      " 'efficientnet_b0',\n",
      " 'efficientnet_b1',\n",
      " 'efficientnet_b1_pruned',\n",
      " 'efficientnet_b2',\n",
      " 'efficientnet_b2_pruned',\n",
      " 'efficientnet_b2a',\n",
      " 'efficientnet_b3',\n",
      " 'efficientnet_b3_pruned',\n",
      " 'efficientnet_b3a',\n",
      " 'efficientnet_em',\n",
      " 'efficientnet_es',\n",
      " 'efficientnet_lite0',\n",
      " 'ens_adv_inception_resnet_v2',\n",
      " 'ese_vovnet19b_dw',\n",
      " 'ese_vovnet39b',\n",
      " 'fbnetc_100',\n",
      " 'gluon_inception_v3',\n",
      " 'gluon_resnet18_v1b',\n",
      " 'gluon_resnet34_v1b',\n",
      " 'gluon_resnet50_v1b',\n",
      " 'gluon_resnet50_v1c',\n",
      " 'gluon_resnet50_v1d',\n",
      " 'gluon_resnet50_v1s',\n",
      " 'gluon_resnet101_v1b',\n",
      " 'gluon_resnet101_v1c',\n",
      " 'gluon_resnet101_v1d',\n",
      " 'gluon_resnet101_v1s',\n",
      " 'gluon_resnet152_v1b',\n",
      " 'gluon_resnet152_v1c',\n",
      " 'gluon_resnet152_v1d',\n",
      " 'gluon_resnet152_v1s',\n",
      " 'gluon_resnext50_32x4d',\n",
      " 'gluon_resnext101_32x4d',\n",
      " 'gluon_resnext101_64x4d',\n",
      " 'gluon_senet154',\n",
      " 'gluon_seresnext50_32x4d',\n",
      " 'gluon_seresnext101_32x4d',\n",
      " 'gluon_seresnext101_64x4d',\n",
      " 'gluon_xception65',\n",
      " 'hrnet_w18',\n",
      " 'hrnet_w18_small',\n",
      " 'hrnet_w18_small_v2',\n",
      " 'hrnet_w30',\n",
      " 'hrnet_w32',\n",
      " 'hrnet_w40',\n",
      " 'hrnet_w44',\n",
      " 'hrnet_w48',\n",
      " 'hrnet_w64',\n",
      " 'ig_resnext101_32x8d',\n",
      " 'ig_resnext101_32x16d',\n",
      " 'ig_resnext101_32x32d',\n",
      " 'ig_resnext101_32x48d',\n",
      " 'inception_resnet_v2',\n",
      " 'inception_v3',\n",
      " 'inception_v4',\n",
      " 'legacy_senet154',\n",
      " 'legacy_seresnet18',\n",
      " 'legacy_seresnet34',\n",
      " 'legacy_seresnet50',\n",
      " 'legacy_seresnet101',\n",
      " 'legacy_seresnet152',\n",
      " 'legacy_seresnext26_32x4d',\n",
      " 'legacy_seresnext50_32x4d',\n",
      " 'legacy_seresnext101_32x4d',\n",
      " 'mixnet_l',\n",
      " 'mixnet_m',\n",
      " 'mixnet_s',\n",
      " 'mixnet_xl',\n",
      " 'mnasnet_100',\n",
      " 'mobilenetv2_100',\n",
      " 'mobilenetv2_110d',\n",
      " 'mobilenetv2_120d',\n",
      " 'mobilenetv2_140',\n",
      " 'mobilenetv3_large_100',\n",
      " 'mobilenetv3_rw',\n",
      " 'nasnetalarge',\n",
      " 'pnasnet5large',\n",
      " 'regnetx_002',\n",
      " 'regnetx_004',\n",
      " 'regnetx_006',\n",
      " 'regnetx_008',\n",
      " 'regnetx_016',\n",
      " 'regnetx_032',\n",
      " 'regnetx_040',\n",
      " 'regnetx_064',\n",
      " 'regnetx_080',\n",
      " 'regnetx_120',\n",
      " 'regnetx_160',\n",
      " 'regnetx_320',\n",
      " 'regnety_002',\n",
      " 'regnety_004',\n",
      " 'regnety_006',\n",
      " 'regnety_008',\n",
      " 'regnety_016',\n",
      " 'regnety_032',\n",
      " 'regnety_040',\n",
      " 'regnety_064',\n",
      " 'regnety_080',\n",
      " 'regnety_120',\n",
      " 'regnety_160',\n",
      " 'regnety_320',\n",
      " 'res2net50_14w_8s',\n",
      " 'res2net50_26w_4s',\n",
      " 'res2net50_26w_6s',\n",
      " 'res2net50_26w_8s',\n",
      " 'res2net50_48w_2s',\n",
      " 'res2net101_26w_4s',\n",
      " 'res2next50',\n",
      " 'resnest14d',\n",
      " 'resnest26d',\n",
      " 'resnest50d',\n",
      " 'resnest50d_1s4x24d',\n",
      " 'resnest50d_4s2x40d',\n",
      " 'resnest101e',\n",
      " 'resnest200e',\n",
      " 'resnest269e',\n",
      " 'resnet18',\n",
      " 'resnet18d',\n",
      " 'resnet26',\n",
      " 'resnet26d',\n",
      " 'resnet34',\n",
      " 'resnet34d',\n",
      " 'resnet50',\n",
      " 'resnet50d',\n",
      " 'resnetblur50',\n",
      " 'resnext50_32x4d',\n",
      " 'resnext50d_32x4d',\n",
      " 'resnext101_32x8d',\n",
      " 'rexnet_100',\n",
      " 'rexnet_130',\n",
      " 'rexnet_150',\n",
      " 'rexnet_200',\n",
      " 'selecsls42b',\n",
      " 'selecsls60',\n",
      " 'selecsls60b',\n",
      " 'semnasnet_100',\n",
      " 'seresnet50',\n",
      " 'seresnext26d_32x4d',\n",
      " 'seresnext26t_32x4d',\n",
      " 'seresnext26tn_32x4d',\n",
      " 'seresnext50_32x4d',\n",
      " 'skresnet18',\n",
      " 'skresnet34',\n",
      " 'skresnext50_32x4d',\n",
      " 'spnasnet_100',\n",
      " 'ssl_resnet18',\n",
      " 'ssl_resnet50',\n",
      " 'ssl_resnext50_32x4d',\n",
      " 'ssl_resnext101_32x4d',\n",
      " 'ssl_resnext101_32x8d',\n",
      " 'ssl_resnext101_32x16d',\n",
      " 'swsl_resnet18',\n",
      " 'swsl_resnet50',\n",
      " 'swsl_resnext50_32x4d',\n",
      " 'swsl_resnext101_32x4d',\n",
      " 'swsl_resnext101_32x8d',\n",
      " 'swsl_resnext101_32x16d',\n",
      " 'tf_efficientnet_b0',\n",
      " 'tf_efficientnet_b0_ap',\n",
      " 'tf_efficientnet_b0_ns',\n",
      " 'tf_efficientnet_b1',\n",
      " 'tf_efficientnet_b1_ap',\n",
      " 'tf_efficientnet_b1_ns',\n",
      " 'tf_efficientnet_b2',\n",
      " 'tf_efficientnet_b2_ap',\n",
      " 'tf_efficientnet_b2_ns',\n",
      " 'tf_efficientnet_b3',\n",
      " 'tf_efficientnet_b3_ap',\n",
      " 'tf_efficientnet_b3_ns',\n",
      " 'tf_efficientnet_b4',\n",
      " 'tf_efficientnet_b4_ap',\n",
      " 'tf_efficientnet_b4_ns',\n",
      " 'tf_efficientnet_b5',\n",
      " 'tf_efficientnet_b5_ap',\n",
      " 'tf_efficientnet_b5_ns',\n",
      " 'tf_efficientnet_b6',\n",
      " 'tf_efficientnet_b6_ap',\n",
      " 'tf_efficientnet_b6_ns',\n",
      " 'tf_efficientnet_b7',\n",
      " 'tf_efficientnet_b7_ap',\n",
      " 'tf_efficientnet_b7_ns',\n",
      " 'tf_efficientnet_b8',\n",
      " 'tf_efficientnet_b8_ap',\n",
      " 'tf_efficientnet_cc_b0_4e',\n",
      " 'tf_efficientnet_cc_b0_8e',\n",
      " 'tf_efficientnet_cc_b1_8e',\n",
      " 'tf_efficientnet_el',\n",
      " 'tf_efficientnet_em',\n",
      " 'tf_efficientnet_es',\n",
      " 'tf_efficientnet_l2_ns',\n",
      " 'tf_efficientnet_l2_ns_475',\n",
      " 'tf_efficientnet_lite0',\n",
      " 'tf_efficientnet_lite1',\n",
      " 'tf_efficientnet_lite2',\n",
      " 'tf_efficientnet_lite3',\n",
      " 'tf_efficientnet_lite4',\n",
      " 'tf_inception_v3',\n",
      " 'tf_mixnet_l',\n",
      " 'tf_mixnet_m',\n",
      " 'tf_mixnet_s',\n",
      " 'tf_mobilenetv3_large_075',\n",
      " 'tf_mobilenetv3_large_100',\n",
      " 'tf_mobilenetv3_large_minimal_100',\n",
      " 'tf_mobilenetv3_small_075',\n",
      " 'tf_mobilenetv3_small_100',\n",
      " 'tf_mobilenetv3_small_minimal_100',\n",
      " 'tresnet_l',\n",
      " 'tresnet_l_448',\n",
      " 'tresnet_m',\n",
      " 'tresnet_m_448',\n",
      " 'tresnet_xl',\n",
      " 'tresnet_xl_448',\n",
      " 'tv_densenet121',\n",
      " 'tv_resnet34',\n",
      " 'tv_resnet50',\n",
      " 'tv_resnet101',\n",
      " 'tv_resnet152',\n",
      " 'tv_resnext50_32x4d',\n",
      " 'vit_base_patch16_224',\n",
      " 'vit_base_patch16_384',\n",
      " 'vit_base_patch32_384',\n",
      " 'vit_large_patch16_224',\n",
      " 'vit_large_patch16_384',\n",
      " 'vit_large_patch32_384',\n",
      " 'vit_small_patch16_224',\n",
      " 'wide_resnet50_2',\n",
      " 'wide_resnet101_2',\n",
      " 'xception',\n",
      " 'xception41',\n",
      " 'xception65',\n",
      " 'xception71']\n"
     ]
    }
   ],
   "source": [
    "# https://rwightman.github.io/pytorch-image-models/\n",
    "import timm\n",
    "from pprint import pprint\n",
    "model_names = timm.list_models(pretrained=True)\n",
    "pprint(model_names)\n",
    "\n",
    "# imagenetの精度一覧\n",
    "# https://sotabench.com/user/rwightman/repos/rwightman/pytorch-image-models"
   ]
  },
  {
   "cell_type": "code",
   "execution_count": 5,
   "metadata": {},
   "outputs": [
    {
     "name": "stdout",
     "output_type": "stream",
     "text": [
      "cleanlab version: 0.1.1\n"
     ]
    }
   ],
   "source": [
    "import os, sys\n",
    "if os.getcwd() in [\"/kaggle/working\", \"/content\"]:\n",
    "    sys.path.append(\"../input/cleanlab/\")\n",
    "import cleanlab\n",
    "from cleanlab.classification import LearningWithNoisyLabels\n",
    "print(\"cleanlab version:\", cleanlab.__version__)"
   ]
  },
  {
   "cell_type": "code",
   "execution_count": 6,
   "metadata": {},
   "outputs": [],
   "source": [
    "import os, sys\n",
    "if os.getcwd() in [\"/kaggle/working\", \"/content\"]:\n",
    "    if not os.path.exists('./kaggle_Cassava'):\n",
    "        !git clone https://github.com/riron1206/kaggle_Cassava.git    \n",
    "    sys.path.append(\"./kaggle_Cassava/code\")\n",
    "else:\n",
    "    #sys.path.append(r\"C:\\Users\\81908\\MyGitHub\\kaggle_Cassava\\code\")\n",
    "    sys.path.append(r\"C:\\Users\\shingo\\jupyter_notebook\\pytorch_lightning_work\\kaggle_Cassava\\kaggle_Cassava\\code\")\n",
    "\n",
    "from gem_pooling import GeM, GeMNet\n",
    "from bi_tempered_loss import BiTemperedLoss\n",
    "from symmetric_ce_loss import SymmetricCrossEntropyLoss\n",
    "from mix_aug import cutmix, fmix, snapmix, SnapMixLoss\n",
    "from sampling import minor_class_over_sample, imblearn_over_sampling, imblearn_under_sampling\n",
    "from my_lr_scheduler import _CosineAnnealingWarmupRestarts\n",
    "from balanced_batch_sampler import BalancedBatchSampler\n",
    "#from gradcam_util import GradcamUtil\n",
    "from util_torch import freeze_until, freeze_bn\n",
    "from visualize import visualize_transpose, show_images, show_pred_diff_images\n",
    "from sharpen import sharpen\n",
    "from dataset_normalize_param import dataset_normalize_param"
   ]
  },
  {
   "cell_type": "code",
   "execution_count": 7,
   "metadata": {},
   "outputs": [],
   "source": [
    "import os\n",
    "import random\n",
    "import torch\n",
    "\n",
    "\n",
    "def set_seed(seed: int=42) -> None:\n",
    "    np.random.seed(seed)\n",
    "    random.seed(seed)\n",
    "    os.environ['PYTHONHASHSEED'] = str(seed)\n",
    "    torch.backends.cudnn.benchmark = False\n",
    "    torch.backends.cudnn.deterministic = True\n",
    "    torch.manual_seed(seed)\n",
    "    torch.cuda.manual_seed(seed)\n",
    "    torch.cuda.manual_seed_all(seed)"
   ]
  },
  {
   "cell_type": "code",
   "execution_count": 8,
   "metadata": {},
   "outputs": [],
   "source": [
    "# https://www.kaggle.com/mekhdigakhramanian/pytorch-efficientnet-baseline-inference-tta/data?select=tf_efficientnet_b3_ns_fold_0_0\n",
    "import torch\n",
    "import numpy as np\n",
    "\n",
    "\n",
    "def inference_one_epoch(model, data_loader, device):\n",
    "    model.eval()\n",
    "    image_preds_all = []\n",
    "    with torch.no_grad():\n",
    "        for step, batch in enumerate(data_loader):\n",
    "            imgs = batch[\"x\"].to(device).float()\n",
    "            model = model.to(device)\n",
    "            image_preds = model(imgs)\n",
    "            image_preds_all += [torch.softmax(image_preds, 1).detach().cpu().numpy()]\n",
    "    image_preds_all = np.concatenate(image_preds_all, axis=0)\n",
    "    return image_preds_all"
   ]
  },
  {
   "cell_type": "code",
   "execution_count": 9,
   "metadata": {},
   "outputs": [],
   "source": [
    "import pickle\n",
    "import numpy as np\n",
    "import pandas as pd\n",
    "from sklearn.metrics import accuracy_score, log_loss\n",
    "from colorama import Fore\n",
    "r_ = Fore.RED\n",
    "b_ = Fore.BLUE\n",
    "y_ = Fore.YELLOW\n",
    "\n",
    "\n",
    "def check_oof(y):\n",
    "    Y_oof = pickle.load(open(f\"Y_pred.pkl\", 'rb'))\n",
    "    Y_tta_oof = pickle.load(open(f\"Y_pred_tta.pkl\", 'rb'))\n",
    "    oof = accuracy_score(y, Y_oof.values.argmax(1))\n",
    "    oof_tta = accuracy_score(y, Y_tta_oof.values.argmax(1))    \n",
    "    oof_loss = log_loss(y, Y_oof.values)\n",
    "    oof_loss_tta = log_loss(y, Y_tta_oof.values)\n",
    "    print(y_, f\"oof:\", round(oof, 4)) \n",
    "    print(y_, f\"oof_tta:\", round(oof_tta, 4))\n",
    "    print(y_, f\"oof_loss:\", round(oof_loss, 4))\n",
    "    print(y_, f\"oof_loss_tta:\", round(oof_loss_tta, 4))\n",
    "    return oof, oof_tta, oof_loss, oof_loss_tta"
   ]
  },
  {
   "cell_type": "code",
   "execution_count": 10,
   "metadata": {},
   "outputs": [
    {
     "name": "stdout",
     "output_type": "stream",
     "text": [
      "pytorch_lightning version: 1.1.0\n"
     ]
    }
   ],
   "source": [
    "import os\n",
    "import cv2\n",
    "import glob\n",
    "import random\n",
    "import shutil\n",
    "import pickle\n",
    "import json\n",
    "import yaml\n",
    "import pathlib\n",
    "from datetime import datetime\n",
    "\n",
    "import numpy as np\n",
    "import pandas as pd\n",
    "import matplotlib.pyplot as plt\n",
    "import seaborn as sns\n",
    "\n",
    "import torch\n",
    "import torch.nn as nn\n",
    "import torch.nn.functional as F\n",
    "import torch.optim as optim\n",
    "from torch.optim import lr_scheduler\n",
    "from torch.utils.data import DataLoader, Dataset\n",
    "from torch.cuda import amp\n",
    "\n",
    "import torchvision\n",
    "from torchvision import models\n",
    "\n",
    "from sklearn import metrics\n",
    "from sklearn.model_selection import StratifiedKFold\n",
    "\n",
    "from tqdm.notebook import tqdm\n",
    "from collections import defaultdict\n",
    "import albumentations as A\n",
    "from albumentations.pytorch import ToTensorV2\n",
    "\n",
    "import timm\n",
    "\n",
    "import wandb\n",
    "\n",
    "import pytorch_lightning as pl\n",
    "from pytorch_lightning.callbacks import ModelCheckpoint, EarlyStopping\n",
    "from pytorch_lightning.metrics.functional import accuracy\n",
    "from pytorch_lightning.loggers.wandb import WandbLogger\n",
    "\n",
    "import warnings\n",
    "\n",
    "warnings.filterwarnings(\"ignore\")\n",
    "\n",
    "print(\"pytorch_lightning version:\", pl.__version__)"
   ]
  },
  {
   "cell_type": "code",
   "execution_count": 11,
   "metadata": {},
   "outputs": [],
   "source": [
    "import os, shutil\n",
    "if os.path.exists(\"lightning_logs/\"):\n",
    "    shutil.rmtree(\"lightning_logs/\")\n",
    "    os.mkdir(\"lightning_logs/\")\n",
    "if os.path.exists(\"wandb/\"):\n",
    "    shutil.rmtree(\"wandb/\")"
   ]
  },
  {
   "cell_type": "markdown",
   "metadata": {},
   "source": [
    "# Data"
   ]
  },
  {
   "cell_type": "code",
   "execution_count": 12,
   "metadata": {},
   "outputs": [
    {
     "name": "stdout",
     "output_type": "stream",
     "text": [
      "{0: 'Cassava Bacterial Blight (CBB)', 1: 'Cassava Brown Streak Disease (CBSD)', 2: 'Cassava Green Mottle (CGM)', 3: 'Cassava Mosaic Disease (CMD)', 4: 'Healthy'}\n",
      "(21397, 9)\n"
     ]
    },
    {
     "data": {
      "text/html": [
       "<div>\n",
       "<style scoped>\n",
       "    .dataframe tbody tr th:only-of-type {\n",
       "        vertical-align: middle;\n",
       "    }\n",
       "\n",
       "    .dataframe tbody tr th {\n",
       "        vertical-align: top;\n",
       "    }\n",
       "\n",
       "    .dataframe thead th {\n",
       "        text-align: right;\n",
       "    }\n",
       "</style>\n",
       "<table border=\"1\" class=\"dataframe\">\n",
       "  <thead>\n",
       "    <tr style=\"text-align: right;\">\n",
       "      <th></th>\n",
       "      <th>image_id</th>\n",
       "      <th>label</th>\n",
       "      <th>file_path</th>\n",
       "      <th>Cassava Bacterial Blight (CBB)</th>\n",
       "      <th>Cassava Brown Streak Disease (CBSD)</th>\n",
       "      <th>Cassava Green Mottle (CGM)</th>\n",
       "      <th>Cassava Mosaic Disease (CMD)</th>\n",
       "      <th>Healthy</th>\n",
       "      <th>logit</th>\n",
       "    </tr>\n",
       "  </thead>\n",
       "  <tbody>\n",
       "    <tr>\n",
       "      <th>0</th>\n",
       "      <td>1000015157.jpg</td>\n",
       "      <td>0</td>\n",
       "      <td>C:\\Users\\shingo\\jupyter_notebook\\pytorch_light...</td>\n",
       "      <td>1.0</td>\n",
       "      <td>0.0</td>\n",
       "      <td>0.0</td>\n",
       "      <td>0.0</td>\n",
       "      <td>0.0</td>\n",
       "      <td>1.0</td>\n",
       "    </tr>\n",
       "    <tr>\n",
       "      <th>1</th>\n",
       "      <td>1000201771.jpg</td>\n",
       "      <td>3</td>\n",
       "      <td>C:\\Users\\shingo\\jupyter_notebook\\pytorch_light...</td>\n",
       "      <td>0.0</td>\n",
       "      <td>0.0</td>\n",
       "      <td>0.0</td>\n",
       "      <td>1.0</td>\n",
       "      <td>0.0</td>\n",
       "      <td>1.0</td>\n",
       "    </tr>\n",
       "    <tr>\n",
       "      <th>2</th>\n",
       "      <td>100042118.jpg</td>\n",
       "      <td>1</td>\n",
       "      <td>C:\\Users\\shingo\\jupyter_notebook\\pytorch_light...</td>\n",
       "      <td>0.0</td>\n",
       "      <td>1.0</td>\n",
       "      <td>0.0</td>\n",
       "      <td>0.0</td>\n",
       "      <td>0.0</td>\n",
       "      <td>1.0</td>\n",
       "    </tr>\n",
       "    <tr>\n",
       "      <th>3</th>\n",
       "      <td>1000723321.jpg</td>\n",
       "      <td>1</td>\n",
       "      <td>C:\\Users\\shingo\\jupyter_notebook\\pytorch_light...</td>\n",
       "      <td>0.0</td>\n",
       "      <td>1.0</td>\n",
       "      <td>0.0</td>\n",
       "      <td>0.0</td>\n",
       "      <td>0.0</td>\n",
       "      <td>1.0</td>\n",
       "    </tr>\n",
       "    <tr>\n",
       "      <th>4</th>\n",
       "      <td>1000812911.jpg</td>\n",
       "      <td>3</td>\n",
       "      <td>C:\\Users\\shingo\\jupyter_notebook\\pytorch_light...</td>\n",
       "      <td>0.0</td>\n",
       "      <td>0.0</td>\n",
       "      <td>0.0</td>\n",
       "      <td>1.0</td>\n",
       "      <td>0.0</td>\n",
       "      <td>1.0</td>\n",
       "    </tr>\n",
       "    <tr>\n",
       "      <th>...</th>\n",
       "      <td>...</td>\n",
       "      <td>...</td>\n",
       "      <td>...</td>\n",
       "      <td>...</td>\n",
       "      <td>...</td>\n",
       "      <td>...</td>\n",
       "      <td>...</td>\n",
       "      <td>...</td>\n",
       "      <td>...</td>\n",
       "    </tr>\n",
       "    <tr>\n",
       "      <th>21392</th>\n",
       "      <td>999068805.jpg</td>\n",
       "      <td>3</td>\n",
       "      <td>C:\\Users\\shingo\\jupyter_notebook\\pytorch_light...</td>\n",
       "      <td>0.0</td>\n",
       "      <td>0.0</td>\n",
       "      <td>0.0</td>\n",
       "      <td>1.0</td>\n",
       "      <td>0.0</td>\n",
       "      <td>1.0</td>\n",
       "    </tr>\n",
       "    <tr>\n",
       "      <th>21393</th>\n",
       "      <td>999329392.jpg</td>\n",
       "      <td>3</td>\n",
       "      <td>C:\\Users\\shingo\\jupyter_notebook\\pytorch_light...</td>\n",
       "      <td>0.0</td>\n",
       "      <td>0.0</td>\n",
       "      <td>0.0</td>\n",
       "      <td>1.0</td>\n",
       "      <td>0.0</td>\n",
       "      <td>1.0</td>\n",
       "    </tr>\n",
       "    <tr>\n",
       "      <th>21394</th>\n",
       "      <td>999474432.jpg</td>\n",
       "      <td>1</td>\n",
       "      <td>C:\\Users\\shingo\\jupyter_notebook\\pytorch_light...</td>\n",
       "      <td>0.0</td>\n",
       "      <td>1.0</td>\n",
       "      <td>0.0</td>\n",
       "      <td>0.0</td>\n",
       "      <td>0.0</td>\n",
       "      <td>1.0</td>\n",
       "    </tr>\n",
       "    <tr>\n",
       "      <th>21395</th>\n",
       "      <td>999616605.jpg</td>\n",
       "      <td>4</td>\n",
       "      <td>C:\\Users\\shingo\\jupyter_notebook\\pytorch_light...</td>\n",
       "      <td>0.0</td>\n",
       "      <td>0.0</td>\n",
       "      <td>0.0</td>\n",
       "      <td>0.0</td>\n",
       "      <td>1.0</td>\n",
       "      <td>1.0</td>\n",
       "    </tr>\n",
       "    <tr>\n",
       "      <th>21396</th>\n",
       "      <td>999998473.jpg</td>\n",
       "      <td>4</td>\n",
       "      <td>C:\\Users\\shingo\\jupyter_notebook\\pytorch_light...</td>\n",
       "      <td>0.0</td>\n",
       "      <td>0.0</td>\n",
       "      <td>0.0</td>\n",
       "      <td>0.0</td>\n",
       "      <td>1.0</td>\n",
       "      <td>1.0</td>\n",
       "    </tr>\n",
       "  </tbody>\n",
       "</table>\n",
       "<p>21397 rows × 9 columns</p>\n",
       "</div>"
      ],
      "text/plain": [
       "             image_id  label  \\\n",
       "0      1000015157.jpg      0   \n",
       "1      1000201771.jpg      3   \n",
       "2       100042118.jpg      1   \n",
       "3      1000723321.jpg      1   \n",
       "4      1000812911.jpg      3   \n",
       "...               ...    ...   \n",
       "21392   999068805.jpg      3   \n",
       "21393   999329392.jpg      3   \n",
       "21394   999474432.jpg      1   \n",
       "21395   999616605.jpg      4   \n",
       "21396   999998473.jpg      4   \n",
       "\n",
       "                                               file_path  \\\n",
       "0      C:\\Users\\shingo\\jupyter_notebook\\pytorch_light...   \n",
       "1      C:\\Users\\shingo\\jupyter_notebook\\pytorch_light...   \n",
       "2      C:\\Users\\shingo\\jupyter_notebook\\pytorch_light...   \n",
       "3      C:\\Users\\shingo\\jupyter_notebook\\pytorch_light...   \n",
       "4      C:\\Users\\shingo\\jupyter_notebook\\pytorch_light...   \n",
       "...                                                  ...   \n",
       "21392  C:\\Users\\shingo\\jupyter_notebook\\pytorch_light...   \n",
       "21393  C:\\Users\\shingo\\jupyter_notebook\\pytorch_light...   \n",
       "21394  C:\\Users\\shingo\\jupyter_notebook\\pytorch_light...   \n",
       "21395  C:\\Users\\shingo\\jupyter_notebook\\pytorch_light...   \n",
       "21396  C:\\Users\\shingo\\jupyter_notebook\\pytorch_light...   \n",
       "\n",
       "       Cassava Bacterial Blight (CBB)  Cassava Brown Streak Disease (CBSD)  \\\n",
       "0                                 1.0                                  0.0   \n",
       "1                                 0.0                                  0.0   \n",
       "2                                 0.0                                  1.0   \n",
       "3                                 0.0                                  1.0   \n",
       "4                                 0.0                                  0.0   \n",
       "...                               ...                                  ...   \n",
       "21392                             0.0                                  0.0   \n",
       "21393                             0.0                                  0.0   \n",
       "21394                             0.0                                  1.0   \n",
       "21395                             0.0                                  0.0   \n",
       "21396                             0.0                                  0.0   \n",
       "\n",
       "       Cassava Green Mottle (CGM)  Cassava Mosaic Disease (CMD)  Healthy  \\\n",
       "0                             0.0                           0.0      0.0   \n",
       "1                             0.0                           1.0      0.0   \n",
       "2                             0.0                           0.0      0.0   \n",
       "3                             0.0                           0.0      0.0   \n",
       "4                             0.0                           1.0      0.0   \n",
       "...                           ...                           ...      ...   \n",
       "21392                         0.0                           1.0      0.0   \n",
       "21393                         0.0                           1.0      0.0   \n",
       "21394                         0.0                           0.0      0.0   \n",
       "21395                         0.0                           0.0      1.0   \n",
       "21396                         0.0                           0.0      1.0   \n",
       "\n",
       "       logit  \n",
       "0        1.0  \n",
       "1        1.0  \n",
       "2        1.0  \n",
       "3        1.0  \n",
       "4        1.0  \n",
       "...      ...  \n",
       "21392    1.0  \n",
       "21393    1.0  \n",
       "21394    1.0  \n",
       "21395    1.0  \n",
       "21396    1.0  \n",
       "\n",
       "[21397 rows x 9 columns]"
      ]
     },
     "metadata": {},
     "output_type": "display_data"
    }
   ],
   "source": [
    "if os.getcwd() in \"/kaggle/working\":\n",
    "    ROOT_DIR = \"../input/cassava-leaf-disease-classification\"\n",
    "    TRAIN_DIR = \"../input/cassava-leaf-disease-classification/train_images\"\n",
    "    TEST_DIR = \"../input/cassava-leaf-disease-classification/test_images\"\n",
    "    \n",
    "elif os.getcwd() in \"/content\":\n",
    "    ROOT_DIR = \"/content/drive/MyDrive/competitions/cassava\"\n",
    "    TRAIN_DIR = \"/content/drive/MyDrive/competitions/cassava/train_images\"\n",
    "    TEST_DIR = \"/content/drive/MyDrive/competitions/cassava/test_images\"\n",
    "    \n",
    "else:\n",
    "    #OOT_DIR = r\"C:\\Users\\81908\\jupyter_notebook\\pytorch_lightning_work\\kaggle_Cassava\\input\\cassava-leaf-disease-classification\"\n",
    "    #RAIN_DIR = r\"C:\\Users\\81908\\jupyter_notebook\\pytorch_lightning_work\\kaggle_Cassava\\input\\cassava-leaf-disease-classification\\train_images\"\n",
    "    #EST_DIR = r\"C:\\Users\\81908\\jupyter_notebook\\pytorch_lightning_work\\kaggle_Cassava\\input\\cassava-leaf-disease-classification\\test_images\"\n",
    "    ROOT_DIR = r\"C:\\Users\\shingo\\jupyter_notebook\\pytorch_lightning_work\\kaggle_Cassava\\input\\cassava-leaf-disease-classification\"\n",
    "    TRAIN_DIR = r\"C:\\Users\\shingo\\jupyter_notebook\\pytorch_lightning_work\\kaggle_Cassava\\input\\cassava-leaf-disease-classification\\train_images\"\n",
    "    TEST_DIR = r\"C:\\Users\\shingo\\jupyter_notebook\\pytorch_lightning_work\\kaggle_Cassava\\input\\cassava-leaf-disease-classification\\test_images\"\n",
    "    \n",
    "with open(f\"{ROOT_DIR}/label_num_to_disease_map.json\", \"r\") as f:\n",
    "    name_mapping = json.load(f)\n",
    "name_mapping = {int(k): v for k, v in name_mapping.items()}\n",
    "print(name_mapping)\n",
    "\n",
    "\n",
    "df = pd.read_csv(f\"{ROOT_DIR}/train.csv\")\n",
    "df[\"file_path\"] = f\"{TRAIN_DIR}/\" + df[\"image_id\"]\n",
    "onehot_label = np.identity(len(name_mapping))[df[\"label\"].values]\n",
    "onehot_label = pd.DataFrame(onehot_label, columns=name_mapping.values())\n",
    "df = df.join(onehot_label)\n",
    "df[\"logit\"] = 1.0\n",
    "print(df.shape)\n",
    "display(df)\n",
    "\n",
    "\n",
    "test_df = pd.read_csv(f\"{ROOT_DIR}/sample_submission.csv\")\n",
    "test_df[\"file_path\"] = f\"{TEST_DIR}/\" + test_df[\"image_id\"]\n",
    "onehot_label = np.identity(len(name_mapping))[test_df[\"label\"].values]\n",
    "onehot_label = pd.DataFrame(onehot_label, columns=name_mapping.values())\n",
    "test_df = test_df.join(onehot_label)\n",
    "test_df[\"logit\"] = 1.0"
   ]
  },
  {
   "cell_type": "markdown",
   "metadata": {},
   "source": [
    "# Dataset, Lightning Data Module"
   ]
  },
  {
   "cell_type": "code",
   "execution_count": 13,
   "metadata": {},
   "outputs": [],
   "source": [
    "class CassavaDataset(Dataset):\n",
    "    def __init__(\n",
    "        self,\n",
    "        df: pd.DataFrame,\n",
    "        train: bool = True,\n",
    "        transforms=None,\n",
    "    ):\n",
    "        self.df = df\n",
    "        self.train = train\n",
    "        self.transforms = transforms\n",
    "\n",
    "    def __getitem__(self, index):\n",
    "        im_path = self.df.iloc[index][\"file_path\"]\n",
    "        x = cv2.imread(im_path, cv2.IMREAD_COLOR)\n",
    "        x = cv2.cvtColor(x, cv2.COLOR_BGR2RGB)\n",
    "\n",
    "        if self.transforms:\n",
    "            x = self.transforms(image=x)[\"image\"]\n",
    "\n",
    "        if self.train:\n",
    "            y = self.df.iloc[index][\"label\"]\n",
    "            y_soft = self.df.iloc[index][list(name_mapping.values())].values.astype(np.float32)\n",
    "            return {\"x\": x, \"y\": y, \"y_soft\": y_soft, \"index\": index}\n",
    "        else:\n",
    "            return {\"x\": x}\n",
    "\n",
    "    def __len__(self):\n",
    "        return len(self.df)\n",
    "\n",
    "\n",
    "class CassavaDataModule(pl.LightningDataModule):\n",
    "    def __init__(\n",
    "        self,\n",
    "        train_df,\n",
    "        valid_df,\n",
    "        data_transforms,\n",
    "        CFG,\n",
    "    ):\n",
    "        super().__init__()\n",
    "        self.train_df = train_df\n",
    "        self.valid_df = valid_df\n",
    "        self.data_transforms = data_transforms\n",
    "        self.CFG = CFG\n",
    "\n",
    "    def prepare_data(self):\n",
    "        pass\n",
    "\n",
    "    def setup(self, stage=None):\n",
    "        self.train_dataset = CassavaDataset(\n",
    "            self.train_df, train=True, transforms=self.data_transforms[\"train\"], \n",
    "        )\n",
    "\n",
    "        self.valid_dataset = CassavaDataset(\n",
    "            self.valid_df, train=True, transforms=self.data_transforms[\"valid\"],\n",
    "        )\n",
    "\n",
    "        self.valid_tta_dataset = CassavaDataset(\n",
    "            self.valid_df, train=True, transforms=self.data_transforms[\"test\"],\n",
    "        )  # test setのTTA条件\n",
    "\n",
    "    def train_dataloader(self):\n",
    "        if self.CFG.is_balanced_batch:\n",
    "            assert self.CFG.batch_size % self.CFG.n_classes == 0, 'batch_sizeはクラス数の整数倍にしないとダメ！！！'\n",
    "            \n",
    "            balanced_batch_sampler = BalancedBatchSampler(\n",
    "                self.train_dataset, self.train_df[\"label\"].values\n",
    "            )\n",
    "\n",
    "            train_loader = DataLoader(\n",
    "                self.train_dataset,\n",
    "                batch_size=self.CFG.batch_size,\n",
    "                num_workers=self.CFG.num_workers,\n",
    "                drop_last=True,\n",
    "                sampler=balanced_batch_sampler,\n",
    "            )\n",
    "        else:\n",
    "            train_loader = DataLoader(\n",
    "                self.train_dataset,\n",
    "                batch_size=self.CFG.batch_size,\n",
    "                num_workers=self.CFG.num_workers,\n",
    "                drop_last=True,\n",
    "                shuffle=True,\n",
    "            )\n",
    "\n",
    "        return train_loader\n",
    "\n",
    "    def val_dataloader(self):\n",
    "        return DataLoader(\n",
    "            self.valid_dataset,\n",
    "            batch_size=self.CFG.batch_size,\n",
    "            num_workers=self.CFG.num_workers,\n",
    "            shuffle=False,\n",
    "        )\n",
    "\n",
    "    def val_tta_dataloader(self):\n",
    "        return DataLoader(\n",
    "            self.valid_tta_dataset,\n",
    "            batch_size=self.CFG.batch_size,\n",
    "            num_workers=self.CFG.num_workers,\n",
    "            shuffle=False,\n",
    "        )"
   ]
  },
  {
   "cell_type": "markdown",
   "metadata": {},
   "source": [
    "# LightningModule"
   ]
  },
  {
   "cell_type": "code",
   "execution_count": 14,
   "metadata": {},
   "outputs": [],
   "source": [
    "class CassavaLite(pl.LightningModule):\n",
    "    def __init__(self):\n",
    "        super().__init__()\n",
    "\n",
    "        self.use_amp = True  # apex amp を有効にする(16-bit mixed precision) https://pytorch-lightning.readthedocs.io/en/stable/lightning_module.html\n",
    "\n",
    "        self.net = timm.create_model(CFG.arch, pretrained=True)\n",
    "        \n",
    "        if CFG.model_path is not None:\n",
    "            # 学習済みモデルファイル指定ある場合ロード\n",
    "            self.net.load_state_dict(torch.load(CFG.model_path))\n",
    "            print(\"load pth:\", CFG.model_path)\n",
    "\n",
    "        if \"eff\" in CFG.arch:\n",
    "            self.net.classifier = nn.Linear(\n",
    "                self.net.classifier.in_features, CFG.n_classes\n",
    "            )\n",
    "            if CFG.gem_p > 0.0:\n",
    "                self.net = GeMNet(\n",
    "                    list(self.net.children())[:-2],\n",
    "                    GeM(p=CFG.gem_p),\n",
    "                    self.net.classifier.in_features,\n",
    "                    CFG.n_classes,\n",
    "                )\n",
    "            self.feat_net = nn.Sequential(*list(self.net.children())[:-2])\n",
    "\n",
    "        elif \"rexnet\" in CFG.arch:\n",
    "            self.net.head.fc = nn.Linear(self.net.head.fc.in_features, CFG.n_classes)\n",
    "            if CFG.gem_p > 0.0:\n",
    "                self.net = GeMNet(\n",
    "                    list(self.net.children())[:-1],\n",
    "                    GeM(p=CFG.gem_p),\n",
    "                    self.net.head.fc.in_features,\n",
    "                    CFG.n_classes,\n",
    "                )\n",
    "            self.feat_net = nn.Sequential(*list(self.net.children())[:-1])\n",
    "\n",
    "        elif \"vit\" in CFG.arch:\n",
    "            self.net.head = nn.Linear(self.net.head.in_features, CFG.n_classes)\n",
    "            self.feat_net = nn.Sequential(*list(self.net.children())[:-1])\n",
    "\n",
    "        else:\n",
    "            self.net.fc = nn.Linear(self.net.fc.in_features, CFG.n_classes)\n",
    "            if CFG.gem_p > 0.0:\n",
    "                self.net = GeMNet(\n",
    "                    list(self.net.children())[:-2],\n",
    "                    GeM(p=CFG.gem_p),\n",
    "                    self.net.fc.in_features,\n",
    "                    CFG.n_classes,\n",
    "                )\n",
    "            self.feat_net = nn.Sequential(\n",
    "                *list(self.net.children())[:-2]\n",
    "            )  # global_poolとfc層除く\n",
    "\n",
    "\n",
    "    def forward(self, x):\n",
    "        out = self.net(x)\n",
    "        return out\n",
    "\n",
    "    def feat_forward(self, x):\n",
    "        \"\"\"全結合層の直前の予測値取得用\"\"\"\n",
    "        feat = self.feat_net(x)\n",
    "        return feat.detach()  # 「detach()」はTensor型から勾配情報を抜いたものを取得\n",
    "\n",
    "    def configure_optimizers(self):\n",
    "        param_groups = self.parameters()\n",
    "\n",
    "        if CFG.opt == \"adam\":\n",
    "            optimizer = torch.optim.Adam(\n",
    "                param_groups,\n",
    "                lr=CFG.lr,\n",
    "                weight_decay=CFG.weight_decay,\n",
    "                amsgrad=False,\n",
    "            )\n",
    "        elif CFG.opt == \"adabelief\":\n",
    "            optimizer = AdaBelief(\n",
    "                param_groups, lr=CFG.lr, weight_decay=CFG.weight_decay\n",
    "            )\n",
    "        elif CFG.opt == \"radam\":\n",
    "            optimizer = torch_optimizer.RAdam(\n",
    "                param_groups, lr=CFG.lr, weight_decay=CFG.weight_decay\n",
    "            )\n",
    "        else:\n",
    "            optimizer = torch.optim.AdamW(\n",
    "                param_groups, lr=CFG.lr, weight_decay=CFG.weight_decay\n",
    "            )\n",
    "\n",
    "        if CFG.lr_scheduler == \"CosineAnnealingLR\":\n",
    "            scheduler = torch.optim.lr_scheduler.CosineAnnealingLR(\n",
    "                optimizer, T_max=CFG.T_max, eta_min=CFG.min_lr\n",
    "            )\n",
    "        elif CFG.lr_scheduler == \"CosineAnnealingWarmRestarts\":\n",
    "            scheduler = torch.optim.lr_scheduler.CosineAnnealingWarmRestarts(\n",
    "                optimizer, T_0=CFG.T_max, T_mult=1, eta_min=CFG.min_lr\n",
    "            )\n",
    "        elif CFG.lr_scheduler == \"CosineAnnealingWarmUpRestarts\":\n",
    "            scheduler = _CosineAnnealingWarmupRestarts(\n",
    "                optimizer,\n",
    "                first_cycle_steps=CFG.max_epochs,\n",
    "                max_lr=CFG.lr,\n",
    "                min_lr=CFG.min_lr,\n",
    "                warmup_steps=1,\n",
    "            )\n",
    "        else:\n",
    "            scheduler = torch.optim.lr_scheduler.StepLR(\n",
    "                optimizer, step_size=2, gamma=0.1\n",
    "            )\n",
    "\n",
    "        return [optimizer], [scheduler]\n",
    "\n",
    "    def loss(self, y_hat, y, mix_decision):\n",
    "        if CFG.train_loss_name == \"SmoothCrossEntropyLoss\":\n",
    "            loss_fn = SmoothCrossEntropyLoss(smoothing=CFG.smoothing).to(CFG.device)\n",
    "        elif CFG.train_loss_name == \"FocalCosineLoss\":\n",
    "            loss_fn = FocalCosineLoss(smoothing=CFG.smoothing).to(CFG.device)\n",
    "        elif CFG.train_loss_name == \"BiTemperedLoss\":\n",
    "            # labelsmoothing と mix_aug を半々にする\n",
    "            # https://www.kaggle.com/c/cassava-leaf-disease-classification/discussion/209065\n",
    "            if mix_decision < CFG.mix_decision_th:\n",
    "                loss_fn = BiTemperedLoss(t1=CFG.t1, t2=CFG.t2, smoothing=0.0).to(CFG.device)\n",
    "            else:\n",
    "                loss_fn = BiTemperedLoss(t1=CFG.t1, t2=CFG.t2, smoothing=CFG.smoothing).to(CFG.device)\n",
    "        elif CFG.train_loss_name == \"SymmetricCrossEntropyLoss\":\n",
    "            if mix_decision < CFG.mix_decision_th:\n",
    "                loss_fn = SymmetricCrossEntropyLoss(\n",
    "                    num_classes=CFG.n_classes,\n",
    "                    alpha=CFG.symmetric_alpha,\n",
    "                    beta=CFG.symmetric_beta,\n",
    "                    smoothing=0.0).to(CFG.device)\n",
    "            else:\n",
    "                loss_fn = SymmetricCrossEntropyLoss(\n",
    "                    num_classes=CFG.n_classes,\n",
    "                    alpha=CFG.symmetric_alpha,\n",
    "                    beta=CFG.symmetric_beta,\n",
    "                    smoothing=CFG.smoothing).to(CFG.device)\n",
    "        elif CFG.train_loss_name == \"ElrLoss\":\n",
    "            loss_fn = ElrLoss(num_classes=CFG.n_classes).to(CFG.device)\n",
    "        else:\n",
    "            loss_fn = nn.CrossEntropyLoss().to(CFG.device)\n",
    "\n",
    "        # BiTemperedLoss, SymmetricCrossEntropyLoss はソフトラベル可能\n",
    "        return loss_fn(y_hat, y)\n",
    "\n",
    "    def training_step(self, batch, batch_idx):\n",
    "        x, y, y_soft, index = batch[\"x\"], batch[\"y\"], batch[\"y_soft\"], batch[\"index\"].detach().cpu().numpy()\n",
    "        #print(index, ordered_label_errors)\n",
    "\n",
    "        # -------- 画像表示 --------\n",
    "        if DEBUG:\n",
    "            try:\n",
    "                fig = plt.figure(figsize=(16, 16))\n",
    "                for i in range(5):\n",
    "                    print(\"y:\", y[i])\n",
    "                    ax = fig.add_subplot(1, 5, i + 1, xticks=[], yticks=[])\n",
    "                    im = x[i].to(\"cpu\").numpy().transpose(1, 2, 0)\n",
    "                    plt.imshow(im)\n",
    "                plt.show()\n",
    "                plt.clf()\n",
    "                plt.close()\n",
    "            except:\n",
    "                pass\n",
    "        # -------------------------\n",
    "        \n",
    "        ######## 前半のepoch数はbn固定する ########\n",
    "        # https://www.kaggle.com/yingpengchen/pytorch-cldc-train-with-vit\n",
    "        if self.current_epoch < CFG.freeze_bn_epochs:\n",
    "            freeze_bn(self.net)\n",
    "            #print(f\"### epoch {self.current_epoch}: bn freeze ###\")\n",
    "        ##########################################\n",
    "\n",
    "        # cutmix/fmix/snapmix\n",
    "        mix_decision = np.random.rand()\n",
    "        # if mix_decision < CFG.mix_decision_th or len(np.intersect1d(index, ordered_label_errors)) > 0:\n",
    "        if mix_decision < CFG.mix_decision_th:\n",
    "            if CFG.mixmethod == \"cutmix\":\n",
    "                #print(\"intersect1d index:\", len(np.intersect1d(index, ordered_label_errors)))\n",
    "                x, y_mixs = cutmix(x, y.long(), CFG.mix_alpha)\n",
    "                y_hat = self(x.float())\n",
    "                loss = self.loss(y_hat, y_mixs[0], mix_decision) * y_mixs[2] + self.loss(y_hat, y_mixs[1], mix_decision) * (1.0 - y_mixs[2])\n",
    "\n",
    "            elif CFG.mixmethod == \"fmix\":\n",
    "                x, y_mixs = fmix(\n",
    "                    x,\n",
    "                    y.long(),\n",
    "                    alpha=CFG.mix_alpha,\n",
    "                    decay_power=5.0,\n",
    "                    shape=(CFG.height, CFG.width),\n",
    "                )\n",
    "                y_hat = self(x.float())\n",
    "                loss = self.loss(y_hat, y_mixs[0], mix_decision) * y_mixs[2] + self.loss(y_hat, y_mixs[1], mix_decision) * (1.0 - y_mixs[2])\n",
    "\n",
    "            else:\n",
    "                y_hat = self(x.float())\n",
    "                if CFG.is_onehot_label:\n",
    "                    loss = self.loss(y_hat, y_soft, mix_decision)\n",
    "                else:\n",
    "                    loss = self.loss(y_hat, y, mix_decision)\n",
    "\n",
    "            # --- 画像表示（cutmix/fmix/snapmix確認用）---\n",
    "            if DEBUG:\n",
    "                try:\n",
    "                    print(\"mix_decision:\", mix_decision)\n",
    "                    fig = plt.figure(figsize=(16, 16))\n",
    "                    for i in range(5):\n",
    "                        print(\"y_hat:\", y_hat[i])\n",
    "                        ax = fig.add_subplot(1, 5, i + 1, xticks=[], yticks=[])\n",
    "                        im = x[i].to(\"cpu\").numpy().transpose(1, 2, 0)\n",
    "                        plt.imshow(im)\n",
    "                    plt.show()\n",
    "                    plt.clf()\n",
    "                    plt.close()\n",
    "                except:\n",
    "                    pass\n",
    "            # -----------------------------------------\n",
    "\n",
    "        else:\n",
    "            y_hat = self(x.float())\n",
    "            if CFG.is_onehot_label:\n",
    "                loss = self.loss(y_hat, y_soft, mix_decision)\n",
    "            else:\n",
    "                loss = self.loss(y_hat, y, mix_decision)\n",
    "\n",
    "        acc = accuracy(y_hat, y)\n",
    "\n",
    "        # on_epoch=Tureでepoch単位の平均値を記録する\n",
    "        # logger=Trueでtensorboardやwandbに記録する\n",
    "        self.log(\n",
    "            \"train_loss\", loss, on_step=False, on_epoch=True, prog_bar=True, logger=True\n",
    "        )\n",
    "        self.log(\n",
    "            \"train_acc\", acc, on_step=False, on_epoch=True, prog_bar=True, logger=True\n",
    "        )\n",
    "        return {\"loss\": loss, \"acc\": acc}\n",
    "\n",
    "    def validation_step(self, batch, batch_idx):\n",
    "        x, y, y_soft, _ = batch[\"x\"], batch[\"y\"], batch[\"y_soft\"], batch[\"index\"]\n",
    "        y_hat = self(x)\n",
    "        loss = nn.CrossEntropyLoss()(y_hat, y).to(CFG.device)\n",
    "        acc = accuracy(y_hat, y)\n",
    "        self.log(\"val_loss\", loss, on_epoch=True, prog_bar=True, logger=True)\n",
    "        self.log(\"val_acc\", acc, on_epoch=True, prog_bar=True, logger=True)\n",
    "        return {\"val_loss\": loss, \"val_acc\": acc}"
   ]
  },
  {
   "cell_type": "code",
   "execution_count": 15,
   "metadata": {},
   "outputs": [],
   "source": [
    "# https://www.kaggle.com/tmhrkt/cassava-cleanlab-with-efficientnet-b0/data\n",
    "# https://github.com/cgnorthcutt/cleanlab/blob/master/cleanlab/classification.py\n",
    "from sklearn.base import BaseEstimator\n",
    "\n",
    "\n",
    "class CleanlabTrainer(BaseEstimator):\n",
    "    \"\"\"\n",
    "    デフォルトのLearningWithNoisyLabels:確信度と正解ラベルから間違ったラベルの可能性が高いサンプルを除いて学習する\n",
    "    を使うために必要なクラス\n",
    "    \"\"\"\n",
    "    def __init__(self, trainer, pl_model, train_df, valid_df, data_transforms):\n",
    "        self.trainer = trainer\n",
    "        self.pl_model = pl_model\n",
    "        self.train_df = train_df\n",
    "        self.valid_df = valid_df\n",
    "        self.data_transforms = data_transforms\n",
    "\n",
    "    def fit(self, img_idx, _):\n",
    "        print(f\"Cleanlab train len: {self.train_df.shape[0]} -> {len(img_idx)}\")\n",
    "        train_df = self.train_df.loc[img_idx]\n",
    "        dm = CassavaDataModule(train_df, self.valid_df, data_transforms, CFG)\n",
    "        self.trainer.fit(self.pl_model, dm)\n",
    "        \n",
    "    def predict(self, img_idx):\n",
    "        pass\n",
    "    def predict_proba(self, img_idx):\n",
    "        pass\n",
    "    def score(self, img_idx, label, sample_weight = None):\n",
    "        pass"
   ]
  },
  {
   "cell_type": "markdown",
   "metadata": {},
   "source": [
    "# Train method"
   ]
  },
  {
   "cell_type": "code",
   "execution_count": 16,
   "metadata": {},
   "outputs": [],
   "source": [
    "def run_train(df, data_transforms, wandb_logger=None):\n",
    "    print(f\"df.shape:\", df.shape)\n",
    "    print(\"wandb_logger:\", wandb_logger)\n",
    "    print(f\"CFG: {CFG.__dict__}\")\n",
    "    \n",
    "    Y_pred = pd.DataFrame(\n",
    "        np.zeros((df.shape[0], CFG.n_classes)),\n",
    "        columns=name_mapping.values(),\n",
    "        index=df.index,\n",
    "    )\n",
    "    Y_pred_tta = Y_pred.copy()\n",
    "\n",
    "    for i in CFG.seeds:\n",
    "        set_seed(seed=i)\n",
    "        pl.seed_everything(i)\n",
    "\n",
    "        cv = StratifiedKFold(n_splits=CFG.n_splits, shuffle=CFG.shuffle, random_state=i)\n",
    "\n",
    "        for j, (train_idx, valid_idx) in enumerate(cv.split(df, df[\"label\"])):\n",
    "\n",
    "            if CFG.is_only_first_fold:\n",
    "                if j > 0:\n",
    "                    break\n",
    "\n",
    "            train_df, valid_df = df.iloc[train_idx], df.iloc[valid_idx]\n",
    "\n",
    "            if CFG.is_over_sample:\n",
    "                train_df = imblearn_over_sampling(\n",
    "                    train_df, train_df[\"label\"], random_state=i, is_plot=False\n",
    "                )\n",
    "            elif CFG.is_under_sample:\n",
    "                train_df = imblearn_under_sampling(\n",
    "                    train_df, train_df[\"label\"], random_state=i, is_plot=False\n",
    "                )\n",
    "            elif CFG.n_over > 0:\n",
    "                # マイナークラスのみover sampling\n",
    "                train_df = minor_class_over_sample(\n",
    "                    train_df, n_over=CFG.n_over, is_plot=False\n",
    "                )\n",
    "\n",
    "            if CFG.is_old_compe_train:\n",
    "                # 過去コンペのデータすべてtrainに入れる\n",
    "                train_df = train_df.append(old_compe_df, ignore_index=True)\n",
    "                \n",
    "            dm = CassavaDataModule(train_df, valid_df, data_transforms, CFG)\n",
    "\n",
    "            trainer_params = {\n",
    "                \"max_epochs\": CFG.max_epochs, \n",
    "                \"deterministic\": True  # cudaの乱数固定\n",
    "            }\n",
    "            trainer_params[\"accumulate_grad_batches\"] = CFG.accumulate_grad_batches  # 勾配をnバッチ分溜めてから誤差逆伝播\n",
    "            early_stopping = EarlyStopping(\"val_loss\", patience=CFG.patience)\n",
    "            if CFG.monitor == \"val_loss\":\n",
    "                model_checkpoint = ModelCheckpoint(monitor=\"val_loss\", save_top_k=1, mode=\"min\")\n",
    "            else:\n",
    "                model_checkpoint = ModelCheckpoint(monitor=\"val_acc\", save_top_k=1, mode=\"max\")\n",
    "            trainer_params[\"callbacks\"] = [model_checkpoint, early_stopping]\n",
    "\n",
    "            if device == \"cuda\":\n",
    "                trainer_params[\"gpus\"] = 1\n",
    "            if type(device) != str:\n",
    "                trainer_params[\"tpu_cores\"] = 1  # xm.xrt_world_size()\n",
    "                trainer_params[\"precision\"] = 16\n",
    "\n",
    "            if CFG.wandb_project is not None:\n",
    "                trainer = pl.Trainer(logger=wandb_logger, \n",
    "                                     **trainer_params)\n",
    "            else:\n",
    "                trainer = pl.Trainer(**trainer_params)\n",
    "                \n",
    "            if CFG.is_lr_find:\n",
    "                # 学習率探索\n",
    "                lr_finder = trainer.tuner.lr_find(CassavaLite(), dm)\n",
    "                suggested_lr = lr_finder.suggestion()\n",
    "                fig = lr_finder.plot()\n",
    "                plt.title(f\"suggested_lr: {suggested_lr}\")\n",
    "                fig.show()\n",
    "                fig.savefig(\"lr_finder.png\")\n",
    "                break\n",
    "                \n",
    "            elif CFG.is_cleanlab:\n",
    "                dm.setup()\n",
    "                clt = CleanlabTrainer(trainer, CassavaLite(), train_df, valid_df, data_transforms)\n",
    "                # デフォルトのLearningWithNoisyLabels:確信度と正解ラベルから間違ったラベルの可能性が高いサンプルを除いて学習する\n",
    "                lnl = LearningWithNoisyLabels(clf=clt, seed=i, n_jobs=os.cpu_count())\n",
    "                lnl.fit(train_idx, train_df[\"label\"].values, psx=psx[train_idx])\n",
    "            \n",
    "            else:\n",
    "                # 学習実行\n",
    "                trainer.fit(CassavaLite(), dm)\n",
    "            \n",
    "            \n",
    "            shutil.copy(\n",
    "                trainer.checkpoint_callback.best_model_path, f\"model_seed_{i}_fold_{j}.ckpt\"\n",
    "            )\n",
    "\n",
    "            # ---------- val predict ---------\n",
    "            pretrained_model = CassavaLite().load_from_checkpoint(\n",
    "                trainer.checkpoint_callback.best_model_path \n",
    "            )\n",
    "            with torch.no_grad():  # 勾配計算を無効してメモリ効率化\n",
    "                Y_pred.iloc[valid_idx] += inference_one_epoch(\n",
    "                    pretrained_model, dm.val_dataloader(), device\n",
    "                )\n",
    "            val_loss = metrics.log_loss(valid_df.label.values, Y_pred.iloc[valid_idx])\n",
    "            val_acc = (valid_df.label.values==np.argmax(Y_pred.iloc[valid_idx].values, axis=1)).mean()  \n",
    "            print(f\"fold {j} validation loss = {val_loss}\")\n",
    "            print(f\"fold {j} validation accuracy = {val_acc}\\n\")\n",
    "\n",
    "            with torch.no_grad():\n",
    "                for _ in range(CFG.n_tta):\n",
    "                    Y_pred_tta.iloc[valid_idx] += (\n",
    "                        inference_one_epoch(\n",
    "                            pretrained_model, dm.val_tta_dataloader(), device\n",
    "                        )\n",
    "                        / CFG.n_tta\n",
    "                    )\n",
    "            val_loss_tta = metrics.log_loss(valid_df.label.values, Y_pred_tta.iloc[valid_idx])\n",
    "            val_acc_tta = (valid_df.label.values==np.argmax(Y_pred_tta.iloc[valid_idx].values, axis=1)).mean()\n",
    "            print(f\"fold {j} validation tta loss = {val_loss_tta}\")\n",
    "            print(f\"fold {j} validation tta accuracy = {val_acc_tta}\\n\")\n",
    "\n",
    "            print(\"-\" * 100)\n",
    "\n",
    "            del pretrained_model\n",
    "            torch.cuda.empty_cache()  # 空いているキャッシュメモリを解放してGPUメモリの断片化を減らす\n",
    "\n",
    "    pickle.dump(Y_pred, open(\"Y_pred.pkl\", \"wb\"))\n",
    "    pickle.dump(Y_pred_tta, open(\"Y_pred_tta.pkl\", \"wb\"))\n",
    "    \n",
    "    if CFG.is_only_first_fold:\n",
    "        oof, oof_tta = val_acc, val_acc_tta\n",
    "        oof_loss, oof_loss_tta = val_loss, val_loss_tta\n",
    "    else:\n",
    "        oof, oof_tta, oof_loss, oof_loss_tta = check_oof(df[\"label\"].values)\n",
    "        \n",
    "    if wandb_logger is not None:\n",
    "        wandb_logger.log_metrics({\"oof\": oof, \"oof_tta\": oof_tta, \n",
    "                                  \"oof_loss\": oof_loss, \"oof_loss_tta\": oof_loss_tta})\n",
    "    \n",
    "    return oof, oof_tta, oof_loss, oof_loss_tta"
   ]
  },
  {
   "cell_type": "markdown",
   "metadata": {},
   "source": [
    "# Params"
   ]
  },
  {
   "cell_type": "code",
   "execution_count": 17,
   "metadata": {},
   "outputs": [
    {
     "name": "stderr",
     "output_type": "stream",
     "text": [
      "wandb: Currently logged in as: anonamename (use `wandb login --relogin` to force relogin)\n",
      "wandb: wandb version 0.10.14 is available!  To upgrade, please run:\n",
      "wandb:  $ pip install wandb --upgrade\n"
     ]
    },
    {
     "data": {
      "text/html": [
       "\n",
       "                Tracking run with wandb version 0.10.12<br/>\n",
       "                Syncing run <strong style=\"color:#cdcd00\">vit_base_patch16_224_fold10_2021/01/22_00:35</strong> to <a href=\"https://wandb.ai\" target=\"_blank\">Weights & Biases</a> <a href=\"https://docs.wandb.com/integrations/jupyter.html\" target=\"_blank\">(Documentation)</a>.<br/>\n",
       "                Project page: <a href=\"https://wandb.ai/anonamename/kaggle_cassava\" target=\"_blank\">https://wandb.ai/anonamename/kaggle_cassava</a><br/>\n",
       "                Run page: <a href=\"https://wandb.ai/anonamename/kaggle_cassava/runs/2w25bshy\" target=\"_blank\">https://wandb.ai/anonamename/kaggle_cassava/runs/2w25bshy</a><br/>\n",
       "                Run data is saved locally in <code>C:\\Users\\shingo\\jupyter_notebook\\pytorch_lightning_work\\kaggle_Cassava\\notebook\\cassava-bitempered-logistic-loss\\20210121\\vit_b16_224_fold10\\wandb\\run-20210122_003558-2w25bshy</code><br/><br/>\n",
       "            "
      ],
      "text/plain": [
       "<IPython.core.display.HTML object>"
      ]
     },
     "metadata": {},
     "output_type": "display_data"
    }
   ],
   "source": [
    "max_epochs = 11\n",
    "class Config:\n",
    "    def __init__(self):\n",
    "        self.seeds = [25]#[0]\n",
    "        self.n_classes = 5\n",
    "        self.max_epochs = max_epochs\n",
    "        self.patience = max_epochs - 1\n",
    "        self.n_splits = 10\n",
    "        self.shuffle = True\n",
    "        #self.batch_size = 16\n",
    "        #self.accumulate_grad_batches = 1\n",
    "        self.batch_size = 4\n",
    "        self.accumulate_grad_batches = 4\n",
    "        self.height = 224\n",
    "        self.width = 224\n",
    "        self.arch = \"vit_base_patch16_224\"\n",
    "        self.opt = \"adam\"\n",
    "        self.lr_scheduler = \"CosineAnnealingWarmRestarts\"\n",
    "        self.T_max = max_epochs\n",
    "        self.T_0 = max_epochs\n",
    "        self.lr = 1e-4\n",
    "        self.min_lr = 1e-6\n",
    "        self.weight_decay = 1e-6\n",
    "        self.smoothing = 0.3#0.2\n",
    "        self.train_loss_name = \"BiTemperedLoss\"\n",
    "        self.t1 = 0.8\n",
    "        self.t2 = 1.4\n",
    "        self.n_tta = 5\n",
    "        self.gem_p = 0  # GemPooling\n",
    "        #self.mix_decision_th = 0.5  # cutmixなどの発生確率\n",
    "        self.mix_decision_th = 0.0\n",
    "        #self.mixmethod = \"cutmix\"\n",
    "        self.mixmethod = \"\"\n",
    "        self.mix_alpha = 1.0\n",
    "        self.is_over_sample = False\n",
    "        self.is_under_sample = False\n",
    "        self.n_over = 0  # train set を倍々するか\n",
    "        self.is_only_first_fold = False  # 1foldだけ学習するか\n",
    "        self.is_onehot_label = False  # onehotの形式でラベル渡すか\n",
    "        self.is_balanced_batch = False  # balanced_batch 1epoch当たりのstep数は2倍以上になるので学習時間も増える\n",
    "        self.wandb_project = \"kaggle_cassava\"  # wandb\n",
    "        self.is_lr_find = False  # 学習率探索\n",
    "        self.is_old_compe_train = False  # 過去コンペのデータ追加\n",
    "        self.monitor = \"val_acc\"  # ModelCheckpoint\n",
    "        self.model_path = None  # 学習済みモデル\n",
    "        #self.is_cleanlab = True  # cleanlabでラベルノイズ除いて学習\n",
    "        self.is_cleanlab = False\n",
    "        self.freeze_bn_epochs = 5  # freeze bn weights before epochs  https://www.kaggle.com/yingpengchen/pytorch-cldc-train-with-vit\n",
    "        self.device = device\n",
    "        self.num_workers = num_workers\n",
    "CFG = Config()\n",
    "\n",
    "\n",
    "#DEBUG = True\n",
    "DEBUG = False\n",
    "if DEBUG:\n",
    "    df = df.iloc[:150,]\n",
    "    CFG.n_splits = 2\n",
    "    CFG.max_epochs = 2\n",
    "    CFG.wandb_project = None\n",
    "    print(\"DEBUG:\", DEBUG)  \n",
    "\n",
    "with open(\"cfg.yaml\", \"w\") as wf:\n",
    "    yaml.dump(CFG.__dict__, wf)\n",
    "\n",
    "if CFG.wandb_project is not None:\n",
    "    # 環境変数 WANDB_API_KEY に API キーをセット  https://github.com/MLHPC/wandb_tutorial\n",
    "    os.environ['WANDB_API_KEY'] = \"ace10b29622f5bd54e16d665a4b7c485e2094353\"\n",
    "    wandb_logger = WandbLogger(name=f\"vit_base_patch16_224_fold10_{str(datetime.now().strftime('%Y/%m/%d_%H:%M'))}\", project=CFG.wandb_project)\n",
    "    wandb_logger.log_hyperparams(params=CFG.__dict__)\n",
    "else:\n",
    "    wandb_logger = None"
   ]
  },
  {
   "cell_type": "code",
   "execution_count": 18,
   "metadata": {},
   "outputs": [],
   "source": [
    "data_transforms = {\n",
    "    \"train\": A.Compose(\n",
    "        [\n",
    "            #A.Resize(CFG.height, CFG.width),\n",
    "            A.RandomResizedCrop(height=CFG.height, width=CFG.width, p=0.5),\n",
    "            A.Transpose(p=0.5),\n",
    "            A.HorizontalFlip(p=0.5),\n",
    "            A.VerticalFlip(p=0.5),\n",
    "            A.RandomRotate90(p=0.5),\n",
    "            A.ShiftScaleRotate(p=0.5),\n",
    "            A.HueSaturationValue(\n",
    "                hue_shift_limit=0.2, sat_shift_limit=0.2, val_shift_limit=0.2, p=0.5\n",
    "            ),\n",
    "            A.RandomBrightnessContrast(\n",
    "                brightness_limit=(-0.1, 0.1), contrast_limit=(-0.1, 0.1), p=0.5\n",
    "            ),\n",
    "            A.CenterCrop(CFG.height, CFG.width),\n",
    "            A.Normalize(\n",
    "                mean=[0.485, 0.456, 0.406], std=[0.229, 0.224, 0.225], max_pixel_value=255.0,\n",
    "                p=1.0,\n",
    "            ),\n",
    "            A.CoarseDropout(p=0.5),\n",
    "            A.Cutout(p=0.5),\n",
    "            ToTensorV2(),\n",
    "        ],\n",
    "        p=1.0,\n",
    "    ),\n",
    "    \"valid\": A.Compose(\n",
    "        [\n",
    "            #A.Resize(CFG.height, CFG.width),\n",
    "            A.CenterCrop(CFG.height, CFG.width, p=0.5),\n",
    "            A.Resize(CFG.height, CFG.width),\n",
    "            A.Normalize(\n",
    "                mean=[0.485, 0.456, 0.406], std=[0.229, 0.224, 0.225], max_pixel_value=255.0,\n",
    "                p=1.0,\n",
    "            ),\n",
    "            ToTensorV2(),\n",
    "        ],\n",
    "        p=1.0,\n",
    "    ),\n",
    "    \"test\": A.Compose(\n",
    "        [\n",
    "            #A.Resize(CFG.height, CFG.width),\n",
    "            A.RandomResizedCrop(height=CFG.height, width=CFG.width, p=0.5),\n",
    "            A.Transpose(p=0.5),\n",
    "            A.HorizontalFlip(p=0.5),\n",
    "            A.VerticalFlip(p=0.5),\n",
    "            A.RandomRotate90(p=0.5),\n",
    "            A.ShiftScaleRotate(p=0.5),\n",
    "            A.HueSaturationValue(\n",
    "                hue_shift_limit=0.2, sat_shift_limit=0.2, val_shift_limit=0.2, p=0.5\n",
    "            ),\n",
    "            A.RandomBrightnessContrast(\n",
    "                brightness_limit=(-0.1, 0.1), contrast_limit=(-0.1, 0.1), p=0.5\n",
    "            ),\n",
    "            A.CenterCrop(CFG.height, CFG.width),\n",
    "            A.Normalize(\n",
    "                mean=[0.485, 0.456, 0.406], std=[0.229, 0.224, 0.225], max_pixel_value=255.0,\n",
    "                p=1.0,\n",
    "            ),\n",
    "            ToTensorV2(),\n",
    "        ],\n",
    "        p=1.0,\n",
    "    ),\n",
    "}"
   ]
  },
  {
   "cell_type": "code",
   "execution_count": 19,
   "metadata": {},
   "outputs": [],
   "source": [
    "#from cleanlab.pruning import get_noise_indices\n",
    "#\n",
    "## 別モデルの予測確率 Cleanlabでノイズサンプル除くのに必要\n",
    "#numpy_array_of_predicted_probabilities = np.zeros((df.shape[0], CFG.n_classes))\n",
    "#m_dirs = [\n",
    "#    #\"../input/cassava-efficientnetwithpytorchlightning/kaggle_upload_tf_efficientnet_b4_ns_BiTemperedLoss\",\n",
    "#    #\"../input/cassava-vit-base-patch16-224-fit\",\n",
    "#    #\"../input/cassava-efficientnetwithpytorchlightning/kaggle_upload_seresnext50_32x4d_cutmixfmix\",\n",
    "#    r\"C:\\Users\\shingo\\jupyter_notebook\\pytorch_lightning_work\\kaggle_Cassava\\dl\\kaggle_upload_tf_efficientnet_b4_ns_BiTemperedLoss\",\n",
    "#    r\"C:\\Users\\shingo\\jupyter_notebook\\pytorch_lightning_work\\kaggle_Cassava\\dl\\cassava_vit_base_patch16_224.fit\",\n",
    "#    r\"C:\\Users\\shingo\\jupyter_notebook\\pytorch_lightning_work\\kaggle_Cassava\\dl\\kaggle_upload_seresnext50_32x4d_cutmixfmix\",\n",
    "#]\n",
    "#for m_dir in m_dirs:\n",
    "#    pred = pickle.load(open(f\"{m_dir}/Y_pred_tta.pkl\", \"rb\"))\n",
    "#    pred = pred.iloc[:df.shape[0]]\n",
    "#    numpy_array_of_predicted_probabilities += pred.values / len(m_dirs)\n",
    "#psx = numpy_array_of_predicted_probabilities\n",
    "#print(\"psx[:5]:\\n\", psx[:5])\n",
    "#print(\"psx.shape:\", psx.shape)\n",
    "#\n",
    "#\n",
    "#ordered_label_errors = get_noise_indices(\n",
    "#    s=df[\"label\"].values,\n",
    "#    psx=psx,\n",
    "#    prune_method=\"prune_by_noise_rate\",\n",
    "#    sorted_index_method='normalized_margin', # label errors大きいidから順に返す これ無ければエラーかどうかのTrue/Falseを返す\n",
    "#)\n",
    "#ordered_label_errors"
   ]
  },
  {
   "cell_type": "markdown",
   "metadata": {},
   "source": [
    "# Run train"
   ]
  },
  {
   "cell_type": "code",
   "execution_count": 20,
   "metadata": {},
   "outputs": [
    {
     "name": "stderr",
     "output_type": "stream",
     "text": [
      "GPU available: True, used: True\n",
      "TPU available: None, using: 0 TPU cores\n",
      "LOCAL_RANK: 0 - CUDA_VISIBLE_DEVICES: [0]\n"
     ]
    },
    {
     "name": "stdout",
     "output_type": "stream",
     "text": [
      "df.shape: (21397, 9)\n",
      "wandb_logger: <pytorch_lightning.loggers.wandb.WandbLogger object at 0x000001F98576A0A0>\n",
      "CFG: {'seeds': [25], 'n_classes': 5, 'max_epochs': 11, 'patience': 10, 'n_splits': 10, 'shuffle': True, 'batch_size': 4, 'accumulate_grad_batches': 4, 'height': 224, 'width': 224, 'arch': 'vit_base_patch16_224', 'opt': 'adam', 'lr_scheduler': 'CosineAnnealingWarmRestarts', 'T_max': 11, 'T_0': 11, 'lr': 0.0001, 'min_lr': 1e-06, 'weight_decay': 1e-06, 'smoothing': 0.3, 'train_loss_name': 'BiTemperedLoss', 't1': 0.8, 't2': 1.4, 'n_tta': 5, 'gem_p': 0, 'mix_decision_th': 0.0, 'mixmethod': '', 'mix_alpha': 1.0, 'is_over_sample': False, 'is_under_sample': False, 'n_over': 0, 'is_only_first_fold': False, 'is_onehot_label': False, 'is_balanced_batch': False, 'wandb_project': 'kaggle_cassava', 'is_lr_find': False, 'is_old_compe_train': False, 'monitor': 'val_acc', 'model_path': None, 'is_cleanlab': False, 'freeze_bn_epochs': 5, 'device': 'cuda', 'num_workers': 0}\n"
     ]
    },
    {
     "name": "stderr",
     "output_type": "stream",
     "text": [
      "\n",
      "  | Name     | Type              | Params\n",
      "-----------------------------------------------\n",
      "0 | net      | VisionTransformer | 85.8 M\n",
      "1 | feat_net | Sequential        | 85.6 M\n",
      "-----------------------------------------------\n",
      "85.8 M    Trainable params\n",
      "0         Non-trainable params\n",
      "85.8 M    Total params\n"
     ]
    },
    {
     "data": {
      "application/vnd.jupyter.widget-view+json": {
       "model_id": "",
       "version_major": 2,
       "version_minor": 0
      },
      "text/plain": [
       "HBox(children=(HTML(value='Validation sanity check'), FloatProgress(value=1.0, bar_style='info', layout=Layout…"
      ]
     },
     "metadata": {},
     "output_type": "display_data"
    },
    {
     "data": {
      "application/vnd.jupyter.widget-view+json": {
       "model_id": "845064de8eb74693a8ec6093dc4c16f1",
       "version_major": 2,
       "version_minor": 0
      },
      "text/plain": [
       "HBox(children=(HTML(value='Training'), FloatProgress(value=1.0, bar_style='info', layout=Layout(flex='2'), max…"
      ]
     },
     "metadata": {},
     "output_type": "display_data"
    },
    {
     "data": {
      "application/vnd.jupyter.widget-view+json": {
       "model_id": "",
       "version_major": 2,
       "version_minor": 0
      },
      "text/plain": [
       "HBox(children=(HTML(value='Validating'), FloatProgress(value=1.0, bar_style='info', layout=Layout(flex='2'), m…"
      ]
     },
     "metadata": {},
     "output_type": "display_data"
    },
    {
     "data": {
      "application/vnd.jupyter.widget-view+json": {
       "model_id": "",
       "version_major": 2,
       "version_minor": 0
      },
      "text/plain": [
       "HBox(children=(HTML(value='Validating'), FloatProgress(value=1.0, bar_style='info', layout=Layout(flex='2'), m…"
      ]
     },
     "metadata": {},
     "output_type": "display_data"
    },
    {
     "data": {
      "application/vnd.jupyter.widget-view+json": {
       "model_id": "",
       "version_major": 2,
       "version_minor": 0
      },
      "text/plain": [
       "HBox(children=(HTML(value='Validating'), FloatProgress(value=1.0, bar_style='info', layout=Layout(flex='2'), m…"
      ]
     },
     "metadata": {},
     "output_type": "display_data"
    },
    {
     "data": {
      "application/vnd.jupyter.widget-view+json": {
       "model_id": "",
       "version_major": 2,
       "version_minor": 0
      },
      "text/plain": [
       "HBox(children=(HTML(value='Validating'), FloatProgress(value=1.0, bar_style='info', layout=Layout(flex='2'), m…"
      ]
     },
     "metadata": {},
     "output_type": "display_data"
    },
    {
     "data": {
      "application/vnd.jupyter.widget-view+json": {
       "model_id": "",
       "version_major": 2,
       "version_minor": 0
      },
      "text/plain": [
       "HBox(children=(HTML(value='Validating'), FloatProgress(value=1.0, bar_style='info', layout=Layout(flex='2'), m…"
      ]
     },
     "metadata": {},
     "output_type": "display_data"
    },
    {
     "data": {
      "application/vnd.jupyter.widget-view+json": {
       "model_id": "",
       "version_major": 2,
       "version_minor": 0
      },
      "text/plain": [
       "HBox(children=(HTML(value='Validating'), FloatProgress(value=1.0, bar_style='info', layout=Layout(flex='2'), m…"
      ]
     },
     "metadata": {},
     "output_type": "display_data"
    },
    {
     "data": {
      "application/vnd.jupyter.widget-view+json": {
       "model_id": "",
       "version_major": 2,
       "version_minor": 0
      },
      "text/plain": [
       "HBox(children=(HTML(value='Validating'), FloatProgress(value=1.0, bar_style='info', layout=Layout(flex='2'), m…"
      ]
     },
     "metadata": {},
     "output_type": "display_data"
    },
    {
     "data": {
      "application/vnd.jupyter.widget-view+json": {
       "model_id": "",
       "version_major": 2,
       "version_minor": 0
      },
      "text/plain": [
       "HBox(children=(HTML(value='Validating'), FloatProgress(value=1.0, bar_style='info', layout=Layout(flex='2'), m…"
      ]
     },
     "metadata": {},
     "output_type": "display_data"
    },
    {
     "data": {
      "application/vnd.jupyter.widget-view+json": {
       "model_id": "",
       "version_major": 2,
       "version_minor": 0
      },
      "text/plain": [
       "HBox(children=(HTML(value='Validating'), FloatProgress(value=1.0, bar_style='info', layout=Layout(flex='2'), m…"
      ]
     },
     "metadata": {},
     "output_type": "display_data"
    },
    {
     "data": {
      "application/vnd.jupyter.widget-view+json": {
       "model_id": "",
       "version_major": 2,
       "version_minor": 0
      },
      "text/plain": [
       "HBox(children=(HTML(value='Validating'), FloatProgress(value=1.0, bar_style='info', layout=Layout(flex='2'), m…"
      ]
     },
     "metadata": {},
     "output_type": "display_data"
    },
    {
     "data": {
      "application/vnd.jupyter.widget-view+json": {
       "model_id": "",
       "version_major": 2,
       "version_minor": 0
      },
      "text/plain": [
       "HBox(children=(HTML(value='Validating'), FloatProgress(value=1.0, bar_style='info', layout=Layout(flex='2'), m…"
      ]
     },
     "metadata": {},
     "output_type": "display_data"
    },
    {
     "name": "stdout",
     "output_type": "stream",
     "text": [
      "\n",
      "fold 0 validation loss = 0.4192817253957127\n",
      "fold 0 validation accuracy = 0.866822429906542\n",
      "\n"
     ]
    },
    {
     "name": "stderr",
     "output_type": "stream",
     "text": [
      "GPU available: True, used: True\n",
      "TPU available: None, using: 0 TPU cores\n",
      "LOCAL_RANK: 0 - CUDA_VISIBLE_DEVICES: [0]\n"
     ]
    },
    {
     "name": "stdout",
     "output_type": "stream",
     "text": [
      "fold 0 validation tta loss = 0.34317262304904705\n",
      "fold 0 validation tta accuracy = 0.897196261682243\n",
      "\n",
      "----------------------------------------------------------------------------------------------------\n"
     ]
    },
    {
     "name": "stderr",
     "output_type": "stream",
     "text": [
      "\n",
      "  | Name     | Type              | Params\n",
      "-----------------------------------------------\n",
      "0 | net      | VisionTransformer | 85.8 M\n",
      "1 | feat_net | Sequential        | 85.6 M\n",
      "-----------------------------------------------\n",
      "85.8 M    Trainable params\n",
      "0         Non-trainable params\n",
      "85.8 M    Total params\n"
     ]
    },
    {
     "data": {
      "application/vnd.jupyter.widget-view+json": {
       "model_id": "",
       "version_major": 2,
       "version_minor": 0
      },
      "text/plain": [
       "HBox(children=(HTML(value='Validation sanity check'), FloatProgress(value=1.0, bar_style='info', layout=Layout…"
      ]
     },
     "metadata": {},
     "output_type": "display_data"
    },
    {
     "data": {
      "application/vnd.jupyter.widget-view+json": {
       "model_id": "d8d5c6c339f9451ebe82bb4c156fd871",
       "version_major": 2,
       "version_minor": 0
      },
      "text/plain": [
       "HBox(children=(HTML(value='Training'), FloatProgress(value=1.0, bar_style='info', layout=Layout(flex='2'), max…"
      ]
     },
     "metadata": {},
     "output_type": "display_data"
    },
    {
     "data": {
      "application/vnd.jupyter.widget-view+json": {
       "model_id": "",
       "version_major": 2,
       "version_minor": 0
      },
      "text/plain": [
       "HBox(children=(HTML(value='Validating'), FloatProgress(value=1.0, bar_style='info', layout=Layout(flex='2'), m…"
      ]
     },
     "metadata": {},
     "output_type": "display_data"
    },
    {
     "data": {
      "application/vnd.jupyter.widget-view+json": {
       "model_id": "",
       "version_major": 2,
       "version_minor": 0
      },
      "text/plain": [
       "HBox(children=(HTML(value='Validating'), FloatProgress(value=1.0, bar_style='info', layout=Layout(flex='2'), m…"
      ]
     },
     "metadata": {},
     "output_type": "display_data"
    },
    {
     "data": {
      "application/vnd.jupyter.widget-view+json": {
       "model_id": "",
       "version_major": 2,
       "version_minor": 0
      },
      "text/plain": [
       "HBox(children=(HTML(value='Validating'), FloatProgress(value=1.0, bar_style='info', layout=Layout(flex='2'), m…"
      ]
     },
     "metadata": {},
     "output_type": "display_data"
    },
    {
     "data": {
      "application/vnd.jupyter.widget-view+json": {
       "model_id": "",
       "version_major": 2,
       "version_minor": 0
      },
      "text/plain": [
       "HBox(children=(HTML(value='Validating'), FloatProgress(value=1.0, bar_style='info', layout=Layout(flex='2'), m…"
      ]
     },
     "metadata": {},
     "output_type": "display_data"
    },
    {
     "data": {
      "application/vnd.jupyter.widget-view+json": {
       "model_id": "",
       "version_major": 2,
       "version_minor": 0
      },
      "text/plain": [
       "HBox(children=(HTML(value='Validating'), FloatProgress(value=1.0, bar_style='info', layout=Layout(flex='2'), m…"
      ]
     },
     "metadata": {},
     "output_type": "display_data"
    },
    {
     "data": {
      "application/vnd.jupyter.widget-view+json": {
       "model_id": "",
       "version_major": 2,
       "version_minor": 0
      },
      "text/plain": [
       "HBox(children=(HTML(value='Validating'), FloatProgress(value=1.0, bar_style='info', layout=Layout(flex='2'), m…"
      ]
     },
     "metadata": {},
     "output_type": "display_data"
    },
    {
     "data": {
      "application/vnd.jupyter.widget-view+json": {
       "model_id": "",
       "version_major": 2,
       "version_minor": 0
      },
      "text/plain": [
       "HBox(children=(HTML(value='Validating'), FloatProgress(value=1.0, bar_style='info', layout=Layout(flex='2'), m…"
      ]
     },
     "metadata": {},
     "output_type": "display_data"
    },
    {
     "data": {
      "application/vnd.jupyter.widget-view+json": {
       "model_id": "",
       "version_major": 2,
       "version_minor": 0
      },
      "text/plain": [
       "HBox(children=(HTML(value='Validating'), FloatProgress(value=1.0, bar_style='info', layout=Layout(flex='2'), m…"
      ]
     },
     "metadata": {},
     "output_type": "display_data"
    },
    {
     "data": {
      "application/vnd.jupyter.widget-view+json": {
       "model_id": "",
       "version_major": 2,
       "version_minor": 0
      },
      "text/plain": [
       "HBox(children=(HTML(value='Validating'), FloatProgress(value=1.0, bar_style='info', layout=Layout(flex='2'), m…"
      ]
     },
     "metadata": {},
     "output_type": "display_data"
    },
    {
     "data": {
      "application/vnd.jupyter.widget-view+json": {
       "model_id": "",
       "version_major": 2,
       "version_minor": 0
      },
      "text/plain": [
       "HBox(children=(HTML(value='Validating'), FloatProgress(value=1.0, bar_style='info', layout=Layout(flex='2'), m…"
      ]
     },
     "metadata": {},
     "output_type": "display_data"
    },
    {
     "data": {
      "application/vnd.jupyter.widget-view+json": {
       "model_id": "",
       "version_major": 2,
       "version_minor": 0
      },
      "text/plain": [
       "HBox(children=(HTML(value='Validating'), FloatProgress(value=1.0, bar_style='info', layout=Layout(flex='2'), m…"
      ]
     },
     "metadata": {},
     "output_type": "display_data"
    },
    {
     "name": "stdout",
     "output_type": "stream",
     "text": [
      "\n",
      "fold 1 validation loss = 0.43352570826883147\n",
      "fold 1 validation accuracy = 0.8658878504672897\n",
      "\n"
     ]
    },
    {
     "name": "stderr",
     "output_type": "stream",
     "text": [
      "GPU available: True, used: True\n",
      "TPU available: None, using: 0 TPU cores\n",
      "LOCAL_RANK: 0 - CUDA_VISIBLE_DEVICES: [0]\n"
     ]
    },
    {
     "name": "stdout",
     "output_type": "stream",
     "text": [
      "fold 1 validation tta loss = 0.3620353541954085\n",
      "fold 1 validation tta accuracy = 0.8883177570093458\n",
      "\n",
      "----------------------------------------------------------------------------------------------------\n"
     ]
    },
    {
     "name": "stderr",
     "output_type": "stream",
     "text": [
      "\n",
      "  | Name     | Type              | Params\n",
      "-----------------------------------------------\n",
      "0 | net      | VisionTransformer | 85.8 M\n",
      "1 | feat_net | Sequential        | 85.6 M\n",
      "-----------------------------------------------\n",
      "85.8 M    Trainable params\n",
      "0         Non-trainable params\n",
      "85.8 M    Total params\n"
     ]
    },
    {
     "data": {
      "application/vnd.jupyter.widget-view+json": {
       "model_id": "",
       "version_major": 2,
       "version_minor": 0
      },
      "text/plain": [
       "HBox(children=(HTML(value='Validation sanity check'), FloatProgress(value=1.0, bar_style='info', layout=Layout…"
      ]
     },
     "metadata": {},
     "output_type": "display_data"
    },
    {
     "data": {
      "application/vnd.jupyter.widget-view+json": {
       "model_id": "e2d64e92269b49b9a339f5922ad558b3",
       "version_major": 2,
       "version_minor": 0
      },
      "text/plain": [
       "HBox(children=(HTML(value='Training'), FloatProgress(value=1.0, bar_style='info', layout=Layout(flex='2'), max…"
      ]
     },
     "metadata": {},
     "output_type": "display_data"
    },
    {
     "data": {
      "application/vnd.jupyter.widget-view+json": {
       "model_id": "",
       "version_major": 2,
       "version_minor": 0
      },
      "text/plain": [
       "HBox(children=(HTML(value='Validating'), FloatProgress(value=1.0, bar_style='info', layout=Layout(flex='2'), m…"
      ]
     },
     "metadata": {},
     "output_type": "display_data"
    },
    {
     "data": {
      "application/vnd.jupyter.widget-view+json": {
       "model_id": "",
       "version_major": 2,
       "version_minor": 0
      },
      "text/plain": [
       "HBox(children=(HTML(value='Validating'), FloatProgress(value=1.0, bar_style='info', layout=Layout(flex='2'), m…"
      ]
     },
     "metadata": {},
     "output_type": "display_data"
    },
    {
     "data": {
      "application/vnd.jupyter.widget-view+json": {
       "model_id": "",
       "version_major": 2,
       "version_minor": 0
      },
      "text/plain": [
       "HBox(children=(HTML(value='Validating'), FloatProgress(value=1.0, bar_style='info', layout=Layout(flex='2'), m…"
      ]
     },
     "metadata": {},
     "output_type": "display_data"
    },
    {
     "data": {
      "application/vnd.jupyter.widget-view+json": {
       "model_id": "",
       "version_major": 2,
       "version_minor": 0
      },
      "text/plain": [
       "HBox(children=(HTML(value='Validating'), FloatProgress(value=1.0, bar_style='info', layout=Layout(flex='2'), m…"
      ]
     },
     "metadata": {},
     "output_type": "display_data"
    },
    {
     "data": {
      "application/vnd.jupyter.widget-view+json": {
       "model_id": "",
       "version_major": 2,
       "version_minor": 0
      },
      "text/plain": [
       "HBox(children=(HTML(value='Validating'), FloatProgress(value=1.0, bar_style='info', layout=Layout(flex='2'), m…"
      ]
     },
     "metadata": {},
     "output_type": "display_data"
    },
    {
     "data": {
      "application/vnd.jupyter.widget-view+json": {
       "model_id": "",
       "version_major": 2,
       "version_minor": 0
      },
      "text/plain": [
       "HBox(children=(HTML(value='Validating'), FloatProgress(value=1.0, bar_style='info', layout=Layout(flex='2'), m…"
      ]
     },
     "metadata": {},
     "output_type": "display_data"
    },
    {
     "data": {
      "application/vnd.jupyter.widget-view+json": {
       "model_id": "",
       "version_major": 2,
       "version_minor": 0
      },
      "text/plain": [
       "HBox(children=(HTML(value='Validating'), FloatProgress(value=1.0, bar_style='info', layout=Layout(flex='2'), m…"
      ]
     },
     "metadata": {},
     "output_type": "display_data"
    },
    {
     "data": {
      "application/vnd.jupyter.widget-view+json": {
       "model_id": "",
       "version_major": 2,
       "version_minor": 0
      },
      "text/plain": [
       "HBox(children=(HTML(value='Validating'), FloatProgress(value=1.0, bar_style='info', layout=Layout(flex='2'), m…"
      ]
     },
     "metadata": {},
     "output_type": "display_data"
    },
    {
     "data": {
      "application/vnd.jupyter.widget-view+json": {
       "model_id": "",
       "version_major": 2,
       "version_minor": 0
      },
      "text/plain": [
       "HBox(children=(HTML(value='Validating'), FloatProgress(value=1.0, bar_style='info', layout=Layout(flex='2'), m…"
      ]
     },
     "metadata": {},
     "output_type": "display_data"
    },
    {
     "data": {
      "application/vnd.jupyter.widget-view+json": {
       "model_id": "",
       "version_major": 2,
       "version_minor": 0
      },
      "text/plain": [
       "HBox(children=(HTML(value='Validating'), FloatProgress(value=1.0, bar_style='info', layout=Layout(flex='2'), m…"
      ]
     },
     "metadata": {},
     "output_type": "display_data"
    },
    {
     "data": {
      "application/vnd.jupyter.widget-view+json": {
       "model_id": "",
       "version_major": 2,
       "version_minor": 0
      },
      "text/plain": [
       "HBox(children=(HTML(value='Validating'), FloatProgress(value=1.0, bar_style='info', layout=Layout(flex='2'), m…"
      ]
     },
     "metadata": {},
     "output_type": "display_data"
    },
    {
     "name": "stdout",
     "output_type": "stream",
     "text": [
      "\n",
      "fold 2 validation loss = 0.4342454493463524\n",
      "fold 2 validation accuracy = 0.8635514018691589\n",
      "\n"
     ]
    },
    {
     "name": "stderr",
     "output_type": "stream",
     "text": [
      "GPU available: True, used: True\n",
      "TPU available: None, using: 0 TPU cores\n",
      "LOCAL_RANK: 0 - CUDA_VISIBLE_DEVICES: [0]\n"
     ]
    },
    {
     "name": "stdout",
     "output_type": "stream",
     "text": [
      "fold 2 validation tta loss = 0.3661370162004297\n",
      "fold 2 validation tta accuracy = 0.8883177570093458\n",
      "\n",
      "----------------------------------------------------------------------------------------------------\n"
     ]
    },
    {
     "name": "stderr",
     "output_type": "stream",
     "text": [
      "\n",
      "  | Name     | Type              | Params\n",
      "-----------------------------------------------\n",
      "0 | net      | VisionTransformer | 85.8 M\n",
      "1 | feat_net | Sequential        | 85.6 M\n",
      "-----------------------------------------------\n",
      "85.8 M    Trainable params\n",
      "0         Non-trainable params\n",
      "85.8 M    Total params\n"
     ]
    },
    {
     "data": {
      "application/vnd.jupyter.widget-view+json": {
       "model_id": "",
       "version_major": 2,
       "version_minor": 0
      },
      "text/plain": [
       "HBox(children=(HTML(value='Validation sanity check'), FloatProgress(value=1.0, bar_style='info', layout=Layout…"
      ]
     },
     "metadata": {},
     "output_type": "display_data"
    },
    {
     "data": {
      "application/vnd.jupyter.widget-view+json": {
       "model_id": "66a152324a644384944302b388430c8e",
       "version_major": 2,
       "version_minor": 0
      },
      "text/plain": [
       "HBox(children=(HTML(value='Training'), FloatProgress(value=1.0, bar_style='info', layout=Layout(flex='2'), max…"
      ]
     },
     "metadata": {},
     "output_type": "display_data"
    },
    {
     "data": {
      "application/vnd.jupyter.widget-view+json": {
       "model_id": "",
       "version_major": 2,
       "version_minor": 0
      },
      "text/plain": [
       "HBox(children=(HTML(value='Validating'), FloatProgress(value=1.0, bar_style='info', layout=Layout(flex='2'), m…"
      ]
     },
     "metadata": {},
     "output_type": "display_data"
    },
    {
     "data": {
      "application/vnd.jupyter.widget-view+json": {
       "model_id": "",
       "version_major": 2,
       "version_minor": 0
      },
      "text/plain": [
       "HBox(children=(HTML(value='Validating'), FloatProgress(value=1.0, bar_style='info', layout=Layout(flex='2'), m…"
      ]
     },
     "metadata": {},
     "output_type": "display_data"
    },
    {
     "data": {
      "application/vnd.jupyter.widget-view+json": {
       "model_id": "",
       "version_major": 2,
       "version_minor": 0
      },
      "text/plain": [
       "HBox(children=(HTML(value='Validating'), FloatProgress(value=1.0, bar_style='info', layout=Layout(flex='2'), m…"
      ]
     },
     "metadata": {},
     "output_type": "display_data"
    },
    {
     "data": {
      "application/vnd.jupyter.widget-view+json": {
       "model_id": "",
       "version_major": 2,
       "version_minor": 0
      },
      "text/plain": [
       "HBox(children=(HTML(value='Validating'), FloatProgress(value=1.0, bar_style='info', layout=Layout(flex='2'), m…"
      ]
     },
     "metadata": {},
     "output_type": "display_data"
    },
    {
     "data": {
      "application/vnd.jupyter.widget-view+json": {
       "model_id": "",
       "version_major": 2,
       "version_minor": 0
      },
      "text/plain": [
       "HBox(children=(HTML(value='Validating'), FloatProgress(value=1.0, bar_style='info', layout=Layout(flex='2'), m…"
      ]
     },
     "metadata": {},
     "output_type": "display_data"
    },
    {
     "data": {
      "application/vnd.jupyter.widget-view+json": {
       "model_id": "",
       "version_major": 2,
       "version_minor": 0
      },
      "text/plain": [
       "HBox(children=(HTML(value='Validating'), FloatProgress(value=1.0, bar_style='info', layout=Layout(flex='2'), m…"
      ]
     },
     "metadata": {},
     "output_type": "display_data"
    },
    {
     "data": {
      "application/vnd.jupyter.widget-view+json": {
       "model_id": "",
       "version_major": 2,
       "version_minor": 0
      },
      "text/plain": [
       "HBox(children=(HTML(value='Validating'), FloatProgress(value=1.0, bar_style='info', layout=Layout(flex='2'), m…"
      ]
     },
     "metadata": {},
     "output_type": "display_data"
    },
    {
     "data": {
      "application/vnd.jupyter.widget-view+json": {
       "model_id": "",
       "version_major": 2,
       "version_minor": 0
      },
      "text/plain": [
       "HBox(children=(HTML(value='Validating'), FloatProgress(value=1.0, bar_style='info', layout=Layout(flex='2'), m…"
      ]
     },
     "metadata": {},
     "output_type": "display_data"
    },
    {
     "data": {
      "application/vnd.jupyter.widget-view+json": {
       "model_id": "",
       "version_major": 2,
       "version_minor": 0
      },
      "text/plain": [
       "HBox(children=(HTML(value='Validating'), FloatProgress(value=1.0, bar_style='info', layout=Layout(flex='2'), m…"
      ]
     },
     "metadata": {},
     "output_type": "display_data"
    },
    {
     "data": {
      "application/vnd.jupyter.widget-view+json": {
       "model_id": "",
       "version_major": 2,
       "version_minor": 0
      },
      "text/plain": [
       "HBox(children=(HTML(value='Validating'), FloatProgress(value=1.0, bar_style='info', layout=Layout(flex='2'), m…"
      ]
     },
     "metadata": {},
     "output_type": "display_data"
    },
    {
     "data": {
      "application/vnd.jupyter.widget-view+json": {
       "model_id": "",
       "version_major": 2,
       "version_minor": 0
      },
      "text/plain": [
       "HBox(children=(HTML(value='Validating'), FloatProgress(value=1.0, bar_style='info', layout=Layout(flex='2'), m…"
      ]
     },
     "metadata": {},
     "output_type": "display_data"
    },
    {
     "name": "stdout",
     "output_type": "stream",
     "text": [
      "\n",
      "fold 3 validation loss = 0.4220927281223817\n",
      "fold 3 validation accuracy = 0.8649532710280374\n",
      "\n"
     ]
    },
    {
     "name": "stderr",
     "output_type": "stream",
     "text": [
      "GPU available: True, used: True\n",
      "TPU available: None, using: 0 TPU cores\n",
      "LOCAL_RANK: 0 - CUDA_VISIBLE_DEVICES: [0]\n"
     ]
    },
    {
     "name": "stdout",
     "output_type": "stream",
     "text": [
      "fold 3 validation tta loss = 0.36828025707641915\n",
      "fold 3 validation tta accuracy = 0.8850467289719626\n",
      "\n",
      "----------------------------------------------------------------------------------------------------\n"
     ]
    },
    {
     "name": "stderr",
     "output_type": "stream",
     "text": [
      "\n",
      "  | Name     | Type              | Params\n",
      "-----------------------------------------------\n",
      "0 | net      | VisionTransformer | 85.8 M\n",
      "1 | feat_net | Sequential        | 85.6 M\n",
      "-----------------------------------------------\n",
      "85.8 M    Trainable params\n",
      "0         Non-trainable params\n",
      "85.8 M    Total params\n"
     ]
    },
    {
     "data": {
      "application/vnd.jupyter.widget-view+json": {
       "model_id": "",
       "version_major": 2,
       "version_minor": 0
      },
      "text/plain": [
       "HBox(children=(HTML(value='Validation sanity check'), FloatProgress(value=1.0, bar_style='info', layout=Layout…"
      ]
     },
     "metadata": {},
     "output_type": "display_data"
    },
    {
     "data": {
      "application/vnd.jupyter.widget-view+json": {
       "model_id": "5fce10c9483d4b7caa9daaa86b2334cc",
       "version_major": 2,
       "version_minor": 0
      },
      "text/plain": [
       "HBox(children=(HTML(value='Training'), FloatProgress(value=1.0, bar_style='info', layout=Layout(flex='2'), max…"
      ]
     },
     "metadata": {},
     "output_type": "display_data"
    },
    {
     "data": {
      "application/vnd.jupyter.widget-view+json": {
       "model_id": "",
       "version_major": 2,
       "version_minor": 0
      },
      "text/plain": [
       "HBox(children=(HTML(value='Validating'), FloatProgress(value=1.0, bar_style='info', layout=Layout(flex='2'), m…"
      ]
     },
     "metadata": {},
     "output_type": "display_data"
    },
    {
     "data": {
      "application/vnd.jupyter.widget-view+json": {
       "model_id": "",
       "version_major": 2,
       "version_minor": 0
      },
      "text/plain": [
       "HBox(children=(HTML(value='Validating'), FloatProgress(value=1.0, bar_style='info', layout=Layout(flex='2'), m…"
      ]
     },
     "metadata": {},
     "output_type": "display_data"
    },
    {
     "data": {
      "application/vnd.jupyter.widget-view+json": {
       "model_id": "",
       "version_major": 2,
       "version_minor": 0
      },
      "text/plain": [
       "HBox(children=(HTML(value='Validating'), FloatProgress(value=1.0, bar_style='info', layout=Layout(flex='2'), m…"
      ]
     },
     "metadata": {},
     "output_type": "display_data"
    },
    {
     "data": {
      "application/vnd.jupyter.widget-view+json": {
       "model_id": "",
       "version_major": 2,
       "version_minor": 0
      },
      "text/plain": [
       "HBox(children=(HTML(value='Validating'), FloatProgress(value=1.0, bar_style='info', layout=Layout(flex='2'), m…"
      ]
     },
     "metadata": {},
     "output_type": "display_data"
    },
    {
     "data": {
      "application/vnd.jupyter.widget-view+json": {
       "model_id": "",
       "version_major": 2,
       "version_minor": 0
      },
      "text/plain": [
       "HBox(children=(HTML(value='Validating'), FloatProgress(value=1.0, bar_style='info', layout=Layout(flex='2'), m…"
      ]
     },
     "metadata": {},
     "output_type": "display_data"
    },
    {
     "data": {
      "application/vnd.jupyter.widget-view+json": {
       "model_id": "",
       "version_major": 2,
       "version_minor": 0
      },
      "text/plain": [
       "HBox(children=(HTML(value='Validating'), FloatProgress(value=1.0, bar_style='info', layout=Layout(flex='2'), m…"
      ]
     },
     "metadata": {},
     "output_type": "display_data"
    },
    {
     "data": {
      "application/vnd.jupyter.widget-view+json": {
       "model_id": "",
       "version_major": 2,
       "version_minor": 0
      },
      "text/plain": [
       "HBox(children=(HTML(value='Validating'), FloatProgress(value=1.0, bar_style='info', layout=Layout(flex='2'), m…"
      ]
     },
     "metadata": {},
     "output_type": "display_data"
    },
    {
     "data": {
      "application/vnd.jupyter.widget-view+json": {
       "model_id": "",
       "version_major": 2,
       "version_minor": 0
      },
      "text/plain": [
       "HBox(children=(HTML(value='Validating'), FloatProgress(value=1.0, bar_style='info', layout=Layout(flex='2'), m…"
      ]
     },
     "metadata": {},
     "output_type": "display_data"
    },
    {
     "data": {
      "application/vnd.jupyter.widget-view+json": {
       "model_id": "",
       "version_major": 2,
       "version_minor": 0
      },
      "text/plain": [
       "HBox(children=(HTML(value='Validating'), FloatProgress(value=1.0, bar_style='info', layout=Layout(flex='2'), m…"
      ]
     },
     "metadata": {},
     "output_type": "display_data"
    },
    {
     "data": {
      "application/vnd.jupyter.widget-view+json": {
       "model_id": "",
       "version_major": 2,
       "version_minor": 0
      },
      "text/plain": [
       "HBox(children=(HTML(value='Validating'), FloatProgress(value=1.0, bar_style='info', layout=Layout(flex='2'), m…"
      ]
     },
     "metadata": {},
     "output_type": "display_data"
    },
    {
     "data": {
      "application/vnd.jupyter.widget-view+json": {
       "model_id": "",
       "version_major": 2,
       "version_minor": 0
      },
      "text/plain": [
       "HBox(children=(HTML(value='Validating'), FloatProgress(value=1.0, bar_style='info', layout=Layout(flex='2'), m…"
      ]
     },
     "metadata": {},
     "output_type": "display_data"
    },
    {
     "name": "stdout",
     "output_type": "stream",
     "text": [
      "\n",
      "fold 4 validation loss = 0.4522339833380585\n",
      "fold 4 validation accuracy = 0.8593457943925233\n",
      "\n"
     ]
    },
    {
     "name": "stderr",
     "output_type": "stream",
     "text": [
      "GPU available: True, used: True\n",
      "TPU available: None, using: 0 TPU cores\n",
      "LOCAL_RANK: 0 - CUDA_VISIBLE_DEVICES: [0]\n"
     ]
    },
    {
     "name": "stdout",
     "output_type": "stream",
     "text": [
      "fold 4 validation tta loss = 0.3989728887912527\n",
      "fold 4 validation tta accuracy = 0.8686915887850467\n",
      "\n",
      "----------------------------------------------------------------------------------------------------\n"
     ]
    },
    {
     "name": "stderr",
     "output_type": "stream",
     "text": [
      "\n",
      "  | Name     | Type              | Params\n",
      "-----------------------------------------------\n",
      "0 | net      | VisionTransformer | 85.8 M\n",
      "1 | feat_net | Sequential        | 85.6 M\n",
      "-----------------------------------------------\n",
      "85.8 M    Trainable params\n",
      "0         Non-trainable params\n",
      "85.8 M    Total params\n"
     ]
    },
    {
     "data": {
      "application/vnd.jupyter.widget-view+json": {
       "model_id": "",
       "version_major": 2,
       "version_minor": 0
      },
      "text/plain": [
       "HBox(children=(HTML(value='Validation sanity check'), FloatProgress(value=1.0, bar_style='info', layout=Layout…"
      ]
     },
     "metadata": {},
     "output_type": "display_data"
    },
    {
     "data": {
      "application/vnd.jupyter.widget-view+json": {
       "model_id": "6224c063fcb64689854fe00109b3cf22",
       "version_major": 2,
       "version_minor": 0
      },
      "text/plain": [
       "HBox(children=(HTML(value='Training'), FloatProgress(value=1.0, bar_style='info', layout=Layout(flex='2'), max…"
      ]
     },
     "metadata": {},
     "output_type": "display_data"
    },
    {
     "data": {
      "application/vnd.jupyter.widget-view+json": {
       "model_id": "",
       "version_major": 2,
       "version_minor": 0
      },
      "text/plain": [
       "HBox(children=(HTML(value='Validating'), FloatProgress(value=1.0, bar_style='info', layout=Layout(flex='2'), m…"
      ]
     },
     "metadata": {},
     "output_type": "display_data"
    },
    {
     "data": {
      "application/vnd.jupyter.widget-view+json": {
       "model_id": "",
       "version_major": 2,
       "version_minor": 0
      },
      "text/plain": [
       "HBox(children=(HTML(value='Validating'), FloatProgress(value=1.0, bar_style='info', layout=Layout(flex='2'), m…"
      ]
     },
     "metadata": {},
     "output_type": "display_data"
    },
    {
     "data": {
      "application/vnd.jupyter.widget-view+json": {
       "model_id": "",
       "version_major": 2,
       "version_minor": 0
      },
      "text/plain": [
       "HBox(children=(HTML(value='Validating'), FloatProgress(value=1.0, bar_style='info', layout=Layout(flex='2'), m…"
      ]
     },
     "metadata": {},
     "output_type": "display_data"
    },
    {
     "data": {
      "application/vnd.jupyter.widget-view+json": {
       "model_id": "",
       "version_major": 2,
       "version_minor": 0
      },
      "text/plain": [
       "HBox(children=(HTML(value='Validating'), FloatProgress(value=1.0, bar_style='info', layout=Layout(flex='2'), m…"
      ]
     },
     "metadata": {},
     "output_type": "display_data"
    },
    {
     "data": {
      "application/vnd.jupyter.widget-view+json": {
       "model_id": "",
       "version_major": 2,
       "version_minor": 0
      },
      "text/plain": [
       "HBox(children=(HTML(value='Validating'), FloatProgress(value=1.0, bar_style='info', layout=Layout(flex='2'), m…"
      ]
     },
     "metadata": {},
     "output_type": "display_data"
    },
    {
     "data": {
      "application/vnd.jupyter.widget-view+json": {
       "model_id": "",
       "version_major": 2,
       "version_minor": 0
      },
      "text/plain": [
       "HBox(children=(HTML(value='Validating'), FloatProgress(value=1.0, bar_style='info', layout=Layout(flex='2'), m…"
      ]
     },
     "metadata": {},
     "output_type": "display_data"
    },
    {
     "data": {
      "application/vnd.jupyter.widget-view+json": {
       "model_id": "",
       "version_major": 2,
       "version_minor": 0
      },
      "text/plain": [
       "HBox(children=(HTML(value='Validating'), FloatProgress(value=1.0, bar_style='info', layout=Layout(flex='2'), m…"
      ]
     },
     "metadata": {},
     "output_type": "display_data"
    },
    {
     "data": {
      "application/vnd.jupyter.widget-view+json": {
       "model_id": "",
       "version_major": 2,
       "version_minor": 0
      },
      "text/plain": [
       "HBox(children=(HTML(value='Validating'), FloatProgress(value=1.0, bar_style='info', layout=Layout(flex='2'), m…"
      ]
     },
     "metadata": {},
     "output_type": "display_data"
    },
    {
     "data": {
      "application/vnd.jupyter.widget-view+json": {
       "model_id": "",
       "version_major": 2,
       "version_minor": 0
      },
      "text/plain": [
       "HBox(children=(HTML(value='Validating'), FloatProgress(value=1.0, bar_style='info', layout=Layout(flex='2'), m…"
      ]
     },
     "metadata": {},
     "output_type": "display_data"
    },
    {
     "data": {
      "application/vnd.jupyter.widget-view+json": {
       "model_id": "",
       "version_major": 2,
       "version_minor": 0
      },
      "text/plain": [
       "HBox(children=(HTML(value='Validating'), FloatProgress(value=1.0, bar_style='info', layout=Layout(flex='2'), m…"
      ]
     },
     "metadata": {},
     "output_type": "display_data"
    },
    {
     "data": {
      "application/vnd.jupyter.widget-view+json": {
       "model_id": "",
       "version_major": 2,
       "version_minor": 0
      },
      "text/plain": [
       "HBox(children=(HTML(value='Validating'), FloatProgress(value=1.0, bar_style='info', layout=Layout(flex='2'), m…"
      ]
     },
     "metadata": {},
     "output_type": "display_data"
    },
    {
     "name": "stdout",
     "output_type": "stream",
     "text": [
      "\n",
      "fold 5 validation loss = 0.4530805139251138\n",
      "fold 5 validation accuracy = 0.8556074766355141\n",
      "\n"
     ]
    },
    {
     "name": "stderr",
     "output_type": "stream",
     "text": [
      "GPU available: True, used: True\n",
      "TPU available: None, using: 0 TPU cores\n",
      "LOCAL_RANK: 0 - CUDA_VISIBLE_DEVICES: [0]\n"
     ]
    },
    {
     "name": "stdout",
     "output_type": "stream",
     "text": [
      "fold 5 validation tta loss = 0.39803575035488487\n",
      "fold 5 validation tta accuracy = 0.8808411214953271\n",
      "\n",
      "----------------------------------------------------------------------------------------------------\n"
     ]
    },
    {
     "name": "stderr",
     "output_type": "stream",
     "text": [
      "\n",
      "  | Name     | Type              | Params\n",
      "-----------------------------------------------\n",
      "0 | net      | VisionTransformer | 85.8 M\n",
      "1 | feat_net | Sequential        | 85.6 M\n",
      "-----------------------------------------------\n",
      "85.8 M    Trainable params\n",
      "0         Non-trainable params\n",
      "85.8 M    Total params\n"
     ]
    },
    {
     "data": {
      "application/vnd.jupyter.widget-view+json": {
       "model_id": "",
       "version_major": 2,
       "version_minor": 0
      },
      "text/plain": [
       "HBox(children=(HTML(value='Validation sanity check'), FloatProgress(value=1.0, bar_style='info', layout=Layout…"
      ]
     },
     "metadata": {},
     "output_type": "display_data"
    },
    {
     "data": {
      "application/vnd.jupyter.widget-view+json": {
       "model_id": "980c4a1af1de44538f2960cde5f2143e",
       "version_major": 2,
       "version_minor": 0
      },
      "text/plain": [
       "HBox(children=(HTML(value='Training'), FloatProgress(value=1.0, bar_style='info', layout=Layout(flex='2'), max…"
      ]
     },
     "metadata": {},
     "output_type": "display_data"
    },
    {
     "data": {
      "application/vnd.jupyter.widget-view+json": {
       "model_id": "",
       "version_major": 2,
       "version_minor": 0
      },
      "text/plain": [
       "HBox(children=(HTML(value='Validating'), FloatProgress(value=1.0, bar_style='info', layout=Layout(flex='2'), m…"
      ]
     },
     "metadata": {},
     "output_type": "display_data"
    },
    {
     "data": {
      "application/vnd.jupyter.widget-view+json": {
       "model_id": "",
       "version_major": 2,
       "version_minor": 0
      },
      "text/plain": [
       "HBox(children=(HTML(value='Validating'), FloatProgress(value=1.0, bar_style='info', layout=Layout(flex='2'), m…"
      ]
     },
     "metadata": {},
     "output_type": "display_data"
    },
    {
     "data": {
      "application/vnd.jupyter.widget-view+json": {
       "model_id": "",
       "version_major": 2,
       "version_minor": 0
      },
      "text/plain": [
       "HBox(children=(HTML(value='Validating'), FloatProgress(value=1.0, bar_style='info', layout=Layout(flex='2'), m…"
      ]
     },
     "metadata": {},
     "output_type": "display_data"
    },
    {
     "data": {
      "application/vnd.jupyter.widget-view+json": {
       "model_id": "",
       "version_major": 2,
       "version_minor": 0
      },
      "text/plain": [
       "HBox(children=(HTML(value='Validating'), FloatProgress(value=1.0, bar_style='info', layout=Layout(flex='2'), m…"
      ]
     },
     "metadata": {},
     "output_type": "display_data"
    },
    {
     "data": {
      "application/vnd.jupyter.widget-view+json": {
       "model_id": "",
       "version_major": 2,
       "version_minor": 0
      },
      "text/plain": [
       "HBox(children=(HTML(value='Validating'), FloatProgress(value=1.0, bar_style='info', layout=Layout(flex='2'), m…"
      ]
     },
     "metadata": {},
     "output_type": "display_data"
    },
    {
     "data": {
      "application/vnd.jupyter.widget-view+json": {
       "model_id": "",
       "version_major": 2,
       "version_minor": 0
      },
      "text/plain": [
       "HBox(children=(HTML(value='Validating'), FloatProgress(value=1.0, bar_style='info', layout=Layout(flex='2'), m…"
      ]
     },
     "metadata": {},
     "output_type": "display_data"
    },
    {
     "data": {
      "application/vnd.jupyter.widget-view+json": {
       "model_id": "",
       "version_major": 2,
       "version_minor": 0
      },
      "text/plain": [
       "HBox(children=(HTML(value='Validating'), FloatProgress(value=1.0, bar_style='info', layout=Layout(flex='2'), m…"
      ]
     },
     "metadata": {},
     "output_type": "display_data"
    },
    {
     "data": {
      "application/vnd.jupyter.widget-view+json": {
       "model_id": "",
       "version_major": 2,
       "version_minor": 0
      },
      "text/plain": [
       "HBox(children=(HTML(value='Validating'), FloatProgress(value=1.0, bar_style='info', layout=Layout(flex='2'), m…"
      ]
     },
     "metadata": {},
     "output_type": "display_data"
    },
    {
     "data": {
      "application/vnd.jupyter.widget-view+json": {
       "model_id": "",
       "version_major": 2,
       "version_minor": 0
      },
      "text/plain": [
       "HBox(children=(HTML(value='Validating'), FloatProgress(value=1.0, bar_style='info', layout=Layout(flex='2'), m…"
      ]
     },
     "metadata": {},
     "output_type": "display_data"
    },
    {
     "data": {
      "application/vnd.jupyter.widget-view+json": {
       "model_id": "",
       "version_major": 2,
       "version_minor": 0
      },
      "text/plain": [
       "HBox(children=(HTML(value='Validating'), FloatProgress(value=1.0, bar_style='info', layout=Layout(flex='2'), m…"
      ]
     },
     "metadata": {},
     "output_type": "display_data"
    },
    {
     "data": {
      "application/vnd.jupyter.widget-view+json": {
       "model_id": "",
       "version_major": 2,
       "version_minor": 0
      },
      "text/plain": [
       "HBox(children=(HTML(value='Validating'), FloatProgress(value=1.0, bar_style='info', layout=Layout(flex='2'), m…"
      ]
     },
     "metadata": {},
     "output_type": "display_data"
    },
    {
     "name": "stdout",
     "output_type": "stream",
     "text": [
      "\n",
      "fold 6 validation loss = 0.4575493988374762\n",
      "fold 6 validation accuracy = 0.8579439252336448\n",
      "\n"
     ]
    },
    {
     "name": "stderr",
     "output_type": "stream",
     "text": [
      "GPU available: True, used: True\n",
      "TPU available: None, using: 0 TPU cores\n",
      "LOCAL_RANK: 0 - CUDA_VISIBLE_DEVICES: [0]\n"
     ]
    },
    {
     "name": "stdout",
     "output_type": "stream",
     "text": [
      "fold 6 validation tta loss = 0.39904153974967\n",
      "fold 6 validation tta accuracy = 0.8724299065420561\n",
      "\n",
      "----------------------------------------------------------------------------------------------------\n"
     ]
    },
    {
     "name": "stderr",
     "output_type": "stream",
     "text": [
      "\n",
      "  | Name     | Type              | Params\n",
      "-----------------------------------------------\n",
      "0 | net      | VisionTransformer | 85.8 M\n",
      "1 | feat_net | Sequential        | 85.6 M\n",
      "-----------------------------------------------\n",
      "85.8 M    Trainable params\n",
      "0         Non-trainable params\n",
      "85.8 M    Total params\n"
     ]
    },
    {
     "data": {
      "application/vnd.jupyter.widget-view+json": {
       "model_id": "",
       "version_major": 2,
       "version_minor": 0
      },
      "text/plain": [
       "HBox(children=(HTML(value='Validation sanity check'), FloatProgress(value=1.0, bar_style='info', layout=Layout…"
      ]
     },
     "metadata": {},
     "output_type": "display_data"
    },
    {
     "data": {
      "application/vnd.jupyter.widget-view+json": {
       "model_id": "8e4a4baab2914caf9291ccb63cfcb4ac",
       "version_major": 2,
       "version_minor": 0
      },
      "text/plain": [
       "HBox(children=(HTML(value='Training'), FloatProgress(value=1.0, bar_style='info', layout=Layout(flex='2'), max…"
      ]
     },
     "metadata": {},
     "output_type": "display_data"
    },
    {
     "data": {
      "application/vnd.jupyter.widget-view+json": {
       "model_id": "",
       "version_major": 2,
       "version_minor": 0
      },
      "text/plain": [
       "HBox(children=(HTML(value='Validating'), FloatProgress(value=1.0, bar_style='info', layout=Layout(flex='2'), m…"
      ]
     },
     "metadata": {},
     "output_type": "display_data"
    },
    {
     "data": {
      "application/vnd.jupyter.widget-view+json": {
       "model_id": "",
       "version_major": 2,
       "version_minor": 0
      },
      "text/plain": [
       "HBox(children=(HTML(value='Validating'), FloatProgress(value=1.0, bar_style='info', layout=Layout(flex='2'), m…"
      ]
     },
     "metadata": {},
     "output_type": "display_data"
    },
    {
     "data": {
      "application/vnd.jupyter.widget-view+json": {
       "model_id": "",
       "version_major": 2,
       "version_minor": 0
      },
      "text/plain": [
       "HBox(children=(HTML(value='Validating'), FloatProgress(value=1.0, bar_style='info', layout=Layout(flex='2'), m…"
      ]
     },
     "metadata": {},
     "output_type": "display_data"
    },
    {
     "data": {
      "application/vnd.jupyter.widget-view+json": {
       "model_id": "",
       "version_major": 2,
       "version_minor": 0
      },
      "text/plain": [
       "HBox(children=(HTML(value='Validating'), FloatProgress(value=1.0, bar_style='info', layout=Layout(flex='2'), m…"
      ]
     },
     "metadata": {},
     "output_type": "display_data"
    },
    {
     "data": {
      "application/vnd.jupyter.widget-view+json": {
       "model_id": "",
       "version_major": 2,
       "version_minor": 0
      },
      "text/plain": [
       "HBox(children=(HTML(value='Validating'), FloatProgress(value=1.0, bar_style='info', layout=Layout(flex='2'), m…"
      ]
     },
     "metadata": {},
     "output_type": "display_data"
    },
    {
     "data": {
      "application/vnd.jupyter.widget-view+json": {
       "model_id": "",
       "version_major": 2,
       "version_minor": 0
      },
      "text/plain": [
       "HBox(children=(HTML(value='Validating'), FloatProgress(value=1.0, bar_style='info', layout=Layout(flex='2'), m…"
      ]
     },
     "metadata": {},
     "output_type": "display_data"
    },
    {
     "data": {
      "application/vnd.jupyter.widget-view+json": {
       "model_id": "",
       "version_major": 2,
       "version_minor": 0
      },
      "text/plain": [
       "HBox(children=(HTML(value='Validating'), FloatProgress(value=1.0, bar_style='info', layout=Layout(flex='2'), m…"
      ]
     },
     "metadata": {},
     "output_type": "display_data"
    },
    {
     "data": {
      "application/vnd.jupyter.widget-view+json": {
       "model_id": "",
       "version_major": 2,
       "version_minor": 0
      },
      "text/plain": [
       "HBox(children=(HTML(value='Validating'), FloatProgress(value=1.0, bar_style='info', layout=Layout(flex='2'), m…"
      ]
     },
     "metadata": {},
     "output_type": "display_data"
    },
    {
     "data": {
      "application/vnd.jupyter.widget-view+json": {
       "model_id": "",
       "version_major": 2,
       "version_minor": 0
      },
      "text/plain": [
       "HBox(children=(HTML(value='Validating'), FloatProgress(value=1.0, bar_style='info', layout=Layout(flex='2'), m…"
      ]
     },
     "metadata": {},
     "output_type": "display_data"
    },
    {
     "data": {
      "application/vnd.jupyter.widget-view+json": {
       "model_id": "",
       "version_major": 2,
       "version_minor": 0
      },
      "text/plain": [
       "HBox(children=(HTML(value='Validating'), FloatProgress(value=1.0, bar_style='info', layout=Layout(flex='2'), m…"
      ]
     },
     "metadata": {},
     "output_type": "display_data"
    },
    {
     "data": {
      "application/vnd.jupyter.widget-view+json": {
       "model_id": "",
       "version_major": 2,
       "version_minor": 0
      },
      "text/plain": [
       "HBox(children=(HTML(value='Validating'), FloatProgress(value=1.0, bar_style='info', layout=Layout(flex='2'), m…"
      ]
     },
     "metadata": {},
     "output_type": "display_data"
    },
    {
     "name": "stdout",
     "output_type": "stream",
     "text": [
      "\n",
      "fold 7 validation loss = 0.4364178229300733\n",
      "fold 7 validation accuracy = 0.8630201028517999\n",
      "\n"
     ]
    },
    {
     "name": "stderr",
     "output_type": "stream",
     "text": [
      "GPU available: True, used: True\n",
      "TPU available: None, using: 0 TPU cores\n",
      "LOCAL_RANK: 0 - CUDA_VISIBLE_DEVICES: [0]\n"
     ]
    },
    {
     "name": "stdout",
     "output_type": "stream",
     "text": [
      "fold 7 validation tta loss = 0.36780216568624613\n",
      "fold 7 validation tta accuracy = 0.8821879382889201\n",
      "\n",
      "----------------------------------------------------------------------------------------------------\n"
     ]
    },
    {
     "name": "stderr",
     "output_type": "stream",
     "text": [
      "\n",
      "  | Name     | Type              | Params\n",
      "-----------------------------------------------\n",
      "0 | net      | VisionTransformer | 85.8 M\n",
      "1 | feat_net | Sequential        | 85.6 M\n",
      "-----------------------------------------------\n",
      "85.8 M    Trainable params\n",
      "0         Non-trainable params\n",
      "85.8 M    Total params\n"
     ]
    },
    {
     "data": {
      "application/vnd.jupyter.widget-view+json": {
       "model_id": "",
       "version_major": 2,
       "version_minor": 0
      },
      "text/plain": [
       "HBox(children=(HTML(value='Validation sanity check'), FloatProgress(value=1.0, bar_style='info', layout=Layout…"
      ]
     },
     "metadata": {},
     "output_type": "display_data"
    },
    {
     "data": {
      "application/vnd.jupyter.widget-view+json": {
       "model_id": "67dde025c77f4fe0acbb01d725fa2b13",
       "version_major": 2,
       "version_minor": 0
      },
      "text/plain": [
       "HBox(children=(HTML(value='Training'), FloatProgress(value=1.0, bar_style='info', layout=Layout(flex='2'), max…"
      ]
     },
     "metadata": {},
     "output_type": "display_data"
    },
    {
     "data": {
      "application/vnd.jupyter.widget-view+json": {
       "model_id": "",
       "version_major": 2,
       "version_minor": 0
      },
      "text/plain": [
       "HBox(children=(HTML(value='Validating'), FloatProgress(value=1.0, bar_style='info', layout=Layout(flex='2'), m…"
      ]
     },
     "metadata": {},
     "output_type": "display_data"
    },
    {
     "data": {
      "application/vnd.jupyter.widget-view+json": {
       "model_id": "",
       "version_major": 2,
       "version_minor": 0
      },
      "text/plain": [
       "HBox(children=(HTML(value='Validating'), FloatProgress(value=1.0, bar_style='info', layout=Layout(flex='2'), m…"
      ]
     },
     "metadata": {},
     "output_type": "display_data"
    },
    {
     "data": {
      "application/vnd.jupyter.widget-view+json": {
       "model_id": "",
       "version_major": 2,
       "version_minor": 0
      },
      "text/plain": [
       "HBox(children=(HTML(value='Validating'), FloatProgress(value=1.0, bar_style='info', layout=Layout(flex='2'), m…"
      ]
     },
     "metadata": {},
     "output_type": "display_data"
    },
    {
     "data": {
      "application/vnd.jupyter.widget-view+json": {
       "model_id": "",
       "version_major": 2,
       "version_minor": 0
      },
      "text/plain": [
       "HBox(children=(HTML(value='Validating'), FloatProgress(value=1.0, bar_style='info', layout=Layout(flex='2'), m…"
      ]
     },
     "metadata": {},
     "output_type": "display_data"
    },
    {
     "data": {
      "application/vnd.jupyter.widget-view+json": {
       "model_id": "",
       "version_major": 2,
       "version_minor": 0
      },
      "text/plain": [
       "HBox(children=(HTML(value='Validating'), FloatProgress(value=1.0, bar_style='info', layout=Layout(flex='2'), m…"
      ]
     },
     "metadata": {},
     "output_type": "display_data"
    },
    {
     "data": {
      "application/vnd.jupyter.widget-view+json": {
       "model_id": "",
       "version_major": 2,
       "version_minor": 0
      },
      "text/plain": [
       "HBox(children=(HTML(value='Validating'), FloatProgress(value=1.0, bar_style='info', layout=Layout(flex='2'), m…"
      ]
     },
     "metadata": {},
     "output_type": "display_data"
    },
    {
     "data": {
      "application/vnd.jupyter.widget-view+json": {
       "model_id": "",
       "version_major": 2,
       "version_minor": 0
      },
      "text/plain": [
       "HBox(children=(HTML(value='Validating'), FloatProgress(value=1.0, bar_style='info', layout=Layout(flex='2'), m…"
      ]
     },
     "metadata": {},
     "output_type": "display_data"
    },
    {
     "data": {
      "application/vnd.jupyter.widget-view+json": {
       "model_id": "",
       "version_major": 2,
       "version_minor": 0
      },
      "text/plain": [
       "HBox(children=(HTML(value='Validating'), FloatProgress(value=1.0, bar_style='info', layout=Layout(flex='2'), m…"
      ]
     },
     "metadata": {},
     "output_type": "display_data"
    },
    {
     "data": {
      "application/vnd.jupyter.widget-view+json": {
       "model_id": "",
       "version_major": 2,
       "version_minor": 0
      },
      "text/plain": [
       "HBox(children=(HTML(value='Validating'), FloatProgress(value=1.0, bar_style='info', layout=Layout(flex='2'), m…"
      ]
     },
     "metadata": {},
     "output_type": "display_data"
    },
    {
     "data": {
      "application/vnd.jupyter.widget-view+json": {
       "model_id": "",
       "version_major": 2,
       "version_minor": 0
      },
      "text/plain": [
       "HBox(children=(HTML(value='Validating'), FloatProgress(value=1.0, bar_style='info', layout=Layout(flex='2'), m…"
      ]
     },
     "metadata": {},
     "output_type": "display_data"
    },
    {
     "data": {
      "application/vnd.jupyter.widget-view+json": {
       "model_id": "",
       "version_major": 2,
       "version_minor": 0
      },
      "text/plain": [
       "HBox(children=(HTML(value='Validating'), FloatProgress(value=1.0, bar_style='info', layout=Layout(flex='2'), m…"
      ]
     },
     "metadata": {},
     "output_type": "display_data"
    },
    {
     "name": "stdout",
     "output_type": "stream",
     "text": [
      "\n",
      "fold 8 validation loss = 0.4586787079492316\n",
      "fold 8 validation accuracy = 0.8513323983169705\n",
      "\n"
     ]
    },
    {
     "name": "stderr",
     "output_type": "stream",
     "text": [
      "GPU available: True, used: True\n",
      "TPU available: None, using: 0 TPU cores\n",
      "LOCAL_RANK: 0 - CUDA_VISIBLE_DEVICES: [0]\n"
     ]
    },
    {
     "name": "stdout",
     "output_type": "stream",
     "text": [
      "fold 8 validation tta loss = 0.38913537044567603\n",
      "fold 8 validation tta accuracy = 0.8751753155680224\n",
      "\n",
      "----------------------------------------------------------------------------------------------------\n"
     ]
    },
    {
     "name": "stderr",
     "output_type": "stream",
     "text": [
      "\n",
      "  | Name     | Type              | Params\n",
      "-----------------------------------------------\n",
      "0 | net      | VisionTransformer | 85.8 M\n",
      "1 | feat_net | Sequential        | 85.6 M\n",
      "-----------------------------------------------\n",
      "85.8 M    Trainable params\n",
      "0         Non-trainable params\n",
      "85.8 M    Total params\n"
     ]
    },
    {
     "data": {
      "application/vnd.jupyter.widget-view+json": {
       "model_id": "",
       "version_major": 2,
       "version_minor": 0
      },
      "text/plain": [
       "HBox(children=(HTML(value='Validation sanity check'), FloatProgress(value=1.0, bar_style='info', layout=Layout…"
      ]
     },
     "metadata": {},
     "output_type": "display_data"
    },
    {
     "data": {
      "application/vnd.jupyter.widget-view+json": {
       "model_id": "4c42cc39682f46cda37de9c1bc9a8458",
       "version_major": 2,
       "version_minor": 0
      },
      "text/plain": [
       "HBox(children=(HTML(value='Training'), FloatProgress(value=1.0, bar_style='info', layout=Layout(flex='2'), max…"
      ]
     },
     "metadata": {},
     "output_type": "display_data"
    },
    {
     "data": {
      "application/vnd.jupyter.widget-view+json": {
       "model_id": "",
       "version_major": 2,
       "version_minor": 0
      },
      "text/plain": [
       "HBox(children=(HTML(value='Validating'), FloatProgress(value=1.0, bar_style='info', layout=Layout(flex='2'), m…"
      ]
     },
     "metadata": {},
     "output_type": "display_data"
    },
    {
     "data": {
      "application/vnd.jupyter.widget-view+json": {
       "model_id": "",
       "version_major": 2,
       "version_minor": 0
      },
      "text/plain": [
       "HBox(children=(HTML(value='Validating'), FloatProgress(value=1.0, bar_style='info', layout=Layout(flex='2'), m…"
      ]
     },
     "metadata": {},
     "output_type": "display_data"
    },
    {
     "data": {
      "application/vnd.jupyter.widget-view+json": {
       "model_id": "",
       "version_major": 2,
       "version_minor": 0
      },
      "text/plain": [
       "HBox(children=(HTML(value='Validating'), FloatProgress(value=1.0, bar_style='info', layout=Layout(flex='2'), m…"
      ]
     },
     "metadata": {},
     "output_type": "display_data"
    },
    {
     "data": {
      "application/vnd.jupyter.widget-view+json": {
       "model_id": "",
       "version_major": 2,
       "version_minor": 0
      },
      "text/plain": [
       "HBox(children=(HTML(value='Validating'), FloatProgress(value=1.0, bar_style='info', layout=Layout(flex='2'), m…"
      ]
     },
     "metadata": {},
     "output_type": "display_data"
    },
    {
     "data": {
      "application/vnd.jupyter.widget-view+json": {
       "model_id": "",
       "version_major": 2,
       "version_minor": 0
      },
      "text/plain": [
       "HBox(children=(HTML(value='Validating'), FloatProgress(value=1.0, bar_style='info', layout=Layout(flex='2'), m…"
      ]
     },
     "metadata": {},
     "output_type": "display_data"
    },
    {
     "data": {
      "application/vnd.jupyter.widget-view+json": {
       "model_id": "",
       "version_major": 2,
       "version_minor": 0
      },
      "text/plain": [
       "HBox(children=(HTML(value='Validating'), FloatProgress(value=1.0, bar_style='info', layout=Layout(flex='2'), m…"
      ]
     },
     "metadata": {},
     "output_type": "display_data"
    },
    {
     "data": {
      "application/vnd.jupyter.widget-view+json": {
       "model_id": "",
       "version_major": 2,
       "version_minor": 0
      },
      "text/plain": [
       "HBox(children=(HTML(value='Validating'), FloatProgress(value=1.0, bar_style='info', layout=Layout(flex='2'), m…"
      ]
     },
     "metadata": {},
     "output_type": "display_data"
    },
    {
     "data": {
      "application/vnd.jupyter.widget-view+json": {
       "model_id": "",
       "version_major": 2,
       "version_minor": 0
      },
      "text/plain": [
       "HBox(children=(HTML(value='Validating'), FloatProgress(value=1.0, bar_style='info', layout=Layout(flex='2'), m…"
      ]
     },
     "metadata": {},
     "output_type": "display_data"
    },
    {
     "data": {
      "application/vnd.jupyter.widget-view+json": {
       "model_id": "",
       "version_major": 2,
       "version_minor": 0
      },
      "text/plain": [
       "HBox(children=(HTML(value='Validating'), FloatProgress(value=1.0, bar_style='info', layout=Layout(flex='2'), m…"
      ]
     },
     "metadata": {},
     "output_type": "display_data"
    },
    {
     "data": {
      "application/vnd.jupyter.widget-view+json": {
       "model_id": "",
       "version_major": 2,
       "version_minor": 0
      },
      "text/plain": [
       "HBox(children=(HTML(value='Validating'), FloatProgress(value=1.0, bar_style='info', layout=Layout(flex='2'), m…"
      ]
     },
     "metadata": {},
     "output_type": "display_data"
    },
    {
     "data": {
      "application/vnd.jupyter.widget-view+json": {
       "model_id": "",
       "version_major": 2,
       "version_minor": 0
      },
      "text/plain": [
       "HBox(children=(HTML(value='Validating'), FloatProgress(value=1.0, bar_style='info', layout=Layout(flex='2'), m…"
      ]
     },
     "metadata": {},
     "output_type": "display_data"
    },
    {
     "name": "stdout",
     "output_type": "stream",
     "text": [
      "\n",
      "fold 9 validation loss = 0.4527072470366103\n",
      "fold 9 validation accuracy = 0.8457223001402524\n",
      "\n",
      "fold 9 validation tta loss = 0.3749193066321115\n",
      "fold 9 validation tta accuracy = 0.8821879382889201\n",
      "\n",
      "----------------------------------------------------------------------------------------------------\n",
      "\u001b[33m oof: 0.8594\n",
      "\u001b[33m oof_tta: 0.882\n",
      "\u001b[33m oof_loss: 0.442\n",
      "\u001b[33m oof_loss_tta: 0.3768\n",
      "Wall time: 1d 5h 12min 38s\n"
     ]
    }
   ],
   "source": [
    "%%time\n",
    "oof, oof_tta, oof_loss, oof_loss_tta = run_train(df, data_transforms, wandb_logger=wandb_logger)"
   ]
  },
  {
   "cell_type": "code",
   "execution_count": 21,
   "metadata": {},
   "outputs": [
    {
     "data": {
      "text/html": [
       "<div>\n",
       "<style scoped>\n",
       "    .dataframe tbody tr th:only-of-type {\n",
       "        vertical-align: middle;\n",
       "    }\n",
       "\n",
       "    .dataframe tbody tr th {\n",
       "        vertical-align: top;\n",
       "    }\n",
       "\n",
       "    .dataframe thead th {\n",
       "        text-align: right;\n",
       "    }\n",
       "</style>\n",
       "<table border=\"1\" class=\"dataframe\">\n",
       "  <thead>\n",
       "    <tr style=\"text-align: right;\">\n",
       "      <th></th>\n",
       "      <th>target</th>\n",
       "      <th>prediction</th>\n",
       "      <th>logit</th>\n",
       "      <th>file_path</th>\n",
       "    </tr>\n",
       "  </thead>\n",
       "  <tbody>\n",
       "    <tr>\n",
       "      <th>0</th>\n",
       "      <td>0</td>\n",
       "      <td>4</td>\n",
       "      <td>0.431507</td>\n",
       "      <td>C:\\Users\\shingo\\jupyter_notebook\\pytorch_light...</td>\n",
       "    </tr>\n",
       "    <tr>\n",
       "      <th>1</th>\n",
       "      <td>3</td>\n",
       "      <td>3</td>\n",
       "      <td>0.927704</td>\n",
       "      <td>C:\\Users\\shingo\\jupyter_notebook\\pytorch_light...</td>\n",
       "    </tr>\n",
       "    <tr>\n",
       "      <th>2</th>\n",
       "      <td>1</td>\n",
       "      <td>4</td>\n",
       "      <td>0.868844</td>\n",
       "      <td>C:\\Users\\shingo\\jupyter_notebook\\pytorch_light...</td>\n",
       "    </tr>\n",
       "    <tr>\n",
       "      <th>3</th>\n",
       "      <td>1</td>\n",
       "      <td>1</td>\n",
       "      <td>0.851001</td>\n",
       "      <td>C:\\Users\\shingo\\jupyter_notebook\\pytorch_light...</td>\n",
       "    </tr>\n",
       "    <tr>\n",
       "      <th>4</th>\n",
       "      <td>3</td>\n",
       "      <td>3</td>\n",
       "      <td>0.938229</td>\n",
       "      <td>C:\\Users\\shingo\\jupyter_notebook\\pytorch_light...</td>\n",
       "    </tr>\n",
       "    <tr>\n",
       "      <th>...</th>\n",
       "      <td>...</td>\n",
       "      <td>...</td>\n",
       "      <td>...</td>\n",
       "      <td>...</td>\n",
       "    </tr>\n",
       "    <tr>\n",
       "      <th>21392</th>\n",
       "      <td>3</td>\n",
       "      <td>3</td>\n",
       "      <td>0.935702</td>\n",
       "      <td>C:\\Users\\shingo\\jupyter_notebook\\pytorch_light...</td>\n",
       "    </tr>\n",
       "    <tr>\n",
       "      <th>21393</th>\n",
       "      <td>3</td>\n",
       "      <td>3</td>\n",
       "      <td>0.935998</td>\n",
       "      <td>C:\\Users\\shingo\\jupyter_notebook\\pytorch_light...</td>\n",
       "    </tr>\n",
       "    <tr>\n",
       "      <th>21394</th>\n",
       "      <td>1</td>\n",
       "      <td>1</td>\n",
       "      <td>0.803219</td>\n",
       "      <td>C:\\Users\\shingo\\jupyter_notebook\\pytorch_light...</td>\n",
       "    </tr>\n",
       "    <tr>\n",
       "      <th>21395</th>\n",
       "      <td>4</td>\n",
       "      <td>4</td>\n",
       "      <td>0.935388</td>\n",
       "      <td>C:\\Users\\shingo\\jupyter_notebook\\pytorch_light...</td>\n",
       "    </tr>\n",
       "    <tr>\n",
       "      <th>21396</th>\n",
       "      <td>4</td>\n",
       "      <td>4</td>\n",
       "      <td>0.804625</td>\n",
       "      <td>C:\\Users\\shingo\\jupyter_notebook\\pytorch_light...</td>\n",
       "    </tr>\n",
       "  </tbody>\n",
       "</table>\n",
       "<p>21397 rows × 4 columns</p>\n",
       "</div>"
      ],
      "text/plain": [
       "       target  prediction     logit  \\\n",
       "0           0           4  0.431507   \n",
       "1           3           3  0.927704   \n",
       "2           1           4  0.868844   \n",
       "3           1           1  0.851001   \n",
       "4           3           3  0.938229   \n",
       "...       ...         ...       ...   \n",
       "21392       3           3  0.935702   \n",
       "21393       3           3  0.935998   \n",
       "21394       1           1  0.803219   \n",
       "21395       4           4  0.935388   \n",
       "21396       4           4  0.804625   \n",
       "\n",
       "                                               file_path  \n",
       "0      C:\\Users\\shingo\\jupyter_notebook\\pytorch_light...  \n",
       "1      C:\\Users\\shingo\\jupyter_notebook\\pytorch_light...  \n",
       "2      C:\\Users\\shingo\\jupyter_notebook\\pytorch_light...  \n",
       "3      C:\\Users\\shingo\\jupyter_notebook\\pytorch_light...  \n",
       "4      C:\\Users\\shingo\\jupyter_notebook\\pytorch_light...  \n",
       "...                                                  ...  \n",
       "21392  C:\\Users\\shingo\\jupyter_notebook\\pytorch_light...  \n",
       "21393  C:\\Users\\shingo\\jupyter_notebook\\pytorch_light...  \n",
       "21394  C:\\Users\\shingo\\jupyter_notebook\\pytorch_light...  \n",
       "21395  C:\\Users\\shingo\\jupyter_notebook\\pytorch_light...  \n",
       "21396  C:\\Users\\shingo\\jupyter_notebook\\pytorch_light...  \n",
       "\n",
       "[21397 rows x 4 columns]"
      ]
     },
     "metadata": {},
     "output_type": "display_data"
    },
    {
     "data": {
      "text/html": [
       "<div>\n",
       "<style scoped>\n",
       "    .dataframe tbody tr th:only-of-type {\n",
       "        vertical-align: middle;\n",
       "    }\n",
       "\n",
       "    .dataframe tbody tr th {\n",
       "        vertical-align: top;\n",
       "    }\n",
       "\n",
       "    .dataframe thead th {\n",
       "        text-align: right;\n",
       "    }\n",
       "</style>\n",
       "<table border=\"1\" class=\"dataframe\">\n",
       "  <thead>\n",
       "    <tr style=\"text-align: right;\">\n",
       "      <th></th>\n",
       "      <th>target</th>\n",
       "      <th>prediction</th>\n",
       "      <th>logit</th>\n",
       "      <th>file_path</th>\n",
       "    </tr>\n",
       "  </thead>\n",
       "  <tbody>\n",
       "    <tr>\n",
       "      <th>0</th>\n",
       "      <td>0</td>\n",
       "      <td>1</td>\n",
       "      <td>0.404377</td>\n",
       "      <td>C:\\Users\\shingo\\jupyter_notebook\\pytorch_light...</td>\n",
       "    </tr>\n",
       "    <tr>\n",
       "      <th>1</th>\n",
       "      <td>3</td>\n",
       "      <td>3</td>\n",
       "      <td>0.932721</td>\n",
       "      <td>C:\\Users\\shingo\\jupyter_notebook\\pytorch_light...</td>\n",
       "    </tr>\n",
       "    <tr>\n",
       "      <th>2</th>\n",
       "      <td>1</td>\n",
       "      <td>4</td>\n",
       "      <td>0.856607</td>\n",
       "      <td>C:\\Users\\shingo\\jupyter_notebook\\pytorch_light...</td>\n",
       "    </tr>\n",
       "    <tr>\n",
       "      <th>3</th>\n",
       "      <td>1</td>\n",
       "      <td>3</td>\n",
       "      <td>0.534369</td>\n",
       "      <td>C:\\Users\\shingo\\jupyter_notebook\\pytorch_light...</td>\n",
       "    </tr>\n",
       "    <tr>\n",
       "      <th>4</th>\n",
       "      <td>3</td>\n",
       "      <td>3</td>\n",
       "      <td>0.936862</td>\n",
       "      <td>C:\\Users\\shingo\\jupyter_notebook\\pytorch_light...</td>\n",
       "    </tr>\n",
       "    <tr>\n",
       "      <th>...</th>\n",
       "      <td>...</td>\n",
       "      <td>...</td>\n",
       "      <td>...</td>\n",
       "      <td>...</td>\n",
       "    </tr>\n",
       "    <tr>\n",
       "      <th>21392</th>\n",
       "      <td>3</td>\n",
       "      <td>3</td>\n",
       "      <td>0.936233</td>\n",
       "      <td>C:\\Users\\shingo\\jupyter_notebook\\pytorch_light...</td>\n",
       "    </tr>\n",
       "    <tr>\n",
       "      <th>21393</th>\n",
       "      <td>3</td>\n",
       "      <td>3</td>\n",
       "      <td>0.891005</td>\n",
       "      <td>C:\\Users\\shingo\\jupyter_notebook\\pytorch_light...</td>\n",
       "    </tr>\n",
       "    <tr>\n",
       "      <th>21394</th>\n",
       "      <td>1</td>\n",
       "      <td>1</td>\n",
       "      <td>0.898472</td>\n",
       "      <td>C:\\Users\\shingo\\jupyter_notebook\\pytorch_light...</td>\n",
       "    </tr>\n",
       "    <tr>\n",
       "      <th>21395</th>\n",
       "      <td>4</td>\n",
       "      <td>4</td>\n",
       "      <td>0.930175</td>\n",
       "      <td>C:\\Users\\shingo\\jupyter_notebook\\pytorch_light...</td>\n",
       "    </tr>\n",
       "    <tr>\n",
       "      <th>21396</th>\n",
       "      <td>4</td>\n",
       "      <td>2</td>\n",
       "      <td>0.602456</td>\n",
       "      <td>C:\\Users\\shingo\\jupyter_notebook\\pytorch_light...</td>\n",
       "    </tr>\n",
       "  </tbody>\n",
       "</table>\n",
       "<p>21397 rows × 4 columns</p>\n",
       "</div>"
      ],
      "text/plain": [
       "       target  prediction     logit  \\\n",
       "0           0           1  0.404377   \n",
       "1           3           3  0.932721   \n",
       "2           1           4  0.856607   \n",
       "3           1           3  0.534369   \n",
       "4           3           3  0.936862   \n",
       "...       ...         ...       ...   \n",
       "21392       3           3  0.936233   \n",
       "21393       3           3  0.891005   \n",
       "21394       1           1  0.898472   \n",
       "21395       4           4  0.930175   \n",
       "21396       4           2  0.602456   \n",
       "\n",
       "                                               file_path  \n",
       "0      C:\\Users\\shingo\\jupyter_notebook\\pytorch_light...  \n",
       "1      C:\\Users\\shingo\\jupyter_notebook\\pytorch_light...  \n",
       "2      C:\\Users\\shingo\\jupyter_notebook\\pytorch_light...  \n",
       "3      C:\\Users\\shingo\\jupyter_notebook\\pytorch_light...  \n",
       "4      C:\\Users\\shingo\\jupyter_notebook\\pytorch_light...  \n",
       "...                                                  ...  \n",
       "21392  C:\\Users\\shingo\\jupyter_notebook\\pytorch_light...  \n",
       "21393  C:\\Users\\shingo\\jupyter_notebook\\pytorch_light...  \n",
       "21394  C:\\Users\\shingo\\jupyter_notebook\\pytorch_light...  \n",
       "21395  C:\\Users\\shingo\\jupyter_notebook\\pytorch_light...  \n",
       "21396  C:\\Users\\shingo\\jupyter_notebook\\pytorch_light...  \n",
       "\n",
       "[21397 rows x 4 columns]"
      ]
     },
     "metadata": {},
     "output_type": "display_data"
    },
    {
     "data": {
      "image/png": "[encoded data removed]",
      "text/plain": [
       "<Figure size 432x288 with 1 Axes>"
      ]
     },
     "metadata": {
      "needs_background": "light"
     },
     "output_type": "display_data"
    },
    {
     "name": "stdout",
     "output_type": "stream",
     "text": [
      "              precision    recall  f1-score   support\n",
      "\n",
      "           0       0.65      0.60      0.62      1087\n",
      "           1       0.83      0.79      0.81      2189\n",
      "           2       0.84      0.76      0.80      2386\n",
      "           3       0.95      0.97      0.96     13158\n",
      "           4       0.72      0.74      0.73      2577\n",
      "\n",
      "    accuracy                           0.88     21397\n",
      "   macro avg       0.80      0.77      0.78     21397\n",
      "weighted avg       0.88      0.88      0.88     21397\n",
      "\n"
     ]
    },
    {
     "data": {
      "image/png": "[encoded data removed]",
      "text/plain": [
       "<Figure size 720x576 with 2 Axes>"
      ]
     },
     "metadata": {
      "needs_background": "light"
     },
     "output_type": "display_data"
    }
   ],
   "source": [
    "Y_pred = pickle.load(open(\"Y_pred.pkl\", 'rb'))\n",
    "oof_preds_df = pd.DataFrame(\n",
    "    {\n",
    "        \"target\": df[\"label\"],\n",
    "        \"prediction\": Y_pred.values.argmax(1),\n",
    "        \"logit\": Y_pred.values.max(1),\n",
    "        \"file_path\": df[\"file_path\"],\n",
    "    }\n",
    ")\n",
    "oof_preds_df.to_csv(\"oof_preds_df.csv\", index=False)\n",
    "display(oof_preds_df)\n",
    "\n",
    "\n",
    "Y_pred_tta = pickle.load(open(\"Y_pred_tta.pkl\", \"rb\"))\n",
    "oof_preds_df = pd.DataFrame(\n",
    "    {\n",
    "        \"target\": df[\"label\"],\n",
    "        \"prediction\": Y_pred_tta.values.argmax(1),\n",
    "        \"logit\": Y_pred_tta.values.max(1),\n",
    "        \"file_path\": df[\"file_path\"],\n",
    "    }\n",
    ")\n",
    "oof_preds_df.to_csv(\"oof_preds_df_tta.csv\", index=False)\n",
    "display(oof_preds_df)\n",
    "\n",
    "\n",
    "sns.countplot(y=sorted(oof_preds_df[\"prediction\"].map(name_mapping)), orient=\"v\")\n",
    "plt.title(\"Prediction distribution\")\n",
    "plt.show()\n",
    "\n",
    "print(metrics.classification_report(oof_preds_df[\"target\"], oof_preds_df[\"prediction\"]))\n",
    "\n",
    "plt.figure(figsize=(10, 8))\n",
    "sns.heatmap(\n",
    "    metrics.confusion_matrix(oof_preds_df[\"target\"], oof_preds_df[\"prediction\"]),\n",
    "    annot=True,\n",
    "    cmap=\"Blues\",\n",
    ")\n",
    "plt.title(\"Oof confusion_matrix\")\n",
    "plt.show()"
   ]
  },
  {
   "cell_type": "code",
   "execution_count": 22,
   "metadata": {},
   "outputs": [],
   "source": [
    "#%load_ext tensorboard\n",
    "#%tensorboard --logdir ./lightning_logs\n",
    "#\n",
    "#https://wandb.ai/anonamename/kaggle_cassava?workspace=user-anonamename"
   ]
  },
  {
   "cell_type": "raw",
   "metadata": {},
   "source": []
  }
 ],
 "metadata": {
  "kernelspec": {
   "display_name": "Python 3",
   "language": "python",
   "name": "python3"
  },
  "language_info": {
   "codemirror_mode": {
    "name": "ipython",
    "version": 3
   },
   "file_extension": ".py",
   "mimetype": "text/x-python",
   "name": "python",
   "nbconvert_exporter": "python",
   "pygments_lexer": "ipython3",
   "version": "3.8.6"
  }
 },
 "nbformat": 4,
 "nbformat_minor": 4
}
