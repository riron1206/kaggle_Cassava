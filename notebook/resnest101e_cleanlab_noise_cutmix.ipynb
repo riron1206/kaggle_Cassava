{
 "cells": [
  {
   "cell_type": "code",
   "execution_count": 1,
   "metadata": {
    "_cell_guid": "b1076dfc-b9ad-4769-8c92-a6c4dae69d19",
    "_kg_hide-output": true,
    "_uuid": "8f2839f25d086af736a60e9eeb907d3b93b6e0e5"
   },
   "outputs": [
    {
     "name": "stdout",
     "output_type": "stream",
     "text": [
      "device: cuda\n"
     ]
    }
   ],
   "source": [
    "device = None\n",
    "\n",
    "## for TPU\n",
    "## https://www.kaggle.com/abhinand05/vision-transformer-vit-tutorial-baseline\n",
    "#import os\n",
    "#if os.path.exists(\"./torchvision-1.7-cp37-cp37m-linux_x86_64.whl\") == False:\n",
    "#    !curl https://raw.githubusercontent.com/pytorch/xla/master/contrib/scripts/env-setup.py -o pytorch-xla-env-setup.py\n",
    "#    !python pytorch-xla-env-setup.py --version 1.7\n",
    "#import torch_xla\n",
    "#import torch_xla.core.xla_model as xm\n",
    "#import torch_xla.distributed.xla_multiprocessing as xmp\n",
    "#import torch_xla.distributed.parallel_loader as pl\n",
    "#device = xm.xla_device()\n",
    "#num_workers = 2  # os.cpu_count()  # 4\n",
    "\n",
    "# for GPU\n",
    "if device is None:\n",
    "    import os\n",
    "    import torch\n",
    "    device = \"cuda\" if torch.cuda.is_available() else \"cpu\"\n",
    "\n",
    "    if os.getcwd() in [\"/kaggle/working\", \"/content\"]:\n",
    "        num_workers = os.cpu_count()  # 4\n",
    "    else:\n",
    "        num_workers = 0\n",
    "    \n",
    "print(\"device:\", device)"
   ]
  },
  {
   "cell_type": "code",
   "execution_count": 2,
   "metadata": {
    "_cell_guid": "79c7e3d0-c299-4dcb-8224-4455121ee9b0",
    "_kg_hide-output": true,
    "_uuid": "d629ff2d2480ee46fbb7e2d37f6b5fab8052498a"
   },
   "outputs": [],
   "source": [
    "import os, sys\n",
    "if os.getcwd() in [\"/kaggle/working\", \"/content\"]:\n",
    "    !pip install \"../input/pytorchlightning110/pytorch_lightning-1.1.0-py3-none-any.whl\"\n",
    "    !pip install pytorch-gradcam\n",
    "    !pip install torch_optimizer\n",
    "    !pip install adabelief-pytorch==0.1.0\n",
    "    from gradcam import GradCAM, GradCAMpp\n",
    "    import torch_optimizer\n",
    "    from adabelief_pytorch import AdaBelief\n",
    "else:\n",
    "    #sys.path.append(r\"C:\\Users\\81908\\Git\\Adabelief-Optimizer\\pypi_packages\\adabelief_pytorch0.1.0\")\n",
    "    #from adabelief_pytorch import AdaBelief\n",
    "    #sys.path.append(r\"C:\\Users\\81908\\Git\\gradcam_plus_plus-pytorch\")\n",
    "    #from gradcam import GradCAM, GradCAMpp\n",
    "    pass"
   ]
  },
  {
   "cell_type": "code",
   "execution_count": 3,
   "metadata": {},
   "outputs": [
    {
     "name": "stdout",
     "output_type": "stream",
     "text": [
      "timm version: 0.3.2\n"
     ]
    }
   ],
   "source": [
    "import sys\n",
    "if os.getcwd() in [\"/kaggle/working\", \"/content\"]:\n",
    "    sys.path.append('../input/pytorch-image-models/pytorch-image-models-master')\n",
    "import timm\n",
    "print(\"timm version:\", timm.__version__)"
   ]
  },
  {
   "cell_type": "code",
   "execution_count": 4,
   "metadata": {
    "_kg_hide-output": true
   },
   "outputs": [
    {
     "name": "stdout",
     "output_type": "stream",
     "text": [
      "['adv_inception_v3',\n",
      " 'cspdarknet53',\n",
      " 'cspresnet50',\n",
      " 'cspresnext50',\n",
      " 'densenet121',\n",
      " 'densenet161',\n",
      " 'densenet169',\n",
      " 'densenet201',\n",
      " 'densenetblur121d',\n",
      " 'dla34',\n",
      " 'dla46_c',\n",
      " 'dla46x_c',\n",
      " 'dla60',\n",
      " 'dla60_res2net',\n",
      " 'dla60_res2next',\n",
      " 'dla60x',\n",
      " 'dla60x_c',\n",
      " 'dla102',\n",
      " 'dla102x',\n",
      " 'dla102x2',\n",
      " 'dla169',\n",
      " 'dpn68',\n",
      " 'dpn68b',\n",
      " 'dpn92',\n",
      " 'dpn98',\n",
      " 'dpn107',\n",
      " 'dpn131',\n",
      " 'ecaresnet50d',\n",
      " 'ecaresnet50d_pruned',\n",
      " 'ecaresnet101d',\n",
      " 'ecaresnet101d_pruned',\n",
      " 'ecaresnetlight',\n",
      " 'efficientnet_b0',\n",
      " 'efficientnet_b1',\n",
      " 'efficientnet_b1_pruned',\n",
      " 'efficientnet_b2',\n",
      " 'efficientnet_b2_pruned',\n",
      " 'efficientnet_b2a',\n",
      " 'efficientnet_b3',\n",
      " 'efficientnet_b3_pruned',\n",
      " 'efficientnet_b3a',\n",
      " 'efficientnet_em',\n",
      " 'efficientnet_es',\n",
      " 'efficientnet_lite0',\n",
      " 'ens_adv_inception_resnet_v2',\n",
      " 'ese_vovnet19b_dw',\n",
      " 'ese_vovnet39b',\n",
      " 'fbnetc_100',\n",
      " 'gluon_inception_v3',\n",
      " 'gluon_resnet18_v1b',\n",
      " 'gluon_resnet34_v1b',\n",
      " 'gluon_resnet50_v1b',\n",
      " 'gluon_resnet50_v1c',\n",
      " 'gluon_resnet50_v1d',\n",
      " 'gluon_resnet50_v1s',\n",
      " 'gluon_resnet101_v1b',\n",
      " 'gluon_resnet101_v1c',\n",
      " 'gluon_resnet101_v1d',\n",
      " 'gluon_resnet101_v1s',\n",
      " 'gluon_resnet152_v1b',\n",
      " 'gluon_resnet152_v1c',\n",
      " 'gluon_resnet152_v1d',\n",
      " 'gluon_resnet152_v1s',\n",
      " 'gluon_resnext50_32x4d',\n",
      " 'gluon_resnext101_32x4d',\n",
      " 'gluon_resnext101_64x4d',\n",
      " 'gluon_senet154',\n",
      " 'gluon_seresnext50_32x4d',\n",
      " 'gluon_seresnext101_32x4d',\n",
      " 'gluon_seresnext101_64x4d',\n",
      " 'gluon_xception65',\n",
      " 'hrnet_w18',\n",
      " 'hrnet_w18_small',\n",
      " 'hrnet_w18_small_v2',\n",
      " 'hrnet_w30',\n",
      " 'hrnet_w32',\n",
      " 'hrnet_w40',\n",
      " 'hrnet_w44',\n",
      " 'hrnet_w48',\n",
      " 'hrnet_w64',\n",
      " 'ig_resnext101_32x8d',\n",
      " 'ig_resnext101_32x16d',\n",
      " 'ig_resnext101_32x32d',\n",
      " 'ig_resnext101_32x48d',\n",
      " 'inception_resnet_v2',\n",
      " 'inception_v3',\n",
      " 'inception_v4',\n",
      " 'legacy_senet154',\n",
      " 'legacy_seresnet18',\n",
      " 'legacy_seresnet34',\n",
      " 'legacy_seresnet50',\n",
      " 'legacy_seresnet101',\n",
      " 'legacy_seresnet152',\n",
      " 'legacy_seresnext26_32x4d',\n",
      " 'legacy_seresnext50_32x4d',\n",
      " 'legacy_seresnext101_32x4d',\n",
      " 'mixnet_l',\n",
      " 'mixnet_m',\n",
      " 'mixnet_s',\n",
      " 'mixnet_xl',\n",
      " 'mnasnet_100',\n",
      " 'mobilenetv2_100',\n",
      " 'mobilenetv2_110d',\n",
      " 'mobilenetv2_120d',\n",
      " 'mobilenetv2_140',\n",
      " 'mobilenetv3_large_100',\n",
      " 'mobilenetv3_rw',\n",
      " 'nasnetalarge',\n",
      " 'pnasnet5large',\n",
      " 'regnetx_002',\n",
      " 'regnetx_004',\n",
      " 'regnetx_006',\n",
      " 'regnetx_008',\n",
      " 'regnetx_016',\n",
      " 'regnetx_032',\n",
      " 'regnetx_040',\n",
      " 'regnetx_064',\n",
      " 'regnetx_080',\n",
      " 'regnetx_120',\n",
      " 'regnetx_160',\n",
      " 'regnetx_320',\n",
      " 'regnety_002',\n",
      " 'regnety_004',\n",
      " 'regnety_006',\n",
      " 'regnety_008',\n",
      " 'regnety_016',\n",
      " 'regnety_032',\n",
      " 'regnety_040',\n",
      " 'regnety_064',\n",
      " 'regnety_080',\n",
      " 'regnety_120',\n",
      " 'regnety_160',\n",
      " 'regnety_320',\n",
      " 'res2net50_14w_8s',\n",
      " 'res2net50_26w_4s',\n",
      " 'res2net50_26w_6s',\n",
      " 'res2net50_26w_8s',\n",
      " 'res2net50_48w_2s',\n",
      " 'res2net101_26w_4s',\n",
      " 'res2next50',\n",
      " 'resnest14d',\n",
      " 'resnest26d',\n",
      " 'resnest50d',\n",
      " 'resnest50d_1s4x24d',\n",
      " 'resnest50d_4s2x40d',\n",
      " 'resnest101e',\n",
      " 'resnest200e',\n",
      " 'resnest269e',\n",
      " 'resnet18',\n",
      " 'resnet18d',\n",
      " 'resnet26',\n",
      " 'resnet26d',\n",
      " 'resnet34',\n",
      " 'resnet34d',\n",
      " 'resnet50',\n",
      " 'resnet50d',\n",
      " 'resnetblur50',\n",
      " 'resnext50_32x4d',\n",
      " 'resnext50d_32x4d',\n",
      " 'resnext101_32x8d',\n",
      " 'rexnet_100',\n",
      " 'rexnet_130',\n",
      " 'rexnet_150',\n",
      " 'rexnet_200',\n",
      " 'selecsls42b',\n",
      " 'selecsls60',\n",
      " 'selecsls60b',\n",
      " 'semnasnet_100',\n",
      " 'seresnet50',\n",
      " 'seresnext26d_32x4d',\n",
      " 'seresnext26t_32x4d',\n",
      " 'seresnext26tn_32x4d',\n",
      " 'seresnext50_32x4d',\n",
      " 'skresnet18',\n",
      " 'skresnet34',\n",
      " 'skresnext50_32x4d',\n",
      " 'spnasnet_100',\n",
      " 'ssl_resnet18',\n",
      " 'ssl_resnet50',\n",
      " 'ssl_resnext50_32x4d',\n",
      " 'ssl_resnext101_32x4d',\n",
      " 'ssl_resnext101_32x8d',\n",
      " 'ssl_resnext101_32x16d',\n",
      " 'swsl_resnet18',\n",
      " 'swsl_resnet50',\n",
      " 'swsl_resnext50_32x4d',\n",
      " 'swsl_resnext101_32x4d',\n",
      " 'swsl_resnext101_32x8d',\n",
      " 'swsl_resnext101_32x16d',\n",
      " 'tf_efficientnet_b0',\n",
      " 'tf_efficientnet_b0_ap',\n",
      " 'tf_efficientnet_b0_ns',\n",
      " 'tf_efficientnet_b1',\n",
      " 'tf_efficientnet_b1_ap',\n",
      " 'tf_efficientnet_b1_ns',\n",
      " 'tf_efficientnet_b2',\n",
      " 'tf_efficientnet_b2_ap',\n",
      " 'tf_efficientnet_b2_ns',\n",
      " 'tf_efficientnet_b3',\n",
      " 'tf_efficientnet_b3_ap',\n",
      " 'tf_efficientnet_b3_ns',\n",
      " 'tf_efficientnet_b4',\n",
      " 'tf_efficientnet_b4_ap',\n",
      " 'tf_efficientnet_b4_ns',\n",
      " 'tf_efficientnet_b5',\n",
      " 'tf_efficientnet_b5_ap',\n",
      " 'tf_efficientnet_b5_ns',\n",
      " 'tf_efficientnet_b6',\n",
      " 'tf_efficientnet_b6_ap',\n",
      " 'tf_efficientnet_b6_ns',\n",
      " 'tf_efficientnet_b7',\n",
      " 'tf_efficientnet_b7_ap',\n",
      " 'tf_efficientnet_b7_ns',\n",
      " 'tf_efficientnet_b8',\n",
      " 'tf_efficientnet_b8_ap',\n",
      " 'tf_efficientnet_cc_b0_4e',\n",
      " 'tf_efficientnet_cc_b0_8e',\n",
      " 'tf_efficientnet_cc_b1_8e',\n",
      " 'tf_efficientnet_el',\n",
      " 'tf_efficientnet_em',\n",
      " 'tf_efficientnet_es',\n",
      " 'tf_efficientnet_l2_ns',\n",
      " 'tf_efficientnet_l2_ns_475',\n",
      " 'tf_efficientnet_lite0',\n",
      " 'tf_efficientnet_lite1',\n",
      " 'tf_efficientnet_lite2',\n",
      " 'tf_efficientnet_lite3',\n",
      " 'tf_efficientnet_lite4',\n",
      " 'tf_inception_v3',\n",
      " 'tf_mixnet_l',\n",
      " 'tf_mixnet_m',\n",
      " 'tf_mixnet_s',\n",
      " 'tf_mobilenetv3_large_075',\n",
      " 'tf_mobilenetv3_large_100',\n",
      " 'tf_mobilenetv3_large_minimal_100',\n",
      " 'tf_mobilenetv3_small_075',\n",
      " 'tf_mobilenetv3_small_100',\n",
      " 'tf_mobilenetv3_small_minimal_100',\n",
      " 'tresnet_l',\n",
      " 'tresnet_l_448',\n",
      " 'tresnet_m',\n",
      " 'tresnet_m_448',\n",
      " 'tresnet_xl',\n",
      " 'tresnet_xl_448',\n",
      " 'tv_densenet121',\n",
      " 'tv_resnet34',\n",
      " 'tv_resnet50',\n",
      " 'tv_resnet101',\n",
      " 'tv_resnet152',\n",
      " 'tv_resnext50_32x4d',\n",
      " 'vit_base_patch16_224',\n",
      " 'vit_base_patch16_384',\n",
      " 'vit_base_patch32_384',\n",
      " 'vit_large_patch16_224',\n",
      " 'vit_large_patch16_384',\n",
      " 'vit_large_patch32_384',\n",
      " 'vit_small_patch16_224',\n",
      " 'wide_resnet50_2',\n",
      " 'wide_resnet101_2',\n",
      " 'xception',\n",
      " 'xception41',\n",
      " 'xception65',\n",
      " 'xception71']\n"
     ]
    }
   ],
   "source": [
    "# https://rwightman.github.io/pytorch-image-models/\n",
    "import timm\n",
    "from pprint import pprint\n",
    "model_names = timm.list_models(pretrained=True)\n",
    "pprint(model_names)\n",
    "\n",
    "# imagenetの精度一覧\n",
    "# https://sotabench.com/user/rwightman/repos/rwightman/pytorch-image-models"
   ]
  },
  {
   "cell_type": "code",
   "execution_count": 5,
   "metadata": {},
   "outputs": [
    {
     "name": "stdout",
     "output_type": "stream",
     "text": [
      "cleanlab version: 0.1.1\n"
     ]
    }
   ],
   "source": [
    "import os, sys\n",
    "if os.getcwd() in [\"/kaggle/working\", \"/content\"]:\n",
    "    sys.path.append(\"../input/cleanlab/\")\n",
    "import cleanlab\n",
    "from cleanlab.classification import LearningWithNoisyLabels\n",
    "print(\"cleanlab version:\", cleanlab.__version__)"
   ]
  },
  {
   "cell_type": "code",
   "execution_count": 6,
   "metadata": {},
   "outputs": [],
   "source": [
    "import os, sys\n",
    "if os.getcwd() in [\"/kaggle/working\", \"/content\"]:\n",
    "    if not os.path.exists('./kaggle_Cassava'):\n",
    "        !git clone https://github.com/riron1206/kaggle_Cassava.git    \n",
    "    sys.path.append(\"./kaggle_Cassava/code\")\n",
    "else:\n",
    "    #sys.path.append(r\"C:\\Users\\81908\\MyGitHub\\kaggle_Cassava\\code\")\n",
    "    sys.path.append(r\"C:\\Users\\shingo\\jupyter_notebook\\pytorch_lightning_work\\kaggle_Cassava\\kaggle_Cassava\\code\")\n",
    "\n",
    "from gem_pooling import GeM, GeMNet\n",
    "from bi_tempered_loss import BiTemperedLoss\n",
    "from symmetric_ce_loss import SymmetricCrossEntropyLoss\n",
    "from mix_aug import cutmix, fmix, snapmix, SnapMixLoss\n",
    "from sampling import minor_class_over_sample, imblearn_over_sampling, imblearn_under_sampling\n",
    "from my_lr_scheduler import _CosineAnnealingWarmupRestarts\n",
    "from balanced_batch_sampler import BalancedBatchSampler\n",
    "#from gradcam_util import GradcamUtil\n",
    "from util_torch import freeze_until, freeze_bn\n",
    "from visualize import visualize_transpose, show_images, show_pred_diff_images\n",
    "from sharpen import sharpen\n",
    "from dataset_normalize_param import dataset_normalize_param"
   ]
  },
  {
   "cell_type": "code",
   "execution_count": 7,
   "metadata": {},
   "outputs": [],
   "source": [
    "import os\n",
    "import random\n",
    "import torch\n",
    "\n",
    "\n",
    "def set_seed(seed: int=42) -> None:\n",
    "    np.random.seed(seed)\n",
    "    random.seed(seed)\n",
    "    os.environ['PYTHONHASHSEED'] = str(seed)\n",
    "    torch.backends.cudnn.benchmark = False\n",
    "    torch.backends.cudnn.deterministic = True\n",
    "    torch.manual_seed(seed)\n",
    "    torch.cuda.manual_seed(seed)\n",
    "    torch.cuda.manual_seed_all(seed)"
   ]
  },
  {
   "cell_type": "code",
   "execution_count": 8,
   "metadata": {},
   "outputs": [],
   "source": [
    "# https://www.kaggle.com/mekhdigakhramanian/pytorch-efficientnet-baseline-inference-tta/data?select=tf_efficientnet_b3_ns_fold_0_0\n",
    "import torch\n",
    "import numpy as np\n",
    "\n",
    "\n",
    "def inference_one_epoch(model, data_loader, device):\n",
    "    model.eval()\n",
    "    image_preds_all = []\n",
    "    with torch.no_grad():\n",
    "        for step, batch in enumerate(data_loader):\n",
    "            imgs = batch[\"x\"].to(device).float()\n",
    "            model = model.to(device)\n",
    "            image_preds = model(imgs)\n",
    "            image_preds_all += [torch.softmax(image_preds, 1).detach().cpu().numpy()]\n",
    "    image_preds_all = np.concatenate(image_preds_all, axis=0)\n",
    "    return image_preds_all"
   ]
  },
  {
   "cell_type": "code",
   "execution_count": 9,
   "metadata": {},
   "outputs": [],
   "source": [
    "import pickle\n",
    "import numpy as np\n",
    "import pandas as pd\n",
    "from sklearn.metrics import accuracy_score, log_loss\n",
    "from colorama import Fore\n",
    "r_ = Fore.RED\n",
    "b_ = Fore.BLUE\n",
    "y_ = Fore.YELLOW\n",
    "\n",
    "\n",
    "def check_oof(y):\n",
    "    Y_oof = pickle.load(open(f\"Y_pred.pkl\", 'rb'))\n",
    "    Y_tta_oof = pickle.load(open(f\"Y_pred_tta.pkl\", 'rb'))\n",
    "    oof = accuracy_score(y, Y_oof.values.argmax(1))\n",
    "    oof_tta = accuracy_score(y, Y_tta_oof.values.argmax(1))    \n",
    "    oof_loss = log_loss(y, Y_oof.values)\n",
    "    oof_loss_tta = log_loss(y, Y_tta_oof.values)\n",
    "    print(y_, f\"oof:\", round(oof, 4)) \n",
    "    print(y_, f\"oof_tta:\", round(oof_tta, 4))\n",
    "    print(y_, f\"oof_loss:\", round(oof_loss, 4))\n",
    "    print(y_, f\"oof_loss_tta:\", round(oof_loss_tta, 4))\n",
    "    return oof, oof_tta, oof_loss, oof_loss_tta"
   ]
  },
  {
   "cell_type": "code",
   "execution_count": 10,
   "metadata": {},
   "outputs": [
    {
     "name": "stdout",
     "output_type": "stream",
     "text": [
      "pytorch_lightning version: 1.1.0\n"
     ]
    }
   ],
   "source": [
    "import os\n",
    "import cv2\n",
    "import glob\n",
    "import random\n",
    "import shutil\n",
    "import pickle\n",
    "import json\n",
    "import yaml\n",
    "import pathlib\n",
    "from datetime import datetime\n",
    "\n",
    "import numpy as np\n",
    "import pandas as pd\n",
    "import matplotlib.pyplot as plt\n",
    "import seaborn as sns\n",
    "\n",
    "import torch\n",
    "import torch.nn as nn\n",
    "import torch.nn.functional as F\n",
    "import torch.optim as optim\n",
    "from torch.optim import lr_scheduler\n",
    "from torch.utils.data import DataLoader, Dataset\n",
    "from torch.cuda import amp\n",
    "\n",
    "import torchvision\n",
    "from torchvision import models\n",
    "\n",
    "from sklearn import metrics\n",
    "from sklearn.model_selection import StratifiedKFold\n",
    "\n",
    "from tqdm.notebook import tqdm\n",
    "from collections import defaultdict\n",
    "import albumentations as A\n",
    "from albumentations.pytorch import ToTensorV2\n",
    "\n",
    "import timm\n",
    "\n",
    "import wandb\n",
    "\n",
    "import pytorch_lightning as pl\n",
    "from pytorch_lightning.callbacks import ModelCheckpoint, EarlyStopping\n",
    "from pytorch_lightning.metrics.functional import accuracy\n",
    "from pytorch_lightning.loggers.wandb import WandbLogger\n",
    "\n",
    "import warnings\n",
    "\n",
    "warnings.filterwarnings(\"ignore\")\n",
    "\n",
    "print(\"pytorch_lightning version:\", pl.__version__)"
   ]
  },
  {
   "cell_type": "code",
   "execution_count": 11,
   "metadata": {},
   "outputs": [],
   "source": [
    "import os, shutil\n",
    "if os.path.exists(\"lightning_logs/\"):\n",
    "    shutil.rmtree(\"lightning_logs/\")\n",
    "    os.mkdir(\"lightning_logs/\")\n",
    "if os.path.exists(\"wandb/\"):\n",
    "    shutil.rmtree(\"wandb/\")"
   ]
  },
  {
   "cell_type": "markdown",
   "metadata": {},
   "source": [
    "# Data"
   ]
  },
  {
   "cell_type": "code",
   "execution_count": 12,
   "metadata": {},
   "outputs": [
    {
     "name": "stdout",
     "output_type": "stream",
     "text": [
      "{0: 'Cassava Bacterial Blight (CBB)', 1: 'Cassava Brown Streak Disease (CBSD)', 2: 'Cassava Green Mottle (CGM)', 3: 'Cassava Mosaic Disease (CMD)', 4: 'Healthy'}\n",
      "(21397, 9)\n"
     ]
    },
    {
     "data": {
      "text/html": [
       "<div>\n",
       "<style scoped>\n",
       "    .dataframe tbody tr th:only-of-type {\n",
       "        vertical-align: middle;\n",
       "    }\n",
       "\n",
       "    .dataframe tbody tr th {\n",
       "        vertical-align: top;\n",
       "    }\n",
       "\n",
       "    .dataframe thead th {\n",
       "        text-align: right;\n",
       "    }\n",
       "</style>\n",
       "<table border=\"1\" class=\"dataframe\">\n",
       "  <thead>\n",
       "    <tr style=\"text-align: right;\">\n",
       "      <th></th>\n",
       "      <th>image_id</th>\n",
       "      <th>label</th>\n",
       "      <th>file_path</th>\n",
       "      <th>Cassava Bacterial Blight (CBB)</th>\n",
       "      <th>Cassava Brown Streak Disease (CBSD)</th>\n",
       "      <th>Cassava Green Mottle (CGM)</th>\n",
       "      <th>Cassava Mosaic Disease (CMD)</th>\n",
       "      <th>Healthy</th>\n",
       "      <th>logit</th>\n",
       "    </tr>\n",
       "  </thead>\n",
       "  <tbody>\n",
       "    <tr>\n",
       "      <th>0</th>\n",
       "      <td>1000015157.jpg</td>\n",
       "      <td>0</td>\n",
       "      <td>C:\\Users\\shingo\\jupyter_notebook\\pytorch_light...</td>\n",
       "      <td>1.0</td>\n",
       "      <td>0.0</td>\n",
       "      <td>0.0</td>\n",
       "      <td>0.0</td>\n",
       "      <td>0.0</td>\n",
       "      <td>1.0</td>\n",
       "    </tr>\n",
       "    <tr>\n",
       "      <th>1</th>\n",
       "      <td>1000201771.jpg</td>\n",
       "      <td>3</td>\n",
       "      <td>C:\\Users\\shingo\\jupyter_notebook\\pytorch_light...</td>\n",
       "      <td>0.0</td>\n",
       "      <td>0.0</td>\n",
       "      <td>0.0</td>\n",
       "      <td>1.0</td>\n",
       "      <td>0.0</td>\n",
       "      <td>1.0</td>\n",
       "    </tr>\n",
       "    <tr>\n",
       "      <th>2</th>\n",
       "      <td>100042118.jpg</td>\n",
       "      <td>1</td>\n",
       "      <td>C:\\Users\\shingo\\jupyter_notebook\\pytorch_light...</td>\n",
       "      <td>0.0</td>\n",
       "      <td>1.0</td>\n",
       "      <td>0.0</td>\n",
       "      <td>0.0</td>\n",
       "      <td>0.0</td>\n",
       "      <td>1.0</td>\n",
       "    </tr>\n",
       "    <tr>\n",
       "      <th>3</th>\n",
       "      <td>1000723321.jpg</td>\n",
       "      <td>1</td>\n",
       "      <td>C:\\Users\\shingo\\jupyter_notebook\\pytorch_light...</td>\n",
       "      <td>0.0</td>\n",
       "      <td>1.0</td>\n",
       "      <td>0.0</td>\n",
       "      <td>0.0</td>\n",
       "      <td>0.0</td>\n",
       "      <td>1.0</td>\n",
       "    </tr>\n",
       "    <tr>\n",
       "      <th>4</th>\n",
       "      <td>1000812911.jpg</td>\n",
       "      <td>3</td>\n",
       "      <td>C:\\Users\\shingo\\jupyter_notebook\\pytorch_light...</td>\n",
       "      <td>0.0</td>\n",
       "      <td>0.0</td>\n",
       "      <td>0.0</td>\n",
       "      <td>1.0</td>\n",
       "      <td>0.0</td>\n",
       "      <td>1.0</td>\n",
       "    </tr>\n",
       "    <tr>\n",
       "      <th>...</th>\n",
       "      <td>...</td>\n",
       "      <td>...</td>\n",
       "      <td>...</td>\n",
       "      <td>...</td>\n",
       "      <td>...</td>\n",
       "      <td>...</td>\n",
       "      <td>...</td>\n",
       "      <td>...</td>\n",
       "      <td>...</td>\n",
       "    </tr>\n",
       "    <tr>\n",
       "      <th>21392</th>\n",
       "      <td>999068805.jpg</td>\n",
       "      <td>3</td>\n",
       "      <td>C:\\Users\\shingo\\jupyter_notebook\\pytorch_light...</td>\n",
       "      <td>0.0</td>\n",
       "      <td>0.0</td>\n",
       "      <td>0.0</td>\n",
       "      <td>1.0</td>\n",
       "      <td>0.0</td>\n",
       "      <td>1.0</td>\n",
       "    </tr>\n",
       "    <tr>\n",
       "      <th>21393</th>\n",
       "      <td>999329392.jpg</td>\n",
       "      <td>3</td>\n",
       "      <td>C:\\Users\\shingo\\jupyter_notebook\\pytorch_light...</td>\n",
       "      <td>0.0</td>\n",
       "      <td>0.0</td>\n",
       "      <td>0.0</td>\n",
       "      <td>1.0</td>\n",
       "      <td>0.0</td>\n",
       "      <td>1.0</td>\n",
       "    </tr>\n",
       "    <tr>\n",
       "      <th>21394</th>\n",
       "      <td>999474432.jpg</td>\n",
       "      <td>1</td>\n",
       "      <td>C:\\Users\\shingo\\jupyter_notebook\\pytorch_light...</td>\n",
       "      <td>0.0</td>\n",
       "      <td>1.0</td>\n",
       "      <td>0.0</td>\n",
       "      <td>0.0</td>\n",
       "      <td>0.0</td>\n",
       "      <td>1.0</td>\n",
       "    </tr>\n",
       "    <tr>\n",
       "      <th>21395</th>\n",
       "      <td>999616605.jpg</td>\n",
       "      <td>4</td>\n",
       "      <td>C:\\Users\\shingo\\jupyter_notebook\\pytorch_light...</td>\n",
       "      <td>0.0</td>\n",
       "      <td>0.0</td>\n",
       "      <td>0.0</td>\n",
       "      <td>0.0</td>\n",
       "      <td>1.0</td>\n",
       "      <td>1.0</td>\n",
       "    </tr>\n",
       "    <tr>\n",
       "      <th>21396</th>\n",
       "      <td>999998473.jpg</td>\n",
       "      <td>4</td>\n",
       "      <td>C:\\Users\\shingo\\jupyter_notebook\\pytorch_light...</td>\n",
       "      <td>0.0</td>\n",
       "      <td>0.0</td>\n",
       "      <td>0.0</td>\n",
       "      <td>0.0</td>\n",
       "      <td>1.0</td>\n",
       "      <td>1.0</td>\n",
       "    </tr>\n",
       "  </tbody>\n",
       "</table>\n",
       "<p>21397 rows × 9 columns</p>\n",
       "</div>"
      ],
      "text/plain": [
       "             image_id  label  \\\n",
       "0      1000015157.jpg      0   \n",
       "1      1000201771.jpg      3   \n",
       "2       100042118.jpg      1   \n",
       "3      1000723321.jpg      1   \n",
       "4      1000812911.jpg      3   \n",
       "...               ...    ...   \n",
       "21392   999068805.jpg      3   \n",
       "21393   999329392.jpg      3   \n",
       "21394   999474432.jpg      1   \n",
       "21395   999616605.jpg      4   \n",
       "21396   999998473.jpg      4   \n",
       "\n",
       "                                               file_path  \\\n",
       "0      C:\\Users\\shingo\\jupyter_notebook\\pytorch_light...   \n",
       "1      C:\\Users\\shingo\\jupyter_notebook\\pytorch_light...   \n",
       "2      C:\\Users\\shingo\\jupyter_notebook\\pytorch_light...   \n",
       "3      C:\\Users\\shingo\\jupyter_notebook\\pytorch_light...   \n",
       "4      C:\\Users\\shingo\\jupyter_notebook\\pytorch_light...   \n",
       "...                                                  ...   \n",
       "21392  C:\\Users\\shingo\\jupyter_notebook\\pytorch_light...   \n",
       "21393  C:\\Users\\shingo\\jupyter_notebook\\pytorch_light...   \n",
       "21394  C:\\Users\\shingo\\jupyter_notebook\\pytorch_light...   \n",
       "21395  C:\\Users\\shingo\\jupyter_notebook\\pytorch_light...   \n",
       "21396  C:\\Users\\shingo\\jupyter_notebook\\pytorch_light...   \n",
       "\n",
       "       Cassava Bacterial Blight (CBB)  Cassava Brown Streak Disease (CBSD)  \\\n",
       "0                                 1.0                                  0.0   \n",
       "1                                 0.0                                  0.0   \n",
       "2                                 0.0                                  1.0   \n",
       "3                                 0.0                                  1.0   \n",
       "4                                 0.0                                  0.0   \n",
       "...                               ...                                  ...   \n",
       "21392                             0.0                                  0.0   \n",
       "21393                             0.0                                  0.0   \n",
       "21394                             0.0                                  1.0   \n",
       "21395                             0.0                                  0.0   \n",
       "21396                             0.0                                  0.0   \n",
       "\n",
       "       Cassava Green Mottle (CGM)  Cassava Mosaic Disease (CMD)  Healthy  \\\n",
       "0                             0.0                           0.0      0.0   \n",
       "1                             0.0                           1.0      0.0   \n",
       "2                             0.0                           0.0      0.0   \n",
       "3                             0.0                           0.0      0.0   \n",
       "4                             0.0                           1.0      0.0   \n",
       "...                           ...                           ...      ...   \n",
       "21392                         0.0                           1.0      0.0   \n",
       "21393                         0.0                           1.0      0.0   \n",
       "21394                         0.0                           0.0      0.0   \n",
       "21395                         0.0                           0.0      1.0   \n",
       "21396                         0.0                           0.0      1.0   \n",
       "\n",
       "       logit  \n",
       "0        1.0  \n",
       "1        1.0  \n",
       "2        1.0  \n",
       "3        1.0  \n",
       "4        1.0  \n",
       "...      ...  \n",
       "21392    1.0  \n",
       "21393    1.0  \n",
       "21394    1.0  \n",
       "21395    1.0  \n",
       "21396    1.0  \n",
       "\n",
       "[21397 rows x 9 columns]"
      ]
     },
     "metadata": {},
     "output_type": "display_data"
    }
   ],
   "source": [
    "if os.getcwd() in \"/kaggle/working\":\n",
    "    ROOT_DIR = \"../input/cassava-leaf-disease-classification\"\n",
    "    TRAIN_DIR = \"../input/cassava-leaf-disease-classification/train_images\"\n",
    "    TEST_DIR = \"../input/cassava-leaf-disease-classification/test_images\"\n",
    "    \n",
    "elif os.getcwd() in \"/content\":\n",
    "    ROOT_DIR = \"/content/drive/MyDrive/competitions/cassava\"\n",
    "    TRAIN_DIR = \"/content/drive/MyDrive/competitions/cassava/train_images\"\n",
    "    TEST_DIR = \"/content/drive/MyDrive/competitions/cassava/test_images\"\n",
    "    \n",
    "else:\n",
    "    #OOT_DIR = r\"C:\\Users\\81908\\jupyter_notebook\\pytorch_lightning_work\\kaggle_Cassava\\input\\cassava-leaf-disease-classification\"\n",
    "    #RAIN_DIR = r\"C:\\Users\\81908\\jupyter_notebook\\pytorch_lightning_work\\kaggle_Cassava\\input\\cassava-leaf-disease-classification\\train_images\"\n",
    "    #EST_DIR = r\"C:\\Users\\81908\\jupyter_notebook\\pytorch_lightning_work\\kaggle_Cassava\\input\\cassava-leaf-disease-classification\\test_images\"\n",
    "    ROOT_DIR = r\"C:\\Users\\shingo\\jupyter_notebook\\pytorch_lightning_work\\kaggle_Cassava\\input\\cassava-leaf-disease-classification\"\n",
    "    TRAIN_DIR = r\"C:\\Users\\shingo\\jupyter_notebook\\pytorch_lightning_work\\kaggle_Cassava\\input\\cassava-leaf-disease-classification\\train_images\"\n",
    "    TEST_DIR = r\"C:\\Users\\shingo\\jupyter_notebook\\pytorch_lightning_work\\kaggle_Cassava\\input\\cassava-leaf-disease-classification\\test_images\"\n",
    "    \n",
    "with open(f\"{ROOT_DIR}/label_num_to_disease_map.json\", \"r\") as f:\n",
    "    name_mapping = json.load(f)\n",
    "name_mapping = {int(k): v for k, v in name_mapping.items()}\n",
    "print(name_mapping)\n",
    "\n",
    "\n",
    "df = pd.read_csv(f\"{ROOT_DIR}/train.csv\")\n",
    "df[\"file_path\"] = f\"{TRAIN_DIR}/\" + df[\"image_id\"]\n",
    "onehot_label = np.identity(len(name_mapping))[df[\"label\"].values]\n",
    "onehot_label = pd.DataFrame(onehot_label, columns=name_mapping.values())\n",
    "df = df.join(onehot_label)\n",
    "df[\"logit\"] = 1.0\n",
    "print(df.shape)\n",
    "display(df)\n",
    "\n",
    "\n",
    "test_df = pd.read_csv(f\"{ROOT_DIR}/sample_submission.csv\")\n",
    "test_df[\"file_path\"] = f\"{TEST_DIR}/\" + test_df[\"image_id\"]\n",
    "onehot_label = np.identity(len(name_mapping))[test_df[\"label\"].values]\n",
    "onehot_label = pd.DataFrame(onehot_label, columns=name_mapping.values())\n",
    "test_df = test_df.join(onehot_label)\n",
    "test_df[\"logit\"] = 1.0"
   ]
  },
  {
   "cell_type": "markdown",
   "metadata": {},
   "source": [
    "# Dataset, Lightning Data Module"
   ]
  },
  {
   "cell_type": "code",
   "execution_count": 13,
   "metadata": {},
   "outputs": [],
   "source": [
    "class CassavaDataset(Dataset):\n",
    "    def __init__(\n",
    "        self,\n",
    "        df: pd.DataFrame,\n",
    "        train: bool = True,\n",
    "        transforms=None,\n",
    "    ):\n",
    "        self.df = df\n",
    "        self.train = train\n",
    "        self.transforms = transforms\n",
    "\n",
    "    def __getitem__(self, index):\n",
    "        im_path = self.df.iloc[index][\"file_path\"]\n",
    "        x = cv2.imread(im_path, cv2.IMREAD_COLOR)\n",
    "        x = cv2.cvtColor(x, cv2.COLOR_BGR2RGB)\n",
    "\n",
    "        if self.transforms:\n",
    "            x = self.transforms(image=x)[\"image\"]\n",
    "\n",
    "        if self.train:\n",
    "            y = self.df.iloc[index][\"label\"]\n",
    "            y_soft = self.df.iloc[index][list(name_mapping.values())].values.astype(np.float32)\n",
    "            return {\"x\": x, \"y\": y, \"y_soft\": y_soft, \"index\": index}\n",
    "        else:\n",
    "            return {\"x\": x}\n",
    "\n",
    "    def __len__(self):\n",
    "        return len(self.df)\n",
    "\n",
    "\n",
    "class CassavaDataModule(pl.LightningDataModule):\n",
    "    def __init__(\n",
    "        self,\n",
    "        train_df,\n",
    "        valid_df,\n",
    "        data_transforms,\n",
    "        CFG,\n",
    "    ):\n",
    "        super().__init__()\n",
    "        self.train_df = train_df\n",
    "        self.valid_df = valid_df\n",
    "        self.data_transforms = data_transforms\n",
    "        self.CFG = CFG\n",
    "\n",
    "    def prepare_data(self):\n",
    "        pass\n",
    "\n",
    "    def setup(self, stage=None):\n",
    "        self.train_dataset = CassavaDataset(\n",
    "            self.train_df, train=True, transforms=self.data_transforms[\"train\"], \n",
    "        )\n",
    "\n",
    "        self.valid_dataset = CassavaDataset(\n",
    "            self.valid_df, train=True, transforms=self.data_transforms[\"valid\"],\n",
    "        )\n",
    "\n",
    "        self.valid_tta_dataset = CassavaDataset(\n",
    "            self.valid_df, train=True, transforms=self.data_transforms[\"test\"],\n",
    "        )  # test setのTTA条件\n",
    "\n",
    "    def train_dataloader(self):\n",
    "        if self.CFG.is_balanced_batch:\n",
    "            assert self.CFG.batch_size % self.CFG.n_classes == 0, 'batch_sizeはクラス数の整数倍にしないとダメ！！！'\n",
    "            \n",
    "            balanced_batch_sampler = BalancedBatchSampler(\n",
    "                self.train_dataset, self.train_df[\"label\"].values\n",
    "            )\n",
    "\n",
    "            train_loader = DataLoader(\n",
    "                self.train_dataset,\n",
    "                batch_size=self.CFG.batch_size,\n",
    "                num_workers=self.CFG.num_workers,\n",
    "                drop_last=True,\n",
    "                sampler=balanced_batch_sampler,\n",
    "            )\n",
    "        else:\n",
    "            train_loader = DataLoader(\n",
    "                self.train_dataset,\n",
    "                batch_size=self.CFG.batch_size,\n",
    "                num_workers=self.CFG.num_workers,\n",
    "                drop_last=True,\n",
    "                shuffle=True,\n",
    "            )\n",
    "\n",
    "        return train_loader\n",
    "\n",
    "    def val_dataloader(self):\n",
    "        return DataLoader(\n",
    "            self.valid_dataset,\n",
    "            batch_size=self.CFG.batch_size,\n",
    "            num_workers=self.CFG.num_workers,\n",
    "            shuffle=False,\n",
    "        )\n",
    "\n",
    "    def val_tta_dataloader(self):\n",
    "        return DataLoader(\n",
    "            self.valid_tta_dataset,\n",
    "            batch_size=self.CFG.batch_size,\n",
    "            num_workers=self.CFG.num_workers,\n",
    "            shuffle=False,\n",
    "        )"
   ]
  },
  {
   "cell_type": "markdown",
   "metadata": {},
   "source": [
    "# LightningModule"
   ]
  },
  {
   "cell_type": "code",
   "execution_count": 14,
   "metadata": {},
   "outputs": [],
   "source": [
    "class CassavaLite(pl.LightningModule):\n",
    "    def __init__(self):\n",
    "        super().__init__()\n",
    "\n",
    "        self.use_amp = True  # apex amp を有効にする(16-bit mixed precision) https://pytorch-lightning.readthedocs.io/en/stable/lightning_module.html\n",
    "\n",
    "        self.net = timm.create_model(CFG.arch, pretrained=True)\n",
    "        \n",
    "        if CFG.model_path is not None:\n",
    "            # 学習済みモデルファイル指定ある場合ロード\n",
    "            self.net.load_state_dict(torch.load(CFG.model_path))\n",
    "            print(\"load pth:\", CFG.model_path)\n",
    "\n",
    "        if \"eff\" in CFG.arch:\n",
    "            self.net.classifier = nn.Linear(\n",
    "                self.net.classifier.in_features, CFG.n_classes\n",
    "            )\n",
    "            if CFG.gem_p > 0.0:\n",
    "                self.net = GeMNet(\n",
    "                    list(self.net.children())[:-2],\n",
    "                    GeM(p=CFG.gem_p),\n",
    "                    self.net.classifier.in_features,\n",
    "                    CFG.n_classes,\n",
    "                )\n",
    "            self.feat_net = nn.Sequential(*list(self.net.children())[:-2])\n",
    "\n",
    "        elif \"rexnet\" in CFG.arch:\n",
    "            self.net.head.fc = nn.Linear(self.net.head.fc.in_features, CFG.n_classes)\n",
    "            if CFG.gem_p > 0.0:\n",
    "                self.net = GeMNet(\n",
    "                    list(self.net.children())[:-1],\n",
    "                    GeM(p=CFG.gem_p),\n",
    "                    self.net.head.fc.in_features,\n",
    "                    CFG.n_classes,\n",
    "                )\n",
    "            self.feat_net = nn.Sequential(*list(self.net.children())[:-1])\n",
    "\n",
    "        elif \"vit\" in CFG.arch:\n",
    "            self.net.head = nn.Linear(self.net.head.in_features, CFG.n_classes)\n",
    "            self.feat_net = nn.Sequential(*list(self.net.children())[:-1])\n",
    "\n",
    "        else:\n",
    "            self.net.fc = nn.Linear(self.net.fc.in_features, CFG.n_classes)\n",
    "            if CFG.gem_p > 0.0:\n",
    "                self.net = GeMNet(\n",
    "                    list(self.net.children())[:-2],\n",
    "                    GeM(p=CFG.gem_p),\n",
    "                    self.net.fc.in_features,\n",
    "                    CFG.n_classes,\n",
    "                )\n",
    "            self.feat_net = nn.Sequential(\n",
    "                *list(self.net.children())[:-2]\n",
    "            )  # global_poolとfc層除く\n",
    "\n",
    "\n",
    "    def forward(self, x):\n",
    "        out = self.net(x)\n",
    "        return out\n",
    "\n",
    "    def feat_forward(self, x):\n",
    "        \"\"\"全結合層の直前の予測値取得用\"\"\"\n",
    "        feat = self.feat_net(x)\n",
    "        return feat.detach()  # 「detach()」はTensor型から勾配情報を抜いたものを取得\n",
    "\n",
    "    def configure_optimizers(self):\n",
    "        param_groups = self.parameters()\n",
    "\n",
    "        if CFG.opt == \"adam\":\n",
    "            optimizer = torch.optim.Adam(\n",
    "                param_groups,\n",
    "                lr=CFG.lr,\n",
    "                weight_decay=CFG.weight_decay,\n",
    "                amsgrad=False,\n",
    "            )\n",
    "        elif CFG.opt == \"adabelief\":\n",
    "            optimizer = AdaBelief(\n",
    "                param_groups, lr=CFG.lr, weight_decay=CFG.weight_decay\n",
    "            )\n",
    "        elif CFG.opt == \"radam\":\n",
    "            optimizer = torch_optimizer.RAdam(\n",
    "                param_groups, lr=CFG.lr, weight_decay=CFG.weight_decay\n",
    "            )\n",
    "        else:\n",
    "            optimizer = torch.optim.AdamW(\n",
    "                param_groups, lr=CFG.lr, weight_decay=CFG.weight_decay\n",
    "            )\n",
    "\n",
    "        if CFG.lr_scheduler == \"CosineAnnealingLR\":\n",
    "            scheduler = torch.optim.lr_scheduler.CosineAnnealingLR(\n",
    "                optimizer, T_max=CFG.T_max, eta_min=CFG.min_lr\n",
    "            )\n",
    "        elif CFG.lr_scheduler == \"CosineAnnealingWarmRestarts\":\n",
    "            scheduler = torch.optim.lr_scheduler.CosineAnnealingWarmRestarts(\n",
    "                optimizer, T_0=CFG.T_max, T_mult=1, eta_min=CFG.min_lr\n",
    "            )\n",
    "        elif CFG.lr_scheduler == \"CosineAnnealingWarmUpRestarts\":\n",
    "            scheduler = _CosineAnnealingWarmupRestarts(\n",
    "                optimizer,\n",
    "                first_cycle_steps=CFG.max_epochs,\n",
    "                max_lr=CFG.lr,\n",
    "                min_lr=CFG.min_lr,\n",
    "                warmup_steps=1,\n",
    "            )\n",
    "        else:\n",
    "            scheduler = torch.optim.lr_scheduler.StepLR(\n",
    "                optimizer, step_size=2, gamma=0.1\n",
    "            )\n",
    "\n",
    "        return [optimizer], [scheduler]\n",
    "\n",
    "    def loss(self, y_hat, y, mix_decision):\n",
    "        if CFG.train_loss_name == \"SmoothCrossEntropyLoss\":\n",
    "            loss_fn = SmoothCrossEntropyLoss(smoothing=CFG.smoothing).to(CFG.device)\n",
    "        elif CFG.train_loss_name == \"FocalCosineLoss\":\n",
    "            loss_fn = FocalCosineLoss(smoothing=CFG.smoothing).to(CFG.device)\n",
    "        elif CFG.train_loss_name == \"BiTemperedLoss\":\n",
    "            # labelsmoothing と mix_aug を半々にする\n",
    "            # https://www.kaggle.com/c/cassava-leaf-disease-classification/discussion/209065\n",
    "            if mix_decision < CFG.mix_decision_th:\n",
    "                loss_fn = BiTemperedLoss(t1=CFG.t1, t2=CFG.t2, smoothing=0.0).to(CFG.device)\n",
    "            else:\n",
    "                loss_fn = BiTemperedLoss(t1=CFG.t1, t2=CFG.t2, smoothing=CFG.smoothing).to(CFG.device)\n",
    "        elif CFG.train_loss_name == \"SymmetricCrossEntropyLoss\":\n",
    "            if mix_decision < CFG.mix_decision_th:\n",
    "                loss_fn = SymmetricCrossEntropyLoss(\n",
    "                    num_classes=CFG.n_classes,\n",
    "                    alpha=CFG.symmetric_alpha,\n",
    "                    beta=CFG.symmetric_beta,\n",
    "                    smoothing=0.0).to(CFG.device)\n",
    "            else:\n",
    "                loss_fn = SymmetricCrossEntropyLoss(\n",
    "                    num_classes=CFG.n_classes,\n",
    "                    alpha=CFG.symmetric_alpha,\n",
    "                    beta=CFG.symmetric_beta,\n",
    "                    smoothing=CFG.smoothing).to(CFG.device)\n",
    "        elif CFG.train_loss_name == \"ElrLoss\":\n",
    "            loss_fn = ElrLoss(num_classes=CFG.n_classes).to(CFG.device)\n",
    "        else:\n",
    "            loss_fn = nn.CrossEntropyLoss().to(CFG.device)\n",
    "\n",
    "        # BiTemperedLoss, SymmetricCrossEntropyLoss はソフトラベル可能\n",
    "        return loss_fn(y_hat, y)\n",
    "\n",
    "    def training_step(self, batch, batch_idx):\n",
    "        x, y, y_soft, index = batch[\"x\"], batch[\"y\"], batch[\"y_soft\"], batch[\"index\"].detach().cpu().numpy()\n",
    "        #print(index, ordered_label_errors)\n",
    "\n",
    "        # -------- 画像表示 --------\n",
    "        if DEBUG:\n",
    "            try:\n",
    "                fig = plt.figure(figsize=(16, 16))\n",
    "                for i in range(5):\n",
    "                    print(\"y:\", y[i])\n",
    "                    ax = fig.add_subplot(1, 5, i + 1, xticks=[], yticks=[])\n",
    "                    im = x[i].to(\"cpu\").numpy().transpose(1, 2, 0)\n",
    "                    plt.imshow(im)\n",
    "                plt.show()\n",
    "                plt.clf()\n",
    "                plt.close()\n",
    "            except:\n",
    "                pass\n",
    "        # -------------------------\n",
    "\n",
    "        # cutmix/fmix/snapmix\n",
    "        mix_decision = np.random.rand()\n",
    "        if mix_decision < CFG.mix_decision_th or len(np.intersect1d(index, ordered_label_errors)) > 0:\n",
    "            if CFG.mixmethod == \"cutmix\":\n",
    "                #print(\"intersect1d index:\", len(np.intersect1d(index, ordered_label_errors)))\n",
    "                x, y_mixs = cutmix(x, y.long(), CFG.mix_alpha)\n",
    "                y_hat = self(x.float())\n",
    "                loss = self.loss(y_hat, y_mixs[0], mix_decision) * y_mixs[2] + self.loss(y_hat, y_mixs[1], mix_decision) * (1.0 - y_mixs[2])\n",
    "\n",
    "            elif CFG.mixmethod == \"fmix\":\n",
    "                x, y_mixs = fmix(\n",
    "                    x,\n",
    "                    y.long(),\n",
    "                    alpha=CFG.mix_alpha,\n",
    "                    decay_power=5.0,\n",
    "                    shape=(CFG.height, CFG.width),\n",
    "                )\n",
    "                y_hat = self(x.float())\n",
    "                loss = self.loss(y_hat, y_mixs[0], mix_decision) * y_mixs[2] + self.loss(y_hat, y_mixs[1], mix_decision) * (1.0 - y_mixs[2])\n",
    "\n",
    "            else:\n",
    "                y_hat = self(x.float())\n",
    "                if CFG.is_onehot_label:\n",
    "                    loss = self.loss(y_hat, y_soft, mix_decision)\n",
    "                else:\n",
    "                    loss = self.loss(y_hat, y, mix_decision)\n",
    "\n",
    "            # --- 画像表示（cutmix/fmix/snapmix確認用）---\n",
    "            if DEBUG:\n",
    "                try:\n",
    "                    print(\"mix_decision:\", mix_decision)\n",
    "                    fig = plt.figure(figsize=(16, 16))\n",
    "                    for i in range(5):\n",
    "                        print(\"y_hat:\", y_hat[i])\n",
    "                        ax = fig.add_subplot(1, 5, i + 1, xticks=[], yticks=[])\n",
    "                        im = x[i].to(\"cpu\").numpy().transpose(1, 2, 0)\n",
    "                        plt.imshow(im)\n",
    "                    plt.show()\n",
    "                    plt.clf()\n",
    "                    plt.close()\n",
    "                except:\n",
    "                    pass\n",
    "            # -----------------------------------------\n",
    "\n",
    "        else:\n",
    "            y_hat = self(x.float())\n",
    "            if CFG.is_onehot_label:\n",
    "                loss = self.loss(y_hat, y_soft, mix_decision)\n",
    "            else:\n",
    "                loss = self.loss(y_hat, y, mix_decision)\n",
    "\n",
    "        acc = accuracy(y_hat, y)\n",
    "\n",
    "        # on_epoch=Tureでepoch単位の平均値を記録する\n",
    "        # logger=Trueでtensorboardやwandbに記録する\n",
    "        self.log(\n",
    "            \"train_loss\", loss, on_step=False, on_epoch=True, prog_bar=True, logger=True\n",
    "        )\n",
    "        self.log(\n",
    "            \"train_acc\", acc, on_step=False, on_epoch=True, prog_bar=True, logger=True\n",
    "        )\n",
    "        return {\"loss\": loss, \"acc\": acc}\n",
    "\n",
    "    def validation_step(self, batch, batch_idx):\n",
    "        x, y, y_soft, _ = batch[\"x\"], batch[\"y\"], batch[\"y_soft\"], batch[\"index\"]\n",
    "        y_hat = self(x)\n",
    "        loss = nn.CrossEntropyLoss()(y_hat, y).to(CFG.device)\n",
    "        acc = accuracy(y_hat, y)\n",
    "        self.log(\"val_loss\", loss, on_epoch=True, prog_bar=True, logger=True)\n",
    "        self.log(\"val_acc\", acc, on_epoch=True, prog_bar=True, logger=True)\n",
    "        return {\"val_loss\": loss, \"val_acc\": acc}"
   ]
  },
  {
   "cell_type": "code",
   "execution_count": 15,
   "metadata": {},
   "outputs": [],
   "source": [
    "# https://www.kaggle.com/tmhrkt/cassava-cleanlab-with-efficientnet-b0/data\n",
    "# https://github.com/cgnorthcutt/cleanlab/blob/master/cleanlab/classification.py\n",
    "from sklearn.base import BaseEstimator\n",
    "\n",
    "\n",
    "class CleanlabTrainer(BaseEstimator):\n",
    "    \"\"\"\n",
    "    デフォルトのLearningWithNoisyLabels:確信度と正解ラベルから間違ったラベルの可能性が高いサンプルを除いて学習する\n",
    "    を使うために必要なクラス\n",
    "    \"\"\"\n",
    "    def __init__(self, trainer, pl_model, train_df, valid_df, data_transforms):\n",
    "        self.trainer = trainer\n",
    "        self.pl_model = pl_model\n",
    "        self.train_df = train_df\n",
    "        self.valid_df = valid_df\n",
    "        self.data_transforms = data_transforms\n",
    "\n",
    "    def fit(self, img_idx, _):\n",
    "        print(f\"Cleanlab train len: {self.train_df.shape[0]} -> {len(img_idx)}\")\n",
    "        train_df = self.train_df.loc[img_idx]\n",
    "        dm = CassavaDataModule(train_df, self.valid_df, data_transforms, CFG)\n",
    "        self.trainer.fit(self.pl_model, dm)\n",
    "        \n",
    "    def predict(self, img_idx):\n",
    "        pass\n",
    "    def predict_proba(self, img_idx):\n",
    "        pass\n",
    "    def score(self, img_idx, label, sample_weight = None):\n",
    "        pass"
   ]
  },
  {
   "cell_type": "markdown",
   "metadata": {},
   "source": [
    "# Train method"
   ]
  },
  {
   "cell_type": "code",
   "execution_count": 16,
   "metadata": {},
   "outputs": [],
   "source": [
    "def run_train(df, data_transforms, wandb_logger=None):\n",
    "    print(f\"df.shape:\", df.shape)\n",
    "    print(\"wandb_logger:\", wandb_logger)\n",
    "    print(f\"CFG: {CFG.__dict__}\")\n",
    "    \n",
    "    Y_pred = pd.DataFrame(\n",
    "        np.zeros((df.shape[0], CFG.n_classes)),\n",
    "        columns=name_mapping.values(),\n",
    "        index=df.index,\n",
    "    )\n",
    "    Y_pred_tta = Y_pred.copy()\n",
    "\n",
    "    for i in CFG.seeds:\n",
    "        set_seed(seed=i)\n",
    "        pl.seed_everything(i)\n",
    "\n",
    "        cv = StratifiedKFold(n_splits=CFG.n_splits, shuffle=CFG.shuffle, random_state=i)\n",
    "\n",
    "        for j, (train_idx, valid_idx) in enumerate(cv.split(df, df[\"label\"])):\n",
    "\n",
    "            if CFG.is_only_first_fold:\n",
    "                if j > 0:\n",
    "                    break\n",
    "\n",
    "            train_df, valid_df = df.iloc[train_idx], df.iloc[valid_idx]\n",
    "\n",
    "            if CFG.is_over_sample:\n",
    "                train_df = imblearn_over_sampling(\n",
    "                    train_df, train_df[\"label\"], random_state=i, is_plot=False\n",
    "                )\n",
    "            elif CFG.is_under_sample:\n",
    "                train_df = imblearn_under_sampling(\n",
    "                    train_df, train_df[\"label\"], random_state=i, is_plot=False\n",
    "                )\n",
    "            elif CFG.n_over > 0:\n",
    "                # マイナークラスのみover sampling\n",
    "                train_df = minor_class_over_sample(\n",
    "                    train_df, n_over=CFG.n_over, is_plot=False\n",
    "                )\n",
    "\n",
    "            if CFG.is_old_compe_train:\n",
    "                # 過去コンペのデータすべてtrainに入れる\n",
    "                train_df = train_df.append(old_compe_df, ignore_index=True)\n",
    "                \n",
    "            dm = CassavaDataModule(train_df, valid_df, data_transforms, CFG)\n",
    "\n",
    "            trainer_params = {\n",
    "                \"max_epochs\": CFG.max_epochs, \n",
    "                \"deterministic\": True  # cudaの乱数固定\n",
    "            }\n",
    "            trainer_params[\"accumulate_grad_batches\"] = CFG.accumulate_grad_batches  # 勾配をnバッチ分溜めてから誤差逆伝播\n",
    "            early_stopping = EarlyStopping(\"val_loss\", patience=CFG.patience)\n",
    "            if CFG.monitor == \"val_loss\":\n",
    "                model_checkpoint = ModelCheckpoint(monitor=\"val_loss\", save_top_k=1, mode=\"min\")\n",
    "            else:\n",
    "                model_checkpoint = ModelCheckpoint(monitor=\"val_acc\", save_top_k=1, mode=\"max\")\n",
    "            trainer_params[\"callbacks\"] = [model_checkpoint, early_stopping]\n",
    "\n",
    "            if device == \"cuda\":\n",
    "                trainer_params[\"gpus\"] = 1\n",
    "            if type(device) != str:\n",
    "                trainer_params[\"tpu_cores\"] = 1  # xm.xrt_world_size()\n",
    "                trainer_params[\"precision\"] = 16\n",
    "\n",
    "            if CFG.wandb_project is not None:\n",
    "                trainer = pl.Trainer(logger=wandb_logger, \n",
    "                                     **trainer_params)\n",
    "            else:\n",
    "                trainer = pl.Trainer(**trainer_params)\n",
    "                \n",
    "            if CFG.is_lr_find:\n",
    "                # 学習率探索\n",
    "                lr_finder = trainer.tuner.lr_find(CassavaLite(), dm)\n",
    "                suggested_lr = lr_finder.suggestion()\n",
    "                fig = lr_finder.plot()\n",
    "                plt.title(f\"suggested_lr: {suggested_lr}\")\n",
    "                fig.show()\n",
    "                fig.savefig(\"lr_finder.png\")\n",
    "                break\n",
    "                \n",
    "            elif CFG.is_cleanlab:\n",
    "                dm.setup()\n",
    "                clt = CleanlabTrainer(trainer, CassavaLite(), train_df, valid_df, data_transforms)\n",
    "                # デフォルトのLearningWithNoisyLabels:確信度と正解ラベルから間違ったラベルの可能性が高いサンプルを除いて学習する\n",
    "                lnl = LearningWithNoisyLabels(clf=clt, seed=i, n_jobs=os.cpu_count())\n",
    "                lnl.fit(train_idx, train_df[\"label\"].values, psx=psx[train_idx])\n",
    "            \n",
    "            else:\n",
    "                # 学習実行\n",
    "                trainer.fit(CassavaLite(), dm)\n",
    "            \n",
    "            \n",
    "            shutil.copy(\n",
    "                trainer.checkpoint_callback.best_model_path, f\"model_seed_{i}_fold_{j}.ckpt\"\n",
    "            )\n",
    "\n",
    "            # ---------- val predict ---------\n",
    "            pretrained_model = CassavaLite().load_from_checkpoint(\n",
    "                trainer.checkpoint_callback.best_model_path \n",
    "            )\n",
    "            with torch.no_grad():  # 勾配計算を無効してメモリ効率化\n",
    "                Y_pred.iloc[valid_idx] += inference_one_epoch(\n",
    "                    pretrained_model, dm.val_dataloader(), device\n",
    "                )\n",
    "            val_loss = metrics.log_loss(valid_df.label.values, Y_pred.iloc[valid_idx])\n",
    "            val_acc = (valid_df.label.values==np.argmax(Y_pred.iloc[valid_idx].values, axis=1)).mean()  \n",
    "            print(f\"fold {j} validation loss = {val_loss}\")\n",
    "            print(f\"fold {j} validation accuracy = {val_acc}\\n\")\n",
    "\n",
    "            with torch.no_grad():\n",
    "                for _ in range(CFG.n_tta):\n",
    "                    Y_pred_tta.iloc[valid_idx] += (\n",
    "                        inference_one_epoch(\n",
    "                            pretrained_model, dm.val_tta_dataloader(), device\n",
    "                        )\n",
    "                        / CFG.n_tta\n",
    "                    )\n",
    "            val_loss_tta = metrics.log_loss(valid_df.label.values, Y_pred_tta.iloc[valid_idx])\n",
    "            val_acc_tta = (valid_df.label.values==np.argmax(Y_pred_tta.iloc[valid_idx].values, axis=1)).mean()\n",
    "            print(f\"fold {j} validation tta loss = {val_loss_tta}\")\n",
    "            print(f\"fold {j} validation tta accuracy = {val_acc_tta}\\n\")\n",
    "\n",
    "            print(\"-\" * 100)\n",
    "\n",
    "            del pretrained_model\n",
    "            torch.cuda.empty_cache()  # 空いているキャッシュメモリを解放してGPUメモリの断片化を減らす\n",
    "\n",
    "    pickle.dump(Y_pred, open(\"Y_pred.pkl\", \"wb\"))\n",
    "    pickle.dump(Y_pred_tta, open(\"Y_pred_tta.pkl\", \"wb\"))\n",
    "    \n",
    "    if CFG.is_only_first_fold:\n",
    "        oof, oof_tta = val_acc, val_acc_tta\n",
    "        oof_loss, oof_loss_tta = val_loss, val_loss_tta\n",
    "    else:\n",
    "        oof, oof_tta, oof_loss, oof_loss_tta = check_oof(df[\"label\"].values)\n",
    "        \n",
    "    if wandb_logger is not None:\n",
    "        wandb_logger.log_metrics({\"oof\": oof, \"oof_tta\": oof_tta, \n",
    "                                  \"oof_loss\": oof_loss, \"oof_loss_tta\": oof_loss_tta})\n",
    "    \n",
    "    return oof, oof_tta, oof_loss, oof_loss_tta"
   ]
  },
  {
   "cell_type": "markdown",
   "metadata": {},
   "source": [
    "# Params"
   ]
  },
  {
   "cell_type": "code",
   "execution_count": 17,
   "metadata": {},
   "outputs": [
    {
     "name": "stderr",
     "output_type": "stream",
     "text": [
      "wandb: Currently logged in as: anonamename (use `wandb login --relogin` to force relogin)\n",
      "wandb: wandb version 0.10.14 is available!  To upgrade, please run:\n",
      "wandb:  $ pip install wandb --upgrade\n"
     ]
    },
    {
     "data": {
      "text/html": [
       "\n",
       "                Tracking run with wandb version 0.10.12<br/>\n",
       "                Syncing run <strong style=\"color:#cdcd00\">resnest101e_cleanlab_noise_cutmix_2021/01/17_08:37</strong> to <a href=\"https://wandb.ai\" target=\"_blank\">Weights & Biases</a> <a href=\"https://docs.wandb.com/integrations/jupyter.html\" target=\"_blank\">(Documentation)</a>.<br/>\n",
       "                Project page: <a href=\"https://wandb.ai/anonamename/kaggle_cassava\" target=\"_blank\">https://wandb.ai/anonamename/kaggle_cassava</a><br/>\n",
       "                Run page: <a href=\"https://wandb.ai/anonamename/kaggle_cassava/runs/jlz4xeid\" target=\"_blank\">https://wandb.ai/anonamename/kaggle_cassava/runs/jlz4xeid</a><br/>\n",
       "                Run data is saved locally in <code>C:\\Users\\shingo\\jupyter_notebook\\pytorch_lightning_work\\kaggle_Cassava\\notebook\\cleanlab_test\\20210117\\wandb\\run-20210117_083722-jlz4xeid</code><br/><br/>\n",
       "            "
      ],
      "text/plain": [
       "<IPython.core.display.HTML object>"
      ]
     },
     "metadata": {},
     "output_type": "display_data"
    }
   ],
   "source": [
    "max_epochs = 30\n",
    "class Config:\n",
    "    def __init__(self):\n",
    "        self.seeds = [0]\n",
    "        self.n_classes = 5\n",
    "        self.max_epochs = max_epochs\n",
    "        self.patience = 20\n",
    "        self.n_splits = 5\n",
    "        self.shuffle = True\n",
    "        #self.batch_size = 16\n",
    "        #self.accumulate_grad_batches = 1\n",
    "        self.batch_size = 4\n",
    "        self.accumulate_grad_batches = 4\n",
    "        self.height = 512\n",
    "        self.width = 512\n",
    "        self.arch = \"resnest101e\"\n",
    "        self.opt = \"adam\"\n",
    "        self.lr_scheduler = \"CosineAnnealingWarmRestarts\"\n",
    "        self.T_max = max_epochs\n",
    "        self.T_0 = max_epochs\n",
    "        self.lr = 1e-4\n",
    "        self.min_lr = 1e-6\n",
    "        self.weight_decay = 1e-6\n",
    "        self.smoothing = 0.2\n",
    "        self.train_loss_name = \"BiTemperedLoss\"\n",
    "        self.t1 = 0.8\n",
    "        self.t2 = 1.4\n",
    "        self.n_tta = 5\n",
    "        self.gem_p = 0  # GemPooling\n",
    "        #self.mix_decision_th = 0.5  # cutmixなどの発生確率\n",
    "        self.mix_decision_th = 0.0\n",
    "        self.mixmethod = \"cutmix\"\n",
    "        #self.mixmethod = \"\"\n",
    "        self.mix_alpha = 1.0\n",
    "        self.is_over_sample = False\n",
    "        self.is_under_sample = False\n",
    "        self.n_over = 0  # train set を倍々するか\n",
    "        self.is_only_first_fold = False  # 1foldだけ学習するか\n",
    "        self.is_onehot_label = False  # onehotの形式でラベル渡すか\n",
    "        self.is_balanced_batch = False  # balanced_batch 1epoch当たりのstep数は2倍以上になるので学習時間も増える\n",
    "        self.wandb_project = \"kaggle_cassava\"  # wandb\n",
    "        self.is_lr_find = False  # 学習率探索\n",
    "        self.is_old_compe_train = False  # 過去コンペのデータ追加\n",
    "        self.monitor = \"val_acc\"  # ModelCheckpoint\n",
    "        self.model_path = None  # 学習済みモデル\n",
    "        #self.is_cleanlab = True  # cleanlabでラベルノイズ除いて学習\n",
    "        self.is_cleanlab = False\n",
    "        self.device = device\n",
    "        self.num_workers = num_workers\n",
    "CFG = Config()\n",
    "\n",
    "\n",
    "#DEBUG = True\n",
    "DEBUG = False\n",
    "if DEBUG:\n",
    "    df = df.iloc[:150,]\n",
    "    CFG.n_splits = 2\n",
    "    CFG.max_epochs = 2\n",
    "    CFG.wandb_project = None\n",
    "    print(\"DEBUG:\", DEBUG)  \n",
    "\n",
    "with open(\"cfg.yaml\", \"w\") as wf:\n",
    "    yaml.dump(CFG.__dict__, wf)\n",
    "\n",
    "if CFG.wandb_project is not None:\n",
    "    # 環境変数 WANDB_API_KEY に API キーをセット  https://github.com/MLHPC/wandb_tutorial\n",
    "    os.environ['WANDB_API_KEY'] = \"ace10b29622f5bd54e16d665a4b7c485e2094353\"\n",
    "    wandb_logger = WandbLogger(name=f\"resnest101e_cleanlab_noise_cutmix_{str(datetime.now().strftime('%Y/%m/%d_%H:%M'))}\", project=CFG.wandb_project)\n",
    "    wandb_logger.log_hyperparams(params=CFG.__dict__)\n",
    "else:\n",
    "    wandb_logger = None"
   ]
  },
  {
   "cell_type": "code",
   "execution_count": 18,
   "metadata": {},
   "outputs": [],
   "source": [
    "data_transforms = {\n",
    "    \"train\": A.Compose(\n",
    "        [\n",
    "            #A.Resize(CFG.height, CFG.width),\n",
    "            A.RandomResizedCrop(CFG.height, CFG.width),\n",
    "            A.Transpose(p=0.5),\n",
    "            A.HorizontalFlip(p=0.5),\n",
    "            A.VerticalFlip(p=0.5),\n",
    "            A.ShiftScaleRotate(p=0.5),\n",
    "            A.HueSaturationValue(\n",
    "                hue_shift_limit=0.2, sat_shift_limit=0.2, val_shift_limit=0.2, p=0.5\n",
    "            ),\n",
    "            A.RandomBrightnessContrast(\n",
    "                brightness_limit=(-0.1, 0.1), contrast_limit=(-0.1, 0.1), p=0.5\n",
    "            ),\n",
    "            A.Normalize(\n",
    "                mean=[0.485, 0.456, 0.406], std=[0.229, 0.224, 0.225], max_pixel_value=255.0,\n",
    "                p=1.0,\n",
    "            ),\n",
    "            A.CoarseDropout(p=0.5),\n",
    "            A.Cutout(p=0.5),\n",
    "            ToTensorV2(),\n",
    "        ],\n",
    "        p=1.0,\n",
    "    ),\n",
    "    \"valid\": A.Compose(\n",
    "        [\n",
    "            #A.Resize(CFG.height, CFG.width),\n",
    "            A.CenterCrop(CFG.height, CFG.width, p=1.0),\n",
    "            A.Resize(CFG.height, CFG.width),\n",
    "            A.Normalize(\n",
    "                mean=[0.485, 0.456, 0.406], std=[0.229, 0.224, 0.225], max_pixel_value=255.0,\n",
    "                p=1.0,\n",
    "            ),\n",
    "            ToTensorV2(),\n",
    "        ],\n",
    "        p=1.0,\n",
    "    ),\n",
    "    \"test\": A.Compose(\n",
    "        [\n",
    "            #A.Resize(CFG.height, CFG.width),\n",
    "            A.RandomResizedCrop(CFG.height, CFG.width),\n",
    "            A.Transpose(p=0.5),\n",
    "            A.HorizontalFlip(p=0.5),\n",
    "            A.VerticalFlip(p=0.5),\n",
    "            A.ShiftScaleRotate(p=0.5),\n",
    "            A.HueSaturationValue(\n",
    "                hue_shift_limit=0.2, sat_shift_limit=0.2, val_shift_limit=0.2, p=0.5\n",
    "            ),\n",
    "            A.RandomBrightnessContrast(\n",
    "                brightness_limit=(-0.1, 0.1), contrast_limit=(-0.1, 0.1), p=0.5\n",
    "            ),\n",
    "            A.Normalize(\n",
    "                mean=[0.485, 0.456, 0.406], std=[0.229, 0.224, 0.225], max_pixel_value=255.0,\n",
    "                p=1.0,\n",
    "            ),\n",
    "            ToTensorV2(),\n",
    "        ],\n",
    "        p=1.0,\n",
    "    ),\n",
    "}"
   ]
  },
  {
   "cell_type": "code",
   "execution_count": 19,
   "metadata": {
    "collapsed": true,
    "jupyter": {
     "outputs_hidden": true
    }
   },
   "outputs": [
    {
     "name": "stdout",
     "output_type": "stream",
     "text": [
      "psx[:5]:\n",
      " [[0.32670903 0.27315822 0.18955815 0.0240465  0.18652811]\n",
      " [0.0220405  0.02488301 0.03302321 0.89232122 0.02773204]\n",
      " [0.02590043 0.18757203 0.04478519 0.08696566 0.65477669]\n",
      " [0.02125276 0.84890779 0.036876   0.05793967 0.03502378]\n",
      " [0.01874825 0.02320156 0.02486646 0.90723718 0.02594655]]\n",
      "psx.shape: (21397, 5)\n"
     ]
    },
    {
     "data": {
      "text/plain": [
       "array([15156,  1076, 15172,  2328,  4561, 12487, 16048, 21047,  2839,\n",
       "        1467,  6496,  3692, 17292, 14979, 15718, 14193, 14703,  3862,\n",
       "       20674,  6691,  6108, 19386,   834,  9132, 17950,  9125, 18416,\n",
       "        6981, 12280, 12787,  9675, 13433,  3837, 12960,  1937, 15939,\n",
       "       19013,  7531,  6356,  7884, 10024,  5023, 21088, 16423,  6660,\n",
       "       10410,  7007, 19816,  4624,  1046,  6450,  6013,  6727, 20340,\n",
       "       17596, 13822,  1355, 11216, 20621, 15051,  8602,  8964, 14100,\n",
       "       17982,  8172,  1296, 13750, 18181,  5807,  7374,  3332,   311,\n",
       "         815,  1585, 20044, 16108, 20924, 10824,  8226, 20110, 13786,\n",
       "        5623,  8708, 20727,  2569,  3182, 17861, 16150,  9782,  1668,\n",
       "        3061, 13024,  2327, 15531,  1135, 14199,  1808,  6620,  5340,\n",
       "       12884, 13044, 16412, 14140,  2100, 11666, 19589, 20679, 19264,\n",
       "       21314, 21092, 11873,  9188, 13373, 17622,   557, 11741,  3663,\n",
       "        3133,  1762, 20949, 15693, 20742,  1118,  3814,  3073, 20833,\n",
       "       10709,  9572, 12277, 10242, 17319, 18257,  5316,  2551,  5353,\n",
       "        4837, 18920, 17966, 16729,  2875, 12590,  7587,  5808,  4576,\n",
       "       20935, 10894, 13043,  8506, 21105,  4156,  2620,  2751, 12901,\n",
       "       21104, 19770, 12436, 19285,  3773,  8638,  9261,  7290, 18448,\n",
       "       16446, 12614, 13681, 14771,  6409,  4995, 16863, 20980,  3242,\n",
       "        8234,  3077,  5397,  1715,  4416, 17930, 13600,  7506, 16332,\n",
       "       21175, 19585, 12733, 13918,     8, 18593,  1000,  5387,  4403,\n",
       "        1037, 17193, 15283, 19885,  7366, 11972, 12874, 17689, 11328,\n",
       "       14080,  1727,  6487, 14247,  2995,  1846, 19283, 17285, 16294,\n",
       "       20845, 16821, 14569, 10308, 12589, 16043,  8434,  2518,  3620,\n",
       "        6398,  5109,  2878, 17865,  2491, 15222,  4203, 19260, 16773,\n",
       "       16140,  4723, 20997, 13579, 15685,  1143, 11871,  3683, 10149,\n",
       "       10841, 16394, 20785, 17706, 10886,  6202, 16887,  8618,  1381,\n",
       "       17558, 18037, 13128,  3475, 12659,  5072, 12676, 12113, 15212,\n",
       "       20556, 15723,  4487, 13971, 11411,  2749,   236, 20004, 18601,\n",
       "       10420, 21046, 19991,   434, 10642,  5439,  4601, 20003, 20443,\n",
       "       14423, 19912, 14525, 10441, 11152, 15404,  7469, 15547,  7322,\n",
       "       15605, 13336,  7471,  6916,   891, 17067, 15167,  9959, 11977,\n",
       "       16585,  8331,  8469,  6922, 11797,  6514, 21265,  2774, 13881,\n",
       "       15254, 12910,  5993, 19282,  6990,  7456,  1424,  5099, 15896,\n",
       "        1544, 12738,  3058,  8123,  3664, 16148, 13508, 11737, 13320,\n",
       "        4099,  9130, 14027, 16296,    72, 12654, 17534,  1344,  6905,\n",
       "        9724,  5916, 13097, 19952, 14581,  4472, 16827, 15523,  1827,\n",
       "       13048,  1446, 10956,  2647, 10314, 17579, 17658,  5463, 18339,\n",
       "        8533,  6633, 12194, 10795,  3336, 11770,  5182, 14764,  5143,\n",
       "       19281,  5219, 10851, 12694,  5771, 18159,  5665,  4572,  2235,\n",
       "       14667, 16000,  8468, 17151,  5870, 17924, 14005,  3165, 15328,\n",
       "       19886, 15436,  3196,  2051,  1375, 16017,  3554, 10978, 12087,\n",
       "        6684,  6462,  7230, 17781, 21167, 13833, 17919, 21396,  4639,\n",
       "       10942, 17497, 15652, 10887, 13242, 13062,  8076,  3840, 20162,\n",
       "       14690, 18389,  9237, 16390,   596, 21097, 11999,  7913, 21080,\n",
       "       15535, 15072,  9855,   693,  8888, 16018,  6109,  8189, 19685,\n",
       "       10676, 20077, 15482, 15570,  2241, 14521, 12307, 18245,  9744,\n",
       "        8826,  6663,  6767,  6755, 12561, 14725, 21318,  8944,  6211,\n",
       "       12002,   123, 11006, 12254,  7352,  8598,  4427,   811, 18647,\n",
       "       21144,   738,  5530,  2544, 17538, 16639,  4023,  3019, 17504,\n",
       "        4507, 15690, 13482,  5383, 20804,   894, 14978,  7785, 19122,\n",
       "       16369, 15927,  3119, 12780,  9041, 17503, 18628, 16265, 12271,\n",
       "        1315, 18305, 11121,  7233,  2265,  8302,  6035,  7058,  5018,\n",
       "        2826, 10482,  8104, 16417,  4025,  6761, 16036,  4644,  1509,\n",
       "       17129, 14828, 16185,  5817, 14456,  7495, 17205,  2469, 17909,\n",
       "       16549, 10545, 20840,  2280, 16440,  5885,  6733, 13769,  1098,\n",
       "        1831, 15938, 10836,  3489,  2031, 15184, 10597, 16020, 18596,\n",
       "        5477, 10190,  2901,  7930,  5393, 18675, 14297,  4883, 18524,\n",
       "        3148,  2254,  1725, 20555,  5726,  8512,  5953, 13444, 12210,\n",
       "       15298, 12018,  7435,  1495, 20822, 10480, 17476,  3967,  9053,\n",
       "        2151, 17200,  7218,  4357,  4776,  2860,  7331,  3640,  8582,\n",
       "       21117,   970, 12439,  3380,  2318, 20287,  4295,  7488, 18143,\n",
       "        2595,  7612,  4388,   713,  4384, 17111, 17998, 14345, 15632,\n",
       "       10423,     2,   321, 17472,  5368,   430,  5410,  5936,    61,\n",
       "       17085,  8755,   395, 17667, 17325,  8898, 13787, 10667,  3072,\n",
       "       14871, 18345,  4653, 10852, 18846, 20955, 13442, 14955, 14882,\n",
       "       16220,  7075, 10383, 19944, 14407,  4320,  3146,  3187, 12256,\n",
       "       10556, 13689,  9295,    28,  1132, 21338,   240, 16798,  8071,\n",
       "       15529,  8170,   765, 12513, 10996, 12481,  4874, 15150, 15049,\n",
       "       15774, 10599,  4769, 21322,   224, 10136,  7794,  5688,  8798,\n",
       "       14371, 20225, 11813,   532,  9109, 10517, 17263,   699,  5979,\n",
       "        2580, 19575, 12716, 16081,  4598,  7212, 16135, 15225,  2713,\n",
       "        6423,  1252, 15050, 12568,  4078, 12818, 21125, 14720,  7307,\n",
       "        5777,  5041,  1885, 20356, 10065, 12986, 18564, 12939,  1959,\n",
       "       17535,  1170, 13629,  2362,  9411,  2406, 10866,  8879, 19447,\n",
       "       18207,  7566, 15590, 14641,  8069,  8924, 13457,  5706, 18881,\n",
       "        1249,  1816, 20168, 21211, 10543,  1857, 11061, 17943, 15393,\n",
       "       14923,   187, 19622,  8911, 20112, 19370,  3044,  8406,  8860,\n",
       "       10985,  2187,  1513, 10627, 14361,  6593,  6270, 15998,  1023,\n",
       "        5391, 17433, 18308, 16317, 12931, 18235, 20285, 18230, 18160,\n",
       "       18102, 15895, 20336,  8795, 14997, 14291,  6913,  8024,  4917,\n",
       "        5784, 13340,  8617, 12343, 13738, 10766, 12054,  3186, 14123,\n",
       "        2066,  2401,  5733,  3169, 13326, 11332, 16572, 21217, 17565,\n",
       "       11036,  2426, 18376,  2053,  5616,  5507, 16502, 12602,  7691,\n",
       "       20791, 11619,  9379, 16794, 13254,  4131,  8486, 12135,  7289,\n",
       "       19981,  7048, 21337,   637, 18184, 12565, 18251, 16597, 20177,\n",
       "       21165,  1805, 16154,  9914, 12815,  7673, 14217, 20280,  5921,\n",
       "        1732,  8725,  8815,   972, 15105,  6039,  4716,  6362, 19136,\n",
       "       12653, 20852, 11952,  3820, 13093,  3005,  2376, 15360,  7924,\n",
       "        2403, 21082, 18511, 10845, 14112, 16354,  2795, 20085,   727,\n",
       "         853,  1795,  3359,   324, 14760, 18729, 13963, 17600, 19132,\n",
       "         338, 18275, 21252,  1181, 14156,  8357,  5713,  3619, 20705,\n",
       "        7615, 10793,   471,  9667,   186, 16921, 20780, 15268, 20633,\n",
       "        7756,  4287,  2655,   429,  9705,  2723, 17212, 14363, 16028,\n",
       "        4522, 13228,  3888, 19976,   456, 15787, 13011,  3237,  5088,\n",
       "       18392,  5054, 20755,   993, 13622, 13636,  4532,  6747, 11499,\n",
       "       14966, 10254, 14826, 20395, 20908, 11290, 12292,  4346, 14267,\n",
       "       10966, 20707, 13771, 18277,  6077, 18681,   570, 17321, 17769,\n",
       "          18,  4001,  1431, 18504, 15628, 20948, 18393, 12809,  5664,\n",
       "        1218,  5311, 15751,  3355, 15759, 10970,  7234, 12474,  1189,\n",
       "         473, 10395,  4933, 11173,  3940,  1739, 16255, 15341,  5930,\n",
       "        4455, 18710,  9264, 17802,  9339, 17554,  8542, 14175, 13331,\n",
       "       18617,  3177,  2087, 10728, 13584, 13439,  6703,  6318,  7138,\n",
       "        7323,   586, 16210, 15023,  1108, 18589,  3340, 18772, 10815,\n",
       "        9909,  8562, 20505,  6844, 18557,  5489,  3173, 16061, 18671,\n",
       "        1391, 10129, 13058, 15541, 19862,  2930,  4112,  2073,  5475,\n",
       "       15519,   132, 13824,  8154, 18214,  2876, 17913, 10732, 19596,\n",
       "       12426,  1283,  1021, 13907, 19715,  3906,  5782, 19429, 13002,\n",
       "       19513, 17025,  5249,  5166, 13644, 10385, 20324, 19682,  6043,\n",
       "       15205,  3844,   559,  5572, 19459,  7649, 11108,  8393, 20523,\n",
       "        7090,   988,  4964, 15984,  4946,  6240, 10470])"
      ]
     },
     "execution_count": 19,
     "metadata": {},
     "output_type": "execute_result"
    }
   ],
   "source": [
    "from cleanlab.pruning import get_noise_indices\n",
    "\n",
    "# 別モデルの予測確率 Cleanlabでノイズサンプル除くのに必要\n",
    "numpy_array_of_predicted_probabilities = np.zeros((df.shape[0], CFG.n_classes))\n",
    "m_dirs = [\n",
    "    #\"../input/cassava-efficientnetwithpytorchlightning/kaggle_upload_tf_efficientnet_b4_ns_BiTemperedLoss\",\n",
    "    #\"../input/cassava-vit-base-patch16-224-fit\",\n",
    "    #\"../input/cassava-efficientnetwithpytorchlightning/kaggle_upload_seresnext50_32x4d_cutmixfmix\",\n",
    "    r\"C:\\Users\\shingo\\jupyter_notebook\\pytorch_lightning_work\\kaggle_Cassava\\dl\\kaggle_upload_tf_efficientnet_b4_ns_BiTemperedLoss\",\n",
    "    r\"C:\\Users\\shingo\\jupyter_notebook\\pytorch_lightning_work\\kaggle_Cassava\\dl\\cassava_vit_base_patch16_224.fit\",\n",
    "    r\"C:\\Users\\shingo\\jupyter_notebook\\pytorch_lightning_work\\kaggle_Cassava\\dl\\kaggle_upload_seresnext50_32x4d_cutmixfmix\",\n",
    "]\n",
    "for m_dir in m_dirs:\n",
    "    pred = pickle.load(open(f\"{m_dir}/Y_pred_tta.pkl\", \"rb\"))\n",
    "    pred = pred.iloc[:df.shape[0]]\n",
    "    numpy_array_of_predicted_probabilities += pred.values / len(m_dirs)\n",
    "psx = numpy_array_of_predicted_probabilities\n",
    "print(\"psx[:5]:\\n\", psx[:5])\n",
    "print(\"psx.shape:\", psx.shape)\n",
    "\n",
    "\n",
    "ordered_label_errors = get_noise_indices(\n",
    "    s=df[\"label\"].values,\n",
    "    psx=psx,\n",
    "    prune_method=\"prune_by_noise_rate\",\n",
    "    sorted_index_method='normalized_margin', # label errors大きいidから順に返す これ無ければエラーかどうかのTrue/Falseを返す\n",
    ")\n",
    "ordered_label_errors"
   ]
  },
  {
   "cell_type": "markdown",
   "metadata": {},
   "source": [
    "# Run train"
   ]
  },
  {
   "cell_type": "code",
   "execution_count": 20,
   "metadata": {},
   "outputs": [
    {
     "name": "stderr",
     "output_type": "stream",
     "text": [
      "GPU available: True, used: True\n",
      "TPU available: None, using: 0 TPU cores\n",
      "LOCAL_RANK: 0 - CUDA_VISIBLE_DEVICES: [0]\n"
     ]
    },
    {
     "name": "stdout",
     "output_type": "stream",
     "text": [
      "df.shape: (21397, 9)\n",
      "wandb_logger: <pytorch_lightning.loggers.wandb.WandbLogger object at 0x0000021C06F75310>\n",
      "CFG: {'seeds': [0], 'n_classes': 5, 'max_epochs': 30, 'patience': 20, 'n_splits': 5, 'shuffle': True, 'batch_size': 4, 'accumulate_grad_batches': 4, 'height': 512, 'width': 512, 'arch': 'resnest101e', 'opt': 'adam', 'lr_scheduler': 'CosineAnnealingWarmRestarts', 'T_max': 30, 'T_0': 30, 'lr': 0.0001, 'min_lr': 1e-06, 'weight_decay': 1e-06, 'smoothing': 0.2, 'train_loss_name': 'BiTemperedLoss', 't1': 0.8, 't2': 1.4, 'n_tta': 5, 'gem_p': 0, 'mix_decision_th': 0.0, 'mixmethod': 'cutmix', 'mix_alpha': 1.0, 'is_over_sample': False, 'is_under_sample': False, 'n_over': 0, 'is_only_first_fold': False, 'is_onehot_label': False, 'is_balanced_batch': False, 'wandb_project': 'kaggle_cassava', 'is_lr_find': False, 'is_old_compe_train': False, 'monitor': 'val_acc', 'model_path': None, 'is_cleanlab': False, 'device': 'cuda', 'num_workers': 0}\n"
     ]
    },
    {
     "name": "stderr",
     "output_type": "stream",
     "text": [
      "\n",
      "  | Name     | Type       | Params\n",
      "----------------------------------------\n",
      "0 | net      | ResNet     | 46.2 M\n",
      "1 | feat_net | Sequential | 46.2 M\n",
      "----------------------------------------\n",
      "46.2 M    Trainable params\n",
      "0         Non-trainable params\n",
      "46.2 M    Total params\n"
     ]
    },
    {
     "data": {
      "application/vnd.jupyter.widget-view+json": {
       "model_id": "",
       "version_major": 2,
       "version_minor": 0
      },
      "text/plain": [
       "HBox(children=(HTML(value='Validation sanity check'), FloatProgress(value=1.0, bar_style='info', layout=Layout…"
      ]
     },
     "metadata": {},
     "output_type": "display_data"
    },
    {
     "data": {
      "application/vnd.jupyter.widget-view+json": {
       "model_id": "256697ef397544059550ea7b803b70a4",
       "version_major": 2,
       "version_minor": 0
      },
      "text/plain": [
       "HBox(children=(HTML(value='Training'), FloatProgress(value=1.0, bar_style='info', layout=Layout(flex='2'), max…"
      ]
     },
     "metadata": {},
     "output_type": "display_data"
    },
    {
     "data": {
      "application/vnd.jupyter.widget-view+json": {
       "model_id": "",
       "version_major": 2,
       "version_minor": 0
      },
      "text/plain": [
       "HBox(children=(HTML(value='Validating'), FloatProgress(value=1.0, bar_style='info', layout=Layout(flex='2'), m…"
      ]
     },
     "metadata": {},
     "output_type": "display_data"
    },
    {
     "data": {
      "application/vnd.jupyter.widget-view+json": {
       "model_id": "",
       "version_major": 2,
       "version_minor": 0
      },
      "text/plain": [
       "HBox(children=(HTML(value='Validating'), FloatProgress(value=1.0, bar_style='info', layout=Layout(flex='2'), m…"
      ]
     },
     "metadata": {},
     "output_type": "display_data"
    },
    {
     "data": {
      "application/vnd.jupyter.widget-view+json": {
       "model_id": "",
       "version_major": 2,
       "version_minor": 0
      },
      "text/plain": [
       "HBox(children=(HTML(value='Validating'), FloatProgress(value=1.0, bar_style='info', layout=Layout(flex='2'), m…"
      ]
     },
     "metadata": {},
     "output_type": "display_data"
    },
    {
     "data": {
      "application/vnd.jupyter.widget-view+json": {
       "model_id": "",
       "version_major": 2,
       "version_minor": 0
      },
      "text/plain": [
       "HBox(children=(HTML(value='Validating'), FloatProgress(value=1.0, bar_style='info', layout=Layout(flex='2'), m…"
      ]
     },
     "metadata": {},
     "output_type": "display_data"
    },
    {
     "data": {
      "application/vnd.jupyter.widget-view+json": {
       "model_id": "",
       "version_major": 2,
       "version_minor": 0
      },
      "text/plain": [
       "HBox(children=(HTML(value='Validating'), FloatProgress(value=1.0, bar_style='info', layout=Layout(flex='2'), m…"
      ]
     },
     "metadata": {},
     "output_type": "display_data"
    },
    {
     "data": {
      "application/vnd.jupyter.widget-view+json": {
       "model_id": "",
       "version_major": 2,
       "version_minor": 0
      },
      "text/plain": [
       "HBox(children=(HTML(value='Validating'), FloatProgress(value=1.0, bar_style='info', layout=Layout(flex='2'), m…"
      ]
     },
     "metadata": {},
     "output_type": "display_data"
    },
    {
     "data": {
      "application/vnd.jupyter.widget-view+json": {
       "model_id": "",
       "version_major": 2,
       "version_minor": 0
      },
      "text/plain": [
       "HBox(children=(HTML(value='Validating'), FloatProgress(value=1.0, bar_style='info', layout=Layout(flex='2'), m…"
      ]
     },
     "metadata": {},
     "output_type": "display_data"
    },
    {
     "data": {
      "application/vnd.jupyter.widget-view+json": {
       "model_id": "",
       "version_major": 2,
       "version_minor": 0
      },
      "text/plain": [
       "HBox(children=(HTML(value='Validating'), FloatProgress(value=1.0, bar_style='info', layout=Layout(flex='2'), m…"
      ]
     },
     "metadata": {},
     "output_type": "display_data"
    },
    {
     "data": {
      "application/vnd.jupyter.widget-view+json": {
       "model_id": "",
       "version_major": 2,
       "version_minor": 0
      },
      "text/plain": [
       "HBox(children=(HTML(value='Validating'), FloatProgress(value=1.0, bar_style='info', layout=Layout(flex='2'), m…"
      ]
     },
     "metadata": {},
     "output_type": "display_data"
    },
    {
     "data": {
      "application/vnd.jupyter.widget-view+json": {
       "model_id": "",
       "version_major": 2,
       "version_minor": 0
      },
      "text/plain": [
       "HBox(children=(HTML(value='Validating'), FloatProgress(value=1.0, bar_style='info', layout=Layout(flex='2'), m…"
      ]
     },
     "metadata": {},
     "output_type": "display_data"
    },
    {
     "data": {
      "application/vnd.jupyter.widget-view+json": {
       "model_id": "",
       "version_major": 2,
       "version_minor": 0
      },
      "text/plain": [
       "HBox(children=(HTML(value='Validating'), FloatProgress(value=1.0, bar_style='info', layout=Layout(flex='2'), m…"
      ]
     },
     "metadata": {},
     "output_type": "display_data"
    },
    {
     "data": {
      "application/vnd.jupyter.widget-view+json": {
       "model_id": "",
       "version_major": 2,
       "version_minor": 0
      },
      "text/plain": [
       "HBox(children=(HTML(value='Validating'), FloatProgress(value=1.0, bar_style='info', layout=Layout(flex='2'), m…"
      ]
     },
     "metadata": {},
     "output_type": "display_data"
    },
    {
     "data": {
      "application/vnd.jupyter.widget-view+json": {
       "model_id": "",
       "version_major": 2,
       "version_minor": 0
      },
      "text/plain": [
       "HBox(children=(HTML(value='Validating'), FloatProgress(value=1.0, bar_style='info', layout=Layout(flex='2'), m…"
      ]
     },
     "metadata": {},
     "output_type": "display_data"
    },
    {
     "data": {
      "application/vnd.jupyter.widget-view+json": {
       "model_id": "",
       "version_major": 2,
       "version_minor": 0
      },
      "text/plain": [
       "HBox(children=(HTML(value='Validating'), FloatProgress(value=1.0, bar_style='info', layout=Layout(flex='2'), m…"
      ]
     },
     "metadata": {},
     "output_type": "display_data"
    },
    {
     "data": {
      "application/vnd.jupyter.widget-view+json": {
       "model_id": "",
       "version_major": 2,
       "version_minor": 0
      },
      "text/plain": [
       "HBox(children=(HTML(value='Validating'), FloatProgress(value=1.0, bar_style='info', layout=Layout(flex='2'), m…"
      ]
     },
     "metadata": {},
     "output_type": "display_data"
    },
    {
     "data": {
      "application/vnd.jupyter.widget-view+json": {
       "model_id": "",
       "version_major": 2,
       "version_minor": 0
      },
      "text/plain": [
       "HBox(children=(HTML(value='Validating'), FloatProgress(value=1.0, bar_style='info', layout=Layout(flex='2'), m…"
      ]
     },
     "metadata": {},
     "output_type": "display_data"
    },
    {
     "data": {
      "application/vnd.jupyter.widget-view+json": {
       "model_id": "",
       "version_major": 2,
       "version_minor": 0
      },
      "text/plain": [
       "HBox(children=(HTML(value='Validating'), FloatProgress(value=1.0, bar_style='info', layout=Layout(flex='2'), m…"
      ]
     },
     "metadata": {},
     "output_type": "display_data"
    },
    {
     "data": {
      "application/vnd.jupyter.widget-view+json": {
       "model_id": "",
       "version_major": 2,
       "version_minor": 0
      },
      "text/plain": [
       "HBox(children=(HTML(value='Validating'), FloatProgress(value=1.0, bar_style='info', layout=Layout(flex='2'), m…"
      ]
     },
     "metadata": {},
     "output_type": "display_data"
    },
    {
     "data": {
      "application/vnd.jupyter.widget-view+json": {
       "model_id": "",
       "version_major": 2,
       "version_minor": 0
      },
      "text/plain": [
       "HBox(children=(HTML(value='Validating'), FloatProgress(value=1.0, bar_style='info', layout=Layout(flex='2'), m…"
      ]
     },
     "metadata": {},
     "output_type": "display_data"
    },
    {
     "data": {
      "application/vnd.jupyter.widget-view+json": {
       "model_id": "",
       "version_major": 2,
       "version_minor": 0
      },
      "text/plain": [
       "HBox(children=(HTML(value='Validating'), FloatProgress(value=1.0, bar_style='info', layout=Layout(flex='2'), m…"
      ]
     },
     "metadata": {},
     "output_type": "display_data"
    },
    {
     "data": {
      "application/vnd.jupyter.widget-view+json": {
       "model_id": "",
       "version_major": 2,
       "version_minor": 0
      },
      "text/plain": [
       "HBox(children=(HTML(value='Validating'), FloatProgress(value=1.0, bar_style='info', layout=Layout(flex='2'), m…"
      ]
     },
     "metadata": {},
     "output_type": "display_data"
    },
    {
     "data": {
      "application/vnd.jupyter.widget-view+json": {
       "model_id": "",
       "version_major": 2,
       "version_minor": 0
      },
      "text/plain": [
       "HBox(children=(HTML(value='Validating'), FloatProgress(value=1.0, bar_style='info', layout=Layout(flex='2'), m…"
      ]
     },
     "metadata": {},
     "output_type": "display_data"
    },
    {
     "data": {
      "application/vnd.jupyter.widget-view+json": {
       "model_id": "",
       "version_major": 2,
       "version_minor": 0
      },
      "text/plain": [
       "HBox(children=(HTML(value='Validating'), FloatProgress(value=1.0, bar_style='info', layout=Layout(flex='2'), m…"
      ]
     },
     "metadata": {},
     "output_type": "display_data"
    },
    {
     "data": {
      "application/vnd.jupyter.widget-view+json": {
       "model_id": "",
       "version_major": 2,
       "version_minor": 0
      },
      "text/plain": [
       "HBox(children=(HTML(value='Validating'), FloatProgress(value=1.0, bar_style='info', layout=Layout(flex='2'), m…"
      ]
     },
     "metadata": {},
     "output_type": "display_data"
    },
    {
     "data": {
      "application/vnd.jupyter.widget-view+json": {
       "model_id": "",
       "version_major": 2,
       "version_minor": 0
      },
      "text/plain": [
       "HBox(children=(HTML(value='Validating'), FloatProgress(value=1.0, bar_style='info', layout=Layout(flex='2'), m…"
      ]
     },
     "metadata": {},
     "output_type": "display_data"
    },
    {
     "data": {
      "application/vnd.jupyter.widget-view+json": {
       "model_id": "",
       "version_major": 2,
       "version_minor": 0
      },
      "text/plain": [
       "HBox(children=(HTML(value='Validating'), FloatProgress(value=1.0, bar_style='info', layout=Layout(flex='2'), m…"
      ]
     },
     "metadata": {},
     "output_type": "display_data"
    },
    {
     "data": {
      "application/vnd.jupyter.widget-view+json": {
       "model_id": "",
       "version_major": 2,
       "version_minor": 0
      },
      "text/plain": [
       "HBox(children=(HTML(value='Validating'), FloatProgress(value=1.0, bar_style='info', layout=Layout(flex='2'), m…"
      ]
     },
     "metadata": {},
     "output_type": "display_data"
    },
    {
     "data": {
      "application/vnd.jupyter.widget-view+json": {
       "model_id": "",
       "version_major": 2,
       "version_minor": 0
      },
      "text/plain": [
       "HBox(children=(HTML(value='Validating'), FloatProgress(value=1.0, bar_style='info', layout=Layout(flex='2'), m…"
      ]
     },
     "metadata": {},
     "output_type": "display_data"
    },
    {
     "data": {
      "application/vnd.jupyter.widget-view+json": {
       "model_id": "",
       "version_major": 2,
       "version_minor": 0
      },
      "text/plain": [
       "HBox(children=(HTML(value='Validating'), FloatProgress(value=1.0, bar_style='info', layout=Layout(flex='2'), m…"
      ]
     },
     "metadata": {},
     "output_type": "display_data"
    },
    {
     "data": {
      "application/vnd.jupyter.widget-view+json": {
       "model_id": "",
       "version_major": 2,
       "version_minor": 0
      },
      "text/plain": [
       "HBox(children=(HTML(value='Validating'), FloatProgress(value=1.0, bar_style='info', layout=Layout(flex='2'), m…"
      ]
     },
     "metadata": {},
     "output_type": "display_data"
    },
    {
     "name": "stdout",
     "output_type": "stream",
     "text": [
      "\n",
      "fold 0 validation loss = 0.35593196591115633\n",
      "fold 0 validation accuracy = 0.8960280373831776\n",
      "\n"
     ]
    },
    {
     "name": "stderr",
     "output_type": "stream",
     "text": [
      "GPU available: True, used: True\n",
      "TPU available: None, using: 0 TPU cores\n",
      "LOCAL_RANK: 0 - CUDA_VISIBLE_DEVICES: [0]\n"
     ]
    },
    {
     "name": "stdout",
     "output_type": "stream",
     "text": [
      "fold 0 validation tta loss = 0.3258425231503665\n",
      "fold 0 validation tta accuracy = 0.8964953271028038\n",
      "\n",
      "----------------------------------------------------------------------------------------------------\n"
     ]
    },
    {
     "name": "stderr",
     "output_type": "stream",
     "text": [
      "\n",
      "  | Name     | Type       | Params\n",
      "----------------------------------------\n",
      "0 | net      | ResNet     | 46.2 M\n",
      "1 | feat_net | Sequential | 46.2 M\n",
      "----------------------------------------\n",
      "46.2 M    Trainable params\n",
      "0         Non-trainable params\n",
      "46.2 M    Total params\n"
     ]
    },
    {
     "data": {
      "application/vnd.jupyter.widget-view+json": {
       "model_id": "",
       "version_major": 2,
       "version_minor": 0
      },
      "text/plain": [
       "HBox(children=(HTML(value='Validation sanity check'), FloatProgress(value=1.0, bar_style='info', layout=Layout…"
      ]
     },
     "metadata": {},
     "output_type": "display_data"
    },
    {
     "data": {
      "application/vnd.jupyter.widget-view+json": {
       "model_id": "3581240b416a498588eee4b83fe12581",
       "version_major": 2,
       "version_minor": 0
      },
      "text/plain": [
       "HBox(children=(HTML(value='Training'), FloatProgress(value=1.0, bar_style='info', layout=Layout(flex='2'), max…"
      ]
     },
     "metadata": {},
     "output_type": "display_data"
    },
    {
     "data": {
      "application/vnd.jupyter.widget-view+json": {
       "model_id": "",
       "version_major": 2,
       "version_minor": 0
      },
      "text/plain": [
       "HBox(children=(HTML(value='Validating'), FloatProgress(value=1.0, bar_style='info', layout=Layout(flex='2'), m…"
      ]
     },
     "metadata": {},
     "output_type": "display_data"
    },
    {
     "data": {
      "application/vnd.jupyter.widget-view+json": {
       "model_id": "",
       "version_major": 2,
       "version_minor": 0
      },
      "text/plain": [
       "HBox(children=(HTML(value='Validating'), FloatProgress(value=1.0, bar_style='info', layout=Layout(flex='2'), m…"
      ]
     },
     "metadata": {},
     "output_type": "display_data"
    },
    {
     "data": {
      "application/vnd.jupyter.widget-view+json": {
       "model_id": "",
       "version_major": 2,
       "version_minor": 0
      },
      "text/plain": [
       "HBox(children=(HTML(value='Validating'), FloatProgress(value=1.0, bar_style='info', layout=Layout(flex='2'), m…"
      ]
     },
     "metadata": {},
     "output_type": "display_data"
    },
    {
     "data": {
      "application/vnd.jupyter.widget-view+json": {
       "model_id": "",
       "version_major": 2,
       "version_minor": 0
      },
      "text/plain": [
       "HBox(children=(HTML(value='Validating'), FloatProgress(value=1.0, bar_style='info', layout=Layout(flex='2'), m…"
      ]
     },
     "metadata": {},
     "output_type": "display_data"
    },
    {
     "data": {
      "application/vnd.jupyter.widget-view+json": {
       "model_id": "",
       "version_major": 2,
       "version_minor": 0
      },
      "text/plain": [
       "HBox(children=(HTML(value='Validating'), FloatProgress(value=1.0, bar_style='info', layout=Layout(flex='2'), m…"
      ]
     },
     "metadata": {},
     "output_type": "display_data"
    },
    {
     "data": {
      "application/vnd.jupyter.widget-view+json": {
       "model_id": "",
       "version_major": 2,
       "version_minor": 0
      },
      "text/plain": [
       "HBox(children=(HTML(value='Validating'), FloatProgress(value=1.0, bar_style='info', layout=Layout(flex='2'), m…"
      ]
     },
     "metadata": {},
     "output_type": "display_data"
    },
    {
     "data": {
      "application/vnd.jupyter.widget-view+json": {
       "model_id": "",
       "version_major": 2,
       "version_minor": 0
      },
      "text/plain": [
       "HBox(children=(HTML(value='Validating'), FloatProgress(value=1.0, bar_style='info', layout=Layout(flex='2'), m…"
      ]
     },
     "metadata": {},
     "output_type": "display_data"
    },
    {
     "data": {
      "application/vnd.jupyter.widget-view+json": {
       "model_id": "",
       "version_major": 2,
       "version_minor": 0
      },
      "text/plain": [
       "HBox(children=(HTML(value='Validating'), FloatProgress(value=1.0, bar_style='info', layout=Layout(flex='2'), m…"
      ]
     },
     "metadata": {},
     "output_type": "display_data"
    },
    {
     "data": {
      "application/vnd.jupyter.widget-view+json": {
       "model_id": "",
       "version_major": 2,
       "version_minor": 0
      },
      "text/plain": [
       "HBox(children=(HTML(value='Validating'), FloatProgress(value=1.0, bar_style='info', layout=Layout(flex='2'), m…"
      ]
     },
     "metadata": {},
     "output_type": "display_data"
    },
    {
     "data": {
      "application/vnd.jupyter.widget-view+json": {
       "model_id": "",
       "version_major": 2,
       "version_minor": 0
      },
      "text/plain": [
       "HBox(children=(HTML(value='Validating'), FloatProgress(value=1.0, bar_style='info', layout=Layout(flex='2'), m…"
      ]
     },
     "metadata": {},
     "output_type": "display_data"
    },
    {
     "data": {
      "application/vnd.jupyter.widget-view+json": {
       "model_id": "",
       "version_major": 2,
       "version_minor": 0
      },
      "text/plain": [
       "HBox(children=(HTML(value='Validating'), FloatProgress(value=1.0, bar_style='info', layout=Layout(flex='2'), m…"
      ]
     },
     "metadata": {},
     "output_type": "display_data"
    },
    {
     "data": {
      "application/vnd.jupyter.widget-view+json": {
       "model_id": "",
       "version_major": 2,
       "version_minor": 0
      },
      "text/plain": [
       "HBox(children=(HTML(value='Validating'), FloatProgress(value=1.0, bar_style='info', layout=Layout(flex='2'), m…"
      ]
     },
     "metadata": {},
     "output_type": "display_data"
    },
    {
     "data": {
      "application/vnd.jupyter.widget-view+json": {
       "model_id": "",
       "version_major": 2,
       "version_minor": 0
      },
      "text/plain": [
       "HBox(children=(HTML(value='Validating'), FloatProgress(value=1.0, bar_style='info', layout=Layout(flex='2'), m…"
      ]
     },
     "metadata": {},
     "output_type": "display_data"
    },
    {
     "data": {
      "application/vnd.jupyter.widget-view+json": {
       "model_id": "",
       "version_major": 2,
       "version_minor": 0
      },
      "text/plain": [
       "HBox(children=(HTML(value='Validating'), FloatProgress(value=1.0, bar_style='info', layout=Layout(flex='2'), m…"
      ]
     },
     "metadata": {},
     "output_type": "display_data"
    },
    {
     "data": {
      "application/vnd.jupyter.widget-view+json": {
       "model_id": "",
       "version_major": 2,
       "version_minor": 0
      },
      "text/plain": [
       "HBox(children=(HTML(value='Validating'), FloatProgress(value=1.0, bar_style='info', layout=Layout(flex='2'), m…"
      ]
     },
     "metadata": {},
     "output_type": "display_data"
    },
    {
     "data": {
      "application/vnd.jupyter.widget-view+json": {
       "model_id": "",
       "version_major": 2,
       "version_minor": 0
      },
      "text/plain": [
       "HBox(children=(HTML(value='Validating'), FloatProgress(value=1.0, bar_style='info', layout=Layout(flex='2'), m…"
      ]
     },
     "metadata": {},
     "output_type": "display_data"
    },
    {
     "data": {
      "application/vnd.jupyter.widget-view+json": {
       "model_id": "",
       "version_major": 2,
       "version_minor": 0
      },
      "text/plain": [
       "HBox(children=(HTML(value='Validating'), FloatProgress(value=1.0, bar_style='info', layout=Layout(flex='2'), m…"
      ]
     },
     "metadata": {},
     "output_type": "display_data"
    },
    {
     "data": {
      "application/vnd.jupyter.widget-view+json": {
       "model_id": "",
       "version_major": 2,
       "version_minor": 0
      },
      "text/plain": [
       "HBox(children=(HTML(value='Validating'), FloatProgress(value=1.0, bar_style='info', layout=Layout(flex='2'), m…"
      ]
     },
     "metadata": {},
     "output_type": "display_data"
    },
    {
     "data": {
      "application/vnd.jupyter.widget-view+json": {
       "model_id": "",
       "version_major": 2,
       "version_minor": 0
      },
      "text/plain": [
       "HBox(children=(HTML(value='Validating'), FloatProgress(value=1.0, bar_style='info', layout=Layout(flex='2'), m…"
      ]
     },
     "metadata": {},
     "output_type": "display_data"
    },
    {
     "data": {
      "application/vnd.jupyter.widget-view+json": {
       "model_id": "",
       "version_major": 2,
       "version_minor": 0
      },
      "text/plain": [
       "HBox(children=(HTML(value='Validating'), FloatProgress(value=1.0, bar_style='info', layout=Layout(flex='2'), m…"
      ]
     },
     "metadata": {},
     "output_type": "display_data"
    },
    {
     "data": {
      "application/vnd.jupyter.widget-view+json": {
       "model_id": "",
       "version_major": 2,
       "version_minor": 0
      },
      "text/plain": [
       "HBox(children=(HTML(value='Validating'), FloatProgress(value=1.0, bar_style='info', layout=Layout(flex='2'), m…"
      ]
     },
     "metadata": {},
     "output_type": "display_data"
    },
    {
     "data": {
      "application/vnd.jupyter.widget-view+json": {
       "model_id": "",
       "version_major": 2,
       "version_minor": 0
      },
      "text/plain": [
       "HBox(children=(HTML(value='Validating'), FloatProgress(value=1.0, bar_style='info', layout=Layout(flex='2'), m…"
      ]
     },
     "metadata": {},
     "output_type": "display_data"
    },
    {
     "data": {
      "application/vnd.jupyter.widget-view+json": {
       "model_id": "",
       "version_major": 2,
       "version_minor": 0
      },
      "text/plain": [
       "HBox(children=(HTML(value='Validating'), FloatProgress(value=1.0, bar_style='info', layout=Layout(flex='2'), m…"
      ]
     },
     "metadata": {},
     "output_type": "display_data"
    },
    {
     "data": {
      "application/vnd.jupyter.widget-view+json": {
       "model_id": "",
       "version_major": 2,
       "version_minor": 0
      },
      "text/plain": [
       "HBox(children=(HTML(value='Validating'), FloatProgress(value=1.0, bar_style='info', layout=Layout(flex='2'), m…"
      ]
     },
     "metadata": {},
     "output_type": "display_data"
    },
    {
     "data": {
      "application/vnd.jupyter.widget-view+json": {
       "model_id": "",
       "version_major": 2,
       "version_minor": 0
      },
      "text/plain": [
       "HBox(children=(HTML(value='Validating'), FloatProgress(value=1.0, bar_style='info', layout=Layout(flex='2'), m…"
      ]
     },
     "metadata": {},
     "output_type": "display_data"
    },
    {
     "data": {
      "application/vnd.jupyter.widget-view+json": {
       "model_id": "",
       "version_major": 2,
       "version_minor": 0
      },
      "text/plain": [
       "HBox(children=(HTML(value='Validating'), FloatProgress(value=1.0, bar_style='info', layout=Layout(flex='2'), m…"
      ]
     },
     "metadata": {},
     "output_type": "display_data"
    },
    {
     "data": {
      "application/vnd.jupyter.widget-view+json": {
       "model_id": "",
       "version_major": 2,
       "version_minor": 0
      },
      "text/plain": [
       "HBox(children=(HTML(value='Validating'), FloatProgress(value=1.0, bar_style='info', layout=Layout(flex='2'), m…"
      ]
     },
     "metadata": {},
     "output_type": "display_data"
    },
    {
     "data": {
      "application/vnd.jupyter.widget-view+json": {
       "model_id": "",
       "version_major": 2,
       "version_minor": 0
      },
      "text/plain": [
       "HBox(children=(HTML(value='Validating'), FloatProgress(value=1.0, bar_style='info', layout=Layout(flex='2'), m…"
      ]
     },
     "metadata": {},
     "output_type": "display_data"
    },
    {
     "data": {
      "application/vnd.jupyter.widget-view+json": {
       "model_id": "",
       "version_major": 2,
       "version_minor": 0
      },
      "text/plain": [
       "HBox(children=(HTML(value='Validating'), FloatProgress(value=1.0, bar_style='info', layout=Layout(flex='2'), m…"
      ]
     },
     "metadata": {},
     "output_type": "display_data"
    },
    {
     "data": {
      "application/vnd.jupyter.widget-view+json": {
       "model_id": "",
       "version_major": 2,
       "version_minor": 0
      },
      "text/plain": [
       "HBox(children=(HTML(value='Validating'), FloatProgress(value=1.0, bar_style='info', layout=Layout(flex='2'), m…"
      ]
     },
     "metadata": {},
     "output_type": "display_data"
    },
    {
     "name": "stdout",
     "output_type": "stream",
     "text": [
      "\n",
      "fold 1 validation loss = 0.33433584312819215\n",
      "fold 1 validation accuracy = 0.8964953271028038\n",
      "\n"
     ]
    },
    {
     "name": "stderr",
     "output_type": "stream",
     "text": [
      "GPU available: True, used: True\n",
      "TPU available: None, using: 0 TPU cores\n",
      "LOCAL_RANK: 0 - CUDA_VISIBLE_DEVICES: [0]\n"
     ]
    },
    {
     "name": "stdout",
     "output_type": "stream",
     "text": [
      "fold 1 validation tta loss = 0.3117791999534135\n",
      "fold 1 validation tta accuracy = 0.8974299065420561\n",
      "\n",
      "----------------------------------------------------------------------------------------------------\n"
     ]
    },
    {
     "name": "stderr",
     "output_type": "stream",
     "text": [
      "\n",
      "  | Name     | Type       | Params\n",
      "----------------------------------------\n",
      "0 | net      | ResNet     | 46.2 M\n",
      "1 | feat_net | Sequential | 46.2 M\n",
      "----------------------------------------\n",
      "46.2 M    Trainable params\n",
      "0         Non-trainable params\n",
      "46.2 M    Total params\n"
     ]
    },
    {
     "data": {
      "application/vnd.jupyter.widget-view+json": {
       "model_id": "",
       "version_major": 2,
       "version_minor": 0
      },
      "text/plain": [
       "HBox(children=(HTML(value='Validation sanity check'), FloatProgress(value=1.0, bar_style='info', layout=Layout…"
      ]
     },
     "metadata": {},
     "output_type": "display_data"
    },
    {
     "data": {
      "application/vnd.jupyter.widget-view+json": {
       "model_id": "919a2e4fc46f45209c2cc12697166073",
       "version_major": 2,
       "version_minor": 0
      },
      "text/plain": [
       "HBox(children=(HTML(value='Training'), FloatProgress(value=1.0, bar_style='info', layout=Layout(flex='2'), max…"
      ]
     },
     "metadata": {},
     "output_type": "display_data"
    },
    {
     "data": {
      "application/vnd.jupyter.widget-view+json": {
       "model_id": "",
       "version_major": 2,
       "version_minor": 0
      },
      "text/plain": [
       "HBox(children=(HTML(value='Validating'), FloatProgress(value=1.0, bar_style='info', layout=Layout(flex='2'), m…"
      ]
     },
     "metadata": {},
     "output_type": "display_data"
    },
    {
     "data": {
      "application/vnd.jupyter.widget-view+json": {
       "model_id": "",
       "version_major": 2,
       "version_minor": 0
      },
      "text/plain": [
       "HBox(children=(HTML(value='Validating'), FloatProgress(value=1.0, bar_style='info', layout=Layout(flex='2'), m…"
      ]
     },
     "metadata": {},
     "output_type": "display_data"
    },
    {
     "data": {
      "application/vnd.jupyter.widget-view+json": {
       "model_id": "",
       "version_major": 2,
       "version_minor": 0
      },
      "text/plain": [
       "HBox(children=(HTML(value='Validating'), FloatProgress(value=1.0, bar_style='info', layout=Layout(flex='2'), m…"
      ]
     },
     "metadata": {},
     "output_type": "display_data"
    },
    {
     "data": {
      "application/vnd.jupyter.widget-view+json": {
       "model_id": "",
       "version_major": 2,
       "version_minor": 0
      },
      "text/plain": [
       "HBox(children=(HTML(value='Validating'), FloatProgress(value=1.0, bar_style='info', layout=Layout(flex='2'), m…"
      ]
     },
     "metadata": {},
     "output_type": "display_data"
    },
    {
     "data": {
      "application/vnd.jupyter.widget-view+json": {
       "model_id": "",
       "version_major": 2,
       "version_minor": 0
      },
      "text/plain": [
       "HBox(children=(HTML(value='Validating'), FloatProgress(value=1.0, bar_style='info', layout=Layout(flex='2'), m…"
      ]
     },
     "metadata": {},
     "output_type": "display_data"
    },
    {
     "data": {
      "application/vnd.jupyter.widget-view+json": {
       "model_id": "",
       "version_major": 2,
       "version_minor": 0
      },
      "text/plain": [
       "HBox(children=(HTML(value='Validating'), FloatProgress(value=1.0, bar_style='info', layout=Layout(flex='2'), m…"
      ]
     },
     "metadata": {},
     "output_type": "display_data"
    },
    {
     "data": {
      "application/vnd.jupyter.widget-view+json": {
       "model_id": "",
       "version_major": 2,
       "version_minor": 0
      },
      "text/plain": [
       "HBox(children=(HTML(value='Validating'), FloatProgress(value=1.0, bar_style='info', layout=Layout(flex='2'), m…"
      ]
     },
     "metadata": {},
     "output_type": "display_data"
    },
    {
     "data": {
      "application/vnd.jupyter.widget-view+json": {
       "model_id": "",
       "version_major": 2,
       "version_minor": 0
      },
      "text/plain": [
       "HBox(children=(HTML(value='Validating'), FloatProgress(value=1.0, bar_style='info', layout=Layout(flex='2'), m…"
      ]
     },
     "metadata": {},
     "output_type": "display_data"
    },
    {
     "data": {
      "application/vnd.jupyter.widget-view+json": {
       "model_id": "",
       "version_major": 2,
       "version_minor": 0
      },
      "text/plain": [
       "HBox(children=(HTML(value='Validating'), FloatProgress(value=1.0, bar_style='info', layout=Layout(flex='2'), m…"
      ]
     },
     "metadata": {},
     "output_type": "display_data"
    },
    {
     "data": {
      "application/vnd.jupyter.widget-view+json": {
       "model_id": "",
       "version_major": 2,
       "version_minor": 0
      },
      "text/plain": [
       "HBox(children=(HTML(value='Validating'), FloatProgress(value=1.0, bar_style='info', layout=Layout(flex='2'), m…"
      ]
     },
     "metadata": {},
     "output_type": "display_data"
    },
    {
     "data": {
      "application/vnd.jupyter.widget-view+json": {
       "model_id": "",
       "version_major": 2,
       "version_minor": 0
      },
      "text/plain": [
       "HBox(children=(HTML(value='Validating'), FloatProgress(value=1.0, bar_style='info', layout=Layout(flex='2'), m…"
      ]
     },
     "metadata": {},
     "output_type": "display_data"
    },
    {
     "data": {
      "application/vnd.jupyter.widget-view+json": {
       "model_id": "",
       "version_major": 2,
       "version_minor": 0
      },
      "text/plain": [
       "HBox(children=(HTML(value='Validating'), FloatProgress(value=1.0, bar_style='info', layout=Layout(flex='2'), m…"
      ]
     },
     "metadata": {},
     "output_type": "display_data"
    },
    {
     "data": {
      "application/vnd.jupyter.widget-view+json": {
       "model_id": "",
       "version_major": 2,
       "version_minor": 0
      },
      "text/plain": [
       "HBox(children=(HTML(value='Validating'), FloatProgress(value=1.0, bar_style='info', layout=Layout(flex='2'), m…"
      ]
     },
     "metadata": {},
     "output_type": "display_data"
    },
    {
     "data": {
      "application/vnd.jupyter.widget-view+json": {
       "model_id": "",
       "version_major": 2,
       "version_minor": 0
      },
      "text/plain": [
       "HBox(children=(HTML(value='Validating'), FloatProgress(value=1.0, bar_style='info', layout=Layout(flex='2'), m…"
      ]
     },
     "metadata": {},
     "output_type": "display_data"
    },
    {
     "data": {
      "application/vnd.jupyter.widget-view+json": {
       "model_id": "",
       "version_major": 2,
       "version_minor": 0
      },
      "text/plain": [
       "HBox(children=(HTML(value='Validating'), FloatProgress(value=1.0, bar_style='info', layout=Layout(flex='2'), m…"
      ]
     },
     "metadata": {},
     "output_type": "display_data"
    },
    {
     "data": {
      "application/vnd.jupyter.widget-view+json": {
       "model_id": "",
       "version_major": 2,
       "version_minor": 0
      },
      "text/plain": [
       "HBox(children=(HTML(value='Validating'), FloatProgress(value=1.0, bar_style='info', layout=Layout(flex='2'), m…"
      ]
     },
     "metadata": {},
     "output_type": "display_data"
    },
    {
     "data": {
      "application/vnd.jupyter.widget-view+json": {
       "model_id": "",
       "version_major": 2,
       "version_minor": 0
      },
      "text/plain": [
       "HBox(children=(HTML(value='Validating'), FloatProgress(value=1.0, bar_style='info', layout=Layout(flex='2'), m…"
      ]
     },
     "metadata": {},
     "output_type": "display_data"
    },
    {
     "data": {
      "application/vnd.jupyter.widget-view+json": {
       "model_id": "",
       "version_major": 2,
       "version_minor": 0
      },
      "text/plain": [
       "HBox(children=(HTML(value='Validating'), FloatProgress(value=1.0, bar_style='info', layout=Layout(flex='2'), m…"
      ]
     },
     "metadata": {},
     "output_type": "display_data"
    },
    {
     "data": {
      "application/vnd.jupyter.widget-view+json": {
       "model_id": "",
       "version_major": 2,
       "version_minor": 0
      },
      "text/plain": [
       "HBox(children=(HTML(value='Validating'), FloatProgress(value=1.0, bar_style='info', layout=Layout(flex='2'), m…"
      ]
     },
     "metadata": {},
     "output_type": "display_data"
    },
    {
     "data": {
      "application/vnd.jupyter.widget-view+json": {
       "model_id": "",
       "version_major": 2,
       "version_minor": 0
      },
      "text/plain": [
       "HBox(children=(HTML(value='Validating'), FloatProgress(value=1.0, bar_style='info', layout=Layout(flex='2'), m…"
      ]
     },
     "metadata": {},
     "output_type": "display_data"
    },
    {
     "data": {
      "application/vnd.jupyter.widget-view+json": {
       "model_id": "",
       "version_major": 2,
       "version_minor": 0
      },
      "text/plain": [
       "HBox(children=(HTML(value='Validating'), FloatProgress(value=1.0, bar_style='info', layout=Layout(flex='2'), m…"
      ]
     },
     "metadata": {},
     "output_type": "display_data"
    },
    {
     "data": {
      "application/vnd.jupyter.widget-view+json": {
       "model_id": "",
       "version_major": 2,
       "version_minor": 0
      },
      "text/plain": [
       "HBox(children=(HTML(value='Validating'), FloatProgress(value=1.0, bar_style='info', layout=Layout(flex='2'), m…"
      ]
     },
     "metadata": {},
     "output_type": "display_data"
    },
    {
     "data": {
      "application/vnd.jupyter.widget-view+json": {
       "model_id": "",
       "version_major": 2,
       "version_minor": 0
      },
      "text/plain": [
       "HBox(children=(HTML(value='Validating'), FloatProgress(value=1.0, bar_style='info', layout=Layout(flex='2'), m…"
      ]
     },
     "metadata": {},
     "output_type": "display_data"
    },
    {
     "name": "stdout",
     "output_type": "stream",
     "text": [
      "\n",
      "fold 2 validation loss = 0.3599737561763836\n",
      "fold 2 validation accuracy = 0.8917971488665576\n",
      "\n"
     ]
    },
    {
     "name": "stderr",
     "output_type": "stream",
     "text": [
      "GPU available: True, used: True\n",
      "TPU available: None, using: 0 TPU cores\n",
      "LOCAL_RANK: 0 - CUDA_VISIBLE_DEVICES: [0]\n"
     ]
    },
    {
     "name": "stdout",
     "output_type": "stream",
     "text": [
      "fold 2 validation tta loss = 0.32143911036588146\n",
      "fold 2 validation tta accuracy = 0.8960037391913999\n",
      "\n",
      "----------------------------------------------------------------------------------------------------\n"
     ]
    },
    {
     "name": "stderr",
     "output_type": "stream",
     "text": [
      "\n",
      "  | Name     | Type       | Params\n",
      "----------------------------------------\n",
      "0 | net      | ResNet     | 46.2 M\n",
      "1 | feat_net | Sequential | 46.2 M\n",
      "----------------------------------------\n",
      "46.2 M    Trainable params\n",
      "0         Non-trainable params\n",
      "46.2 M    Total params\n"
     ]
    },
    {
     "data": {
      "application/vnd.jupyter.widget-view+json": {
       "model_id": "",
       "version_major": 2,
       "version_minor": 0
      },
      "text/plain": [
       "HBox(children=(HTML(value='Validation sanity check'), FloatProgress(value=1.0, bar_style='info', layout=Layout…"
      ]
     },
     "metadata": {},
     "output_type": "display_data"
    },
    {
     "data": {
      "application/vnd.jupyter.widget-view+json": {
       "model_id": "2481787b391442fcb737ade7c4e2dab8",
       "version_major": 2,
       "version_minor": 0
      },
      "text/plain": [
       "HBox(children=(HTML(value='Training'), FloatProgress(value=1.0, bar_style='info', layout=Layout(flex='2'), max…"
      ]
     },
     "metadata": {},
     "output_type": "display_data"
    },
    {
     "data": {
      "application/vnd.jupyter.widget-view+json": {
       "model_id": "",
       "version_major": 2,
       "version_minor": 0
      },
      "text/plain": [
       "HBox(children=(HTML(value='Validating'), FloatProgress(value=1.0, bar_style='info', layout=Layout(flex='2'), m…"
      ]
     },
     "metadata": {},
     "output_type": "display_data"
    },
    {
     "data": {
      "application/vnd.jupyter.widget-view+json": {
       "model_id": "",
       "version_major": 2,
       "version_minor": 0
      },
      "text/plain": [
       "HBox(children=(HTML(value='Validating'), FloatProgress(value=1.0, bar_style='info', layout=Layout(flex='2'), m…"
      ]
     },
     "metadata": {},
     "output_type": "display_data"
    },
    {
     "data": {
      "application/vnd.jupyter.widget-view+json": {
       "model_id": "",
       "version_major": 2,
       "version_minor": 0
      },
      "text/plain": [
       "HBox(children=(HTML(value='Validating'), FloatProgress(value=1.0, bar_style='info', layout=Layout(flex='2'), m…"
      ]
     },
     "metadata": {},
     "output_type": "display_data"
    },
    {
     "data": {
      "application/vnd.jupyter.widget-view+json": {
       "model_id": "",
       "version_major": 2,
       "version_minor": 0
      },
      "text/plain": [
       "HBox(children=(HTML(value='Validating'), FloatProgress(value=1.0, bar_style='info', layout=Layout(flex='2'), m…"
      ]
     },
     "metadata": {},
     "output_type": "display_data"
    },
    {
     "data": {
      "application/vnd.jupyter.widget-view+json": {
       "model_id": "",
       "version_major": 2,
       "version_minor": 0
      },
      "text/plain": [
       "HBox(children=(HTML(value='Validating'), FloatProgress(value=1.0, bar_style='info', layout=Layout(flex='2'), m…"
      ]
     },
     "metadata": {},
     "output_type": "display_data"
    },
    {
     "data": {
      "application/vnd.jupyter.widget-view+json": {
       "model_id": "",
       "version_major": 2,
       "version_minor": 0
      },
      "text/plain": [
       "HBox(children=(HTML(value='Validating'), FloatProgress(value=1.0, bar_style='info', layout=Layout(flex='2'), m…"
      ]
     },
     "metadata": {},
     "output_type": "display_data"
    },
    {
     "data": {
      "application/vnd.jupyter.widget-view+json": {
       "model_id": "",
       "version_major": 2,
       "version_minor": 0
      },
      "text/plain": [
       "HBox(children=(HTML(value='Validating'), FloatProgress(value=1.0, bar_style='info', layout=Layout(flex='2'), m…"
      ]
     },
     "metadata": {},
     "output_type": "display_data"
    },
    {
     "data": {
      "application/vnd.jupyter.widget-view+json": {
       "model_id": "",
       "version_major": 2,
       "version_minor": 0
      },
      "text/plain": [
       "HBox(children=(HTML(value='Validating'), FloatProgress(value=1.0, bar_style='info', layout=Layout(flex='2'), m…"
      ]
     },
     "metadata": {},
     "output_type": "display_data"
    },
    {
     "data": {
      "application/vnd.jupyter.widget-view+json": {
       "model_id": "",
       "version_major": 2,
       "version_minor": 0
      },
      "text/plain": [
       "HBox(children=(HTML(value='Validating'), FloatProgress(value=1.0, bar_style='info', layout=Layout(flex='2'), m…"
      ]
     },
     "metadata": {},
     "output_type": "display_data"
    },
    {
     "data": {
      "application/vnd.jupyter.widget-view+json": {
       "model_id": "",
       "version_major": 2,
       "version_minor": 0
      },
      "text/plain": [
       "HBox(children=(HTML(value='Validating'), FloatProgress(value=1.0, bar_style='info', layout=Layout(flex='2'), m…"
      ]
     },
     "metadata": {},
     "output_type": "display_data"
    },
    {
     "data": {
      "application/vnd.jupyter.widget-view+json": {
       "model_id": "",
       "version_major": 2,
       "version_minor": 0
      },
      "text/plain": [
       "HBox(children=(HTML(value='Validating'), FloatProgress(value=1.0, bar_style='info', layout=Layout(flex='2'), m…"
      ]
     },
     "metadata": {},
     "output_type": "display_data"
    },
    {
     "data": {
      "application/vnd.jupyter.widget-view+json": {
       "model_id": "",
       "version_major": 2,
       "version_minor": 0
      },
      "text/plain": [
       "HBox(children=(HTML(value='Validating'), FloatProgress(value=1.0, bar_style='info', layout=Layout(flex='2'), m…"
      ]
     },
     "metadata": {},
     "output_type": "display_data"
    },
    {
     "data": {
      "application/vnd.jupyter.widget-view+json": {
       "model_id": "",
       "version_major": 2,
       "version_minor": 0
      },
      "text/plain": [
       "HBox(children=(HTML(value='Validating'), FloatProgress(value=1.0, bar_style='info', layout=Layout(flex='2'), m…"
      ]
     },
     "metadata": {},
     "output_type": "display_data"
    },
    {
     "data": {
      "application/vnd.jupyter.widget-view+json": {
       "model_id": "",
       "version_major": 2,
       "version_minor": 0
      },
      "text/plain": [
       "HBox(children=(HTML(value='Validating'), FloatProgress(value=1.0, bar_style='info', layout=Layout(flex='2'), m…"
      ]
     },
     "metadata": {},
     "output_type": "display_data"
    },
    {
     "data": {
      "application/vnd.jupyter.widget-view+json": {
       "model_id": "",
       "version_major": 2,
       "version_minor": 0
      },
      "text/plain": [
       "HBox(children=(HTML(value='Validating'), FloatProgress(value=1.0, bar_style='info', layout=Layout(flex='2'), m…"
      ]
     },
     "metadata": {},
     "output_type": "display_data"
    },
    {
     "data": {
      "application/vnd.jupyter.widget-view+json": {
       "model_id": "",
       "version_major": 2,
       "version_minor": 0
      },
      "text/plain": [
       "HBox(children=(HTML(value='Validating'), FloatProgress(value=1.0, bar_style='info', layout=Layout(flex='2'), m…"
      ]
     },
     "metadata": {},
     "output_type": "display_data"
    },
    {
     "data": {
      "application/vnd.jupyter.widget-view+json": {
       "model_id": "",
       "version_major": 2,
       "version_minor": 0
      },
      "text/plain": [
       "HBox(children=(HTML(value='Validating'), FloatProgress(value=1.0, bar_style='info', layout=Layout(flex='2'), m…"
      ]
     },
     "metadata": {},
     "output_type": "display_data"
    },
    {
     "data": {
      "application/vnd.jupyter.widget-view+json": {
       "model_id": "",
       "version_major": 2,
       "version_minor": 0
      },
      "text/plain": [
       "HBox(children=(HTML(value='Validating'), FloatProgress(value=1.0, bar_style='info', layout=Layout(flex='2'), m…"
      ]
     },
     "metadata": {},
     "output_type": "display_data"
    },
    {
     "data": {
      "application/vnd.jupyter.widget-view+json": {
       "model_id": "",
       "version_major": 2,
       "version_minor": 0
      },
      "text/plain": [
       "HBox(children=(HTML(value='Validating'), FloatProgress(value=1.0, bar_style='info', layout=Layout(flex='2'), m…"
      ]
     },
     "metadata": {},
     "output_type": "display_data"
    },
    {
     "data": {
      "application/vnd.jupyter.widget-view+json": {
       "model_id": "",
       "version_major": 2,
       "version_minor": 0
      },
      "text/plain": [
       "HBox(children=(HTML(value='Validating'), FloatProgress(value=1.0, bar_style='info', layout=Layout(flex='2'), m…"
      ]
     },
     "metadata": {},
     "output_type": "display_data"
    },
    {
     "data": {
      "application/vnd.jupyter.widget-view+json": {
       "model_id": "",
       "version_major": 2,
       "version_minor": 0
      },
      "text/plain": [
       "HBox(children=(HTML(value='Validating'), FloatProgress(value=1.0, bar_style='info', layout=Layout(flex='2'), m…"
      ]
     },
     "metadata": {},
     "output_type": "display_data"
    },
    {
     "data": {
      "application/vnd.jupyter.widget-view+json": {
       "model_id": "",
       "version_major": 2,
       "version_minor": 0
      },
      "text/plain": [
       "HBox(children=(HTML(value='Validating'), FloatProgress(value=1.0, bar_style='info', layout=Layout(flex='2'), m…"
      ]
     },
     "metadata": {},
     "output_type": "display_data"
    },
    {
     "data": {
      "application/vnd.jupyter.widget-view+json": {
       "model_id": "",
       "version_major": 2,
       "version_minor": 0
      },
      "text/plain": [
       "HBox(children=(HTML(value='Validating'), FloatProgress(value=1.0, bar_style='info', layout=Layout(flex='2'), m…"
      ]
     },
     "metadata": {},
     "output_type": "display_data"
    },
    {
     "name": "stdout",
     "output_type": "stream",
     "text": [
      "\n",
      "fold 3 validation loss = 0.3513953303126179\n",
      "fold 3 validation accuracy = 0.8967048375788735\n",
      "\n"
     ]
    },
    {
     "name": "stderr",
     "output_type": "stream",
     "text": [
      "GPU available: True, used: True\n",
      "TPU available: None, using: 0 TPU cores\n",
      "LOCAL_RANK: 0 - CUDA_VISIBLE_DEVICES: [0]\n"
     ]
    },
    {
     "name": "stdout",
     "output_type": "stream",
     "text": [
      "fold 3 validation tta loss = 0.3176385218599501\n",
      "fold 3 validation tta accuracy = 0.8964711381163823\n",
      "\n",
      "----------------------------------------------------------------------------------------------------\n"
     ]
    },
    {
     "name": "stderr",
     "output_type": "stream",
     "text": [
      "\n",
      "  | Name     | Type       | Params\n",
      "----------------------------------------\n",
      "0 | net      | ResNet     | 46.2 M\n",
      "1 | feat_net | Sequential | 46.2 M\n",
      "----------------------------------------\n",
      "46.2 M    Trainable params\n",
      "0         Non-trainable params\n",
      "46.2 M    Total params\n"
     ]
    },
    {
     "data": {
      "application/vnd.jupyter.widget-view+json": {
       "model_id": "",
       "version_major": 2,
       "version_minor": 0
      },
      "text/plain": [
       "HBox(children=(HTML(value='Validation sanity check'), FloatProgress(value=1.0, bar_style='info', layout=Layout…"
      ]
     },
     "metadata": {},
     "output_type": "display_data"
    },
    {
     "data": {
      "application/vnd.jupyter.widget-view+json": {
       "model_id": "52b0d367d09f4dfd8f6be14129de392d",
       "version_major": 2,
       "version_minor": 0
      },
      "text/plain": [
       "HBox(children=(HTML(value='Training'), FloatProgress(value=1.0, bar_style='info', layout=Layout(flex='2'), max…"
      ]
     },
     "metadata": {},
     "output_type": "display_data"
    },
    {
     "data": {
      "application/vnd.jupyter.widget-view+json": {
       "model_id": "",
       "version_major": 2,
       "version_minor": 0
      },
      "text/plain": [
       "HBox(children=(HTML(value='Validating'), FloatProgress(value=1.0, bar_style='info', layout=Layout(flex='2'), m…"
      ]
     },
     "metadata": {},
     "output_type": "display_data"
    },
    {
     "data": {
      "application/vnd.jupyter.widget-view+json": {
       "model_id": "",
       "version_major": 2,
       "version_minor": 0
      },
      "text/plain": [
       "HBox(children=(HTML(value='Validating'), FloatProgress(value=1.0, bar_style='info', layout=Layout(flex='2'), m…"
      ]
     },
     "metadata": {},
     "output_type": "display_data"
    },
    {
     "data": {
      "application/vnd.jupyter.widget-view+json": {
       "model_id": "",
       "version_major": 2,
       "version_minor": 0
      },
      "text/plain": [
       "HBox(children=(HTML(value='Validating'), FloatProgress(value=1.0, bar_style='info', layout=Layout(flex='2'), m…"
      ]
     },
     "metadata": {},
     "output_type": "display_data"
    },
    {
     "data": {
      "application/vnd.jupyter.widget-view+json": {
       "model_id": "",
       "version_major": 2,
       "version_minor": 0
      },
      "text/plain": [
       "HBox(children=(HTML(value='Validating'), FloatProgress(value=1.0, bar_style='info', layout=Layout(flex='2'), m…"
      ]
     },
     "metadata": {},
     "output_type": "display_data"
    },
    {
     "data": {
      "application/vnd.jupyter.widget-view+json": {
       "model_id": "",
       "version_major": 2,
       "version_minor": 0
      },
      "text/plain": [
       "HBox(children=(HTML(value='Validating'), FloatProgress(value=1.0, bar_style='info', layout=Layout(flex='2'), m…"
      ]
     },
     "metadata": {},
     "output_type": "display_data"
    },
    {
     "data": {
      "application/vnd.jupyter.widget-view+json": {
       "model_id": "",
       "version_major": 2,
       "version_minor": 0
      },
      "text/plain": [
       "HBox(children=(HTML(value='Validating'), FloatProgress(value=1.0, bar_style='info', layout=Layout(flex='2'), m…"
      ]
     },
     "metadata": {},
     "output_type": "display_data"
    },
    {
     "data": {
      "application/vnd.jupyter.widget-view+json": {
       "model_id": "",
       "version_major": 2,
       "version_minor": 0
      },
      "text/plain": [
       "HBox(children=(HTML(value='Validating'), FloatProgress(value=1.0, bar_style='info', layout=Layout(flex='2'), m…"
      ]
     },
     "metadata": {},
     "output_type": "display_data"
    },
    {
     "data": {
      "application/vnd.jupyter.widget-view+json": {
       "model_id": "",
       "version_major": 2,
       "version_minor": 0
      },
      "text/plain": [
       "HBox(children=(HTML(value='Validating'), FloatProgress(value=1.0, bar_style='info', layout=Layout(flex='2'), m…"
      ]
     },
     "metadata": {},
     "output_type": "display_data"
    },
    {
     "data": {
      "application/vnd.jupyter.widget-view+json": {
       "model_id": "",
       "version_major": 2,
       "version_minor": 0
      },
      "text/plain": [
       "HBox(children=(HTML(value='Validating'), FloatProgress(value=1.0, bar_style='info', layout=Layout(flex='2'), m…"
      ]
     },
     "metadata": {},
     "output_type": "display_data"
    },
    {
     "data": {
      "application/vnd.jupyter.widget-view+json": {
       "model_id": "",
       "version_major": 2,
       "version_minor": 0
      },
      "text/plain": [
       "HBox(children=(HTML(value='Validating'), FloatProgress(value=1.0, bar_style='info', layout=Layout(flex='2'), m…"
      ]
     },
     "metadata": {},
     "output_type": "display_data"
    },
    {
     "data": {
      "application/vnd.jupyter.widget-view+json": {
       "model_id": "",
       "version_major": 2,
       "version_minor": 0
      },
      "text/plain": [
       "HBox(children=(HTML(value='Validating'), FloatProgress(value=1.0, bar_style='info', layout=Layout(flex='2'), m…"
      ]
     },
     "metadata": {},
     "output_type": "display_data"
    },
    {
     "data": {
      "application/vnd.jupyter.widget-view+json": {
       "model_id": "",
       "version_major": 2,
       "version_minor": 0
      },
      "text/plain": [
       "HBox(children=(HTML(value='Validating'), FloatProgress(value=1.0, bar_style='info', layout=Layout(flex='2'), m…"
      ]
     },
     "metadata": {},
     "output_type": "display_data"
    },
    {
     "data": {
      "application/vnd.jupyter.widget-view+json": {
       "model_id": "",
       "version_major": 2,
       "version_minor": 0
      },
      "text/plain": [
       "HBox(children=(HTML(value='Validating'), FloatProgress(value=1.0, bar_style='info', layout=Layout(flex='2'), m…"
      ]
     },
     "metadata": {},
     "output_type": "display_data"
    },
    {
     "data": {
      "application/vnd.jupyter.widget-view+json": {
       "model_id": "",
       "version_major": 2,
       "version_minor": 0
      },
      "text/plain": [
       "HBox(children=(HTML(value='Validating'), FloatProgress(value=1.0, bar_style='info', layout=Layout(flex='2'), m…"
      ]
     },
     "metadata": {},
     "output_type": "display_data"
    },
    {
     "data": {
      "application/vnd.jupyter.widget-view+json": {
       "model_id": "",
       "version_major": 2,
       "version_minor": 0
      },
      "text/plain": [
       "HBox(children=(HTML(value='Validating'), FloatProgress(value=1.0, bar_style='info', layout=Layout(flex='2'), m…"
      ]
     },
     "metadata": {},
     "output_type": "display_data"
    },
    {
     "data": {
      "application/vnd.jupyter.widget-view+json": {
       "model_id": "",
       "version_major": 2,
       "version_minor": 0
      },
      "text/plain": [
       "HBox(children=(HTML(value='Validating'), FloatProgress(value=1.0, bar_style='info', layout=Layout(flex='2'), m…"
      ]
     },
     "metadata": {},
     "output_type": "display_data"
    },
    {
     "data": {
      "application/vnd.jupyter.widget-view+json": {
       "model_id": "",
       "version_major": 2,
       "version_minor": 0
      },
      "text/plain": [
       "HBox(children=(HTML(value='Validating'), FloatProgress(value=1.0, bar_style='info', layout=Layout(flex='2'), m…"
      ]
     },
     "metadata": {},
     "output_type": "display_data"
    },
    {
     "data": {
      "application/vnd.jupyter.widget-view+json": {
       "model_id": "",
       "version_major": 2,
       "version_minor": 0
      },
      "text/plain": [
       "HBox(children=(HTML(value='Validating'), FloatProgress(value=1.0, bar_style='info', layout=Layout(flex='2'), m…"
      ]
     },
     "metadata": {},
     "output_type": "display_data"
    },
    {
     "data": {
      "application/vnd.jupyter.widget-view+json": {
       "model_id": "",
       "version_major": 2,
       "version_minor": 0
      },
      "text/plain": [
       "HBox(children=(HTML(value='Validating'), FloatProgress(value=1.0, bar_style='info', layout=Layout(flex='2'), m…"
      ]
     },
     "metadata": {},
     "output_type": "display_data"
    },
    {
     "data": {
      "application/vnd.jupyter.widget-view+json": {
       "model_id": "",
       "version_major": 2,
       "version_minor": 0
      },
      "text/plain": [
       "HBox(children=(HTML(value='Validating'), FloatProgress(value=1.0, bar_style='info', layout=Layout(flex='2'), m…"
      ]
     },
     "metadata": {},
     "output_type": "display_data"
    },
    {
     "data": {
      "application/vnd.jupyter.widget-view+json": {
       "model_id": "",
       "version_major": 2,
       "version_minor": 0
      },
      "text/plain": [
       "HBox(children=(HTML(value='Validating'), FloatProgress(value=1.0, bar_style='info', layout=Layout(flex='2'), m…"
      ]
     },
     "metadata": {},
     "output_type": "display_data"
    },
    {
     "data": {
      "application/vnd.jupyter.widget-view+json": {
       "model_id": "",
       "version_major": 2,
       "version_minor": 0
      },
      "text/plain": [
       "HBox(children=(HTML(value='Validating'), FloatProgress(value=1.0, bar_style='info', layout=Layout(flex='2'), m…"
      ]
     },
     "metadata": {},
     "output_type": "display_data"
    },
    {
     "data": {
      "application/vnd.jupyter.widget-view+json": {
       "model_id": "",
       "version_major": 2,
       "version_minor": 0
      },
      "text/plain": [
       "HBox(children=(HTML(value='Validating'), FloatProgress(value=1.0, bar_style='info', layout=Layout(flex='2'), m…"
      ]
     },
     "metadata": {},
     "output_type": "display_data"
    },
    {
     "data": {
      "application/vnd.jupyter.widget-view+json": {
       "model_id": "",
       "version_major": 2,
       "version_minor": 0
      },
      "text/plain": [
       "HBox(children=(HTML(value='Validating'), FloatProgress(value=1.0, bar_style='info', layout=Layout(flex='2'), m…"
      ]
     },
     "metadata": {},
     "output_type": "display_data"
    },
    {
     "data": {
      "application/vnd.jupyter.widget-view+json": {
       "model_id": "",
       "version_major": 2,
       "version_minor": 0
      },
      "text/plain": [
       "HBox(children=(HTML(value='Validating'), FloatProgress(value=1.0, bar_style='info', layout=Layout(flex='2'), m…"
      ]
     },
     "metadata": {},
     "output_type": "display_data"
    },
    {
     "data": {
      "application/vnd.jupyter.widget-view+json": {
       "model_id": "",
       "version_major": 2,
       "version_minor": 0
      },
      "text/plain": [
       "HBox(children=(HTML(value='Validating'), FloatProgress(value=1.0, bar_style='info', layout=Layout(flex='2'), m…"
      ]
     },
     "metadata": {},
     "output_type": "display_data"
    },
    {
     "data": {
      "application/vnd.jupyter.widget-view+json": {
       "model_id": "",
       "version_major": 2,
       "version_minor": 0
      },
      "text/plain": [
       "HBox(children=(HTML(value='Validating'), FloatProgress(value=1.0, bar_style='info', layout=Layout(flex='2'), m…"
      ]
     },
     "metadata": {},
     "output_type": "display_data"
    },
    {
     "name": "stdout",
     "output_type": "stream",
     "text": [
      "\n",
      "fold 4 validation loss = 0.37246708949431356\n",
      "fold 4 validation accuracy = 0.8906286515541014\n",
      "\n",
      "fold 4 validation tta loss = 0.3387823959758581\n",
      "fold 4 validation tta accuracy = 0.8927319467165226\n",
      "\n",
      "----------------------------------------------------------------------------------------------------\n",
      "\u001b[33m oof: 0.8943\n",
      "\u001b[33m oof_tta: 0.8958\n",
      "\u001b[33m oof_loss: 0.3548\n",
      "\u001b[33m oof_loss_tta: 0.3231\n",
      "Wall time: 3d 18h 2min 58s\n"
     ]
    }
   ],
   "source": [
    "%%time\n",
    "oof, oof_tta, oof_loss, oof_loss_tta = run_train(df, data_transforms, wandb_logger=wandb_logger)"
   ]
  },
  {
   "cell_type": "code",
   "execution_count": 21,
   "metadata": {},
   "outputs": [
    {
     "data": {
      "text/html": [
       "<div>\n",
       "<style scoped>\n",
       "    .dataframe tbody tr th:only-of-type {\n",
       "        vertical-align: middle;\n",
       "    }\n",
       "\n",
       "    .dataframe tbody tr th {\n",
       "        vertical-align: top;\n",
       "    }\n",
       "\n",
       "    .dataframe thead th {\n",
       "        text-align: right;\n",
       "    }\n",
       "</style>\n",
       "<table border=\"1\" class=\"dataframe\">\n",
       "  <thead>\n",
       "    <tr style=\"text-align: right;\">\n",
       "      <th></th>\n",
       "      <th>target</th>\n",
       "      <th>prediction</th>\n",
       "      <th>logit</th>\n",
       "      <th>file_path</th>\n",
       "    </tr>\n",
       "  </thead>\n",
       "  <tbody>\n",
       "    <tr>\n",
       "      <th>0</th>\n",
       "      <td>0</td>\n",
       "      <td>0</td>\n",
       "      <td>0.490784</td>\n",
       "      <td>C:\\Users\\shingo\\jupyter_notebook\\pytorch_light...</td>\n",
       "    </tr>\n",
       "    <tr>\n",
       "      <th>1</th>\n",
       "      <td>3</td>\n",
       "      <td>3</td>\n",
       "      <td>0.984947</td>\n",
       "      <td>C:\\Users\\shingo\\jupyter_notebook\\pytorch_light...</td>\n",
       "    </tr>\n",
       "    <tr>\n",
       "      <th>2</th>\n",
       "      <td>1</td>\n",
       "      <td>4</td>\n",
       "      <td>0.945302</td>\n",
       "      <td>C:\\Users\\shingo\\jupyter_notebook\\pytorch_light...</td>\n",
       "    </tr>\n",
       "    <tr>\n",
       "      <th>3</th>\n",
       "      <td>1</td>\n",
       "      <td>1</td>\n",
       "      <td>0.980355</td>\n",
       "      <td>C:\\Users\\shingo\\jupyter_notebook\\pytorch_light...</td>\n",
       "    </tr>\n",
       "    <tr>\n",
       "      <th>4</th>\n",
       "      <td>3</td>\n",
       "      <td>3</td>\n",
       "      <td>0.991077</td>\n",
       "      <td>C:\\Users\\shingo\\jupyter_notebook\\pytorch_light...</td>\n",
       "    </tr>\n",
       "    <tr>\n",
       "      <th>...</th>\n",
       "      <td>...</td>\n",
       "      <td>...</td>\n",
       "      <td>...</td>\n",
       "      <td>...</td>\n",
       "    </tr>\n",
       "    <tr>\n",
       "      <th>21392</th>\n",
       "      <td>3</td>\n",
       "      <td>3</td>\n",
       "      <td>0.976979</td>\n",
       "      <td>C:\\Users\\shingo\\jupyter_notebook\\pytorch_light...</td>\n",
       "    </tr>\n",
       "    <tr>\n",
       "      <th>21393</th>\n",
       "      <td>3</td>\n",
       "      <td>3</td>\n",
       "      <td>0.986352</td>\n",
       "      <td>C:\\Users\\shingo\\jupyter_notebook\\pytorch_light...</td>\n",
       "    </tr>\n",
       "    <tr>\n",
       "      <th>21394</th>\n",
       "      <td>1</td>\n",
       "      <td>1</td>\n",
       "      <td>0.939737</td>\n",
       "      <td>C:\\Users\\shingo\\jupyter_notebook\\pytorch_light...</td>\n",
       "    </tr>\n",
       "    <tr>\n",
       "      <th>21395</th>\n",
       "      <td>4</td>\n",
       "      <td>4</td>\n",
       "      <td>0.816556</td>\n",
       "      <td>C:\\Users\\shingo\\jupyter_notebook\\pytorch_light...</td>\n",
       "    </tr>\n",
       "    <tr>\n",
       "      <th>21396</th>\n",
       "      <td>4</td>\n",
       "      <td>2</td>\n",
       "      <td>0.901680</td>\n",
       "      <td>C:\\Users\\shingo\\jupyter_notebook\\pytorch_light...</td>\n",
       "    </tr>\n",
       "  </tbody>\n",
       "</table>\n",
       "<p>21397 rows × 4 columns</p>\n",
       "</div>"
      ],
      "text/plain": [
       "       target  prediction     logit  \\\n",
       "0           0           0  0.490784   \n",
       "1           3           3  0.984947   \n",
       "2           1           4  0.945302   \n",
       "3           1           1  0.980355   \n",
       "4           3           3  0.991077   \n",
       "...       ...         ...       ...   \n",
       "21392       3           3  0.976979   \n",
       "21393       3           3  0.986352   \n",
       "21394       1           1  0.939737   \n",
       "21395       4           4  0.816556   \n",
       "21396       4           2  0.901680   \n",
       "\n",
       "                                               file_path  \n",
       "0      C:\\Users\\shingo\\jupyter_notebook\\pytorch_light...  \n",
       "1      C:\\Users\\shingo\\jupyter_notebook\\pytorch_light...  \n",
       "2      C:\\Users\\shingo\\jupyter_notebook\\pytorch_light...  \n",
       "3      C:\\Users\\shingo\\jupyter_notebook\\pytorch_light...  \n",
       "4      C:\\Users\\shingo\\jupyter_notebook\\pytorch_light...  \n",
       "...                                                  ...  \n",
       "21392  C:\\Users\\shingo\\jupyter_notebook\\pytorch_light...  \n",
       "21393  C:\\Users\\shingo\\jupyter_notebook\\pytorch_light...  \n",
       "21394  C:\\Users\\shingo\\jupyter_notebook\\pytorch_light...  \n",
       "21395  C:\\Users\\shingo\\jupyter_notebook\\pytorch_light...  \n",
       "21396  C:\\Users\\shingo\\jupyter_notebook\\pytorch_light...  \n",
       "\n",
       "[21397 rows x 4 columns]"
      ]
     },
     "metadata": {},
     "output_type": "display_data"
    },
    {
     "data": {
      "text/html": [
       "<div>\n",
       "<style scoped>\n",
       "    .dataframe tbody tr th:only-of-type {\n",
       "        vertical-align: middle;\n",
       "    }\n",
       "\n",
       "    .dataframe tbody tr th {\n",
       "        vertical-align: top;\n",
       "    }\n",
       "\n",
       "    .dataframe thead th {\n",
       "        text-align: right;\n",
       "    }\n",
       "</style>\n",
       "<table border=\"1\" class=\"dataframe\">\n",
       "  <thead>\n",
       "    <tr style=\"text-align: right;\">\n",
       "      <th></th>\n",
       "      <th>target</th>\n",
       "      <th>prediction</th>\n",
       "      <th>logit</th>\n",
       "      <th>file_path</th>\n",
       "    </tr>\n",
       "  </thead>\n",
       "  <tbody>\n",
       "    <tr>\n",
       "      <th>0</th>\n",
       "      <td>0</td>\n",
       "      <td>0</td>\n",
       "      <td>0.548145</td>\n",
       "      <td>C:\\Users\\shingo\\jupyter_notebook\\pytorch_light...</td>\n",
       "    </tr>\n",
       "    <tr>\n",
       "      <th>1</th>\n",
       "      <td>3</td>\n",
       "      <td>3</td>\n",
       "      <td>0.979880</td>\n",
       "      <td>C:\\Users\\shingo\\jupyter_notebook\\pytorch_light...</td>\n",
       "    </tr>\n",
       "    <tr>\n",
       "      <th>2</th>\n",
       "      <td>1</td>\n",
       "      <td>4</td>\n",
       "      <td>0.613397</td>\n",
       "      <td>C:\\Users\\shingo\\jupyter_notebook\\pytorch_light...</td>\n",
       "    </tr>\n",
       "    <tr>\n",
       "      <th>3</th>\n",
       "      <td>1</td>\n",
       "      <td>1</td>\n",
       "      <td>0.980951</td>\n",
       "      <td>C:\\Users\\shingo\\jupyter_notebook\\pytorch_light...</td>\n",
       "    </tr>\n",
       "    <tr>\n",
       "      <th>4</th>\n",
       "      <td>3</td>\n",
       "      <td>3</td>\n",
       "      <td>0.989318</td>\n",
       "      <td>C:\\Users\\shingo\\jupyter_notebook\\pytorch_light...</td>\n",
       "    </tr>\n",
       "    <tr>\n",
       "      <th>...</th>\n",
       "      <td>...</td>\n",
       "      <td>...</td>\n",
       "      <td>...</td>\n",
       "      <td>...</td>\n",
       "    </tr>\n",
       "    <tr>\n",
       "      <th>21392</th>\n",
       "      <td>3</td>\n",
       "      <td>3</td>\n",
       "      <td>0.980398</td>\n",
       "      <td>C:\\Users\\shingo\\jupyter_notebook\\pytorch_light...</td>\n",
       "    </tr>\n",
       "    <tr>\n",
       "      <th>21393</th>\n",
       "      <td>3</td>\n",
       "      <td>3</td>\n",
       "      <td>0.988576</td>\n",
       "      <td>C:\\Users\\shingo\\jupyter_notebook\\pytorch_light...</td>\n",
       "    </tr>\n",
       "    <tr>\n",
       "      <th>21394</th>\n",
       "      <td>1</td>\n",
       "      <td>1</td>\n",
       "      <td>0.958195</td>\n",
       "      <td>C:\\Users\\shingo\\jupyter_notebook\\pytorch_light...</td>\n",
       "    </tr>\n",
       "    <tr>\n",
       "      <th>21395</th>\n",
       "      <td>4</td>\n",
       "      <td>4</td>\n",
       "      <td>0.898787</td>\n",
       "      <td>C:\\Users\\shingo\\jupyter_notebook\\pytorch_light...</td>\n",
       "    </tr>\n",
       "    <tr>\n",
       "      <th>21396</th>\n",
       "      <td>4</td>\n",
       "      <td>2</td>\n",
       "      <td>0.757162</td>\n",
       "      <td>C:\\Users\\shingo\\jupyter_notebook\\pytorch_light...</td>\n",
       "    </tr>\n",
       "  </tbody>\n",
       "</table>\n",
       "<p>21397 rows × 4 columns</p>\n",
       "</div>"
      ],
      "text/plain": [
       "       target  prediction     logit  \\\n",
       "0           0           0  0.548145   \n",
       "1           3           3  0.979880   \n",
       "2           1           4  0.613397   \n",
       "3           1           1  0.980951   \n",
       "4           3           3  0.989318   \n",
       "...       ...         ...       ...   \n",
       "21392       3           3  0.980398   \n",
       "21393       3           3  0.988576   \n",
       "21394       1           1  0.958195   \n",
       "21395       4           4  0.898787   \n",
       "21396       4           2  0.757162   \n",
       "\n",
       "                                               file_path  \n",
       "0      C:\\Users\\shingo\\jupyter_notebook\\pytorch_light...  \n",
       "1      C:\\Users\\shingo\\jupyter_notebook\\pytorch_light...  \n",
       "2      C:\\Users\\shingo\\jupyter_notebook\\pytorch_light...  \n",
       "3      C:\\Users\\shingo\\jupyter_notebook\\pytorch_light...  \n",
       "4      C:\\Users\\shingo\\jupyter_notebook\\pytorch_light...  \n",
       "...                                                  ...  \n",
       "21392  C:\\Users\\shingo\\jupyter_notebook\\pytorch_light...  \n",
       "21393  C:\\Users\\shingo\\jupyter_notebook\\pytorch_light...  \n",
       "21394  C:\\Users\\shingo\\jupyter_notebook\\pytorch_light...  \n",
       "21395  C:\\Users\\shingo\\jupyter_notebook\\pytorch_light...  \n",
       "21396  C:\\Users\\shingo\\jupyter_notebook\\pytorch_light...  \n",
       "\n",
       "[21397 rows x 4 columns]"
      ]
     },
     "metadata": {},
     "output_type": "display_data"
    },
    {
     "data": {
      "image/png": "[encoded data removed]",
      "text/plain": [
       "<Figure size 432x288 with 1 Axes>"
      ]
     },
     "metadata": {
      "needs_background": "light"
     },
     "output_type": "display_data"
    },
    {
     "name": "stdout",
     "output_type": "stream",
     "text": [
      "              precision    recall  f1-score   support\n",
      "\n",
      "           0       0.68      0.62      0.65      1087\n",
      "           1       0.85      0.81      0.83      2189\n",
      "           2       0.84      0.82      0.83      2386\n",
      "           3       0.96      0.97      0.97     13158\n",
      "           4       0.74      0.77      0.76      2577\n",
      "\n",
      "    accuracy                           0.90     21397\n",
      "   macro avg       0.81      0.80      0.81     21397\n",
      "weighted avg       0.89      0.90      0.90     21397\n",
      "\n"
     ]
    },
    {
     "data": {
      "image/png": "[encoded data removed]",
      "text/plain": [
       "<Figure size 720x576 with 2 Axes>"
      ]
     },
     "metadata": {
      "needs_background": "light"
     },
     "output_type": "display_data"
    }
   ],
   "source": [
    "Y_pred = pickle.load(open(\"Y_pred.pkl\", 'rb'))\n",
    "oof_preds_df = pd.DataFrame(\n",
    "    {\n",
    "        \"target\": df[\"label\"],\n",
    "        \"prediction\": Y_pred.values.argmax(1),\n",
    "        \"logit\": Y_pred.values.max(1),\n",
    "        \"file_path\": df[\"file_path\"],\n",
    "    }\n",
    ")\n",
    "oof_preds_df.to_csv(\"oof_preds_df.csv\", index=False)\n",
    "display(oof_preds_df)\n",
    "\n",
    "\n",
    "Y_pred_tta = pickle.load(open(\"Y_pred_tta.pkl\", \"rb\"))\n",
    "oof_preds_df = pd.DataFrame(\n",
    "    {\n",
    "        \"target\": df[\"label\"],\n",
    "        \"prediction\": Y_pred_tta.values.argmax(1),\n",
    "        \"logit\": Y_pred_tta.values.max(1),\n",
    "        \"file_path\": df[\"file_path\"],\n",
    "    }\n",
    ")\n",
    "oof_preds_df.to_csv(\"oof_preds_df_tta.csv\", index=False)\n",
    "display(oof_preds_df)\n",
    "\n",
    "\n",
    "sns.countplot(y=sorted(oof_preds_df[\"prediction\"].map(name_mapping)), orient=\"v\")\n",
    "plt.title(\"Prediction distribution\")\n",
    "plt.show()\n",
    "\n",
    "print(metrics.classification_report(oof_preds_df[\"target\"], oof_preds_df[\"prediction\"]))\n",
    "\n",
    "plt.figure(figsize=(10, 8))\n",
    "sns.heatmap(\n",
    "    metrics.confusion_matrix(oof_preds_df[\"target\"], oof_preds_df[\"prediction\"]),\n",
    "    annot=True,\n",
    "    cmap=\"Blues\",\n",
    ")\n",
    "plt.title(\"Oof confusion_matrix\")\n",
    "plt.show()"
   ]
  },
  {
   "cell_type": "code",
   "execution_count": 22,
   "metadata": {},
   "outputs": [],
   "source": [
    "#%load_ext tensorboard\n",
    "#%tensorboard --logdir ./lightning_logs\n",
    "#\n",
    "#https://wandb.ai/anonamename/kaggle_cassava?workspace=user-anonamename"
   ]
  },
  {
   "cell_type": "raw",
   "metadata": {},
   "source": []
  }
 ],
 "metadata": {
  "kernelspec": {
   "display_name": "Python 3",
   "language": "python",
   "name": "python3"
  },
  "language_info": {
   "codemirror_mode": {
    "name": "ipython",
    "version": 3
   },
   "file_extension": ".py",
   "mimetype": "text/x-python",
   "name": "python",
   "nbconvert_exporter": "python",
   "pygments_lexer": "ipython3",
   "version": "3.8.6"
  }
 },
 "nbformat": 4,
 "nbformat_minor": 4
}
